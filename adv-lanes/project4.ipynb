{
 "cells": [
  {
   "cell_type": "markdown",
   "metadata": {},
   "source": [
    "## Advanced Lane Finding Project\n",
    "\n",
    "The goals / steps of this project are the following:\n",
    "\n",
    "* Compute the camera calibration matrix and distortion coefficients given a set of chessboard images.\n",
    "* Apply a distortion correction to raw images.\n",
    "* Use color transforms, gradients, etc., to create a thresholded binary image.\n",
    "* Apply a perspective transform to rectify binary image (\"birds-eye view\").\n",
    "* Detect lane pixels and fit to find the lane boundary.\n",
    "* Determine the curvature of the lane and vehicle position with respect to center.\n",
    "* Warp the detected lane boundaries back onto the original image.\n",
    "* Output visual display of the lane boundaries and numerical estimation of lane curvature and vehicle position.\n",
    "\n",
    "---"
   ]
  },
  {
   "cell_type": "markdown",
   "metadata": {},
   "source": [
    "## Imports"
   ]
  },
  {
   "cell_type": "code",
   "execution_count": 7,
   "metadata": {
    "collapsed": true
   },
   "outputs": [],
   "source": [
    "import numpy as np\n",
    "import cv2\n",
    "import glob\n",
    "import matplotlib\n",
    "#matplotlib.use('qt5agg')\n",
    "import matplotlib.pyplot as plt\n",
    "import matplotlib.image as mpimg\n",
    "\n",
    "\n",
    "%matplotlib qt5\n",
    "#%matplotlib qt"
   ]
  },
  {
   "cell_type": "markdown",
   "metadata": {},
   "source": [
    "## Utility functions"
   ]
  },
  {
   "cell_type": "code",
   "execution_count": 3,
   "metadata": {
    "collapsed": true
   },
   "outputs": [],
   "source": [
    "def grayscale(img):\n",
    "    \"\"\"Applies the Grayscale transform\"\"\"\n",
    "    return cv2.cvtColor(img, cv2.COLOR_RGB2GRAY)\n",
    "\n",
    "def calibrate(images):\n",
    "    \"\"\"Computes the camera calibration using chessboard images\"\"\"\n",
    "    objp = np.zeros((6*9,3), np.float32)\n",
    "    objp[:,:2] = np.mgrid[0:9,0:6].T.reshape(-1,2)\n",
    "\n",
    "    # Arrays to store object points and image points from all the images.\n",
    "    objpoints = [] # 3d points in real world space\n",
    "    imgpoints = [] # 2d points in image plane.\n",
    "\n",
    "\n",
    "    # Step through the list and search for chessboard corners\n",
    "    for fname in images:\n",
    "        print(\"processing image: {}\".format(fname))\n",
    "        img = cv2.imread(fname)\n",
    "        gray = cv2.cvtColor(img,cv2.COLOR_BGR2GRAY)\n",
    "\n",
    "        # Find the chessboard corners\n",
    "        ret, corners = cv2.findChessboardCorners(gray, (9,6),None)\n",
    "\n",
    "        # If found, add object points, image points\n",
    "        if ret == True:\n",
    "            objpoints.append(objp)\n",
    "            imgpoints.append(corners)\n",
    "\n",
    "    retval, cameraMatrix, distCoeffs, rvecs, tvecs = cv2.calibrateCamera(objpoints, imgpoints, img.shape[0:2], None, None)\n",
    "    return cameraMatrix, distCoeffs\n",
    "\n",
    "\n",
    "def undistort_image(img, mtx, dist):\n",
    "    \"\"\"Apply a distortion correction to raw image\"\"\"\n",
    "    import matplotlib.image as mpimg\n",
    "    dst = cv2.undistort(img, mtx, dist, None, mtx)\n",
    "    return dst\n",
    "\n",
    "def hls_transform(img):\n",
    "    \"\"\"Applies the hsl transform\"\"\"\n",
    "    return cv2.cvtColor(img, cv2.COLOR_RGB2HLS)\n",
    "\n",
    "def sobel_operator(img, dir='x'):\n",
    "    gray = grayscale(img)\n",
    "    if (dir == 'x'):\n",
    "        return cv2.Sobel(gray, cv2.CV_64F, 1, 0)\n",
    "    else:\n",
    "        return cv2.Sobel(gray, cv2.CV_64F, 0, 1)\n",
    "    \n",
    "def sobel_scale(img_sobel):\n",
    "    \"\"\"Absolute the derivative to accentuate lines away from horizontal/vertical??\"\"\"\n",
    "    abs_sobel = np.absolute(img_sobel) \n",
    "    scaled_sobel = np.uint8(255*abs_sobel/np.max(abs_sobel))\n",
    "    return scaled_sobel\n",
    "    \n",
    "def select_yellow(img):\n",
    "    hsv = cv2.cvtColor(img, cv2.COLOR_RGB2HSV)\n",
    "    lower = np.array([20,60,60])\n",
    "    upper = np.array([38,174, 250])\n",
    "    mask = cv2.inRange(hsv, lower, upper)\n",
    "    return mask\n",
    "\n",
    "def select_white(img):\n",
    "    lower = np.array([202,202,202])\n",
    "    upper = np.array([255,255,255])\n",
    "    mask = cv2.inRange(img, lower, upper)\n",
    "    return mask\n",
    "\n",
    "def apply_mask(img, mask):\n",
    "    result = cv2.bitwise_and(img,img,mask=mask)\n",
    "    return result                    \n",
    "\n",
    "def threshold_image(img, thresh=(20, 100)):\n",
    "    s_binary = np.zeros_like(img)\n",
    "    s_binary[(img >= thresh[0]) & (img <= thresh[1])] = 1\n",
    "    return s_binary\n",
    "\n",
    "def binary_image_transform_yellow_white_lane_lines(img):\n",
    "    yellow_mask = select_yellow(img)\n",
    "    yellow_image = apply_mask(img, yellow_mask)\n",
    "    ret,yellow_binary = cv2.threshold(grayscale(yellow_image),127,255,cv2.THRESH_BINARY)\n",
    "\n",
    "    white_mask = select_white(img)\n",
    "    white_image = apply_mask(img, white_mask)\n",
    "    ret,white_binary = cv2.threshold(grayscale(white_image),127,255,cv2.THRESH_BINARY)\n",
    "\n",
    "    combined_binary = np.zeros_like(white_binary)\n",
    "    combined_binary[(yellow_binary > 0) | (white_binary > 0)] = 1\n",
    "#     plot_2_images(img, combined_binary)\n",
    "    return combined_binary\n",
    "\n",
    "def plot_2_images(img1, img2, title1='original',title2='processed'):\n",
    "    import matplotlib.pyplot as plt\n",
    "\n",
    "    f, (ax1, ax2) = plt.subplots(1, 2, figsize=(48, 18))\n",
    "    f.tight_layout()\n",
    "    ax1.imshow(img1)\n",
    "    ax1.set_title(title1, fontsize=50)\n",
    "    ax2.imshow(img2, cmap='gray')\n",
    "    ax2.set_title(title2, fontsize=50)\n",
    "    plt.subplots_adjust(left=0., right=1, top=0.9, bottom=0.)\n",
    "    \n",
    "    \n",
    "def plot_image_title(img, title='', text=''):\n",
    "    \n",
    "    font = {'family': 'serif',\n",
    "            'color':  'white',\n",
    "            'weight': 'normal',\n",
    "            'size': 28,\n",
    "            }\n",
    "        \n",
    "    f, ax = plt.subplots(1, 1, figsize=(48, 18))\n",
    "    f.tight_layout()\n",
    "    ax.imshow(img)\n",
    "    plt.text(2, 75.65, text, fontdict=font)\n",
    "    ax.set_title(title, fontsize=50)\n",
    "    plt.subplots_adjust(left=0., right=1, top=0.9, bottom=0.)\n",
    "#     plt.savefig(output_file)\n",
    "\n",
    "def binary_image_transform(img):\n",
    "    \"\"\"Uses gradients to create a binary image\"\"\"\n",
    "\n",
    "    # Threshold x gradient\n",
    "    sobel_x = sobel_operator(img, dir='x')\n",
    "    s_x_binary = threshold_image(sobel_scale(sobel_x), thresh=(20, 100))\n",
    "\n",
    "    # Threshold color channel\n",
    "    hls = hls_transform(img)\n",
    "    s_channel = hls[:,:,2]\n",
    "    s_binary = threshold_image(s_channel, thresh=(170, 255))\n",
    "\n",
    "    # Combine the two binary thresholds\n",
    "    combined_binary = np.zeros_like(s_x_binary)\n",
    "    combined_binary[(s_binary == 1) | (s_x_binary == 1)] = 1\n",
    "    return combined_binary\n",
    "\n",
    "def unwarp(img, src, dst):\n",
    "    M = cv2.getPerspectiveTransform(src, dst)\n",
    "    img_size = (img.shape[1], img.shape[0])\n",
    "    warped = cv2.warpPerspective(img, M, img_size, flags=cv2.INTER_LINEAR)\n",
    "    return warped, M\n",
    "\n",
    "def hist(img):\n",
    "    return np.sum(img[img.shape[0]//2:,:], axis=0)\n",
    "\n",
    "\n",
    "def polyfit(img, y, x, order=2):\n",
    "    \"\"\"Fit polynomial\"\"\"\n",
    "    fit = np.poly1d(np.polyfit(y, x, order))\n",
    "\n",
    "    #y values for plotting\n",
    "    ploty = np.linspace(0, img.shape[0]-1, img.shape[0])\n",
    "    fit_x = fit(ploty)\n",
    "    return fit_x\n",
    "\n",
    "\n",
    "def detect_lane_lines(binary_warped, debug = False,nwindows = 9, margin = 100, minpix = 50):\n",
    "    # Set height of windows\n",
    "    window_height = np.int(binary_warped.shape[0]/nwindows)\n",
    "\n",
    "    histogram = hist(binary_warped)\n",
    "\n",
    "    out_img = None\n",
    "    if (debug==True):\n",
    "        # For debugging, an output image to visualize the result\n",
    "        out_img = np.dstack((binary_warped, binary_warped, binary_warped))*255\n",
    "\n",
    "    # Find the peak of the left and right halves of the histogram\n",
    "    # These will be the starting point for the left and right lines\n",
    "    midpoint = np.int(histogram.shape[0]/2)\n",
    "    leftx_base = np.argmax(histogram[:midpoint])\n",
    "    rightx_base = np.argmax(histogram[midpoint:]) + midpoint\n",
    "\n",
    "\n",
    "    # Identify the x and y positions of all nonzero pixels in the image\n",
    "    nonzero = binary_warped.nonzero()\n",
    "    nonzeroy = np.array(nonzero[0])\n",
    "    nonzerox = np.array(nonzero[1])\n",
    "    \n",
    "    # Current positions to be updated for each window\n",
    "    leftx_current = leftx_base\n",
    "    rightx_current = rightx_base\n",
    "\n",
    "    \n",
    "    # Create empty lists to receive left and right lane pixel indices\n",
    "    left_lane_inds = []\n",
    "    right_lane_inds = []\n",
    "\n",
    "    # Step through the windows one by one\n",
    "    for window in range(nwindows):\n",
    "\n",
    "        # Identify window boundaries in x and y (and right and left)\n",
    "        win_y_low = binary_warped.shape[0] - (window+1)*window_height\n",
    "        win_y_high = binary_warped.shape[0] - window*window_height\n",
    "        win_xleft_low = leftx_current - margin\n",
    "        win_xleft_high = leftx_current + margin\n",
    "        win_xright_low = rightx_current - margin\n",
    "        win_xright_high = rightx_current + margin\n",
    "        \n",
    "        if (debug==True):\n",
    "            # Draw the windows on the visualization image\n",
    "            cv2.rectangle(out_img,(win_xleft_low,win_y_low),(win_xleft_high,win_y_high),(0,255,0), 2) \n",
    "            cv2.rectangle(out_img,(win_xright_low,win_y_low),(win_xright_high,win_y_high),(0,255,0), 2) \n",
    "\n",
    "        # Identify the nonzero pixels in x and y within the window\n",
    "        good_left_inds = ((nonzeroy >= win_y_low) & (nonzeroy < win_y_high) & (nonzerox >= win_xleft_low) & (nonzerox < win_xleft_high)).nonzero()[0]\n",
    "        good_right_inds = ((nonzeroy >= win_y_low) & (nonzeroy < win_y_high) & (nonzerox >= win_xright_low) & (nonzerox < win_xright_high)).nonzero()[0]\n",
    "        \n",
    "        # Append these indices to the lists\n",
    "        left_lane_inds.append(good_left_inds)\n",
    "        right_lane_inds.append(good_right_inds)\n",
    "        \n",
    "        # If you found > minpix pixels, recenter next window on their mean position\n",
    "        if len(good_left_inds) > minpix:\n",
    "            leftx_current = np.int(np.mean(nonzerox[good_left_inds]))\n",
    "        if len(good_right_inds) > minpix:        \n",
    "            rightx_current = np.int(np.mean(nonzerox[good_right_inds]))\n",
    "\n",
    "    # Concatenate the arrays of indices\n",
    "    left_lane_inds = np.concatenate(left_lane_inds)\n",
    "    right_lane_inds = np.concatenate(right_lane_inds)\n",
    "\n",
    "    # Extract left and right line pixel positions\n",
    "    leftx = nonzerox[left_lane_inds]\n",
    "    lefty = nonzeroy[left_lane_inds] \n",
    "    rightx = nonzerox[right_lane_inds]\n",
    "    righty = nonzeroy[right_lane_inds] \n",
    "\n",
    "    if (len(rightx)==0 or len(leftx)==0):\n",
    "        return [], [], [], []\n",
    "        \n",
    "#     print(\"len(rightx) {}\".format(len(rightx)))\n",
    "#     print(\"len(leftx) {}\".format(len(leftx)))\n",
    "    left_fit = np.polyfit(lefty, leftx, 2)\n",
    "    right_fit = np.polyfit(righty, rightx, 2)\n",
    "    \n",
    "    # Generate x and y values for plotting\n",
    "    ploty = np.linspace(0, binary_warped.shape[0]-1, binary_warped.shape[0] )\n",
    "\n",
    "    left_fitx = polyfit(binary_warped, lefty, leftx, 2)\n",
    "    right_fitx = polyfit(binary_warped, righty, rightx, 2)\n",
    "\n",
    "    if (debug==True):\n",
    "        out_img[nonzeroy[left_lane_inds], nonzerox[left_lane_inds]] = [255, 0, 0]\n",
    "        out_img[nonzeroy[right_lane_inds], nonzerox[right_lane_inds]] = [0, 0, 255]\n",
    "        plt.imshow(out_img)\n",
    "        plt.plot(left_fitx, ploty, color='yellow')\n",
    "        plt.plot(right_fitx, ploty, color='yellow')\n",
    "        plt.xlim(0, 1280)\n",
    "        plt.ylim(720, 0)\n",
    "    return left_fit, right_fit, left_fitx, right_fitx\n",
    "\n",
    "def detect_lane_lines_subsequent_images(binary_warped, left_fit, right_fit, debug=False, margin = 100):\n",
    "    nonzero = binary_warped.nonzero()\n",
    "    nonzeroy = np.array(nonzero[0])\n",
    "    nonzerox = np.array(nonzero[1])\n",
    "\n",
    "    #TODO improve this \n",
    "    left_lane_inds = ((nonzerox > (left_fit[0]*(nonzeroy**2) + left_fit[1]*nonzeroy + left_fit[2] - margin)) & (nonzerox < (left_fit[0]*(nonzeroy**2) + left_fit[1]*nonzeroy + left_fit[2] + margin))) \n",
    "    right_lane_inds = ((nonzerox > (right_fit[0]*(nonzeroy**2) + right_fit[1]*nonzeroy + right_fit[2] - margin)) & (nonzerox < (right_fit[0]*(nonzeroy**2) + right_fit[1]*nonzeroy + right_fit[2] + margin)))  \n",
    "\n",
    "    # Again, extract left and right line pixel positions\n",
    "    leftx = nonzerox[left_lane_inds]\n",
    "    lefty = nonzeroy[left_lane_inds] \n",
    "    rightx = nonzerox[right_lane_inds]\n",
    "    righty = nonzeroy[right_lane_inds]\n",
    "\n",
    "    # Fit a second order polynomial to each\n",
    "    left_fitx = polyfit(binary_warped, lefty, leftx, 2)\n",
    "    right_fitx = polyfit(binary_warped, righty, rightx, 2)\n",
    "\n",
    "    \n",
    "    ploty = np.linspace(0, binary_warped.shape[0]-1, binary_warped.shape[0] )\n",
    "\n",
    "    if (debug==True):\n",
    "        # Create an image to draw on and an image to show the selection window\n",
    "        out_img = np.dstack((binary_warped, binary_warped, binary_warped))*255\n",
    "        window_img = np.zeros_like(out_img)\n",
    "        # Color in left and right line pixels\n",
    "        out_img[nonzeroy[left_lane_inds], nonzerox[left_lane_inds]] = [255, 0, 0]\n",
    "        out_img[nonzeroy[right_lane_inds], nonzerox[right_lane_inds]] = [0, 0, 255]\n",
    "\n",
    "        # Generate a polygon to illustrate the search window area\n",
    "        # And recast the x and y points into usable format for cv2.fillPoly()\n",
    "        left_line_window1 = np.array([np.transpose(np.vstack([left_fitx-margin, ploty]))])\n",
    "        left_line_window2 = np.array([np.flipud(np.transpose(np.vstack([left_fitx+margin, ploty])))])\n",
    "        left_line_pts = np.hstack((left_line_window1, left_line_window2))\n",
    "        right_line_window1 = np.array([np.transpose(np.vstack([right_fitx-margin, ploty]))])\n",
    "        right_line_window2 = np.array([np.flipud(np.transpose(np.vstack([right_fitx+margin, ploty])))])\n",
    "        right_line_pts = np.hstack((right_line_window1, right_line_window2))\n",
    "\n",
    "        # Draw the lane onto the warped blank image\n",
    "        cv2.fillPoly(window_img, np.int_([left_line_pts]), (0,255, 0))\n",
    "        cv2.fillPoly(window_img, np.int_([right_line_pts]), (0,255, 0))\n",
    "        result = cv2.addWeighted(out_img, 1, window_img, 0.3, 0)\n",
    "        plt.imshow(result)\n",
    "        plt.plot(left_fitx, ploty, color='yellow')\n",
    "        plt.plot(right_fitx, ploty, color='yellow')\n",
    "        plt.xlim(0, 1280)\n",
    "        plt.ylim(720, 0)\n",
    "        \n",
    "    return left_fit, right_fit, left_fitx, right_fitx\n",
    "\n",
    "        \n",
    "def curvature(binary_warped, left_fitx, right_fitx):    \n",
    "    ploty = np.linspace(0, binary_warped.shape[0]-1, binary_warped.shape[0] )\n",
    "    y_eval = np.max(ploty)\n",
    "\n",
    "    leftx = left_fitx\n",
    "    rightx = right_fitx\n",
    "\n",
    "    # Define conversions in x and y from pixels space to meters\n",
    "    ym_per_pix = 30/720 # meters per pixel in y dimension\n",
    "    xm_per_pix = 3.7/700 # meters per pixel in x dimension\n",
    "\n",
    "    # Fit new polynomials to x,y in world space\n",
    "    left_fit_cr = np.polyfit(ploty*ym_per_pix, leftx*xm_per_pix, 2)\n",
    "    right_fit_cr = np.polyfit(ploty*ym_per_pix, rightx*xm_per_pix, 2)\n",
    "    # Calculate the new radii of curvature\n",
    "    left_curverad = ((1 + (2*left_fit_cr[0]*y_eval*ym_per_pix + left_fit_cr[1])**2)**1.5) / np.absolute(2*left_fit_cr[0])\n",
    "    right_curverad = ((1 + (2*right_fit_cr[0]*y_eval*ym_per_pix + right_fit_cr[1])**2)**1.5) / np.absolute(2*right_fit_cr[0])\n",
    "\n",
    "    # Now our radius of curvature is in meters\n",
    "    center_of_lanes = ((right_fitx[-1] - left_fitx[-1]) //2 + left_fitx[-1]) * xm_per_pix\n",
    "    center_of_car = (binary_warped.shape[1] // 2) * xm_per_pix\n",
    "    return left_curverad, right_curverad, (center_of_lanes - center_of_car)\n",
    "\n",
    "def warp_detected_lines_onto_original(original, warped, left_fitx, right_fitx, Minv):\n",
    "    # Create an image to draw the lines on\n",
    "    warp_zero = np.zeros_like(warped).astype(np.uint8)\n",
    "    color_warp = np.dstack((warp_zero, warp_zero, warp_zero))\n",
    "\n",
    "    ploty = np.linspace(0, warped.shape[0]-1, warped.shape[0] )\n",
    "\n",
    "    # Recast the x and y points into usable format for cv2.fillPoly()\n",
    "    pts_left = np.array([np.transpose(np.vstack([left_fitx, ploty]))])\n",
    "    pts_right = np.array([np.flipud(np.transpose(np.vstack([right_fitx, ploty])))])\n",
    "    pts = np.hstack((pts_left, pts_right))\n",
    "\n",
    "    # Draw the lane onto the warped blank image\n",
    "    cv2.fillPoly(color_warp, np.int_([pts]), (0,255, 0))\n",
    "\n",
    "    # Warp the blank back to original image space using inverse perspective matrix (Minv)\n",
    "    newwarp = cv2.warpPerspective(color_warp, Minv, (original.shape[1], original.shape[0])) \n",
    "    # Combine the result with the original image\n",
    "    result = cv2.addWeighted(original, 1, newwarp, 0.3, 0)\n",
    "#     plt.imshow(result)\n",
    "    return result"
   ]
  },
  {
   "cell_type": "markdown",
   "metadata": {},
   "source": [
    "## Compute the camera calibration using chessboard images"
   ]
  },
  {
   "cell_type": "code",
   "execution_count": 5,
   "metadata": {},
   "outputs": [
    {
     "name": "stdout",
     "output_type": "stream",
     "text": [
      "processing image: ../camera_cal/calibration1.jpg\n",
      "processing image: ../camera_cal/calibration10.jpg\n",
      "processing image: ../camera_cal/calibration11.jpg\n",
      "processing image: ../camera_cal/calibration12.jpg\n",
      "processing image: ../camera_cal/calibration13.jpg\n",
      "processing image: ../camera_cal/calibration14.jpg\n",
      "processing image: ../camera_cal/calibration15.jpg\n",
      "processing image: ../camera_cal/calibration16.jpg\n",
      "processing image: ../camera_cal/calibration17.jpg\n",
      "processing image: ../camera_cal/calibration18.jpg\n",
      "processing image: ../camera_cal/calibration19.jpg\n",
      "processing image: ../camera_cal/calibration2.jpg\n",
      "processing image: ../camera_cal/calibration20.jpg\n",
      "processing image: ../camera_cal/calibration3.jpg\n",
      "processing image: ../camera_cal/calibration4.jpg\n",
      "processing image: ../camera_cal/calibration5.jpg\n",
      "processing image: ../camera_cal/calibration6.jpg\n",
      "processing image: ../camera_cal/calibration7.jpg\n",
      "processing image: ../camera_cal/calibration8.jpg\n",
      "processing image: ../camera_cal/calibration9.jpg\n"
     ]
    }
   ],
   "source": [
    "images = glob.glob('../camera_cal/calibration*.jpg')\n",
    "cameraMatrix, distCoeffs = calibrate(images)"
   ]
  },
  {
   "cell_type": "markdown",
   "metadata": {},
   "source": [
    "## Apply a distortion correction to a raw images"
   ]
  },
  {
   "cell_type": "code",
   "execution_count": 8,
   "metadata": {},
   "outputs": [],
   "source": [
    "img = mpimg.imread('../test_images/test5.jpg')\n",
    "undist = undistort_image(img, cameraMatrix, distCoeffs)\n",
    "plot_2_images(img, undist)"
   ]
  },
  {
   "cell_type": "markdown",
   "metadata": {},
   "source": [
    "## Create a thresholded binary image."
   ]
  },
  {
   "cell_type": "code",
   "execution_count": null,
   "metadata": {
    "collapsed": true
   },
   "outputs": [],
   "source": [
    "# binary_image = binary_image_transform(undist)\n",
    "# plot_2_images(img, binary_image)"
   ]
  },
  {
   "cell_type": "code",
   "execution_count": 9,
   "metadata": {
    "collapsed": true
   },
   "outputs": [],
   "source": [
    "binary_image = binary_image_transform_yellow_white_lane_lines(undist)\n",
    "plot_2_images(undist, binary_image)"
   ]
  },
  {
   "cell_type": "markdown",
   "metadata": {},
   "source": [
    "## Apply a perspective transform to rectify binary image (\"birds-eye view\")."
   ]
  },
  {
   "cell_type": "code",
   "execution_count": 10,
   "metadata": {},
   "outputs": [
    {
     "name": "stdout",
     "output_type": "stream",
     "text": [
      "[[  585.           460.        ]\n",
      " [  203.33332825   720.        ]\n",
      " [ 1106.66662598   720.        ]\n",
      " [  705.           460.        ]]\n"
     ]
    }
   ],
   "source": [
    "img_size = (binary_image.shape[1], binary_image.shape[0])\n",
    "src = np.float32(\n",
    "    [[(img_size[0] / 2) - 55, img_size[1] / 2 + 100],\n",
    "    [((img_size[0] / 6) - 10), img_size[1]],\n",
    "    [(img_size[0] * 5 / 6) + 40, img_size[1]],\n",
    "    [(img_size[0] / 2 + 65), img_size[1] / 2 + 100]])\n",
    "dst = np.float32(\n",
    "    [[(img_size[0] / 4), 0],\n",
    "    [(img_size[0] / 4), img_size[1]],\n",
    "    [(img_size[0] * 3 / 4), img_size[1]],\n",
    "    [(img_size[0] * 3 / 4), 0]])\n",
    "warped, M = unwarp(binary_image, src, dst)\n",
    "Minv = cv2.getPerspectiveTransform(dst, src)\n",
    "\n",
    "print(src)\n",
    "# plot_2_images(undist, warped)\n",
    "\n",
    "warped_undist, M2 = unwarp(undist, src, dst)\n",
    "\n",
    "src2 = np.int32(src.reshape((-1,1,2)))\n",
    "dst2 = np.int32(dst.reshape((-1,1,2)))\n",
    "\n",
    "cv2.polylines(undist,[src2],True,(255,0,0))\n",
    "cv2.polylines(warped_undist,[dst2],True,(255,0,0))\n",
    "\n",
    "plot_2_images(undist, warped_undist)"
   ]
  },
  {
   "cell_type": "markdown",
   "metadata": {},
   "source": [
    "## Detect lane pixels and fit to find the lane boundary."
   ]
  },
  {
   "cell_type": "code",
   "execution_count": 11,
   "metadata": {
    "collapsed": true
   },
   "outputs": [],
   "source": [
    "left_fit, right_fit, left_fitx, right_fitx = detect_lane_lines(warped, debug=True)\n",
    "left_fit, right_fit, left_fitx, right_fitx = detect_lane_lines_subsequent_images(warped, left_fit, right_fit, debug=True)"
   ]
  },
  {
   "cell_type": "markdown",
   "metadata": {},
   "source": [
    "## Determine the curvature of the lane and vehicle position with respect to center."
   ]
  },
  {
   "cell_type": "code",
   "execution_count": 12,
   "metadata": {},
   "outputs": [
    {
     "name": "stdout",
     "output_type": "stream",
     "text": [
      "705.862316964 m 6010.10235056 m -0.0169064817038\n"
     ]
    }
   ],
   "source": [
    "left_curverad, right_curverad, diff_center = curvature(warped, left_fitx, right_fitx)\n",
    "print(left_curverad, 'm', right_curverad, 'm', diff_center)"
   ]
  },
  {
   "cell_type": "markdown",
   "metadata": {},
   "source": [
    "## Warp the detected lane boundaries back onto the original image."
   ]
  },
  {
   "cell_type": "code",
   "execution_count": 13,
   "metadata": {
    "collapsed": true
   },
   "outputs": [],
   "source": [
    "result = warp_detected_lines_onto_original(undist, warped, left_fitx, right_fitx, Minv)\n",
    "plot_2_images(img, result)"
   ]
  },
  {
   "cell_type": "markdown",
   "metadata": {},
   "source": [
    "## Output visual display of the lane boundaries and numerical estimation of lane curvature and vehicle position."
   ]
  },
  {
   "cell_type": "code",
   "execution_count": 14,
   "metadata": {
    "collapsed": true
   },
   "outputs": [],
   "source": [
    "# title = \"Radius of curvature = {:f}(m)\\nVehicle is {:f}m {!s} of center \".format(np.mean(left_curverad,right_curverad), np.abs(diff_center), 'left')\n",
    "text = 'Radius of curvature = {:f}(m)\\nVehicle is {:f}m {!s} of center'.format(np.mean([left_curverad,right_curverad]), np.abs(diff_center), 'left' if diff_center > 0 else 'right')\n",
    "plot_image_title(result, '', text)"
   ]
  },
  {
   "cell_type": "markdown",
   "metadata": {},
   "source": [
    "## Define a class to receive the characteristics of each line detection"
   ]
  },
  {
   "cell_type": "code",
   "execution_count": 15,
   "metadata": {
    "collapsed": true
   },
   "outputs": [],
   "source": [
    "class Line():\n",
    "    def __init__(self):\n",
    "        #loss count\n",
    "        self.loss_count = 0\n",
    "        # was the line detected in the last iteration?\n",
    "        self.detected = False  \n",
    "        # x values of the last n fits of the line\n",
    "        self.recent_xfitted = []\n",
    "        #average x values of the fitted line over the last n iterations\n",
    "        self.bestx = None     \n",
    "        #polynomial coefficients of the last n fits of the line\n",
    "        self.recent_fit = []\n",
    "        #polynomial coefficients averaged over the last n iterations\n",
    "        self.best_fit = None  \n",
    "        #polynomial coefficients for the most recent fit\n",
    "        self.current_fit = [np.array([False])]  \n",
    "        #radius of curvature of the line in some units\n",
    "        self.radius_of_curvature = None \n",
    "        #distance in meters of vehicle center from the line\n",
    "        self.line_base_pos = None \n",
    "        #difference in fit coefficients between last and new fits\n",
    "        self.diffs = np.array([0,0,0], dtype='float') \n",
    "        #x values for detected line pixels\n",
    "        self.allx = None  \n",
    "        #y values for detected line pixels\n",
    "        self.ally = None\n",
    "    #update the stats\n",
    "    def update(self, fit, fitx, radius_of_curvature, line_base_pos, warped):\n",
    "        ploty = np.linspace(0, warped.shape[0]-1, warped.shape[0] )\n",
    "        n = len(self.recent_xfitted)\n",
    "        \n",
    "        if (n > 10):\n",
    "            removed_fitx = self.recent_xfitted.pop(0)\n",
    "            removed_fit = self.recent_fit.pop(0)\n",
    "        \n",
    "        self.recent_xfitted.append(fitx)\n",
    "        self.bestx = np.mean(self.recent_xfitted, axis=0,keepdims=True)\n",
    "        self.recent_fit.append(fit)\n",
    "        self.best_fit = np.mean(self.recent_fit)\n",
    "        self.radius_of_curvature = radius_of_curvature\n",
    "        self.line_base_pos = line_base_pos \n",
    "        self.diffs = self.current_fit - fit\n",
    "        self.current_fit = fit\n",
    "        self.allx = fitx\n",
    "        self.ally = ploty\n",
    "        self.detected = True\n",
    "        self.loss_count = np.max([self.loss_count-1, 0])\n",
    "    def reset():\n",
    "        self.detected = False  \n",
    "        self.recent_xfitted = [] \n",
    "        self.bestx = None     \n",
    "        self.best_fit = None  \n",
    "        self.current_fit = [np.array([False])]  \n",
    "        self.radius_of_curvature = None \n",
    "        self.line_base_pos = None \n",
    "        self.diffs = np.array([0,0,0], dtype='float') \n",
    "        self.allx = None  \n",
    "        self.ally = None\n",
    "        self.loss_count=0"
   ]
  },
  {
   "cell_type": "markdown",
   "metadata": {},
   "source": [
    "## Pipeline"
   ]
  },
  {
   "cell_type": "code",
   "execution_count": 16,
   "metadata": {
    "collapsed": true
   },
   "outputs": [],
   "source": [
    "def sanity_check(leftLine, rightLine, left_fit, right_fit, left_fitx, right_fitx, left_curverad, right_curverad, diff_center):\n",
    "    \n",
    "    #Checking that lines have similar curvature\n",
    "    if ( (left_curverad-right_curverad) / right_curverad > 2):\n",
    "        print(\"left_curverad, right_curverad\")\n",
    "        print(left_curverad, right_curverad)\n",
    "        return False\n",
    "\n",
    "    #Checking that lines are separated by approximately the right distance horizontally\n",
    "    xm_per_pix = 3.7/700 # meters per pixel in x dimension\n",
    "    if ( ((right_fitx[-1]-left_fitx[-1]) * xm_per_pix - 3.7) > 5e-2):\n",
    "        print(\"right_fitx[-1], left_fitx[-1\")\n",
    "        print(right_fitx[-1], left_fitx[-1])\n",
    "        return False\n",
    "\n",
    "#     #Checking that lines are roughly parallel\n",
    "    upper = right_fitx[0] - left_fitx[0]\n",
    "    lower = right_fitx[-1] - left_fitx[-1]\n",
    "    if ( (upper-lower) / lower > 11e-2):\n",
    "        print(\"upper, lower\")\n",
    "        print(upper, lower)\n",
    "        return False\n",
    "#     print('great, passed sanity checks!')\n",
    "    \n",
    "    return True"
   ]
  },
  {
   "cell_type": "code",
   "execution_count": 17,
   "metadata": {
    "collapsed": true
   },
   "outputs": [],
   "source": [
    "def sanity_check_update_lines(left_fit, right_fit, left_fitx, right_fitx, warped, leftLine, rightLine):\n",
    "    if (len(left_fit) == 0):\n",
    "        leftLine.detected = False\n",
    "        leftLine.loss_count += 1\n",
    "\n",
    "        rightLine.detected = False\n",
    "        rightLine.loss_count += 1\n",
    "\n",
    "        return 0., 0., 0.\n",
    "    left_curverad, right_curverad, diff_center = curvature(warped, left_fitx, right_fitx)\n",
    "\n",
    "    if (sanity_check(leftLine, rightLine, left_fit, right_fit, left_fitx, right_fitx, left_curverad, right_curverad, diff_center)):\n",
    "        leftLine.update(left_fit, left_fitx, left_curverad, diff_center, warped)\n",
    "        rightLine.update(right_fit, right_fitx, right_curverad, diff_center, warped)\n",
    "    else:\n",
    "        leftLine.detected = False\n",
    "        leftLine.loss_count += 1\n",
    "\n",
    "        rightLine.detected = False\n",
    "        rightLine.loss_count += 1\n",
    "        \n",
    "    return left_curverad, right_curverad, diff_center"
   ]
  },
  {
   "cell_type": "code",
   "execution_count": 18,
   "metadata": {
    "collapsed": true
   },
   "outputs": [],
   "source": [
    "def pipeline(img, simple=True):\n",
    "    \"\"\"\n",
    "    1) Sanity Check\n",
    "    2) Look-Ahead Filter\n",
    "    3) Reset\n",
    "    4) Smoothing\n",
    "    5) Drawing\n",
    "    \"\"\"\n",
    "    undist = undistort_image(img, cameraMatrix, distCoeffs)\n",
    "    binary_image = binary_image_transform_yellow_white_lane_lines(undist)\n",
    "    warped, M = unwarp(binary_image, src, dst)\n",
    "    \n",
    "    if (simple):\n",
    "        left_fit, right_fit, left_fitx, right_fitx = detect_lane_lines(warped)\n",
    "        left_curverad, right_curverad, diff_center = sanity_check_update_lines(left_fit, right_fit, left_fitx, right_fitx, warped, leftLine, rightLine)\n",
    "    else:    \n",
    "        if (len(leftLine.recent_xfitted) > 0 & leftLine.loss_count < 2 & len(rightLine.recent_xfitted) > 0  & rightLine.loss_count < 5):\n",
    "            left_fit, right_fit, left_fitx, right_fitx = detect_lane_lines_subsequent_images(warped, leftLine.best_fit, rightLine.best_fit)\n",
    "            left_curverad, right_curverad, diff_center = sanity_check_update_lines(left_fit, right_fit, left_fitx, right_fitx, warped, leftLine, rightLine)        \n",
    "        else:\n",
    "            print('resetting....')\n",
    "            leftLine.reset\n",
    "            rightLine.reset\n",
    "            left_fit, right_fit, left_fitx, right_fitx = detect_lane_lines(warped)\n",
    "            left_curverad, right_curverad, diff_center = sanity_check_update_lines(left_fit, right_fit, left_fitx, right_fitx, warped, leftLine, rightLine)\n",
    "        \n",
    "    if (left_curverad == 0. or right_curverad == 0.):\n",
    "        return img\n",
    "    result = warp_detected_lines_onto_original(undist, warped, leftLine.bestx, rightLine.bestx, Minv)\n",
    "    text1 = 'Radius of curvature = {:f}(m)'.format(np.mean([left_curverad,right_curverad]))\n",
    "    text2 = 'Vehicle is {:f}m {!s} of center'.format(np.abs(diff_center), 'left' if diff_center > 0 else 'right')\n",
    "    font = cv2.FONT_HERSHEY_SIMPLEX\n",
    "    cv2.putText(result,text1,(10,50), font, 1,(255,255,255),2,cv2.LINE_AA)\n",
    "    cv2.putText(result,text2,(10,95), font, 1,(255,255,255),2,cv2.LINE_AA)\n",
    "    \n",
    "    return result"
   ]
  },
  {
   "cell_type": "code",
   "execution_count": 19,
   "metadata": {},
   "outputs": [
    {
     "name": "stdout",
     "output_type": "stream",
     "text": [
      "test1.jpg\n",
      "test2.jpg\n",
      "test3.jpg\n",
      "test4.jpg\n",
      "left_curverad, right_curverad\n",
      "3640.13411164 745.153945385\n",
      "test5.jpg\n",
      "test6.jpg\n"
     ]
    }
   ],
   "source": [
    "import os\n",
    "test_image_file_names = os.listdir(\"../test_images/\")\n",
    "leftLine = Line()\n",
    "rightLine = Line()\n",
    "for image_file_name in test_image_file_names:\n",
    "    print(image_file_name)\n",
    "    image = mpimg.imread(\"../test_images/\" + image_file_name)    \n",
    "    result = pipeline(image, simple=True)\n",
    "    mpimg.imsave(\"../output_images/\" + image_file_name, result)"
   ]
  },
  {
   "cell_type": "code",
   "execution_count": 20,
   "metadata": {},
   "outputs": [
    {
     "name": "stdout",
     "output_type": "stream",
     "text": [
      "[MoviePy] >>>> Building video ../output_images/project_video.mp4\n",
      "[MoviePy] Writing video ../output_images/project_video.mp4\n"
     ]
    },
    {
     "name": "stderr",
     "output_type": "stream",
     "text": [
      " 19%|█▉        | 239/1261 [00:54<03:54,  4.36it/s]"
     ]
    },
    {
     "name": "stdout",
     "output_type": "stream",
     "text": [
      "left_curverad, right_curverad\n",
      "1781.86157865 587.426293254\n"
     ]
    },
    {
     "name": "stderr",
     "output_type": "stream",
     "text": [
      " 19%|█▉        | 241/1261 [00:55<03:53,  4.37it/s]"
     ]
    },
    {
     "name": "stdout",
     "output_type": "stream",
     "text": [
      "left_curverad, right_curverad\n",
      "2056.68804464 626.775769995\n"
     ]
    },
    {
     "name": "stderr",
     "output_type": "stream",
     "text": [
      "\r",
      " 19%|█▉        | 242/1261 [00:55<03:51,  4.41it/s]"
     ]
    },
    {
     "name": "stdout",
     "output_type": "stream",
     "text": [
      "left_curverad, right_curverad\n",
      "2221.54704623 645.741249538\n"
     ]
    },
    {
     "name": "stderr",
     "output_type": "stream",
     "text": [
      " 25%|██▌       | 320/1261 [01:13<03:44,  4.19it/s]"
     ]
    },
    {
     "name": "stdout",
     "output_type": "stream",
     "text": [
      "left_curverad, right_curverad\n",
      "22072.9577371 5067.46499434\n"
     ]
    },
    {
     "name": "stderr",
     "output_type": "stream",
     "text": [
      " 26%|██▌       | 323/1261 [01:13<03:42,  4.21it/s]"
     ]
    },
    {
     "name": "stdout",
     "output_type": "stream",
     "text": [
      "left_curverad, right_curverad\n",
      "7218.48732349 1793.28942871\n"
     ]
    },
    {
     "name": "stderr",
     "output_type": "stream",
     "text": [
      " 26%|██▌       | 325/1261 [01:14<03:45,  4.15it/s]"
     ]
    },
    {
     "name": "stdout",
     "output_type": "stream",
     "text": [
      "left_curverad, right_curverad\n",
      "6523.3113064 1888.95892284\n"
     ]
    },
    {
     "name": "stderr",
     "output_type": "stream",
     "text": [
      " 26%|██▌       | 329/1261 [01:15<03:42,  4.18it/s]"
     ]
    },
    {
     "name": "stdout",
     "output_type": "stream",
     "text": [
      "left_curverad, right_curverad\n",
      "1591549.76064 3005.08174458\n"
     ]
    },
    {
     "name": "stderr",
     "output_type": "stream",
     "text": [
      " 26%|██▋       | 333/1261 [01:16<03:33,  4.35it/s]"
     ]
    },
    {
     "name": "stdout",
     "output_type": "stream",
     "text": [
      "left_curverad, right_curverad\n",
      "10466.0339798 3056.91928133\n"
     ]
    },
    {
     "name": "stderr",
     "output_type": "stream",
     "text": [
      "\r",
      " 26%|██▋       | 334/1261 [01:16<03:31,  4.38it/s]"
     ]
    },
    {
     "name": "stdout",
     "output_type": "stream",
     "text": [
      "left_curverad, right_curverad\n",
      "10587.1553882 2835.39283497\n"
     ]
    },
    {
     "name": "stderr",
     "output_type": "stream",
     "text": [
      "\r",
      " 27%|██▋       | 335/1261 [01:16<03:35,  4.30it/s]"
     ]
    },
    {
     "name": "stdout",
     "output_type": "stream",
     "text": [
      "left_curverad, right_curverad\n",
      "19190.3435758 3453.70973161\n"
     ]
    },
    {
     "name": "stderr",
     "output_type": "stream",
     "text": [
      "\r",
      " 27%|██▋       | 336/1261 [01:16<03:37,  4.26it/s]"
     ]
    },
    {
     "name": "stdout",
     "output_type": "stream",
     "text": [
      "left_curverad, right_curverad\n",
      "68442.6267439 4379.47835664\n"
     ]
    },
    {
     "name": "stderr",
     "output_type": "stream",
     "text": [
      " 27%|██▋       | 338/1261 [01:17<03:37,  4.25it/s]"
     ]
    },
    {
     "name": "stdout",
     "output_type": "stream",
     "text": [
      "left_curverad, right_curverad\n",
      "17451.4220899 5588.20483285\n"
     ]
    },
    {
     "name": "stderr",
     "output_type": "stream",
     "text": [
      " 27%|██▋       | 342/1261 [01:18<03:31,  4.35it/s]"
     ]
    },
    {
     "name": "stdout",
     "output_type": "stream",
     "text": [
      "left_curverad, right_curverad\n",
      "17752.8672547 3174.05674861\n"
     ]
    },
    {
     "name": "stderr",
     "output_type": "stream",
     "text": [
      "\r",
      " 27%|██▋       | 343/1261 [01:18<03:30,  4.35it/s]"
     ]
    },
    {
     "name": "stdout",
     "output_type": "stream",
     "text": [
      "left_curverad, right_curverad\n",
      "39790.6268173 3313.07762441\n"
     ]
    },
    {
     "name": "stderr",
     "output_type": "stream",
     "text": [
      " 27%|██▋       | 346/1261 [01:19<03:36,  4.23it/s]"
     ]
    },
    {
     "name": "stdout",
     "output_type": "stream",
     "text": [
      "left_curverad, right_curverad\n",
      "45024.6908256 3632.62377166\n"
     ]
    },
    {
     "name": "stderr",
     "output_type": "stream",
     "text": [
      " 28%|██▊       | 348/1261 [01:19<03:36,  4.22it/s]"
     ]
    },
    {
     "name": "stdout",
     "output_type": "stream",
     "text": [
      "left_curverad, right_curverad\n",
      "52128.8817305 3857.40805569\n"
     ]
    },
    {
     "name": "stderr",
     "output_type": "stream",
     "text": [
      " 31%|███       | 389/1261 [01:29<03:17,  4.42it/s]"
     ]
    },
    {
     "name": "stdout",
     "output_type": "stream",
     "text": [
      "left_curverad, right_curverad\n",
      "2063897.54412 21865.1307404\n"
     ]
    },
    {
     "name": "stderr",
     "output_type": "stream",
     "text": [
      " 32%|███▏      | 403/1261 [01:32<03:13,  4.43it/s]"
     ]
    },
    {
     "name": "stdout",
     "output_type": "stream",
     "text": [
      "left_curverad, right_curverad\n",
      "858210.984395 2103.53615421\n"
     ]
    },
    {
     "name": "stderr",
     "output_type": "stream",
     "text": [
      "\r",
      " 32%|███▏      | 404/1261 [01:32<03:14,  4.42it/s]"
     ]
    },
    {
     "name": "stdout",
     "output_type": "stream",
     "text": [
      "left_curverad, right_curverad\n",
      "26899.7717607 2292.63604082\n"
     ]
    },
    {
     "name": "stderr",
     "output_type": "stream",
     "text": [
      "\r",
      " 32%|███▏      | 405/1261 [01:32<03:13,  4.43it/s]"
     ]
    },
    {
     "name": "stdout",
     "output_type": "stream",
     "text": [
      "left_curverad, right_curverad\n",
      "9760.31859199 2430.85587366\n"
     ]
    },
    {
     "name": "stderr",
     "output_type": "stream",
     "text": [
      "\r",
      " 32%|███▏      | 406/1261 [01:33<03:12,  4.45it/s]"
     ]
    },
    {
     "name": "stdout",
     "output_type": "stream",
     "text": [
      "left_curverad, right_curverad\n",
      "6621.74589955 2074.93951989\n"
     ]
    },
    {
     "name": "stderr",
     "output_type": "stream",
     "text": [
      " 32%|███▏      | 409/1261 [01:33<03:10,  4.46it/s]"
     ]
    },
    {
     "name": "stdout",
     "output_type": "stream",
     "text": [
      "left_curverad, right_curverad\n",
      "54266.5250427 4381.24684638\n"
     ]
    },
    {
     "name": "stderr",
     "output_type": "stream",
     "text": [
      " 33%|███▎      | 415/1261 [01:35<03:10,  4.45it/s]"
     ]
    },
    {
     "name": "stdout",
     "output_type": "stream",
     "text": [
      "left_curverad, right_curverad\n",
      "11669.5349521 3292.31185659\n"
     ]
    },
    {
     "name": "stderr",
     "output_type": "stream",
     "text": [
      "\r",
      " 33%|███▎      | 416/1261 [01:35<03:09,  4.45it/s]"
     ]
    },
    {
     "name": "stdout",
     "output_type": "stream",
     "text": [
      "left_curverad, right_curverad\n",
      "10350.2725655 2580.74374882\n"
     ]
    },
    {
     "name": "stderr",
     "output_type": "stream",
     "text": [
      " 35%|███▌      | 445/1261 [01:41<03:04,  4.43it/s]"
     ]
    },
    {
     "name": "stdout",
     "output_type": "stream",
     "text": [
      "left_curverad, right_curverad\n",
      "16649.3667346 4054.13072487\n"
     ]
    },
    {
     "name": "stderr",
     "output_type": "stream",
     "text": [
      " 36%|███▌      | 450/1261 [01:43<03:08,  4.30it/s]"
     ]
    },
    {
     "name": "stdout",
     "output_type": "stream",
     "text": [
      "left_curverad, right_curverad\n",
      "37308.1886984 6826.58965482\n"
     ]
    },
    {
     "name": "stderr",
     "output_type": "stream",
     "text": [
      "\r",
      " 36%|███▌      | 451/1261 [01:43<03:11,  4.23it/s]"
     ]
    },
    {
     "name": "stdout",
     "output_type": "stream",
     "text": [
      "left_curverad, right_curverad\n",
      "23530.8365489 4317.06161291\n"
     ]
    },
    {
     "name": "stderr",
     "output_type": "stream",
     "text": [
      "\r",
      " 36%|███▌      | 452/1261 [01:43<03:12,  4.20it/s]"
     ]
    },
    {
     "name": "stdout",
     "output_type": "stream",
     "text": [
      "left_curverad, right_curverad\n",
      "43100.3709274 7420.38907114\n"
     ]
    },
    {
     "name": "stderr",
     "output_type": "stream",
     "text": [
      " 36%|███▌      | 456/1261 [01:44<03:04,  4.36it/s]"
     ]
    },
    {
     "name": "stdout",
     "output_type": "stream",
     "text": [
      "left_curverad, right_curverad\n",
      "94647.6680487 4741.43317214\n"
     ]
    },
    {
     "name": "stderr",
     "output_type": "stream",
     "text": [
      " 38%|███▊      | 475/1261 [01:48<03:08,  4.17it/s]"
     ]
    },
    {
     "name": "stdout",
     "output_type": "stream",
     "text": [
      "left_curverad, right_curverad\n",
      "9345.06370686 2622.24368517\n"
     ]
    },
    {
     "name": "stderr",
     "output_type": "stream",
     "text": [
      "\r",
      " 38%|███▊      | 476/1261 [01:49<03:08,  4.17it/s]"
     ]
    },
    {
     "name": "stdout",
     "output_type": "stream",
     "text": [
      "left_curverad, right_curverad\n",
      "9607.2785816 2162.33290509\n"
     ]
    },
    {
     "name": "stderr",
     "output_type": "stream",
     "text": [
      " 39%|███▉      | 493/1261 [01:53<03:05,  4.13it/s]"
     ]
    },
    {
     "name": "stdout",
     "output_type": "stream",
     "text": [
      "left_curverad, right_curverad\n",
      "38046.0675668 4134.137488\n"
     ]
    },
    {
     "name": "stderr",
     "output_type": "stream",
     "text": [
      " 41%|████      | 511/1261 [01:57<03:02,  4.11it/s]"
     ]
    },
    {
     "name": "stdout",
     "output_type": "stream",
     "text": [
      "left_curverad, right_curverad\n",
      "10256.7253628 3048.18132857\n"
     ]
    },
    {
     "name": "stderr",
     "output_type": "stream",
     "text": [
      "\r",
      " 41%|████      | 512/1261 [01:57<03:01,  4.13it/s]"
     ]
    },
    {
     "name": "stdout",
     "output_type": "stream",
     "text": [
      "left_curverad, right_curverad\n",
      "15813.4368955 4986.09379923\n"
     ]
    },
    {
     "name": "stderr",
     "output_type": "stream",
     "text": [
      "\r",
      " 41%|████      | 513/1261 [01:57<03:00,  4.13it/s]"
     ]
    },
    {
     "name": "stdout",
     "output_type": "stream",
     "text": [
      "left_curverad, right_curverad\n",
      "20688.4806637 4962.38053183\n"
     ]
    },
    {
     "name": "stderr",
     "output_type": "stream",
     "text": [
      " 42%|████▏     | 524/1261 [02:00<02:49,  4.34it/s]"
     ]
    },
    {
     "name": "stdout",
     "output_type": "stream",
     "text": [
      "left_curverad, right_curverad\n",
      "29926.723059 5688.50202137\n"
     ]
    },
    {
     "name": "stderr",
     "output_type": "stream",
     "text": [
      " 42%|████▏     | 532/1261 [02:02<02:49,  4.30it/s]"
     ]
    },
    {
     "name": "stdout",
     "output_type": "stream",
     "text": [
      "left_curverad, right_curverad\n",
      "16379.1400052 3993.63915098\n"
     ]
    },
    {
     "name": "stderr",
     "output_type": "stream",
     "text": [
      " 43%|████▎     | 542/1261 [02:04<02:48,  4.27it/s]"
     ]
    },
    {
     "name": "stdout",
     "output_type": "stream",
     "text": [
      "left_curverad, right_curverad\n",
      "8361.42254512 2727.20425753\n"
     ]
    },
    {
     "name": "stderr",
     "output_type": "stream",
     "text": [
      " 43%|████▎     | 544/1261 [02:05<02:46,  4.30it/s]"
     ]
    },
    {
     "name": "stdout",
     "output_type": "stream",
     "text": [
      "left_curverad, right_curverad\n",
      "39519.9181831 2644.32506119\n"
     ]
    },
    {
     "name": "stderr",
     "output_type": "stream",
     "text": [
      " 43%|████▎     | 547/1261 [02:06<02:49,  4.21it/s]"
     ]
    },
    {
     "name": "stdout",
     "output_type": "stream",
     "text": [
      "left_curverad, right_curverad\n",
      "10188.7170378 944.391100052\n"
     ]
    },
    {
     "name": "stderr",
     "output_type": "stream",
     "text": [
      " 44%|████▎     | 549/1261 [02:06<02:55,  4.05it/s]"
     ]
    },
    {
     "name": "stdout",
     "output_type": "stream",
     "text": [
      "left_curverad, right_curverad\n",
      "37215.9363281 1219.14623119\n"
     ]
    },
    {
     "name": "stderr",
     "output_type": "stream",
     "text": [
      "\r",
      " 44%|████▎     | 550/1261 [02:06<02:56,  4.02it/s]"
     ]
    },
    {
     "name": "stdout",
     "output_type": "stream",
     "text": [
      "upper, lower\n",
      "743.038936873 652.945701368\n"
     ]
    },
    {
     "name": "stderr",
     "output_type": "stream",
     "text": [
      "\r",
      " 44%|████▎     | 551/1261 [02:07<03:07,  3.79it/s]"
     ]
    },
    {
     "name": "stdout",
     "output_type": "stream",
     "text": [
      "upper, lower\n",
      "725.053513544 651.265200497\n"
     ]
    },
    {
     "name": "stderr",
     "output_type": "stream",
     "text": [
      "\r",
      " 44%|████▍     | 552/1261 [02:07<03:08,  3.77it/s]"
     ]
    },
    {
     "name": "stdout",
     "output_type": "stream",
     "text": [
      "upper, lower\n",
      "725.952508957 649.178010676\n"
     ]
    },
    {
     "name": "stderr",
     "output_type": "stream",
     "text": [
      "\r",
      " 44%|████▍     | 553/1261 [02:07<03:00,  3.92it/s]"
     ]
    },
    {
     "name": "stdout",
     "output_type": "stream",
     "text": [
      "upper, lower\n",
      "726.899316584 649.72218041\n"
     ]
    },
    {
     "name": "stderr",
     "output_type": "stream",
     "text": [
      "\r",
      " 44%|████▍     | 554/1261 [02:07<02:56,  4.00it/s]"
     ]
    },
    {
     "name": "stdout",
     "output_type": "stream",
     "text": [
      "upper, lower\n",
      "727.885699436 649.724057213\n"
     ]
    },
    {
     "name": "stderr",
     "output_type": "stream",
     "text": [
      " 44%|████▍     | 559/1261 [02:09<02:45,  4.23it/s]"
     ]
    },
    {
     "name": "stdout",
     "output_type": "stream",
     "text": [
      "upper, lower\n",
      "769.818675659 668.068001853\n"
     ]
    },
    {
     "name": "stderr",
     "output_type": "stream",
     "text": [
      "\r",
      " 44%|████▍     | 560/1261 [02:09<02:44,  4.26it/s]"
     ]
    },
    {
     "name": "stdout",
     "output_type": "stream",
     "text": [
      "upper, lower\n",
      "866.442875327 686.570351179\n"
     ]
    },
    {
     "name": "stderr",
     "output_type": "stream",
     "text": [
      "\r",
      " 44%|████▍     | 561/1261 [02:09<02:45,  4.23it/s]"
     ]
    },
    {
     "name": "stdout",
     "output_type": "stream",
     "text": [
      "upper, lower\n",
      "892.433923916 690.779442372\n"
     ]
    },
    {
     "name": "stderr",
     "output_type": "stream",
     "text": [
      "\r",
      " 45%|████▍     | 562/1261 [02:09<02:47,  4.17it/s]"
     ]
    },
    {
     "name": "stdout",
     "output_type": "stream",
     "text": [
      "upper, lower\n",
      "916.895005661 696.301224119\n"
     ]
    },
    {
     "name": "stderr",
     "output_type": "stream",
     "text": [
      "\r",
      " 45%|████▍     | 563/1261 [02:09<02:47,  4.17it/s]"
     ]
    },
    {
     "name": "stdout",
     "output_type": "stream",
     "text": [
      "upper, lower\n",
      "850.396901684 687.122255119\n"
     ]
    },
    {
     "name": "stderr",
     "output_type": "stream",
     "text": [
      "\r",
      " 45%|████▍     | 564/1261 [02:10<02:49,  4.10it/s]"
     ]
    },
    {
     "name": "stdout",
     "output_type": "stream",
     "text": [
      "upper, lower\n",
      "764.30734275 677.983605674\n"
     ]
    },
    {
     "name": "stderr",
     "output_type": "stream",
     "text": [
      " 45%|████▍     | 567/1261 [02:10<02:44,  4.22it/s]"
     ]
    },
    {
     "name": "stdout",
     "output_type": "stream",
     "text": [
      "left_curverad, right_curverad\n",
      "14966.7239282 3221.30600731\n"
     ]
    },
    {
     "name": "stderr",
     "output_type": "stream",
     "text": [
      " 45%|████▌     | 572/1261 [02:12<02:44,  4.20it/s]"
     ]
    },
    {
     "name": "stdout",
     "output_type": "stream",
     "text": [
      "upper, lower\n",
      "743.009999447 665.671093308\n"
     ]
    },
    {
     "name": "stderr",
     "output_type": "stream",
     "text": [
      "\r",
      " 45%|████▌     | 573/1261 [02:12<02:43,  4.21it/s]"
     ]
    },
    {
     "name": "stdout",
     "output_type": "stream",
     "text": [
      "upper, lower\n",
      "743.461613135 665.673911914\n"
     ]
    },
    {
     "name": "stderr",
     "output_type": "stream",
     "text": [
      " 46%|████▌     | 578/1261 [02:13<02:45,  4.13it/s]"
     ]
    },
    {
     "name": "stdout",
     "output_type": "stream",
     "text": [
      "left_curverad, right_curverad\n",
      "11635.5699625 3375.18878318\n"
     ]
    },
    {
     "name": "stderr",
     "output_type": "stream",
     "text": [
      " 46%|████▋     | 584/1261 [02:14<02:36,  4.33it/s]"
     ]
    },
    {
     "name": "stdout",
     "output_type": "stream",
     "text": [
      "left_curverad, right_curverad\n",
      "7651.833967 2439.75397754\n"
     ]
    },
    {
     "name": "stderr",
     "output_type": "stream",
     "text": [
      " 47%|████▋     | 588/1261 [02:15<02:35,  4.33it/s]"
     ]
    },
    {
     "name": "stdout",
     "output_type": "stream",
     "text": [
      "left_curverad, right_curverad\n",
      "73500.0261177 1919.39814889\n"
     ]
    },
    {
     "name": "stderr",
     "output_type": "stream",
     "text": [
      "\r",
      " 47%|████▋     | 589/1261 [02:16<02:33,  4.37it/s]"
     ]
    },
    {
     "name": "stdout",
     "output_type": "stream",
     "text": [
      "left_curverad, right_curverad\n",
      "6374.71946851 1126.14615505\n"
     ]
    },
    {
     "name": "stderr",
     "output_type": "stream",
     "text": [
      "\r",
      " 47%|████▋     | 590/1261 [02:16<02:34,  4.35it/s]"
     ]
    },
    {
     "name": "stdout",
     "output_type": "stream",
     "text": [
      "left_curverad, right_curverad\n",
      "4246.51172853 1373.37869925\n"
     ]
    },
    {
     "name": "stderr",
     "output_type": "stream",
     "text": [
      " 47%|████▋     | 593/1261 [02:17<02:34,  4.33it/s]"
     ]
    },
    {
     "name": "stdout",
     "output_type": "stream",
     "text": [
      "upper, lower\n",
      "762.741776402 667.494752367\n"
     ]
    },
    {
     "name": "stderr",
     "output_type": "stream",
     "text": [
      "\r",
      " 47%|████▋     | 594/1261 [02:17<02:34,  4.32it/s]"
     ]
    },
    {
     "name": "stdout",
     "output_type": "stream",
     "text": [
      "upper, lower\n",
      "747.246072461 666.976119359\n"
     ]
    },
    {
     "name": "stderr",
     "output_type": "stream",
     "text": [
      "\r",
      " 47%|████▋     | 595/1261 [02:17<02:32,  4.36it/s]"
     ]
    },
    {
     "name": "stdout",
     "output_type": "stream",
     "text": [
      "left_curverad, right_curverad\n",
      "36391.5170764 1479.19138873\n"
     ]
    },
    {
     "name": "stderr",
     "output_type": "stream",
     "text": [
      " 47%|████▋     | 597/1261 [02:17<02:35,  4.27it/s]"
     ]
    },
    {
     "name": "stdout",
     "output_type": "stream",
     "text": [
      "left_curverad, right_curverad\n",
      "68447.5984688 1385.61012117\n"
     ]
    },
    {
     "name": "stderr",
     "output_type": "stream",
     "text": [
      "\r",
      " 47%|████▋     | 598/1261 [02:18<02:33,  4.32it/s]"
     ]
    },
    {
     "name": "stdout",
     "output_type": "stream",
     "text": [
      "upper, lower\n",
      "744.390189173 665.97250871\n"
     ]
    },
    {
     "name": "stderr",
     "output_type": "stream",
     "text": [
      "\r",
      " 48%|████▊     | 599/1261 [02:18<02:31,  4.37it/s]"
     ]
    },
    {
     "name": "stdout",
     "output_type": "stream",
     "text": [
      "upper, lower\n",
      "744.375030463 664.581007837\n"
     ]
    },
    {
     "name": "stderr",
     "output_type": "stream",
     "text": [
      "\r",
      " 48%|████▊     | 600/1261 [02:18<02:29,  4.41it/s]"
     ]
    },
    {
     "name": "stdout",
     "output_type": "stream",
     "text": [
      "upper, lower\n",
      "746.466360384 660.422134099\n"
     ]
    },
    {
     "name": "stderr",
     "output_type": "stream",
     "text": [
      "\r",
      " 48%|████▊     | 601/1261 [02:18<02:28,  4.43it/s]"
     ]
    },
    {
     "name": "stdout",
     "output_type": "stream",
     "text": [
      "upper, lower\n",
      "773.14300952 674.871184837\n"
     ]
    },
    {
     "name": "stderr",
     "output_type": "stream",
     "text": [
      "\r",
      " 48%|████▊     | 602/1261 [02:19<02:27,  4.46it/s]"
     ]
    },
    {
     "name": "stdout",
     "output_type": "stream",
     "text": [
      "upper, lower\n",
      "754.746065991 672.561351015\n"
     ]
    },
    {
     "name": "stderr",
     "output_type": "stream",
     "text": [
      "\r",
      " 48%|████▊     | 603/1261 [02:19<02:27,  4.45it/s]"
     ]
    },
    {
     "name": "stdout",
     "output_type": "stream",
     "text": [
      "upper, lower\n",
      "765.082304781 677.26518748\n"
     ]
    },
    {
     "name": "stderr",
     "output_type": "stream",
     "text": [
      " 48%|████▊     | 605/1261 [02:19<02:31,  4.34it/s]"
     ]
    },
    {
     "name": "stdout",
     "output_type": "stream",
     "text": [
      "left_curverad, right_curverad\n",
      "36276.7674561 1463.75177752\n"
     ]
    },
    {
     "name": "stderr",
     "output_type": "stream",
     "text": [
      " 48%|████▊     | 609/1261 [02:20<02:33,  4.25it/s]"
     ]
    },
    {
     "name": "stdout",
     "output_type": "stream",
     "text": [
      "left_curverad, right_curverad\n",
      "9417.70032216 789.902068563\n"
     ]
    },
    {
     "name": "stderr",
     "output_type": "stream",
     "text": [
      " 51%|█████     | 642/1261 [02:28<02:20,  4.42it/s]"
     ]
    },
    {
     "name": "stdout",
     "output_type": "stream",
     "text": [
      "left_curverad, right_curverad\n",
      "2878.46578195 870.677955404\n"
     ]
    },
    {
     "name": "stderr",
     "output_type": "stream",
     "text": [
      "\r",
      " 51%|█████     | 643/1261 [02:28<02:19,  4.42it/s]"
     ]
    },
    {
     "name": "stdout",
     "output_type": "stream",
     "text": [
      "left_curverad, right_curverad\n",
      "2938.4670641 834.359864802\n"
     ]
    },
    {
     "name": "stderr",
     "output_type": "stream",
     "text": [
      "\r",
      " 51%|█████     | 644/1261 [02:28<02:20,  4.39it/s]"
     ]
    },
    {
     "name": "stdout",
     "output_type": "stream",
     "text": [
      "left_curverad, right_curverad\n",
      "3192.54217041 769.940851597\n"
     ]
    },
    {
     "name": "stderr",
     "output_type": "stream",
     "text": [
      "\r",
      " 51%|█████     | 645/1261 [02:29<02:20,  4.39it/s]"
     ]
    },
    {
     "name": "stdout",
     "output_type": "stream",
     "text": [
      "left_curverad, right_curverad\n",
      "2746.96994117 822.104670454\n"
     ]
    },
    {
     "name": "stderr",
     "output_type": "stream",
     "text": [
      "\r",
      " 51%|█████     | 646/1261 [02:29<02:19,  4.40it/s]"
     ]
    },
    {
     "name": "stdout",
     "output_type": "stream",
     "text": [
      "left_curverad, right_curverad\n",
      "4103.53499596 797.977502864\n"
     ]
    },
    {
     "name": "stderr",
     "output_type": "stream",
     "text": [
      "\r",
      " 51%|█████▏    | 647/1261 [02:29<02:20,  4.37it/s]"
     ]
    },
    {
     "name": "stdout",
     "output_type": "stream",
     "text": [
      "left_curverad, right_curverad\n",
      "3685.7555304 857.742027612\n"
     ]
    },
    {
     "name": "stderr",
     "output_type": "stream",
     "text": [
      "\r",
      " 51%|█████▏    | 648/1261 [02:29<02:20,  4.36it/s]"
     ]
    },
    {
     "name": "stdout",
     "output_type": "stream",
     "text": [
      "left_curverad, right_curverad\n",
      "4274.23676773 857.895401611\n"
     ]
    },
    {
     "name": "stderr",
     "output_type": "stream",
     "text": [
      " 52%|█████▏    | 654/1261 [02:31<02:24,  4.21it/s]"
     ]
    },
    {
     "name": "stdout",
     "output_type": "stream",
     "text": [
      "left_curverad, right_curverad\n",
      "2399.31685875 718.976752778\n"
     ]
    },
    {
     "name": "stderr",
     "output_type": "stream",
     "text": [
      " 52%|█████▏    | 658/1261 [02:32<02:22,  4.24it/s]"
     ]
    },
    {
     "name": "stdout",
     "output_type": "stream",
     "text": [
      "left_curverad, right_curverad\n",
      "2342.64218162 707.599881454\n"
     ]
    },
    {
     "name": "stderr",
     "output_type": "stream",
     "text": [
      " 54%|█████▎    | 675/1261 [02:36<02:19,  4.20it/s]"
     ]
    },
    {
     "name": "stdout",
     "output_type": "stream",
     "text": [
      "left_curverad, right_curverad\n",
      "4274.82100252 1136.4094799\n"
     ]
    },
    {
     "name": "stderr",
     "output_type": "stream",
     "text": [
      " 54%|█████▍    | 678/1261 [02:36<02:19,  4.18it/s]"
     ]
    },
    {
     "name": "stdout",
     "output_type": "stream",
     "text": [
      "left_curverad, right_curverad\n",
      "76603.4898337 1037.95725043\n"
     ]
    },
    {
     "name": "stderr",
     "output_type": "stream",
     "text": [
      "\r",
      " 54%|█████▍    | 679/1261 [02:37<02:20,  4.15it/s]"
     ]
    },
    {
     "name": "stdout",
     "output_type": "stream",
     "text": [
      "left_curverad, right_curverad\n",
      "4058.4694488 743.104287856\n"
     ]
    },
    {
     "name": "stderr",
     "output_type": "stream",
     "text": [
      " 54%|█████▍    | 683/1261 [02:38<02:20,  4.12it/s]"
     ]
    },
    {
     "name": "stdout",
     "output_type": "stream",
     "text": [
      "left_curverad, right_curverad\n",
      "3451.21288473 794.639365952\n"
     ]
    },
    {
     "name": "stderr",
     "output_type": "stream",
     "text": [
      "\r",
      " 54%|█████▍    | 684/1261 [02:38<02:18,  4.15it/s]"
     ]
    },
    {
     "name": "stdout",
     "output_type": "stream",
     "text": [
      "left_curverad, right_curverad\n",
      "3795.93894756 661.740425601\n"
     ]
    },
    {
     "name": "stderr",
     "output_type": "stream",
     "text": [
      " 54%|█████▍    | 687/1261 [02:39<02:18,  4.15it/s]"
     ]
    },
    {
     "name": "stdout",
     "output_type": "stream",
     "text": [
      "left_curverad, right_curverad\n",
      "6046.65743653 1035.56685054\n"
     ]
    },
    {
     "name": "stderr",
     "output_type": "stream",
     "text": [
      " 56%|█████▌    | 708/1261 [02:44<02:10,  4.25it/s]"
     ]
    },
    {
     "name": "stdout",
     "output_type": "stream",
     "text": [
      "left_curverad, right_curverad\n",
      "2239.18790291 659.712877611\n"
     ]
    },
    {
     "name": "stderr",
     "output_type": "stream",
     "text": [
      " 57%|█████▋    | 723/1261 [02:47<02:06,  4.24it/s]"
     ]
    },
    {
     "name": "stdout",
     "output_type": "stream",
     "text": [
      "left_curverad, right_curverad\n",
      "5606.61426285 1001.70262101\n"
     ]
    },
    {
     "name": "stderr",
     "output_type": "stream",
     "text": [
      "\r",
      " 57%|█████▋    | 724/1261 [02:47<02:06,  4.23it/s]"
     ]
    },
    {
     "name": "stdout",
     "output_type": "stream",
     "text": [
      "left_curverad, right_curverad\n",
      "7375.97781194 1025.26838761\n"
     ]
    },
    {
     "name": "stderr",
     "output_type": "stream",
     "text": [
      " 59%|█████▉    | 743/1261 [02:52<02:08,  4.04it/s]"
     ]
    },
    {
     "name": "stdout",
     "output_type": "stream",
     "text": [
      "left_curverad, right_curverad\n",
      "2103.21108322 600.370680967\n"
     ]
    },
    {
     "name": "stderr",
     "output_type": "stream",
     "text": [
      " 60%|█████▉    | 753/1261 [02:54<01:58,  4.28it/s]"
     ]
    },
    {
     "name": "stdout",
     "output_type": "stream",
     "text": [
      "left_curverad, right_curverad\n",
      "2182.0915834 649.612959331\n"
     ]
    },
    {
     "name": "stderr",
     "output_type": "stream",
     "text": [
      " 63%|██████▎   | 790/1261 [03:03<01:50,  4.26it/s]"
     ]
    },
    {
     "name": "stdout",
     "output_type": "stream",
     "text": [
      "left_curverad, right_curverad\n",
      "3377.4415198 701.692625301\n"
     ]
    },
    {
     "name": "stderr",
     "output_type": "stream",
     "text": [
      "\r",
      " 63%|██████▎   | 791/1261 [03:03<01:51,  4.22it/s]"
     ]
    },
    {
     "name": "stdout",
     "output_type": "stream",
     "text": [
      "left_curverad, right_curverad\n",
      "2562.64437483 635.58993609\n"
     ]
    },
    {
     "name": "stderr",
     "output_type": "stream",
     "text": [
      "\r",
      " 63%|██████▎   | 792/1261 [03:03<01:51,  4.22it/s]"
     ]
    },
    {
     "name": "stdout",
     "output_type": "stream",
     "text": [
      "left_curverad, right_curverad\n",
      "3453.37385347 1108.08196776\n"
     ]
    },
    {
     "name": "stderr",
     "output_type": "stream",
     "text": [
      " 63%|██████▎   | 799/1261 [03:05<01:53,  4.08it/s]"
     ]
    },
    {
     "name": "stdout",
     "output_type": "stream",
     "text": [
      "left_curverad, right_curverad\n",
      "15314.0839401 1302.86168498\n"
     ]
    },
    {
     "name": "stderr",
     "output_type": "stream",
     "text": [
      "\r",
      " 63%|██████▎   | 800/1261 [03:05<01:53,  4.08it/s]"
     ]
    },
    {
     "name": "stdout",
     "output_type": "stream",
     "text": [
      "left_curverad, right_curverad\n",
      "56504.6839488 1098.0594377\n"
     ]
    },
    {
     "name": "stderr",
     "output_type": "stream",
     "text": [
      "\r",
      " 64%|██████▎   | 801/1261 [03:06<01:53,  4.05it/s]"
     ]
    },
    {
     "name": "stdout",
     "output_type": "stream",
     "text": [
      "left_curverad, right_curverad\n",
      "15305.8872413 1313.20798449\n"
     ]
    },
    {
     "name": "stderr",
     "output_type": "stream",
     "text": [
      " 64%|██████▍   | 812/1261 [03:08<01:44,  4.30it/s]"
     ]
    },
    {
     "name": "stdout",
     "output_type": "stream",
     "text": [
      "left_curverad, right_curverad\n",
      "4605.55828421 1047.40987455\n"
     ]
    },
    {
     "name": "stderr",
     "output_type": "stream",
     "text": [
      " 66%|██████▌   | 828/1261 [03:12<01:44,  4.15it/s]"
     ]
    },
    {
     "name": "stdout",
     "output_type": "stream",
     "text": [
      "left_curverad, right_curverad\n",
      "12289.3509541 787.386870306\n"
     ]
    },
    {
     "name": "stderr",
     "output_type": "stream",
     "text": [
      " 68%|██████▊   | 854/1261 [03:18<01:33,  4.36it/s]"
     ]
    },
    {
     "name": "stdout",
     "output_type": "stream",
     "text": [
      "left_curverad, right_curverad\n",
      "3885.69622327 1265.30777016\n"
     ]
    },
    {
     "name": "stderr",
     "output_type": "stream",
     "text": [
      "\r",
      " 68%|██████▊   | 855/1261 [03:18<01:34,  4.29it/s]"
     ]
    },
    {
     "name": "stdout",
     "output_type": "stream",
     "text": [
      "left_curverad, right_curverad\n",
      "12542.1562792 1522.78001651\n"
     ]
    },
    {
     "name": "stderr",
     "output_type": "stream",
     "text": [
      " 68%|██████▊   | 859/1261 [03:19<01:31,  4.40it/s]"
     ]
    },
    {
     "name": "stdout",
     "output_type": "stream",
     "text": [
      "left_curverad, right_curverad\n",
      "3450.7589038 747.550982166\n"
     ]
    },
    {
     "name": "stderr",
     "output_type": "stream",
     "text": [
      " 68%|██████▊   | 861/1261 [03:20<01:30,  4.40it/s]"
     ]
    },
    {
     "name": "stdout",
     "output_type": "stream",
     "text": [
      "left_curverad, right_curverad\n",
      "11500.3167291 752.316769208\n"
     ]
    },
    {
     "name": "stderr",
     "output_type": "stream",
     "text": [
      "\r",
      " 68%|██████▊   | 862/1261 [03:20<01:31,  4.35it/s]"
     ]
    },
    {
     "name": "stdout",
     "output_type": "stream",
     "text": [
      "left_curverad, right_curverad\n",
      "7498.00609506 758.365484256\n"
     ]
    },
    {
     "name": "stderr",
     "output_type": "stream",
     "text": [
      " 69%|██████▉   | 868/1261 [03:21<01:31,  4.29it/s]"
     ]
    },
    {
     "name": "stdout",
     "output_type": "stream",
     "text": [
      "left_curverad, right_curverad\n",
      "3432.37237283 811.687827856\n"
     ]
    },
    {
     "name": "stderr",
     "output_type": "stream",
     "text": [
      " 69%|██████▉   | 874/1261 [03:23<01:35,  4.07it/s]"
     ]
    },
    {
     "name": "stdout",
     "output_type": "stream",
     "text": [
      "upper, lower\n",
      "749.423609404 669.447174769\n"
     ]
    },
    {
     "name": "stderr",
     "output_type": "stream",
     "text": [
      "\r",
      " 69%|██████▉   | 875/1261 [03:23<01:35,  4.05it/s]"
     ]
    },
    {
     "name": "stdout",
     "output_type": "stream",
     "text": [
      "upper, lower\n",
      "746.932413513 662.845211115\n"
     ]
    },
    {
     "name": "stderr",
     "output_type": "stream",
     "text": [
      " 70%|██████▉   | 877/1261 [03:24<01:33,  4.09it/s]"
     ]
    },
    {
     "name": "stdout",
     "output_type": "stream",
     "text": [
      "upper, lower\n",
      "738.069719941 663.634700914\n"
     ]
    },
    {
     "name": "stderr",
     "output_type": "stream",
     "text": [
      "\r",
      " 70%|██████▉   | 878/1261 [03:24<01:33,  4.10it/s]"
     ]
    },
    {
     "name": "stdout",
     "output_type": "stream",
     "text": [
      "upper, lower\n",
      "749.628552618 667.602865339\n"
     ]
    },
    {
     "name": "stderr",
     "output_type": "stream",
     "text": [
      " 71%|███████   | 890/1261 [03:27<01:27,  4.25it/s]"
     ]
    },
    {
     "name": "stdout",
     "output_type": "stream",
     "text": [
      "left_curverad, right_curverad\n",
      "10569.7857687 1091.49248189\n"
     ]
    },
    {
     "name": "stderr",
     "output_type": "stream",
     "text": [
      " 71%|███████   | 893/1261 [03:27<01:25,  4.29it/s]"
     ]
    },
    {
     "name": "stdout",
     "output_type": "stream",
     "text": [
      "left_curverad, right_curverad\n",
      "6367.50821056 1364.1175543\n"
     ]
    },
    {
     "name": "stderr",
     "output_type": "stream",
     "text": [
      "\r",
      " 71%|███████   | 894/1261 [03:28<01:25,  4.30it/s]"
     ]
    },
    {
     "name": "stdout",
     "output_type": "stream",
     "text": [
      "left_curverad, right_curverad\n",
      "6871.0710754 1049.32797052\n"
     ]
    },
    {
     "name": "stderr",
     "output_type": "stream",
     "text": [
      " 71%|███████   | 897/1261 [03:28<01:25,  4.24it/s]"
     ]
    },
    {
     "name": "stdout",
     "output_type": "stream",
     "text": [
      "left_curverad, right_curverad\n",
      "3983.33759545 958.996445424\n"
     ]
    },
    {
     "name": "stderr",
     "output_type": "stream",
     "text": [
      "\r",
      " 71%|███████   | 898/1261 [03:29<01:24,  4.31it/s]"
     ]
    },
    {
     "name": "stdout",
     "output_type": "stream",
     "text": [
      "left_curverad, right_curverad\n",
      "4942.37251689 1492.93700098\n"
     ]
    },
    {
     "name": "stderr",
     "output_type": "stream",
     "text": [
      " 72%|███████▏  | 904/1261 [03:30<01:21,  4.37it/s]"
     ]
    },
    {
     "name": "stdout",
     "output_type": "stream",
     "text": [
      "left_curverad, right_curverad\n",
      "8396.73944197 1188.27614047\n"
     ]
    },
    {
     "name": "stderr",
     "output_type": "stream",
     "text": [
      " 72%|███████▏  | 907/1261 [03:31<01:19,  4.44it/s]"
     ]
    },
    {
     "name": "stdout",
     "output_type": "stream",
     "text": [
      "left_curverad, right_curverad\n",
      "6991.50740485 765.522566359\n"
     ]
    },
    {
     "name": "stderr",
     "output_type": "stream",
     "text": [
      " 74%|███████▍  | 933/1261 [03:37<01:18,  4.20it/s]"
     ]
    },
    {
     "name": "stdout",
     "output_type": "stream",
     "text": [
      "left_curverad, right_curverad\n",
      "3896.55312723 844.182065966\n"
     ]
    },
    {
     "name": "stderr",
     "output_type": "stream",
     "text": [
      "\r",
      " 74%|███████▍  | 934/1261 [03:37<01:18,  4.18it/s]"
     ]
    },
    {
     "name": "stdout",
     "output_type": "stream",
     "text": [
      "left_curverad, right_curverad\n",
      "4531.34767014 832.557762402\n"
     ]
    },
    {
     "name": "stderr",
     "output_type": "stream",
     "text": [
      " 77%|███████▋  | 965/1261 [03:44<01:11,  4.15it/s]"
     ]
    },
    {
     "name": "stdout",
     "output_type": "stream",
     "text": [
      "left_curverad, right_curverad\n",
      "4961.58832321 883.465507814\n"
     ]
    },
    {
     "name": "stderr",
     "output_type": "stream",
     "text": [
      " 77%|███████▋  | 967/1261 [03:45<01:10,  4.17it/s]"
     ]
    },
    {
     "name": "stdout",
     "output_type": "stream",
     "text": [
      "left_curverad, right_curverad\n",
      "5093.35926644 888.157981559\n"
     ]
    },
    {
     "name": "stderr",
     "output_type": "stream",
     "text": [
      "\r",
      " 77%|███████▋  | 968/1261 [03:45<01:10,  4.14it/s]"
     ]
    },
    {
     "name": "stdout",
     "output_type": "stream",
     "text": [
      "left_curverad, right_curverad\n",
      "3121.41687357 863.424306174\n"
     ]
    },
    {
     "name": "stderr",
     "output_type": "stream",
     "text": [
      "\r",
      " 77%|███████▋  | 969/1261 [03:45<01:10,  4.13it/s]"
     ]
    },
    {
     "name": "stdout",
     "output_type": "stream",
     "text": [
      "left_curverad, right_curverad\n",
      "4034.72541386 845.115094699\n"
     ]
    },
    {
     "name": "stderr",
     "output_type": "stream",
     "text": [
      " 77%|███████▋  | 971/1261 [03:46<01:10,  4.14it/s]"
     ]
    },
    {
     "name": "stdout",
     "output_type": "stream",
     "text": [
      "left_curverad, right_curverad\n",
      "5151.33542865 1014.62589514\n"
     ]
    },
    {
     "name": "stderr",
     "output_type": "stream",
     "text": [
      "\r",
      " 77%|███████▋  | 972/1261 [03:46<01:09,  4.13it/s]"
     ]
    },
    {
     "name": "stdout",
     "output_type": "stream",
     "text": [
      "left_curverad, right_curverad\n",
      "4142.12303312 919.942771967\n"
     ]
    },
    {
     "name": "stderr",
     "output_type": "stream",
     "text": [
      "\r",
      " 77%|███████▋  | 973/1261 [03:46<01:09,  4.13it/s]"
     ]
    },
    {
     "name": "stdout",
     "output_type": "stream",
     "text": [
      "left_curverad, right_curverad\n",
      "4467.56801091 961.575696254\n"
     ]
    },
    {
     "name": "stderr",
     "output_type": "stream",
     "text": [
      "\r",
      " 77%|███████▋  | 974/1261 [03:47<01:10,  4.10it/s]"
     ]
    },
    {
     "name": "stdout",
     "output_type": "stream",
     "text": [
      "left_curverad, right_curverad\n",
      "27472.4707644 1926.36090922\n"
     ]
    },
    {
     "name": "stderr",
     "output_type": "stream",
     "text": [
      " 77%|███████▋  | 976/1261 [03:47<01:08,  4.14it/s]"
     ]
    },
    {
     "name": "stdout",
     "output_type": "stream",
     "text": [
      "left_curverad, right_curverad\n",
      "29103.4809911 1982.38419099\n"
     ]
    },
    {
     "name": "stderr",
     "output_type": "stream",
     "text": [
      " 78%|███████▊  | 985/1261 [03:49<01:06,  4.14it/s]"
     ]
    },
    {
     "name": "stdout",
     "output_type": "stream",
     "text": [
      "left_curverad, right_curverad\n",
      "12782.5911408 1983.93847443\n"
     ]
    },
    {
     "name": "stderr",
     "output_type": "stream",
     "text": [
      " 78%|███████▊  | 987/1261 [03:50<01:06,  4.15it/s]"
     ]
    },
    {
     "name": "stdout",
     "output_type": "stream",
     "text": [
      "left_curverad, right_curverad\n",
      "5053.10463463 1330.43670192\n"
     ]
    },
    {
     "name": "stderr",
     "output_type": "stream",
     "text": [
      "\r",
      " 78%|███████▊  | 988/1261 [03:50<01:04,  4.21it/s]"
     ]
    },
    {
     "name": "stdout",
     "output_type": "stream",
     "text": [
      "left_curverad, right_curverad\n",
      "4457.11755955 699.111244502\n"
     ]
    },
    {
     "name": "stderr",
     "output_type": "stream",
     "text": [
      "\r",
      " 78%|███████▊  | 989/1261 [03:50<01:05,  4.15it/s]"
     ]
    },
    {
     "name": "stdout",
     "output_type": "stream",
     "text": [
      "left_curverad, right_curverad\n",
      "2622.56893236 540.810973192\n"
     ]
    },
    {
     "name": "stderr",
     "output_type": "stream",
     "text": [
      "\r",
      " 79%|███████▊  | 990/1261 [03:50<01:06,  4.10it/s]"
     ]
    },
    {
     "name": "stdout",
     "output_type": "stream",
     "text": [
      "left_curverad, right_curverad\n",
      "5035.24719067 557.118178145\n"
     ]
    },
    {
     "name": "stderr",
     "output_type": "stream",
     "text": [
      "\r",
      " 79%|███████▊  | 991/1261 [03:51<01:06,  4.08it/s]"
     ]
    },
    {
     "name": "stdout",
     "output_type": "stream",
     "text": [
      "left_curverad, right_curverad\n",
      "3923.11857494 579.18460822\n"
     ]
    },
    {
     "name": "stderr",
     "output_type": "stream",
     "text": [
      "\r",
      " 79%|███████▊  | 992/1261 [03:51<01:05,  4.08it/s]"
     ]
    },
    {
     "name": "stdout",
     "output_type": "stream",
     "text": [
      "left_curverad, right_curverad\n",
      "3092.47595983 630.31653929\n"
     ]
    },
    {
     "name": "stderr",
     "output_type": "stream",
     "text": [
      "\r",
      " 79%|███████▊  | 993/1261 [03:51<01:05,  4.07it/s]"
     ]
    },
    {
     "name": "stdout",
     "output_type": "stream",
     "text": [
      "left_curverad, right_curverad\n",
      "1951.06318903 593.536906481\n"
     ]
    },
    {
     "name": "stderr",
     "output_type": "stream",
     "text": [
      "\r",
      " 79%|███████▉  | 994/1261 [03:51<01:06,  4.02it/s]"
     ]
    },
    {
     "name": "stdout",
     "output_type": "stream",
     "text": [
      "left_curverad, right_curverad\n",
      "3583.04564568 601.360447292\n"
     ]
    },
    {
     "name": "stderr",
     "output_type": "stream",
     "text": [
      " 79%|███████▉  | 1002/1261 [03:53<01:03,  4.10it/s]"
     ]
    },
    {
     "name": "stdout",
     "output_type": "stream",
     "text": [
      "left_curverad, right_curverad\n",
      "2229.82445612 411.395429574\n"
     ]
    },
    {
     "name": "stderr",
     "output_type": "stream",
     "text": [
      "\r",
      " 80%|███████▉  | 1003/1261 [03:54<01:03,  4.09it/s]"
     ]
    },
    {
     "name": "stdout",
     "output_type": "stream",
     "text": [
      "upper, lower\n",
      "828.945298299 699.172983706\n"
     ]
    },
    {
     "name": "stderr",
     "output_type": "stream",
     "text": [
      "\r",
      " 80%|███████▉  | 1004/1261 [03:54<01:02,  4.13it/s]"
     ]
    },
    {
     "name": "stdout",
     "output_type": "stream",
     "text": [
      "left_curverad, right_curverad\n",
      "1648.21758295 497.126017041\n"
     ]
    },
    {
     "name": "stderr",
     "output_type": "stream",
     "text": [
      "\r",
      " 80%|███████▉  | 1005/1261 [03:54<01:01,  4.17it/s]"
     ]
    },
    {
     "name": "stdout",
     "output_type": "stream",
     "text": [
      "upper, lower\n",
      "814.258414108 701.448928927\n"
     ]
    },
    {
     "name": "stderr",
     "output_type": "stream",
     "text": [
      " 80%|████████  | 1011/1261 [03:56<00:59,  4.17it/s]"
     ]
    },
    {
     "name": "stdout",
     "output_type": "stream",
     "text": [
      "left_curverad, right_curverad\n",
      "6279.45964536 593.073630899\n"
     ]
    },
    {
     "name": "stderr",
     "output_type": "stream",
     "text": [
      "\r",
      " 80%|████████  | 1012/1261 [03:56<00:59,  4.18it/s]"
     ]
    },
    {
     "name": "stdout",
     "output_type": "stream",
     "text": [
      "left_curverad, right_curverad\n",
      "16295.1453475 600.740173078\n"
     ]
    },
    {
     "name": "stderr",
     "output_type": "stream",
     "text": [
      "\r",
      " 80%|████████  | 1013/1261 [03:56<01:00,  4.10it/s]"
     ]
    },
    {
     "name": "stdout",
     "output_type": "stream",
     "text": [
      "left_curverad, right_curverad\n",
      "3936.10200363 551.393994686\n"
     ]
    },
    {
     "name": "stderr",
     "output_type": "stream",
     "text": [
      "\r",
      " 80%|████████  | 1014/1261 [03:56<00:59,  4.12it/s]"
     ]
    },
    {
     "name": "stdout",
     "output_type": "stream",
     "text": [
      "left_curverad, right_curverad\n",
      "7213.86942772 544.407802122\n"
     ]
    },
    {
     "name": "stderr",
     "output_type": "stream",
     "text": [
      "\r",
      " 80%|████████  | 1015/1261 [03:57<00:58,  4.17it/s]"
     ]
    },
    {
     "name": "stdout",
     "output_type": "stream",
     "text": [
      "left_curverad, right_curverad\n",
      "18027.4069074 951.770112068\n"
     ]
    },
    {
     "name": "stderr",
     "output_type": "stream",
     "text": [
      "\r",
      " 81%|████████  | 1016/1261 [03:57<00:58,  4.20it/s]"
     ]
    },
    {
     "name": "stdout",
     "output_type": "stream",
     "text": [
      "upper, lower\n",
      "786.651790758 669.943583632\n"
     ]
    },
    {
     "name": "stderr",
     "output_type": "stream",
     "text": [
      "\r",
      " 81%|████████  | 1017/1261 [03:57<00:58,  4.18it/s]"
     ]
    },
    {
     "name": "stdout",
     "output_type": "stream",
     "text": [
      "upper, lower\n",
      "779.963442287 671.518361312\n"
     ]
    },
    {
     "name": "stderr",
     "output_type": "stream",
     "text": [
      "\r",
      " 81%|████████  | 1018/1261 [03:57<00:58,  4.16it/s]"
     ]
    },
    {
     "name": "stdout",
     "output_type": "stream",
     "text": [
      "upper, lower\n",
      "773.845141259 672.539015286\n"
     ]
    },
    {
     "name": "stderr",
     "output_type": "stream",
     "text": [
      "\r",
      " 81%|████████  | 1019/1261 [03:58<00:58,  4.16it/s]"
     ]
    },
    {
     "name": "stdout",
     "output_type": "stream",
     "text": [
      "upper, lower\n",
      "767.384827976 665.019677055\n"
     ]
    },
    {
     "name": "stderr",
     "output_type": "stream",
     "text": [
      "\r",
      " 81%|████████  | 1020/1261 [03:58<00:57,  4.17it/s]"
     ]
    },
    {
     "name": "stdout",
     "output_type": "stream",
     "text": [
      "upper, lower\n",
      "772.339505297 669.550227324\n"
     ]
    },
    {
     "name": "stderr",
     "output_type": "stream",
     "text": [
      "\r",
      " 81%|████████  | 1021/1261 [03:58<00:57,  4.18it/s]"
     ]
    },
    {
     "name": "stdout",
     "output_type": "stream",
     "text": [
      "upper, lower\n",
      "768.851278968 673.55196557\n"
     ]
    },
    {
     "name": "stderr",
     "output_type": "stream",
     "text": [
      "\r",
      " 81%|████████  | 1022/1261 [03:58<00:57,  4.19it/s]"
     ]
    },
    {
     "name": "stdout",
     "output_type": "stream",
     "text": [
      "left_curverad, right_curverad\n",
      "5153.28627926 1112.62224614\n"
     ]
    },
    {
     "name": "stderr",
     "output_type": "stream",
     "text": [
      "\r",
      " 81%|████████  | 1023/1261 [03:58<00:56,  4.23it/s]"
     ]
    },
    {
     "name": "stdout",
     "output_type": "stream",
     "text": [
      "left_curverad, right_curverad\n",
      "18472.6064781 1377.24041353\n"
     ]
    },
    {
     "name": "stderr",
     "output_type": "stream",
     "text": [
      "\r",
      " 81%|████████  | 1024/1261 [03:59<00:56,  4.23it/s]"
     ]
    },
    {
     "name": "stdout",
     "output_type": "stream",
     "text": [
      "upper, lower\n",
      "791.236331616 677.268888213\n"
     ]
    },
    {
     "name": "stderr",
     "output_type": "stream",
     "text": [
      "\r",
      " 81%|████████▏ | 1025/1261 [03:59<00:55,  4.25it/s]"
     ]
    },
    {
     "name": "stdout",
     "output_type": "stream",
     "text": [
      "upper, lower\n",
      "805.39547019 684.5304615\n"
     ]
    },
    {
     "name": "stderr",
     "output_type": "stream",
     "text": [
      " 82%|████████▏ | 1038/1261 [04:02<00:53,  4.18it/s]"
     ]
    },
    {
     "name": "stdout",
     "output_type": "stream",
     "text": [
      "left_curverad, right_curverad\n",
      "2302.9442096 580.315419032\n"
     ]
    },
    {
     "name": "stderr",
     "output_type": "stream",
     "text": [
      " 83%|████████▎ | 1045/1261 [04:04<00:49,  4.33it/s]"
     ]
    },
    {
     "name": "stdout",
     "output_type": "stream",
     "text": [
      "upper, lower\n",
      "736.776088136 662.707223757\n"
     ]
    },
    {
     "name": "stderr",
     "output_type": "stream",
     "text": [
      " 84%|████████▎ | 1056/1261 [04:06<00:48,  4.19it/s]"
     ]
    },
    {
     "name": "stdout",
     "output_type": "stream",
     "text": [
      "left_curverad, right_curverad\n",
      "5918.67522015 1391.23668671\n"
     ]
    },
    {
     "name": "stderr",
     "output_type": "stream",
     "text": [
      " 84%|████████▍ | 1058/1261 [04:07<00:48,  4.22it/s]"
     ]
    },
    {
     "name": "stdout",
     "output_type": "stream",
     "text": [
      "left_curverad, right_curverad\n",
      "9555.93710845 1267.55064977\n"
     ]
    },
    {
     "name": "stderr",
     "output_type": "stream",
     "text": [
      "\r",
      " 84%|████████▍ | 1059/1261 [04:07<00:47,  4.26it/s]"
     ]
    },
    {
     "name": "stdout",
     "output_type": "stream",
     "text": [
      "left_curverad, right_curverad\n",
      "34967.4517037 1111.20077948\n"
     ]
    },
    {
     "name": "stderr",
     "output_type": "stream",
     "text": [
      "\r",
      " 84%|████████▍ | 1060/1261 [04:07<00:46,  4.29it/s]"
     ]
    },
    {
     "name": "stdout",
     "output_type": "stream",
     "text": [
      "left_curverad, right_curverad\n",
      "2542.82609376 802.473249034\n"
     ]
    },
    {
     "name": "stderr",
     "output_type": "stream",
     "text": [
      "\r",
      " 84%|████████▍ | 1061/1261 [04:07<00:46,  4.33it/s]"
     ]
    },
    {
     "name": "stdout",
     "output_type": "stream",
     "text": [
      "left_curverad, right_curverad\n",
      "11383.5428863 761.458149536\n"
     ]
    },
    {
     "name": "stderr",
     "output_type": "stream",
     "text": [
      " 84%|████████▍ | 1063/1261 [04:08<00:46,  4.27it/s]"
     ]
    },
    {
     "name": "stdout",
     "output_type": "stream",
     "text": [
      "left_curverad, right_curverad\n",
      "2617.15834073 840.880030271\n"
     ]
    },
    {
     "name": "stderr",
     "output_type": "stream",
     "text": [
      "\r",
      " 84%|████████▍ | 1064/1261 [04:08<00:46,  4.24it/s]"
     ]
    },
    {
     "name": "stdout",
     "output_type": "stream",
     "text": [
      "left_curverad, right_curverad\n",
      "3771.88806726 955.954892881\n"
     ]
    },
    {
     "name": "stderr",
     "output_type": "stream",
     "text": [
      " 85%|████████▍ | 1070/1261 [04:10<00:45,  4.23it/s]"
     ]
    },
    {
     "name": "stdout",
     "output_type": "stream",
     "text": [
      "left_curverad, right_curverad\n",
      "8142.79851187 881.856323913\n"
     ]
    },
    {
     "name": "stderr",
     "output_type": "stream",
     "text": [
      "\r",
      " 85%|████████▍ | 1071/1261 [04:10<00:45,  4.18it/s]"
     ]
    },
    {
     "name": "stdout",
     "output_type": "stream",
     "text": [
      "left_curverad, right_curverad\n",
      "3082.48584769 873.179242334\n"
     ]
    },
    {
     "name": "stderr",
     "output_type": "stream",
     "text": [
      "\r",
      " 85%|████████▌ | 1072/1261 [04:10<00:45,  4.19it/s]"
     ]
    },
    {
     "name": "stdout",
     "output_type": "stream",
     "text": [
      "left_curverad, right_curverad\n",
      "11177.6857907 742.904773088\n"
     ]
    },
    {
     "name": "stderr",
     "output_type": "stream",
     "text": [
      "\r",
      " 85%|████████▌ | 1073/1261 [04:10<00:44,  4.22it/s]"
     ]
    },
    {
     "name": "stdout",
     "output_type": "stream",
     "text": [
      "left_curverad, right_curverad\n",
      "9173.092374 859.793601856\n"
     ]
    },
    {
     "name": "stderr",
     "output_type": "stream",
     "text": [
      "\r",
      " 85%|████████▌ | 1074/1261 [04:10<00:44,  4.23it/s]"
     ]
    },
    {
     "name": "stdout",
     "output_type": "stream",
     "text": [
      "left_curverad, right_curverad\n",
      "2995.83160401 787.160635797\n"
     ]
    },
    {
     "name": "stderr",
     "output_type": "stream",
     "text": [
      "\r",
      " 85%|████████▌ | 1075/1261 [04:11<00:43,  4.25it/s]"
     ]
    },
    {
     "name": "stdout",
     "output_type": "stream",
     "text": [
      "left_curverad, right_curverad\n",
      "12934.8648148 873.426219741\n"
     ]
    },
    {
     "name": "stderr",
     "output_type": "stream",
     "text": [
      " 85%|████████▌ | 1077/1261 [04:11<00:42,  4.30it/s]"
     ]
    },
    {
     "name": "stdout",
     "output_type": "stream",
     "text": [
      "left_curverad, right_curverad\n",
      "3272.32246121 955.977720037\n"
     ]
    },
    {
     "name": "stderr",
     "output_type": "stream",
     "text": [
      " 86%|████████▌ | 1083/1261 [04:13<00:40,  4.38it/s]"
     ]
    },
    {
     "name": "stdout",
     "output_type": "stream",
     "text": [
      "left_curverad, right_curverad\n",
      "3891.01661631 1191.91415026\n"
     ]
    },
    {
     "name": "stderr",
     "output_type": "stream",
     "text": [
      "\r",
      " 86%|████████▌ | 1084/1261 [04:13<00:41,  4.28it/s]"
     ]
    },
    {
     "name": "stdout",
     "output_type": "stream",
     "text": [
      "left_curverad, right_curverad\n",
      "11701.4581791 973.028384854\n"
     ]
    },
    {
     "name": "stderr",
     "output_type": "stream",
     "text": [
      " 87%|████████▋ | 1095/1261 [04:15<00:38,  4.36it/s]"
     ]
    },
    {
     "name": "stdout",
     "output_type": "stream",
     "text": [
      "left_curverad, right_curverad\n",
      "10421.7488543 791.31256955\n"
     ]
    },
    {
     "name": "stderr",
     "output_type": "stream",
     "text": [
      "\r",
      " 87%|████████▋ | 1096/1261 [04:16<00:37,  4.34it/s]"
     ]
    },
    {
     "name": "stdout",
     "output_type": "stream",
     "text": [
      "left_curverad, right_curverad\n",
      "7242.98849143 1000.57644251\n"
     ]
    },
    {
     "name": "stderr",
     "output_type": "stream",
     "text": [
      "\r",
      " 87%|████████▋ | 1097/1261 [04:16<00:37,  4.33it/s]"
     ]
    },
    {
     "name": "stdout",
     "output_type": "stream",
     "text": [
      "left_curverad, right_curverad\n",
      "7216.34279685 949.696283304\n"
     ]
    },
    {
     "name": "stderr",
     "output_type": "stream",
     "text": [
      "\r",
      " 87%|████████▋ | 1098/1261 [04:16<00:38,  4.28it/s]"
     ]
    },
    {
     "name": "stdout",
     "output_type": "stream",
     "text": [
      "left_curverad, right_curverad\n",
      "34575.6422649 821.217816733\n"
     ]
    },
    {
     "name": "stderr",
     "output_type": "stream",
     "text": [
      "\r",
      " 87%|████████▋ | 1099/1261 [04:16<00:37,  4.35it/s]"
     ]
    },
    {
     "name": "stdout",
     "output_type": "stream",
     "text": [
      "left_curverad, right_curverad\n",
      "8103.32608975 1148.826891\n"
     ]
    },
    {
     "name": "stderr",
     "output_type": "stream",
     "text": [
      "\r",
      " 87%|████████▋ | 1100/1261 [04:17<00:36,  4.38it/s]"
     ]
    },
    {
     "name": "stdout",
     "output_type": "stream",
     "text": [
      "left_curverad, right_curverad\n",
      "6364.88119881 1512.41767292\n"
     ]
    },
    {
     "name": "stderr",
     "output_type": "stream",
     "text": [
      "\r",
      " 87%|████████▋ | 1101/1261 [04:17<00:36,  4.37it/s]"
     ]
    },
    {
     "name": "stdout",
     "output_type": "stream",
     "text": [
      "left_curverad, right_curverad\n",
      "7084.38796209 1438.44576071\n"
     ]
    },
    {
     "name": "stderr",
     "output_type": "stream",
     "text": [
      "\r",
      " 87%|████████▋ | 1102/1261 [04:17<00:36,  4.32it/s]"
     ]
    },
    {
     "name": "stdout",
     "output_type": "stream",
     "text": [
      "left_curverad, right_curverad\n",
      "6919.09264494 1427.87628136\n"
     ]
    },
    {
     "name": "stderr",
     "output_type": "stream",
     "text": [
      " 88%|████████▊ | 1115/1261 [04:20<00:33,  4.36it/s]"
     ]
    },
    {
     "name": "stdout",
     "output_type": "stream",
     "text": [
      "left_curverad, right_curverad\n",
      "2392.36970188 784.837396983\n"
     ]
    },
    {
     "name": "stderr",
     "output_type": "stream",
     "text": [
      "\r",
      " 89%|████████▊ | 1116/1261 [04:20<00:33,  4.32it/s]"
     ]
    },
    {
     "name": "stdout",
     "output_type": "stream",
     "text": [
      "left_curverad, right_curverad\n",
      "3137.7753825 634.703738083\n"
     ]
    },
    {
     "name": "stderr",
     "output_type": "stream",
     "text": [
      "\r",
      " 89%|████████▊ | 1117/1261 [04:20<00:33,  4.33it/s]"
     ]
    },
    {
     "name": "stdout",
     "output_type": "stream",
     "text": [
      "left_curverad, right_curverad\n",
      "3087.419407 630.439383246\n"
     ]
    },
    {
     "name": "stderr",
     "output_type": "stream",
     "text": [
      "\r",
      " 89%|████████▊ | 1118/1261 [04:21<00:33,  4.29it/s]"
     ]
    },
    {
     "name": "stdout",
     "output_type": "stream",
     "text": [
      "left_curverad, right_curverad\n",
      "9538.1955681 568.672210002\n"
     ]
    },
    {
     "name": "stderr",
     "output_type": "stream",
     "text": [
      "\r",
      " 89%|████████▊ | 1119/1261 [04:21<00:33,  4.25it/s]"
     ]
    },
    {
     "name": "stdout",
     "output_type": "stream",
     "text": [
      "left_curverad, right_curverad\n",
      "41490.5975894 572.166931921\n"
     ]
    },
    {
     "name": "stderr",
     "output_type": "stream",
     "text": [
      "\r",
      " 89%|████████▉ | 1120/1261 [04:21<00:34,  4.14it/s]"
     ]
    },
    {
     "name": "stdout",
     "output_type": "stream",
     "text": [
      "left_curverad, right_curverad\n",
      "12638.5273478 625.086445025\n"
     ]
    },
    {
     "name": "stderr",
     "output_type": "stream",
     "text": [
      "\r",
      " 89%|████████▉ | 1121/1261 [04:21<00:33,  4.17it/s]"
     ]
    },
    {
     "name": "stdout",
     "output_type": "stream",
     "text": [
      "left_curverad, right_curverad\n",
      "7270.42383961 599.015627936\n"
     ]
    },
    {
     "name": "stderr",
     "output_type": "stream",
     "text": [
      "\r",
      " 89%|████████▉ | 1122/1261 [04:22<00:33,  4.17it/s]"
     ]
    },
    {
     "name": "stdout",
     "output_type": "stream",
     "text": [
      "left_curverad, right_curverad\n",
      "9863.4745971 741.246401148\n"
     ]
    },
    {
     "name": "stderr",
     "output_type": "stream",
     "text": [
      "\r",
      " 89%|████████▉ | 1123/1261 [04:22<00:32,  4.20it/s]"
     ]
    },
    {
     "name": "stdout",
     "output_type": "stream",
     "text": [
      "upper, lower\n",
      "752.200158937 644.907795417\n"
     ]
    },
    {
     "name": "stderr",
     "output_type": "stream",
     "text": [
      "\r",
      " 89%|████████▉ | 1124/1261 [04:22<00:32,  4.24it/s]"
     ]
    },
    {
     "name": "stdout",
     "output_type": "stream",
     "text": [
      "left_curverad, right_curverad\n",
      "2904.17554197 761.229446821\n"
     ]
    },
    {
     "name": "stderr",
     "output_type": "stream",
     "text": [
      "\r",
      " 89%|████████▉ | 1125/1261 [04:22<00:32,  4.25it/s]"
     ]
    },
    {
     "name": "stdout",
     "output_type": "stream",
     "text": [
      "left_curverad, right_curverad\n",
      "3228.59137354 832.235360169\n"
     ]
    },
    {
     "name": "stderr",
     "output_type": "stream",
     "text": [
      "\r",
      " 89%|████████▉ | 1126/1261 [04:23<00:31,  4.24it/s]"
     ]
    },
    {
     "name": "stdout",
     "output_type": "stream",
     "text": [
      "upper, lower\n",
      "744.323820186 646.984227077\n"
     ]
    },
    {
     "name": "stderr",
     "output_type": "stream",
     "text": [
      "\r",
      " 89%|████████▉ | 1127/1261 [04:23<00:31,  4.25it/s]"
     ]
    },
    {
     "name": "stdout",
     "output_type": "stream",
     "text": [
      "upper, lower\n",
      "734.304579192 648.247489799\n"
     ]
    },
    {
     "name": "stderr",
     "output_type": "stream",
     "text": [
      "\r",
      " 89%|████████▉ | 1128/1261 [04:23<00:31,  4.26it/s]"
     ]
    },
    {
     "name": "stdout",
     "output_type": "stream",
     "text": [
      "upper, lower\n",
      "737.761842677 647.739903289\n"
     ]
    },
    {
     "name": "stderr",
     "output_type": "stream",
     "text": [
      " 90%|█████████ | 1140/1261 [04:26<00:27,  4.40it/s]"
     ]
    },
    {
     "name": "stdout",
     "output_type": "stream",
     "text": [
      "left_curverad, right_curverad\n",
      "3518.12442593 1081.89826023\n"
     ]
    },
    {
     "name": "stderr",
     "output_type": "stream",
     "text": [
      " 91%|█████████ | 1142/1261 [04:26<00:26,  4.41it/s]"
     ]
    },
    {
     "name": "stdout",
     "output_type": "stream",
     "text": [
      "left_curverad, right_curverad\n",
      "4617.98207768 832.261648484\n"
     ]
    },
    {
     "name": "stderr",
     "output_type": "stream",
     "text": [
      "\r",
      " 91%|█████████ | 1143/1261 [04:27<00:27,  4.34it/s]"
     ]
    },
    {
     "name": "stdout",
     "output_type": "stream",
     "text": [
      "left_curverad, right_curverad\n",
      "13092.0976698 788.08382821\n"
     ]
    },
    {
     "name": "stderr",
     "output_type": "stream",
     "text": [
      "\r",
      " 91%|█████████ | 1144/1261 [04:27<00:27,  4.29it/s]"
     ]
    },
    {
     "name": "stdout",
     "output_type": "stream",
     "text": [
      "left_curverad, right_curverad\n",
      "24580.5023677 828.137791154\n"
     ]
    },
    {
     "name": "stderr",
     "output_type": "stream",
     "text": [
      " 92%|█████████▏| 1154/1261 [04:29<00:24,  4.28it/s]"
     ]
    },
    {
     "name": "stdout",
     "output_type": "stream",
     "text": [
      "left_curverad, right_curverad\n",
      "3059.78595631 808.647464769\n"
     ]
    },
    {
     "name": "stderr",
     "output_type": "stream",
     "text": [
      "\r",
      " 92%|█████████▏| 1155/1261 [04:29<00:24,  4.27it/s]"
     ]
    },
    {
     "name": "stdout",
     "output_type": "stream",
     "text": [
      "left_curverad, right_curverad\n",
      "2688.70998014 801.746132022\n"
     ]
    },
    {
     "name": "stderr",
     "output_type": "stream",
     "text": [
      " 93%|█████████▎| 1170/1261 [04:33<00:21,  4.33it/s]"
     ]
    },
    {
     "name": "stdout",
     "output_type": "stream",
     "text": [
      "left_curverad, right_curverad\n",
      "2139.6377825 628.540612297\n"
     ]
    },
    {
     "name": "stderr",
     "output_type": "stream",
     "text": [
      " 93%|█████████▎| 1172/1261 [04:33<00:20,  4.36it/s]"
     ]
    },
    {
     "name": "stdout",
     "output_type": "stream",
     "text": [
      "left_curverad, right_curverad\n",
      "3054.2558956 939.960288882\n"
     ]
    },
    {
     "name": "stderr",
     "output_type": "stream",
     "text": [
      "\r",
      " 93%|█████████▎| 1173/1261 [04:34<00:20,  4.35it/s]"
     ]
    },
    {
     "name": "stdout",
     "output_type": "stream",
     "text": [
      "left_curverad, right_curverad\n",
      "16496.7121954 882.509105726\n"
     ]
    },
    {
     "name": "stderr",
     "output_type": "stream",
     "text": [
      "\r",
      " 93%|█████████▎| 1174/1261 [04:34<00:20,  4.33it/s]"
     ]
    },
    {
     "name": "stdout",
     "output_type": "stream",
     "text": [
      "left_curverad, right_curverad\n",
      "4404.81488069 869.688687389\n"
     ]
    },
    {
     "name": "stderr",
     "output_type": "stream",
     "text": [
      "\r",
      " 93%|█████████▎| 1175/1261 [04:34<00:20,  4.29it/s]"
     ]
    },
    {
     "name": "stdout",
     "output_type": "stream",
     "text": [
      "left_curverad, right_curverad\n",
      "5094.35628294 956.797571562\n"
     ]
    },
    {
     "name": "stderr",
     "output_type": "stream",
     "text": [
      " 93%|█████████▎| 1178/1261 [04:35<00:19,  4.33it/s]"
     ]
    },
    {
     "name": "stdout",
     "output_type": "stream",
     "text": [
      "left_curverad, right_curverad\n",
      "10733.4385785 911.705091818\n"
     ]
    },
    {
     "name": "stderr",
     "output_type": "stream",
     "text": [
      "\r",
      " 93%|█████████▎| 1179/1261 [04:35<00:18,  4.32it/s]"
     ]
    },
    {
     "name": "stdout",
     "output_type": "stream",
     "text": [
      "left_curverad, right_curverad\n",
      "6539.09163727 1584.56277893\n"
     ]
    },
    {
     "name": "stderr",
     "output_type": "stream",
     "text": [
      "\r",
      " 94%|█████████▎| 1180/1261 [04:35<00:18,  4.32it/s]"
     ]
    },
    {
     "name": "stdout",
     "output_type": "stream",
     "text": [
      "left_curverad, right_curverad\n",
      "311833.929986 2356.02030256\n"
     ]
    },
    {
     "name": "stderr",
     "output_type": "stream",
     "text": [
      " 94%|█████████▍| 1184/1261 [04:36<00:17,  4.34it/s]"
     ]
    },
    {
     "name": "stdout",
     "output_type": "stream",
     "text": [
      "left_curverad, right_curverad\n",
      "7113.0534916 1131.76572567\n"
     ]
    },
    {
     "name": "stderr",
     "output_type": "stream",
     "text": [
      " 94%|█████████▍| 1186/1261 [04:37<00:17,  4.30it/s]"
     ]
    },
    {
     "name": "stdout",
     "output_type": "stream",
     "text": [
      "left_curverad, right_curverad\n",
      "9041.13037166 646.522103694\n"
     ]
    },
    {
     "name": "stderr",
     "output_type": "stream",
     "text": [
      "\r",
      " 94%|█████████▍| 1187/1261 [04:37<00:17,  4.26it/s]"
     ]
    },
    {
     "name": "stdout",
     "output_type": "stream",
     "text": [
      "left_curverad, right_curverad\n",
      "31390.6246044 682.969647274\n"
     ]
    },
    {
     "name": "stderr",
     "output_type": "stream",
     "text": [
      "\r",
      " 94%|█████████▍| 1188/1261 [04:37<00:17,  4.20it/s]"
     ]
    },
    {
     "name": "stdout",
     "output_type": "stream",
     "text": [
      "left_curverad, right_curverad\n",
      "15452.7543908 645.378724096\n"
     ]
    },
    {
     "name": "stderr",
     "output_type": "stream",
     "text": [
      "\r",
      " 94%|█████████▍| 1189/1261 [04:37<00:17,  4.18it/s]"
     ]
    },
    {
     "name": "stdout",
     "output_type": "stream",
     "text": [
      "left_curverad, right_curverad\n",
      "2440.66482744 695.661964775\n"
     ]
    },
    {
     "name": "stderr",
     "output_type": "stream",
     "text": [
      " 94%|█████████▍| 1191/1261 [04:38<00:16,  4.15it/s]"
     ]
    },
    {
     "name": "stdout",
     "output_type": "stream",
     "text": [
      "left_curverad, right_curverad\n",
      "2912.53159594 765.349230594\n"
     ]
    },
    {
     "name": "stderr",
     "output_type": "stream",
     "text": [
      " 95%|█████████▌| 1200/1261 [04:40<00:14,  4.31it/s]"
     ]
    },
    {
     "name": "stdout",
     "output_type": "stream",
     "text": [
      "left_curverad, right_curverad\n",
      "7396.16983709 1052.96770389\n"
     ]
    },
    {
     "name": "stderr",
     "output_type": "stream",
     "text": [
      " 98%|█████████▊| 1232/1261 [04:47<00:06,  4.41it/s]"
     ]
    },
    {
     "name": "stdout",
     "output_type": "stream",
     "text": [
      "left_curverad, right_curverad\n",
      "3002.4359718 925.193918307\n"
     ]
    },
    {
     "name": "stderr",
     "output_type": "stream",
     "text": [
      "\r",
      " 98%|█████████▊| 1233/1261 [04:47<00:06,  4.38it/s]"
     ]
    },
    {
     "name": "stdout",
     "output_type": "stream",
     "text": [
      "left_curverad, right_curverad\n",
      "82030.1285626 998.173139987\n"
     ]
    },
    {
     "name": "stderr",
     "output_type": "stream",
     "text": [
      "\r",
      " 98%|█████████▊| 1234/1261 [04:48<00:06,  4.27it/s]"
     ]
    },
    {
     "name": "stdout",
     "output_type": "stream",
     "text": [
      "left_curverad, right_curverad\n",
      "7502.99402493 1011.11496073\n"
     ]
    },
    {
     "name": "stderr",
     "output_type": "stream",
     "text": [
      " 98%|█████████▊| 1237/1261 [04:48<00:05,  4.26it/s]"
     ]
    },
    {
     "name": "stdout",
     "output_type": "stream",
     "text": [
      "left_curverad, right_curverad\n",
      "11375.3124412 2494.48400752\n"
     ]
    },
    {
     "name": "stderr",
     "output_type": "stream",
     "text": [
      "\r",
      " 98%|█████████▊| 1238/1261 [04:49<00:05,  4.22it/s]"
     ]
    },
    {
     "name": "stdout",
     "output_type": "stream",
     "text": [
      "left_curverad, right_curverad\n",
      "8945.81241042 2881.5408873\n"
     ]
    },
    {
     "name": "stderr",
     "output_type": "stream",
     "text": [
      " 98%|█████████▊| 1240/1261 [04:49<00:05,  4.16it/s]"
     ]
    },
    {
     "name": "stdout",
     "output_type": "stream",
     "text": [
      "left_curverad, right_curverad\n",
      "61284.8324721 4744.76124578\n"
     ]
    },
    {
     "name": "stderr",
     "output_type": "stream",
     "text": [
      " 98%|█████████▊| 1242/1261 [04:50<00:04,  4.14it/s]"
     ]
    },
    {
     "name": "stdout",
     "output_type": "stream",
     "text": [
      "left_curverad, right_curverad\n",
      "87445.0688408 1536.52683064\n"
     ]
    },
    {
     "name": "stderr",
     "output_type": "stream",
     "text": [
      "\r",
      " 99%|█████████▊| 1243/1261 [04:50<00:04,  4.16it/s]"
     ]
    },
    {
     "name": "stdout",
     "output_type": "stream",
     "text": [
      "left_curverad, right_curverad\n",
      "52229.9703386 1480.19115919\n"
     ]
    },
    {
     "name": "stderr",
     "output_type": "stream",
     "text": [
      "\r",
      " 99%|█████████▊| 1244/1261 [04:50<00:04,  4.23it/s]"
     ]
    },
    {
     "name": "stdout",
     "output_type": "stream",
     "text": [
      "left_curverad, right_curverad\n",
      "19733.2317964 1843.30234816\n"
     ]
    },
    {
     "name": "stderr",
     "output_type": "stream",
     "text": [
      "\r",
      " 99%|█████████▊| 1245/1261 [04:50<00:03,  4.27it/s]"
     ]
    },
    {
     "name": "stdout",
     "output_type": "stream",
     "text": [
      "left_curverad, right_curverad\n",
      "8710.4076694 1646.07716405\n"
     ]
    },
    {
     "name": "stderr",
     "output_type": "stream",
     "text": [
      "\r",
      " 99%|█████████▉| 1246/1261 [04:51<00:03,  4.25it/s]"
     ]
    },
    {
     "name": "stdout",
     "output_type": "stream",
     "text": [
      "left_curverad, right_curverad\n",
      "25537.0810005 2293.71291001\n"
     ]
    },
    {
     "name": "stderr",
     "output_type": "stream",
     "text": [
      " 99%|█████████▉| 1253/1261 [04:52<00:02,  3.99it/s]"
     ]
    },
    {
     "name": "stdout",
     "output_type": "stream",
     "text": [
      "left_curverad, right_curverad\n",
      "19864.9533228 2842.16984582\n"
     ]
    },
    {
     "name": "stderr",
     "output_type": "stream",
     "text": [
      "100%|█████████▉| 1260/1261 [04:54<00:00,  4.10it/s]\n"
     ]
    },
    {
     "name": "stdout",
     "output_type": "stream",
     "text": [
      "[MoviePy] Done.\n",
      "[MoviePy] >>>> Video ready: ../output_images/project_video.mp4 \n",
      "\n",
      "CPU times: user 8min 13s, sys: 8.68 s, total: 8min 22s\n",
      "Wall time: 4min 55s\n"
     ]
    }
   ],
   "source": [
    "# Import everything needed to edit/save/watch video clips\n",
    "from moviepy.editor import VideoFileClip\n",
    "from IPython.display import HTML\n",
    "def process_image(image):\n",
    "    result = pipeline(image)\n",
    "    return result\n",
    "\n",
    "output = '../output_images/project_video.mp4'\n",
    "clip1 = VideoFileClip(\"../project_video.mp4\")\n",
    "white_clip = clip1.fl_image(process_image) #NOTE: this function expects color images!!\n",
    "%time white_clip.write_videofile(output, audio=False)"
   ]
  },
  {
   "cell_type": "code",
   "execution_count": null,
   "metadata": {},
   "outputs": [],
   "source": [
    "# Import everything needed to edit/save/watch video clips\n",
    "from moviepy.editor import VideoFileClip\n",
    "from IPython.display import HTML\n",
    "def process_image(image):\n",
    "    result = pipeline(image)\n",
    "    return result\n",
    "\n",
    "output = '../output_images/challenge_video.mp4'\n",
    "clip1 = VideoFileClip(\"../challenge_video.mp4\")\n",
    "white_clip = clip1.fl_image(process_image) #NOTE: this function expects color images!!\n",
    "%time white_clip.write_videofile(output, audio=False)"
   ]
  },
  {
   "cell_type": "code",
   "execution_count": null,
   "metadata": {},
   "outputs": [],
   "source": [
    "# Import everything needed to edit/save/watch video clips\n",
    "from moviepy.editor import VideoFileClip\n",
    "from IPython.display import HTML\n",
    "def process_image(image):\n",
    "    result = pipeline(image)\n",
    "    return result\n",
    "\n",
    "output = '../output_images/harder_challenge_video.mp4'\n",
    "clip1 = VideoFileClip(\"../harder_challenge_video.mp4\")\n",
    "clip1.set_end(5.23)\n",
    "white_clip = clip1.fl_image(process_image) #NOTE: this function expects color images!!\n",
    "%time white_clip.write_videofile(output, audio=False)"
   ]
  },
  {
   "cell_type": "code",
   "execution_count": null,
   "metadata": {
    "collapsed": true
   },
   "outputs": [],
   "source": []
  },
  {
   "cell_type": "markdown",
   "metadata": {},
   "source": [
    "## The goals / steps of this project are the following:\n",
    "\n",
    "##Perform a Histogram of Oriented Gradients (HOG) feature extraction on a labeled training set of images and train a classifier Linear SVM classifier\n",
    "\n",
    "##Optionally, you can also apply a color transform and append binned color features, as well as histograms of color, to your HOG feature vector.\n",
    "\n",
    "##Note: for those first two steps don't forget to normalize your features and randomize a selection for training and testing.\n",
    "\n",
    "##Implement a sliding-window technique and use your trained classifier to search for vehicles in images.\n",
    "\n",
    "##Run your pipeline on a video stream (start with the test_video.mp4 and later implement on full project_video.mp4) and create a heat map of recurring detections frame by frame to reject outliers and follow detected vehicles.\n",
    "\n",
    "##Estimate a bounding box for vehicles detected."
   ]
  },
  {
   "cell_type": "code",
   "execution_count": null,
   "metadata": {
    "collapsed": true
   },
   "outputs": [],
   "source": []
  }
 ],
 "metadata": {
  "anaconda-cloud": {},
  "kernelspec": {
   "display_name": "Python 3",
   "language": "python",
   "name": "python3"
  },
  "language_info": {
   "codemirror_mode": {
    "name": "ipython",
    "version": 3
   },
   "file_extension": ".py",
   "mimetype": "text/x-python",
   "name": "python",
   "nbconvert_exporter": "python",
   "pygments_lexer": "ipython3",
   "version": "3.5.2"
  },
  "widgets": {
   "state": {},
   "version": "1.1.2"
  }
 },
 "nbformat": 4,
 "nbformat_minor": 1
}
