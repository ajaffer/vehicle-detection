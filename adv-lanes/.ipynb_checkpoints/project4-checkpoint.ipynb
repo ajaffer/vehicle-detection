{
 "cells": [
  {
   "cell_type": "markdown",
   "metadata": {},
   "source": [
    "## Advanced Lane Finding Project\n",
    "\n",
    "The goals / steps of this project are the following:\n",
    "\n",
    "* Compute the camera calibration matrix and distortion coefficients given a set of chessboard images.\n",
    "* Apply a distortion correction to raw images.\n",
    "* Use color transforms, gradients, etc., to create a thresholded binary image.\n",
    "* Apply a perspective transform to rectify binary image (\"birds-eye view\").\n",
    "* Detect lane pixels and fit to find the lane boundary.\n",
    "* Determine the curvature of the lane and vehicle position with respect to center.\n",
    "* Warp the detected lane boundaries back onto the original image.\n",
    "* Output visual display of the lane boundaries and numerical estimation of lane curvature and vehicle position.\n",
    "\n",
    "---"
   ]
  },
  {
   "cell_type": "markdown",
   "metadata": {},
   "source": [
    "## Imports"
   ]
  },
  {
   "cell_type": "code",
   "execution_count": 6,
   "metadata": {
    "collapsed": true
   },
   "outputs": [],
   "source": [
    "import numpy as np\n",
    "import cv2\n",
    "import glob\n",
    "import matplotlib\n",
    "#matplotlib.use('qt5agg')\n",
    "import matplotlib.pyplot as plt\n",
    "import matplotlib.image as mpimg\n",
    "\n",
    "%matplotlib qt5\n",
    "#%matplotlib qt"
   ]
  },
  {
   "cell_type": "markdown",
   "metadata": {},
   "source": [
    "## Utility functions"
   ]
  },
  {
   "cell_type": "code",
   "execution_count": 3,
   "metadata": {
    "collapsed": true
   },
   "outputs": [],
   "source": [
    "def grayscale(img):\n",
    "    \"\"\"Applies the Grayscale transform\"\"\"\n",
    "    return cv2.cvtColor(img, cv2.COLOR_RGB2GRAY)\n",
    "\n",
    "def calibrate(images):\n",
    "    \"\"\"Computes the camera calibration using chessboard images\"\"\"\n",
    "    objp = np.zeros((6*9,3), np.float32)\n",
    "    objp[:,:2] = np.mgrid[0:9,0:6].T.reshape(-1,2)\n",
    "\n",
    "    # Arrays to store object points and image points from all the images.\n",
    "    objpoints = [] # 3d points in real world space\n",
    "    imgpoints = [] # 2d points in image plane.\n",
    "\n",
    "\n",
    "    # Step through the list and search for chessboard corners\n",
    "    for fname in images:\n",
    "        print(\"processing image: {}\".format(fname))\n",
    "        img = cv2.imread(fname)\n",
    "        gray = cv2.cvtColor(img,cv2.COLOR_BGR2GRAY)\n",
    "\n",
    "        # Find the chessboard corners\n",
    "        ret, corners = cv2.findChessboardCorners(gray, (9,6),None)\n",
    "\n",
    "        # If found, add object points, image points\n",
    "        if ret == True:\n",
    "            objpoints.append(objp)\n",
    "            imgpoints.append(corners)\n",
    "\n",
    "    retval, cameraMatrix, distCoeffs, rvecs, tvecs = cv2.calibrateCamera(objpoints, imgpoints, img.shape[0:2], None, None)\n",
    "    return cameraMatrix, distCoeffs\n",
    "\n",
    "\n",
    "def undistort_image(img, mtx, dist):\n",
    "    \"\"\"Apply a distortion correction to raw image\"\"\"\n",
    "    import matplotlib.image as mpimg\n",
    "    dst = cv2.undistort(img, mtx, dist, None, mtx)\n",
    "    return dst\n",
    "\n",
    "def hls_transform(img):\n",
    "    \"\"\"Applies the hsl transform\"\"\"\n",
    "    return cv2.cvtColor(img, cv2.COLOR_RGB2HLS)\n",
    "\n",
    "def sobel_operator(img, dir='x'):\n",
    "    gray = grayscale(img)\n",
    "    if (dir == 'x'):\n",
    "        return cv2.Sobel(gray, cv2.CV_64F, 1, 0)\n",
    "    else:\n",
    "        return cv2.Sobel(gray, cv2.CV_64F, 0, 1)\n",
    "    \n",
    "def sobel_scale(img_sobel):\n",
    "    \"\"\"Absolute the derivative to accentuate lines away from horizontal/vertical??\"\"\"\n",
    "    abs_sobel = np.absolute(img_sobel) \n",
    "    scaled_sobel = np.uint8(255*abs_sobel/np.max(abs_sobel))\n",
    "    return scaled_sobel\n",
    "    \n",
    "def select_yellow(img):\n",
    "    hsv = cv2.cvtColor(img, cv2.COLOR_RGB2HSV)\n",
    "    lower = np.array([20,60,60])\n",
    "    upper = np.array([38,174, 250])\n",
    "    mask = cv2.inRange(hsv, lower, upper)\n",
    "    return mask\n",
    "\n",
    "def select_white(img):\n",
    "    lower = np.array([202,202,202])\n",
    "    upper = np.array([255,255,255])\n",
    "    mask = cv2.inRange(img, lower, upper)\n",
    "    return mask\n",
    "\n",
    "def apply_mask(img, mask):\n",
    "    result = cv2.bitwise_and(img,img,mask=mask)\n",
    "    return result                    \n",
    "\n",
    "def threshold_image(img, thresh=(20, 100)):\n",
    "    s_binary = np.zeros_like(img)\n",
    "    s_binary[(img >= thresh[0]) & (img <= thresh[1])] = 1\n",
    "    return s_binary\n",
    "\n",
    "def binary_image_transform_yellow_white_lane_lines(img):\n",
    "    yellow_mask = select_yellow(img)\n",
    "    yellow_image = apply_mask(img, yellow_mask)\n",
    "    ret,yellow_binary = cv2.threshold(grayscale(yellow_image),127,255,cv2.THRESH_BINARY)\n",
    "\n",
    "    white_mask = select_white(img)\n",
    "    white_image = apply_mask(img, white_mask)\n",
    "    ret,white_binary = cv2.threshold(grayscale(white_image),127,255,cv2.THRESH_BINARY)\n",
    "\n",
    "    combined_binary = np.zeros_like(white_binary)\n",
    "    combined_binary[(yellow_binary > 0) | (white_binary > 0)] = 1\n",
    "#     plot_2_images(img, combined_binary)\n",
    "    return combined_binary\n",
    "\n",
    "def plot_2_images(img1, img2, title1='original',title2='processed'):\n",
    "    import matplotlib.pyplot as plt\n",
    "\n",
    "    f, (ax1, ax2) = plt.subplots(1, 2, figsize=(48, 18))\n",
    "    f.tight_layout()\n",
    "    ax1.imshow(img1)\n",
    "    ax1.set_title(title1, fontsize=50)\n",
    "    ax2.imshow(img2, cmap='gray')\n",
    "    ax2.set_title(title2, fontsize=50)\n",
    "    plt.subplots_adjust(left=0., right=1, top=0.9, bottom=0.)\n",
    "    \n",
    "    \n",
    "def plot_image_title(img, title='', text=''):\n",
    "    \n",
    "    font = {'family': 'serif',\n",
    "            'color':  'white',\n",
    "            'weight': 'normal',\n",
    "            'size': 28,\n",
    "            }\n",
    "        \n",
    "    f, ax = plt.subplots(1, 1, figsize=(48, 18))\n",
    "    f.tight_layout()\n",
    "    ax.imshow(img)\n",
    "    plt.text(2, 75.65, text, fontdict=font)\n",
    "    ax.set_title(title, fontsize=50)\n",
    "    plt.subplots_adjust(left=0., right=1, top=0.9, bottom=0.)\n",
    "#     plt.savefig(output_file)\n",
    "\n",
    "def binary_image_transform(img):\n",
    "    \"\"\"Uses gradients to create a binary image\"\"\"\n",
    "\n",
    "    # Threshold x gradient\n",
    "    sobel_x = sobel_operator(img, dir='x')\n",
    "    s_x_binary = threshold_image(sobel_scale(sobel_x), thresh=(20, 100))\n",
    "\n",
    "    # Threshold color channel\n",
    "    hls = hls_transform(img)\n",
    "    s_channel = hls[:,:,2]\n",
    "    s_binary = threshold_image(s_channel, thresh=(170, 255))\n",
    "\n",
    "    # Combine the two binary thresholds\n",
    "    combined_binary = np.zeros_like(s_x_binary)\n",
    "    combined_binary[(s_binary == 1) | (s_x_binary == 1)] = 1\n",
    "    return combined_binary\n",
    "\n",
    "def unwarp(img, src, dst):\n",
    "    M = cv2.getPerspectiveTransform(src, dst)\n",
    "    img_size = (img.shape[1], img.shape[0])\n",
    "    warped = cv2.warpPerspective(img, M, img_size, flags=cv2.INTER_LINEAR)\n",
    "    return warped, M\n",
    "\n",
    "def hist(img):\n",
    "    return np.sum(img[img.shape[0]//2:,:], axis=0)\n",
    "\n",
    "\n",
    "def polyfit(img, y, x, order=2):\n",
    "    \"\"\"Fit polynomial\"\"\"\n",
    "    fit = np.poly1d(np.polyfit(y, x, order))\n",
    "\n",
    "    #y values for plotting\n",
    "    ploty = np.linspace(0, img.shape[0]-1, img.shape[0])\n",
    "    fit_x = fit(ploty)\n",
    "    return fit_x\n",
    "\n",
    "\n",
    "def detect_lane_lines(binary_warped, debug = False,nwindows = 9, margin = 100, minpix = 50):\n",
    "    # Set height of windows\n",
    "    window_height = np.int(binary_warped.shape[0]/nwindows)\n",
    "\n",
    "    histogram = hist(binary_warped)\n",
    "\n",
    "    out_img = None\n",
    "    if (debug==True):\n",
    "        # For debugging, an output image to visualize the result\n",
    "        out_img = np.dstack((binary_warped, binary_warped, binary_warped))*255\n",
    "\n",
    "    # Find the peak of the left and right halves of the histogram\n",
    "    # These will be the starting point for the left and right lines\n",
    "    midpoint = np.int(histogram.shape[0]/2)\n",
    "    leftx_base = np.argmax(histogram[:midpoint])\n",
    "    rightx_base = np.argmax(histogram[midpoint:]) + midpoint\n",
    "\n",
    "\n",
    "    # Identify the x and y positions of all nonzero pixels in the image\n",
    "    nonzero = binary_warped.nonzero()\n",
    "    nonzeroy = np.array(nonzero[0])\n",
    "    nonzerox = np.array(nonzero[1])\n",
    "    \n",
    "    # Current positions to be updated for each window\n",
    "    leftx_current = leftx_base\n",
    "    rightx_current = rightx_base\n",
    "\n",
    "    \n",
    "    # Create empty lists to receive left and right lane pixel indices\n",
    "    left_lane_inds = []\n",
    "    right_lane_inds = []\n",
    "\n",
    "    # Step through the windows one by one\n",
    "    for window in range(nwindows):\n",
    "\n",
    "        # Identify window boundaries in x and y (and right and left)\n",
    "        win_y_low = binary_warped.shape[0] - (window+1)*window_height\n",
    "        win_y_high = binary_warped.shape[0] - window*window_height\n",
    "        win_xleft_low = leftx_current - margin\n",
    "        win_xleft_high = leftx_current + margin\n",
    "        win_xright_low = rightx_current - margin\n",
    "        win_xright_high = rightx_current + margin\n",
    "        \n",
    "        if (debug==True):\n",
    "            # Draw the windows on the visualization image\n",
    "            cv2.rectangle(out_img,(win_xleft_low,win_y_low),(win_xleft_high,win_y_high),(0,255,0), 2) \n",
    "            cv2.rectangle(out_img,(win_xright_low,win_y_low),(win_xright_high,win_y_high),(0,255,0), 2) \n",
    "\n",
    "        # Identify the nonzero pixels in x and y within the window\n",
    "        good_left_inds = ((nonzeroy >= win_y_low) & (nonzeroy < win_y_high) & (nonzerox >= win_xleft_low) & (nonzerox < win_xleft_high)).nonzero()[0]\n",
    "        good_right_inds = ((nonzeroy >= win_y_low) & (nonzeroy < win_y_high) & (nonzerox >= win_xright_low) & (nonzerox < win_xright_high)).nonzero()[0]\n",
    "        \n",
    "        # Append these indices to the lists\n",
    "        left_lane_inds.append(good_left_inds)\n",
    "        right_lane_inds.append(good_right_inds)\n",
    "        \n",
    "        # If you found > minpix pixels, recenter next window on their mean position\n",
    "        if len(good_left_inds) > minpix:\n",
    "            leftx_current = np.int(np.mean(nonzerox[good_left_inds]))\n",
    "        if len(good_right_inds) > minpix:        \n",
    "            rightx_current = np.int(np.mean(nonzerox[good_right_inds]))\n",
    "\n",
    "    # Concatenate the arrays of indices\n",
    "    left_lane_inds = np.concatenate(left_lane_inds)\n",
    "    right_lane_inds = np.concatenate(right_lane_inds)\n",
    "\n",
    "    # Extract left and right line pixel positions\n",
    "    leftx = nonzerox[left_lane_inds]\n",
    "    lefty = nonzeroy[left_lane_inds] \n",
    "    rightx = nonzerox[right_lane_inds]\n",
    "    righty = nonzeroy[right_lane_inds] \n",
    "\n",
    "    if (len(rightx)==0 or len(leftx)==0):\n",
    "        return [], [], [], []\n",
    "        \n",
    "#     print(\"len(rightx) {}\".format(len(rightx)))\n",
    "#     print(\"len(leftx) {}\".format(len(leftx)))\n",
    "    left_fit = np.polyfit(lefty, leftx, 2)\n",
    "    right_fit = np.polyfit(righty, rightx, 2)\n",
    "    \n",
    "    # Generate x and y values for plotting\n",
    "    ploty = np.linspace(0, binary_warped.shape[0]-1, binary_warped.shape[0] )\n",
    "\n",
    "    left_fitx = polyfit(binary_warped, lefty, leftx, 2)\n",
    "    right_fitx = polyfit(binary_warped, righty, rightx, 2)\n",
    "\n",
    "    if (debug==True):\n",
    "        out_img[nonzeroy[left_lane_inds], nonzerox[left_lane_inds]] = [255, 0, 0]\n",
    "        out_img[nonzeroy[right_lane_inds], nonzerox[right_lane_inds]] = [0, 0, 255]\n",
    "        plt.imshow(out_img)\n",
    "        plt.plot(left_fitx, ploty, color='yellow')\n",
    "        plt.plot(right_fitx, ploty, color='yellow')\n",
    "        plt.xlim(0, 1280)\n",
    "        plt.ylim(720, 0)\n",
    "    return left_fit, right_fit, left_fitx, right_fitx\n",
    "\n",
    "def detect_lane_lines_subsequent_images(binary_warped, left_fit, right_fit, debug=False, margin = 100):\n",
    "    nonzero = binary_warped.nonzero()\n",
    "    nonzeroy = np.array(nonzero[0])\n",
    "    nonzerox = np.array(nonzero[1])\n",
    "\n",
    "    #TODO improve this \n",
    "    left_lane_inds = ((nonzerox > (left_fit[0]*(nonzeroy**2) + left_fit[1]*nonzeroy + left_fit[2] - margin)) & (nonzerox < (left_fit[0]*(nonzeroy**2) + left_fit[1]*nonzeroy + left_fit[2] + margin))) \n",
    "    right_lane_inds = ((nonzerox > (right_fit[0]*(nonzeroy**2) + right_fit[1]*nonzeroy + right_fit[2] - margin)) & (nonzerox < (right_fit[0]*(nonzeroy**2) + right_fit[1]*nonzeroy + right_fit[2] + margin)))  \n",
    "\n",
    "    # Again, extract left and right line pixel positions\n",
    "    leftx = nonzerox[left_lane_inds]\n",
    "    lefty = nonzeroy[left_lane_inds] \n",
    "    rightx = nonzerox[right_lane_inds]\n",
    "    righty = nonzeroy[right_lane_inds]\n",
    "\n",
    "    # Fit a second order polynomial to each\n",
    "    left_fitx = polyfit(binary_warped, lefty, leftx, 2)\n",
    "    right_fitx = polyfit(binary_warped, righty, rightx, 2)\n",
    "\n",
    "    \n",
    "    ploty = np.linspace(0, binary_warped.shape[0]-1, binary_warped.shape[0] )\n",
    "\n",
    "    if (debug==True):\n",
    "        # Create an image to draw on and an image to show the selection window\n",
    "        out_img = np.dstack((binary_warped, binary_warped, binary_warped))*255\n",
    "        window_img = np.zeros_like(out_img)\n",
    "        # Color in left and right line pixels\n",
    "        out_img[nonzeroy[left_lane_inds], nonzerox[left_lane_inds]] = [255, 0, 0]\n",
    "        out_img[nonzeroy[right_lane_inds], nonzerox[right_lane_inds]] = [0, 0, 255]\n",
    "\n",
    "        # Generate a polygon to illustrate the search window area\n",
    "        # And recast the x and y points into usable format for cv2.fillPoly()\n",
    "        left_line_window1 = np.array([np.transpose(np.vstack([left_fitx-margin, ploty]))])\n",
    "        left_line_window2 = np.array([np.flipud(np.transpose(np.vstack([left_fitx+margin, ploty])))])\n",
    "        left_line_pts = np.hstack((left_line_window1, left_line_window2))\n",
    "        right_line_window1 = np.array([np.transpose(np.vstack([right_fitx-margin, ploty]))])\n",
    "        right_line_window2 = np.array([np.flipud(np.transpose(np.vstack([right_fitx+margin, ploty])))])\n",
    "        right_line_pts = np.hstack((right_line_window1, right_line_window2))\n",
    "\n",
    "        # Draw the lane onto the warped blank image\n",
    "        cv2.fillPoly(window_img, np.int_([left_line_pts]), (0,255, 0))\n",
    "        cv2.fillPoly(window_img, np.int_([right_line_pts]), (0,255, 0))\n",
    "        result = cv2.addWeighted(out_img, 1, window_img, 0.3, 0)\n",
    "        plt.imshow(result)\n",
    "        plt.plot(left_fitx, ploty, color='yellow')\n",
    "        plt.plot(right_fitx, ploty, color='yellow')\n",
    "        plt.xlim(0, 1280)\n",
    "        plt.ylim(720, 0)\n",
    "        \n",
    "    return left_fit, right_fit, left_fitx, right_fitx\n",
    "\n",
    "        \n",
    "def curvature(binary_warped, left_fitx, right_fitx):    \n",
    "    ploty = np.linspace(0, binary_warped.shape[0]-1, binary_warped.shape[0] )\n",
    "    y_eval = np.max(ploty)\n",
    "\n",
    "    leftx = left_fitx\n",
    "    rightx = right_fitx\n",
    "\n",
    "    # Define conversions in x and y from pixels space to meters\n",
    "    ym_per_pix = 30/720 # meters per pixel in y dimension\n",
    "    xm_per_pix = 3.7/700 # meters per pixel in x dimension\n",
    "\n",
    "    # Fit new polynomials to x,y in world space\n",
    "    left_fit_cr = np.polyfit(ploty*ym_per_pix, leftx*xm_per_pix, 2)\n",
    "    right_fit_cr = np.polyfit(ploty*ym_per_pix, rightx*xm_per_pix, 2)\n",
    "    # Calculate the new radii of curvature\n",
    "    left_curverad = ((1 + (2*left_fit_cr[0]*y_eval*ym_per_pix + left_fit_cr[1])**2)**1.5) / np.absolute(2*left_fit_cr[0])\n",
    "    right_curverad = ((1 + (2*right_fit_cr[0]*y_eval*ym_per_pix + right_fit_cr[1])**2)**1.5) / np.absolute(2*right_fit_cr[0])\n",
    "\n",
    "    # Now our radius of curvature is in meters\n",
    "    center_of_lanes = ((right_fitx[-1] - left_fitx[-1]) //2 + left_fitx[-1]) * xm_per_pix\n",
    "    center_of_car = (binary_warped.shape[1] // 2) * xm_per_pix\n",
    "    return left_curverad, right_curverad, (center_of_lanes - center_of_car)\n",
    "\n",
    "def warp_detected_lines_onto_original(original, warped, left_fitx, right_fitx, Minv):\n",
    "    # Create an image to draw the lines on\n",
    "    warp_zero = np.zeros_like(warped).astype(np.uint8)\n",
    "    color_warp = np.dstack((warp_zero, warp_zero, warp_zero))\n",
    "\n",
    "    ploty = np.linspace(0, warped.shape[0]-1, warped.shape[0] )\n",
    "\n",
    "    # Recast the x and y points into usable format for cv2.fillPoly()\n",
    "    pts_left = np.array([np.transpose(np.vstack([left_fitx, ploty]))])\n",
    "    pts_right = np.array([np.flipud(np.transpose(np.vstack([right_fitx, ploty])))])\n",
    "    pts = np.hstack((pts_left, pts_right))\n",
    "\n",
    "    # Draw the lane onto the warped blank image\n",
    "    cv2.fillPoly(color_warp, np.int_([pts]), (0,255, 0))\n",
    "\n",
    "    # Warp the blank back to original image space using inverse perspective matrix (Minv)\n",
    "    newwarp = cv2.warpPerspective(color_warp, Minv, (original.shape[1], original.shape[0])) \n",
    "    # Combine the result with the original image\n",
    "    result = cv2.addWeighted(original, 1, newwarp, 0.3, 0)\n",
    "#     plt.imshow(result)\n",
    "    return result"
   ]
  },
  {
   "cell_type": "markdown",
   "metadata": {},
   "source": [
    "## Compute the camera calibration using chessboard images"
   ]
  },
  {
   "cell_type": "code",
   "execution_count": 4,
   "metadata": {},
   "outputs": [
    {
     "name": "stdout",
     "output_type": "stream",
     "text": [
      "processing image: ../camera_cal/calibration1.jpg\n",
      "processing image: ../camera_cal/calibration10.jpg\n",
      "processing image: ../camera_cal/calibration11.jpg\n",
      "processing image: ../camera_cal/calibration12.jpg\n",
      "processing image: ../camera_cal/calibration13.jpg\n",
      "processing image: ../camera_cal/calibration14.jpg\n",
      "processing image: ../camera_cal/calibration15.jpg\n",
      "processing image: ../camera_cal/calibration16.jpg\n",
      "processing image: ../camera_cal/calibration17.jpg\n",
      "processing image: ../camera_cal/calibration18.jpg\n",
      "processing image: ../camera_cal/calibration19.jpg\n",
      "processing image: ../camera_cal/calibration2.jpg\n",
      "processing image: ../camera_cal/calibration20.jpg\n",
      "processing image: ../camera_cal/calibration3.jpg\n",
      "processing image: ../camera_cal/calibration4.jpg\n",
      "processing image: ../camera_cal/calibration5.jpg\n",
      "processing image: ../camera_cal/calibration6.jpg\n",
      "processing image: ../camera_cal/calibration7.jpg\n",
      "processing image: ../camera_cal/calibration8.jpg\n",
      "processing image: ../camera_cal/calibration9.jpg\n"
     ]
    }
   ],
   "source": [
    "images = glob.glob('../camera_cal/calibration*.jpg')\n",
    "cameraMatrix, distCoeffs = calibrate(images)"
   ]
  },
  {
   "cell_type": "markdown",
   "metadata": {},
   "source": [
    "## Apply a distortion correction to a raw images"
   ]
  },
  {
   "cell_type": "code",
   "execution_count": 7,
   "metadata": {},
   "outputs": [],
   "source": [
    "img = mpimg.imread('../test_images/test5.jpg')\n",
    "undist = undistort_image(img, cameraMatrix, distCoeffs)\n",
    "plot_2_images(img, undist)"
   ]
  },
  {
   "cell_type": "markdown",
   "metadata": {},
   "source": [
    "## Create a thresholded binary image."
   ]
  },
  {
   "cell_type": "code",
   "execution_count": 154,
   "metadata": {
    "collapsed": true
   },
   "outputs": [],
   "source": [
    "# binary_image = binary_image_transform(undist)\n",
    "# plot_2_images(img, binary_image)"
   ]
  },
  {
   "cell_type": "code",
   "execution_count": 8,
   "metadata": {},
   "outputs": [],
   "source": [
    "binary_image = binary_image_transform_yellow_white_lane_lines(undist)\n",
    "plot_2_images(undist, binary_image)"
   ]
  },
  {
   "cell_type": "markdown",
   "metadata": {},
   "source": [
    "## Apply a perspective transform to rectify binary image (\"birds-eye view\")."
   ]
  },
  {
   "cell_type": "code",
   "execution_count": 9,
   "metadata": {},
   "outputs": [
    {
     "name": "stdout",
     "output_type": "stream",
     "text": [
      "[[  585.           460.        ]\n",
      " [  203.33332825   720.        ]\n",
      " [ 1106.66662598   720.        ]\n",
      " [  705.           460.        ]]\n"
     ]
    }
   ],
   "source": [
    "img_size = (binary_image.shape[1], binary_image.shape[0])\n",
    "src = np.float32(\n",
    "    [[(img_size[0] / 2) - 55, img_size[1] / 2 + 100],\n",
    "    [((img_size[0] / 6) - 10), img_size[1]],\n",
    "    [(img_size[0] * 5 / 6) + 40, img_size[1]],\n",
    "    [(img_size[0] / 2 + 65), img_size[1] / 2 + 100]])\n",
    "dst = np.float32(\n",
    "    [[(img_size[0] / 4), 0],\n",
    "    [(img_size[0] / 4), img_size[1]],\n",
    "    [(img_size[0] * 3 / 4), img_size[1]],\n",
    "    [(img_size[0] * 3 / 4), 0]])\n",
    "warped, M = unwarp(binary_image, src, dst)\n",
    "Minv = cv2.getPerspectiveTransform(dst, src)\n",
    "\n",
    "print(src)\n",
    "# plot_2_images(undist, warped)\n",
    "\n",
    "warped_undist, M2 = unwarp(undist, src, dst)\n",
    "\n",
    "src2 = np.int32(src.reshape((-1,1,2)))\n",
    "dst2 = np.int32(dst.reshape((-1,1,2)))\n",
    "\n",
    "cv2.polylines(undist,[src2],True,(255,0,0))\n",
    "cv2.polylines(warped_undist,[dst2],True,(255,0,0))\n",
    "\n",
    "plot_2_images(undist, warped_undist)"
   ]
  },
  {
   "cell_type": "markdown",
   "metadata": {},
   "source": [
    "## Detect lane pixels and fit to find the lane boundary."
   ]
  },
  {
   "cell_type": "code",
   "execution_count": 10,
   "metadata": {
    "collapsed": true
   },
   "outputs": [],
   "source": [
    "left_fit, right_fit, left_fitx, right_fitx = detect_lane_lines(warped, debug=True)\n",
    "left_fit, right_fit, left_fitx, right_fitx = detect_lane_lines_subsequent_images(warped, left_fit, right_fit, debug=True)"
   ]
  },
  {
   "cell_type": "markdown",
   "metadata": {},
   "source": [
    "## Determine the curvature of the lane and vehicle position with respect to center."
   ]
  },
  {
   "cell_type": "code",
   "execution_count": 11,
   "metadata": {},
   "outputs": [
    {
     "name": "stdout",
     "output_type": "stream",
     "text": [
      "705.862316964 m 6010.10235056 m -0.0169064817038\n"
     ]
    }
   ],
   "source": [
    "left_curverad, right_curverad, diff_center = curvature(warped, left_fitx, right_fitx)\n",
    "print(left_curverad, 'm', right_curverad, 'm', diff_center)"
   ]
  },
  {
   "cell_type": "markdown",
   "metadata": {},
   "source": [
    "## Warp the detected lane boundaries back onto the original image."
   ]
  },
  {
   "cell_type": "code",
   "execution_count": 12,
   "metadata": {
    "collapsed": true
   },
   "outputs": [],
   "source": [
    "result = warp_detected_lines_onto_original(undist, warped, left_fitx, right_fitx, Minv)\n",
    "plot_2_images(img, result)"
   ]
  },
  {
   "cell_type": "markdown",
   "metadata": {},
   "source": [
    "## Output visual display of the lane boundaries and numerical estimation of lane curvature and vehicle position."
   ]
  },
  {
   "cell_type": "code",
   "execution_count": 13,
   "metadata": {
    "collapsed": true
   },
   "outputs": [],
   "source": [
    "# title = \"Radius of curvature = {:f}(m)\\nVehicle is {:f}m {!s} of center \".format(np.mean(left_curverad,right_curverad), np.abs(diff_center), 'left')\n",
    "text = 'Radius of curvature = {:f}(m)\\nVehicle is {:f}m {!s} of center'.format(np.mean([left_curverad,right_curverad]), np.abs(diff_center), 'left' if diff_center > 0 else 'right')\n",
    "plot_image_title(result, '', text)"
   ]
  },
  {
   "cell_type": "markdown",
   "metadata": {},
   "source": [
    "## Define a class to receive the characteristics of each line detection"
   ]
  },
  {
   "cell_type": "code",
   "execution_count": 268,
   "metadata": {
    "collapsed": true
   },
   "outputs": [],
   "source": [
    "class Line():\n",
    "    def __init__(self):\n",
    "        #loss count\n",
    "        self.loss_count = 0\n",
    "        # was the line detected in the last iteration?\n",
    "        self.detected = False  \n",
    "        # x values of the last n fits of the line\n",
    "        self.recent_xfitted = []\n",
    "        #average x values of the fitted line over the last n iterations\n",
    "        self.bestx = None     \n",
    "        #polynomial coefficients of the last n fits of the line\n",
    "        self.recent_fit = []\n",
    "        #polynomial coefficients averaged over the last n iterations\n",
    "        self.best_fit = None  \n",
    "        #polynomial coefficients for the most recent fit\n",
    "        self.current_fit = [np.array([False])]  \n",
    "        #radius of curvature of the line in some units\n",
    "        self.radius_of_curvature = None \n",
    "        #distance in meters of vehicle center from the line\n",
    "        self.line_base_pos = None \n",
    "        #difference in fit coefficients between last and new fits\n",
    "        self.diffs = np.array([0,0,0], dtype='float') \n",
    "        #x values for detected line pixels\n",
    "        self.allx = None  \n",
    "        #y values for detected line pixels\n",
    "        self.ally = None\n",
    "    #update the stats\n",
    "    def update(self, fit, fitx, radius_of_curvature, line_base_pos, warped):\n",
    "        ploty = np.linspace(0, warped.shape[0]-1, warped.shape[0] )\n",
    "        n = len(self.recent_xfitted)\n",
    "        \n",
    "        if (n > 10):\n",
    "            removed_fitx = self.recent_xfitted.pop(0)\n",
    "            removed_fit = self.recent_fit.pop(0)\n",
    "        \n",
    "        self.recent_xfitted.append(fitx)\n",
    "        self.bestx = np.mean(self.recent_xfitted, axis=0,keepdims=True)\n",
    "        self.recent_fit.append(fit)\n",
    "        self.best_fit = np.mean(self.recent_fit)\n",
    "        self.radius_of_curvature = radius_of_curvature\n",
    "        self.line_base_pos = line_base_pos \n",
    "        self.diffs = self.current_fit - fit\n",
    "        self.current_fit = fit\n",
    "        self.allx = fitx\n",
    "        self.ally = ploty\n",
    "        self.detected = True\n",
    "        self.loss_count = np.max([self.loss_count-1, 0])\n",
    "    def reset():\n",
    "        self.detected = False  \n",
    "        self.recent_xfitted = [] \n",
    "        self.bestx = None     \n",
    "        self.best_fit = None  \n",
    "        self.current_fit = [np.array([False])]  \n",
    "        self.radius_of_curvature = None \n",
    "        self.line_base_pos = None \n",
    "        self.diffs = np.array([0,0,0], dtype='float') \n",
    "        self.allx = None  \n",
    "        self.ally = None\n",
    "        self.loss_count=0"
   ]
  },
  {
   "cell_type": "markdown",
   "metadata": {},
   "source": [
    "## Pipeline"
   ]
  },
  {
   "cell_type": "code",
   "execution_count": 337,
   "metadata": {
    "collapsed": true
   },
   "outputs": [],
   "source": [
    "def sanity_check(leftLine, rightLine, left_fit, right_fit, left_fitx, right_fitx, left_curverad, right_curverad, diff_center):\n",
    "    \n",
    "    #Checking that lines have similar curvature\n",
    "    if ( (left_curverad-right_curverad) / right_curverad > 2):\n",
    "        print(\"left_curverad, right_curverad\")\n",
    "        print(left_curverad, right_curverad)\n",
    "        return False\n",
    "\n",
    "    #Checking that lines are separated by approximately the right distance horizontally\n",
    "    xm_per_pix = 3.7/700 # meters per pixel in x dimension\n",
    "    if ( ((right_fitx[-1]-left_fitx[-1]) * xm_per_pix - 3.7) > 5e-2):\n",
    "        print(\"right_fitx[-1], left_fitx[-1\")\n",
    "        print(right_fitx[-1], left_fitx[-1])\n",
    "        return False\n",
    "\n",
    "#     #Checking that lines are roughly parallel\n",
    "    upper = right_fitx[0] - left_fitx[0]\n",
    "    lower = right_fitx[-1] - left_fitx[-1]\n",
    "    if ( (upper-lower) / lower > 11e-2):\n",
    "        print(\"upper, lower\")\n",
    "        print(upper, lower)\n",
    "        return False\n",
    "#     print('great, passed sanity checks!')\n",
    "    \n",
    "    return True"
   ]
  },
  {
   "cell_type": "code",
   "execution_count": 338,
   "metadata": {
    "collapsed": true
   },
   "outputs": [],
   "source": [
    "def sanity_check_update_lines(left_fit, right_fit, left_fitx, right_fitx, warped, leftLine, rightLine):\n",
    "    if (len(left_fit) == 0):\n",
    "        leftLine.detected = False\n",
    "        leftLine.loss_count += 1\n",
    "\n",
    "        rightLine.detected = False\n",
    "        rightLine.loss_count += 1\n",
    "\n",
    "        return 0., 0., 0.\n",
    "    left_curverad, right_curverad, diff_center = curvature(warped, left_fitx, right_fitx)\n",
    "\n",
    "    if (sanity_check(leftLine, rightLine, left_fit, right_fit, left_fitx, right_fitx, left_curverad, right_curverad, diff_center)):\n",
    "        leftLine.update(left_fit, left_fitx, left_curverad, diff_center, warped)\n",
    "        rightLine.update(right_fit, right_fitx, right_curverad, diff_center, warped)\n",
    "    else:\n",
    "        leftLine.detected = False\n",
    "        leftLine.loss_count += 1\n",
    "\n",
    "        rightLine.detected = False\n",
    "        rightLine.loss_count += 1\n",
    "        \n",
    "    return left_curverad, right_curverad, diff_center"
   ]
  },
  {
   "cell_type": "code",
   "execution_count": 339,
   "metadata": {
    "collapsed": true
   },
   "outputs": [],
   "source": [
    "def pipeline(img, simple=True):\n",
    "    \"\"\"\n",
    "    1) Sanity Check\n",
    "    2) Look-Ahead Filter\n",
    "    3) Reset\n",
    "    4) Smoothing\n",
    "    5) Drawing\n",
    "    \"\"\"\n",
    "    undist = undistort_image(img, cameraMatrix, distCoeffs)\n",
    "    binary_image = binary_image_transform_yellow_white_lane_lines(undist)\n",
    "    warped, M = unwarp(binary_image, src, dst)\n",
    "    \n",
    "    if (simple):\n",
    "        left_fit, right_fit, left_fitx, right_fitx = detect_lane_lines(warped)\n",
    "        left_curverad, right_curverad, diff_center = sanity_check_update_lines(left_fit, right_fit, left_fitx, right_fitx, warped, leftLine, rightLine)\n",
    "    else:    \n",
    "        if (len(leftLine.recent_xfitted) > 0 & leftLine.loss_count < 2 & len(rightLine.recent_xfitted) > 0  & rightLine.loss_count < 5):\n",
    "            left_fit, right_fit, left_fitx, right_fitx = detect_lane_lines_subsequent_images(warped, leftLine.best_fit, rightLine.best_fit)\n",
    "            left_curverad, right_curverad, diff_center = sanity_check_update_lines(left_fit, right_fit, left_fitx, right_fitx, warped, leftLine, rightLine)        \n",
    "        else:\n",
    "            print('resetting....')\n",
    "            leftLine.reset\n",
    "            rightLine.reset\n",
    "            left_fit, right_fit, left_fitx, right_fitx = detect_lane_lines(warped)\n",
    "            left_curverad, right_curverad, diff_center = sanity_check_update_lines(left_fit, right_fit, left_fitx, right_fitx, warped, leftLine, rightLine)\n",
    "        \n",
    "    if (left_curverad == 0. or right_curverad == 0.):\n",
    "        return img\n",
    "    result = warp_detected_lines_onto_original(undist, warped, leftLine.bestx, rightLine.bestx, Minv)\n",
    "    text1 = 'Radius of curvature = {:f}(m)'.format(np.mean([left_curverad,right_curverad]))\n",
    "    text2 = 'Vehicle is {:f}m {!s} of center'.format(np.abs(diff_center), 'left' if diff_center > 0 else 'right')\n",
    "    font = cv2.FONT_HERSHEY_SIMPLEX\n",
    "    cv2.putText(result,text1,(10,50), font, 1,(255,255,255),2,cv2.LINE_AA)\n",
    "    cv2.putText(result,text2,(10,95), font, 1,(255,255,255),2,cv2.LINE_AA)\n",
    "    \n",
    "    return result"
   ]
  },
  {
   "cell_type": "code",
   "execution_count": 273,
   "metadata": {},
   "outputs": [
    {
     "name": "stdout",
     "output_type": "stream",
     "text": [
      "straight_lines1.jpg\n",
      "straight_lines2.jpg\n",
      "test1.jpg\n",
      "test2.jpg\n",
      "test3.jpg\n",
      "test4.jpg\n",
      "test5.jpg\n",
      "test6.jpg\n"
     ]
    }
   ],
   "source": [
    "import os\n",
    "test_image_file_names = os.listdir(\"../test_images/\")\n",
    "leftLine = Line()\n",
    "rightLine = Line()\n",
    "for image_file_name in test_image_file_names:\n",
    "    print(image_file_name)\n",
    "    image = mpimg.imread(\"../test_images/\" + image_file_name)    \n",
    "    result = pipeline(image, simple=True)\n",
    "    mpimg.imsave(\"../output_images/\" + image_file_name, result)"
   ]
  },
  {
   "cell_type": "code",
   "execution_count": 274,
   "metadata": {},
   "outputs": [
    {
     "name": "stdout",
     "output_type": "stream",
     "text": [
      "[MoviePy] >>>> Building video ../output_images/project_video.mp4\n",
      "[MoviePy] Writing video ../output_images/project_video.mp4\n"
     ]
    },
    {
     "name": "stderr",
     "output_type": "stream",
     "text": [
      "100%|█████████▉| 1260/1261 [05:35<00:00,  3.89it/s]\n"
     ]
    },
    {
     "name": "stdout",
     "output_type": "stream",
     "text": [
      "[MoviePy] Done.\n",
      "[MoviePy] >>>> Video ready: ../output_images/project_video.mp4 \n",
      "\n",
      "CPU times: user 8min 31s, sys: 12.2 s, total: 8min 43s\n",
      "Wall time: 5min 36s\n"
     ]
    }
   ],
   "source": [
    "# Import everything needed to edit/save/watch video clips\n",
    "from moviepy.editor import VideoFileClip\n",
    "from IPython.display import HTML\n",
    "def process_image(image):\n",
    "    result = pipeline(image)\n",
    "    return result\n",
    "\n",
    "output = '../output_images/project_video.mp4'\n",
    "clip1 = VideoFileClip(\"../project_video.mp4\")\n",
    "white_clip = clip1.fl_image(process_image) #NOTE: this function expects color images!!\n",
    "%time white_clip.write_videofile(output, audio=False)"
   ]
  },
  {
   "cell_type": "code",
   "execution_count": 334,
   "metadata": {},
   "outputs": [
    {
     "name": "stdout",
     "output_type": "stream",
     "text": [
      "len(rightx) 664\n",
      "len(leftx) 4512\n",
      "[MoviePy] >>>> Building video ../output_images/challenge_video.mp4\n",
      "[MoviePy] Writing video ../output_images/challenge_video.mp4\n"
     ]
    },
    {
     "name": "stderr",
     "output_type": "stream",
     "text": [
      "\n",
      "  0%|          | 0/485 [00:00<?, ?it/s]\u001b[A\n",
      "  0%|          | 1/485 [00:00<02:03,  3.93it/s]"
     ]
    },
    {
     "name": "stdout",
     "output_type": "stream",
     "text": [
      "len(rightx) 664\n",
      "len(leftx) 4512\n"
     ]
    },
    {
     "name": "stderr",
     "output_type": "stream",
     "text": [
      "\u001b[A\n",
      "  0%|          | 2/485 [00:00<02:02,  3.95it/s]"
     ]
    },
    {
     "name": "stdout",
     "output_type": "stream",
     "text": [
      "len(rightx) 732\n",
      "len(leftx) 3995\n"
     ]
    },
    {
     "name": "stderr",
     "output_type": "stream",
     "text": [
      "\u001b[A\n",
      "  1%|          | 3/485 [00:00<02:01,  3.96it/s]"
     ]
    },
    {
     "name": "stdout",
     "output_type": "stream",
     "text": [
      "len(rightx) 760\n",
      "len(leftx) 4025\n"
     ]
    },
    {
     "name": "stderr",
     "output_type": "stream",
     "text": [
      "\u001b[A\n",
      "  1%|          | 4/485 [00:01<02:03,  3.91it/s]"
     ]
    },
    {
     "name": "stdout",
     "output_type": "stream",
     "text": [
      "len(rightx) 645\n",
      "len(leftx) 3886\n"
     ]
    },
    {
     "name": "stderr",
     "output_type": "stream",
     "text": [
      "\u001b[A\n",
      "  1%|          | 5/485 [00:01<02:16,  3.53it/s]"
     ]
    },
    {
     "name": "stdout",
     "output_type": "stream",
     "text": [
      "len(rightx) 410\n",
      "len(leftx) 4168\n"
     ]
    },
    {
     "name": "stderr",
     "output_type": "stream",
     "text": [
      "\u001b[A\n",
      "  1%|          | 6/485 [00:01<02:34,  3.10it/s]"
     ]
    },
    {
     "name": "stdout",
     "output_type": "stream",
     "text": [
      "len(rightx) 184\n",
      "len(leftx) 4415\n",
      "left_curverad, right_curverad\n",
      "649.684030001 34.7797440485\n"
     ]
    },
    {
     "name": "stderr",
     "output_type": "stream",
     "text": [
      "\u001b[A\n",
      "  1%|▏         | 7/485 [00:02<02:31,  3.15it/s]"
     ]
    },
    {
     "name": "stdout",
     "output_type": "stream",
     "text": [
      "len(rightx) 3\n",
      "len(leftx) 4013\n"
     ]
    },
    {
     "name": "stderr",
     "output_type": "stream",
     "text": [
      "\u001b[A\n",
      "  2%|▏         | 8/485 [00:02<02:18,  3.43it/s]\u001b[A\n",
      "  2%|▏         | 9/485 [00:02<02:07,  3.74it/s]\u001b[A\n",
      "  2%|▏         | 10/485 [00:02<02:04,  3.82it/s]"
     ]
    },
    {
     "name": "stdout",
     "output_type": "stream",
     "text": [
      "len(rightx) 184\n",
      "len(leftx) 3912\n",
      "left_curverad, right_curverad\n",
      "688.10020958 66.2135155406\n"
     ]
    },
    {
     "name": "stderr",
     "output_type": "stream",
     "text": [
      "\u001b[A\n",
      "  2%|▏         | 11/485 [00:03<02:03,  3.83it/s]"
     ]
    },
    {
     "name": "stdout",
     "output_type": "stream",
     "text": [
      "len(rightx) 129\n",
      "len(leftx) 3646\n",
      "left_curverad, right_curverad\n",
      "689.070789284 78.4034279332\n"
     ]
    },
    {
     "name": "stderr",
     "output_type": "stream",
     "text": [
      "\u001b[A\n",
      "  2%|▏         | 12/485 [00:03<02:03,  3.83it/s]"
     ]
    },
    {
     "name": "stdout",
     "output_type": "stream",
     "text": [
      "len(rightx) 123\n",
      "len(leftx) 4691\n",
      "left_curverad, right_curverad\n",
      "911.209094231 57.9370971437\n"
     ]
    },
    {
     "name": "stderr",
     "output_type": "stream",
     "text": [
      "\u001b[A\n",
      "  3%|▎         | 13/485 [00:03<02:02,  3.86it/s]"
     ]
    },
    {
     "name": "stdout",
     "output_type": "stream",
     "text": [
      "len(rightx) 2\n",
      "len(leftx) 5099\n",
      "left_curverad, right_curverad\n",
      "884.582334327 126.6546903\n"
     ]
    },
    {
     "name": "stderr",
     "output_type": "stream",
     "text": [
      "\u001b[A\n",
      "  3%|▎         | 14/485 [00:03<01:59,  3.94it/s]"
     ]
    },
    {
     "name": "stdout",
     "output_type": "stream",
     "text": [
      "len(rightx) 14\n",
      "len(leftx) 4486\n",
      "left_curverad, right_curverad\n",
      "813.104558381 17.30588337\n"
     ]
    },
    {
     "name": "stderr",
     "output_type": "stream",
     "text": [
      "\u001b[A\n",
      "  3%|▎         | 15/485 [00:04<01:58,  3.96it/s]"
     ]
    },
    {
     "name": "stdout",
     "output_type": "stream",
     "text": [
      "len(rightx) 66\n",
      "len(leftx) 3712\n",
      "left_curverad, right_curverad\n",
      "4775.20577916 710.92884842\n"
     ]
    },
    {
     "name": "stderr",
     "output_type": "stream",
     "text": [
      "\u001b[A\n",
      "  3%|▎         | 16/485 [00:04<02:00,  3.90it/s]"
     ]
    },
    {
     "name": "stdout",
     "output_type": "stream",
     "text": [
      "len(rightx) 96\n",
      "len(leftx) 3913\n"
     ]
    },
    {
     "name": "stderr",
     "output_type": "stream",
     "text": [
      "\u001b[A\n",
      "  4%|▎         | 17/485 [00:04<02:00,  3.89it/s]"
     ]
    },
    {
     "name": "stdout",
     "output_type": "stream",
     "text": [
      "len(rightx) 106\n",
      "len(leftx) 4797\n"
     ]
    },
    {
     "name": "stderr",
     "output_type": "stream",
     "text": [
      "\u001b[A\n",
      "  4%|▎         | 18/485 [00:04<01:58,  3.94it/s]"
     ]
    },
    {
     "name": "stdout",
     "output_type": "stream",
     "text": [
      "len(rightx) 206\n",
      "len(leftx) 4015\n"
     ]
    },
    {
     "name": "stderr",
     "output_type": "stream",
     "text": [
      "\u001b[A\n",
      "  4%|▍         | 19/485 [00:05<01:58,  3.94it/s]"
     ]
    },
    {
     "name": "stdout",
     "output_type": "stream",
     "text": [
      "len(rightx) 237\n",
      "len(leftx) 3936\n"
     ]
    },
    {
     "name": "stderr",
     "output_type": "stream",
     "text": [
      "\u001b[A\n",
      "  4%|▍         | 20/485 [00:05<01:57,  3.97it/s]"
     ]
    },
    {
     "name": "stdout",
     "output_type": "stream",
     "text": [
      "len(rightx) 299\n",
      "len(leftx) 3682\n"
     ]
    },
    {
     "name": "stderr",
     "output_type": "stream",
     "text": [
      "\u001b[A\n",
      "  4%|▍         | 21/485 [00:05<01:56,  3.97it/s]"
     ]
    },
    {
     "name": "stdout",
     "output_type": "stream",
     "text": [
      "len(rightx) 341\n",
      "len(leftx) 4498\n"
     ]
    },
    {
     "name": "stderr",
     "output_type": "stream",
     "text": [
      "\u001b[A\n",
      "  5%|▍         | 22/485 [00:05<01:56,  3.98it/s]"
     ]
    },
    {
     "name": "stdout",
     "output_type": "stream",
     "text": [
      "len(rightx) 319\n",
      "len(leftx) 5118\n"
     ]
    },
    {
     "name": "stderr",
     "output_type": "stream",
     "text": [
      "\u001b[A\n",
      "  5%|▍         | 23/485 [00:06<01:56,  3.97it/s]"
     ]
    },
    {
     "name": "stdout",
     "output_type": "stream",
     "text": [
      "len(rightx) 404\n",
      "len(leftx) 4851\n"
     ]
    },
    {
     "name": "stderr",
     "output_type": "stream",
     "text": [
      "\u001b[A\n",
      "  5%|▍         | 24/485 [00:06<01:56,  3.96it/s]"
     ]
    },
    {
     "name": "stdout",
     "output_type": "stream",
     "text": [
      "len(rightx) 430\n",
      "len(leftx) 4426\n"
     ]
    },
    {
     "name": "stderr",
     "output_type": "stream",
     "text": [
      "\u001b[A\n",
      "  5%|▌         | 25/485 [00:06<01:55,  3.97it/s]"
     ]
    },
    {
     "name": "stdout",
     "output_type": "stream",
     "text": [
      "len(rightx) 477\n",
      "len(leftx) 4600\n"
     ]
    },
    {
     "name": "stderr",
     "output_type": "stream",
     "text": [
      "\u001b[A\n",
      "  5%|▌         | 26/485 [00:06<01:53,  4.05it/s]"
     ]
    },
    {
     "name": "stdout",
     "output_type": "stream",
     "text": [
      "len(rightx) 485\n",
      "len(leftx) 4426\n",
      "left_curverad, right_curverad\n",
      "1426.43504629 171.27977639\n"
     ]
    },
    {
     "name": "stderr",
     "output_type": "stream",
     "text": [
      "\u001b[A\n",
      "  6%|▌         | 27/485 [00:07<01:53,  4.03it/s]"
     ]
    },
    {
     "name": "stdout",
     "output_type": "stream",
     "text": [
      "len(rightx) 520\n",
      "len(leftx) 4534\n",
      "left_curverad, right_curverad\n",
      "6099.6520951 232.651516433\n"
     ]
    },
    {
     "name": "stderr",
     "output_type": "stream",
     "text": [
      "\u001b[A\n",
      "  6%|▌         | 28/485 [00:07<01:53,  4.01it/s]"
     ]
    },
    {
     "name": "stdout",
     "output_type": "stream",
     "text": [
      "len(rightx) 619\n",
      "len(leftx) 4228\n",
      "left_curverad, right_curverad\n",
      "69875.6207446 553.574264224\n"
     ]
    },
    {
     "name": "stderr",
     "output_type": "stream",
     "text": [
      "\u001b[A\n",
      "  6%|▌         | 29/485 [00:07<01:53,  4.01it/s]"
     ]
    },
    {
     "name": "stdout",
     "output_type": "stream",
     "text": [
      "len(rightx) 705\n",
      "len(leftx) 4655\n",
      "left_curverad, right_curverad\n",
      "43447.6112347 584.703283499\n"
     ]
    },
    {
     "name": "stderr",
     "output_type": "stream",
     "text": [
      "\u001b[A\n",
      "  6%|▌         | 30/485 [00:07<02:02,  3.71it/s]"
     ]
    },
    {
     "name": "stdout",
     "output_type": "stream",
     "text": [
      "len(rightx) 761\n",
      "len(leftx) 5256\n",
      "left_curverad, right_curverad\n",
      "10131.7666027 862.558382263\n"
     ]
    },
    {
     "name": "stderr",
     "output_type": "stream",
     "text": [
      "\u001b[A\n",
      "  6%|▋         | 31/485 [00:08<02:28,  3.05it/s]"
     ]
    },
    {
     "name": "stdout",
     "output_type": "stream",
     "text": [
      "len(rightx) 790\n",
      "len(leftx) 5210\n",
      "left_curverad, right_curverad\n",
      "4842.61999155 821.798350665\n"
     ]
    },
    {
     "name": "stderr",
     "output_type": "stream",
     "text": [
      "\u001b[A\n",
      "  7%|▋         | 32/485 [00:08<02:24,  3.13it/s]"
     ]
    },
    {
     "name": "stdout",
     "output_type": "stream",
     "text": [
      "len(rightx) 725\n",
      "len(leftx) 4683\n"
     ]
    },
    {
     "name": "stderr",
     "output_type": "stream",
     "text": [
      "\u001b[A\n",
      "  7%|▋         | 33/485 [00:08<02:16,  3.31it/s]"
     ]
    },
    {
     "name": "stdout",
     "output_type": "stream",
     "text": [
      "len(rightx) 614\n",
      "len(leftx) 4327\n"
     ]
    },
    {
     "name": "stderr",
     "output_type": "stream",
     "text": [
      "\u001b[A\n",
      "  7%|▋         | 34/485 [00:09<02:08,  3.50it/s]"
     ]
    },
    {
     "name": "stdout",
     "output_type": "stream",
     "text": [
      "len(rightx) 465\n",
      "len(leftx) 5520\n"
     ]
    },
    {
     "name": "stderr",
     "output_type": "stream",
     "text": [
      "\u001b[A\n",
      "  7%|▋         | 35/485 [00:09<02:04,  3.62it/s]"
     ]
    },
    {
     "name": "stdout",
     "output_type": "stream",
     "text": [
      "len(rightx) 280\n",
      "len(leftx) 5160\n"
     ]
    },
    {
     "name": "stderr",
     "output_type": "stream",
     "text": [
      "\u001b[A\n",
      "  7%|▋         | 36/485 [00:09<01:59,  3.75it/s]"
     ]
    },
    {
     "name": "stdout",
     "output_type": "stream",
     "text": [
      "len(rightx) 269\n",
      "len(leftx) 4415\n"
     ]
    },
    {
     "name": "stderr",
     "output_type": "stream",
     "text": [
      "\u001b[A\n",
      "  8%|▊         | 37/485 [00:09<01:57,  3.81it/s]"
     ]
    },
    {
     "name": "stdout",
     "output_type": "stream",
     "text": [
      "len(rightx) 341\n",
      "len(leftx) 3647\n"
     ]
    },
    {
     "name": "stderr",
     "output_type": "stream",
     "text": [
      "\u001b[A\n",
      "  8%|▊         | 38/485 [00:10<01:58,  3.76it/s]"
     ]
    },
    {
     "name": "stdout",
     "output_type": "stream",
     "text": [
      "len(rightx) 363\n",
      "len(leftx) 3696\n"
     ]
    },
    {
     "name": "stderr",
     "output_type": "stream",
     "text": [
      "\u001b[A\n",
      "  8%|▊         | 39/485 [00:10<01:56,  3.82it/s]"
     ]
    },
    {
     "name": "stdout",
     "output_type": "stream",
     "text": [
      "len(rightx) 413\n",
      "len(leftx) 4073\n"
     ]
    },
    {
     "name": "stderr",
     "output_type": "stream",
     "text": [
      "\u001b[A\n",
      "  8%|▊         | 40/485 [00:10<01:55,  3.86it/s]"
     ]
    },
    {
     "name": "stdout",
     "output_type": "stream",
     "text": [
      "len(rightx) 443\n",
      "len(leftx) 4307\n"
     ]
    },
    {
     "name": "stderr",
     "output_type": "stream",
     "text": [
      "\u001b[A\n",
      "  8%|▊         | 41/485 [00:10<01:53,  3.92it/s]"
     ]
    },
    {
     "name": "stdout",
     "output_type": "stream",
     "text": [
      "len(rightx) 507\n",
      "len(leftx) 4164\n"
     ]
    },
    {
     "name": "stderr",
     "output_type": "stream",
     "text": [
      "\u001b[A\n",
      "  9%|▊         | 42/485 [00:11<01:53,  3.90it/s]"
     ]
    },
    {
     "name": "stdout",
     "output_type": "stream",
     "text": [
      "len(rightx) 548\n",
      "len(leftx) 3888\n"
     ]
    },
    {
     "name": "stderr",
     "output_type": "stream",
     "text": [
      "\u001b[A\n",
      "  9%|▉         | 43/485 [00:11<01:53,  3.91it/s]"
     ]
    },
    {
     "name": "stdout",
     "output_type": "stream",
     "text": [
      "len(rightx) 635\n",
      "len(leftx) 3556\n"
     ]
    },
    {
     "name": "stderr",
     "output_type": "stream",
     "text": [
      "\u001b[A\n",
      "  9%|▉         | 44/485 [00:11<01:52,  3.91it/s]"
     ]
    },
    {
     "name": "stdout",
     "output_type": "stream",
     "text": [
      "len(rightx) 688\n",
      "len(leftx) 3697\n"
     ]
    },
    {
     "name": "stderr",
     "output_type": "stream",
     "text": [
      "\u001b[A\n",
      "  9%|▉         | 45/485 [00:11<01:53,  3.88it/s]"
     ]
    },
    {
     "name": "stdout",
     "output_type": "stream",
     "text": [
      "len(rightx) 782\n",
      "len(leftx) 3736\n"
     ]
    },
    {
     "name": "stderr",
     "output_type": "stream",
     "text": [
      "\u001b[A\n",
      "  9%|▉         | 46/485 [00:12<01:52,  3.92it/s]"
     ]
    },
    {
     "name": "stdout",
     "output_type": "stream",
     "text": [
      "len(rightx) 816\n",
      "len(leftx) 4119\n"
     ]
    },
    {
     "name": "stderr",
     "output_type": "stream",
     "text": [
      "\u001b[A\n",
      " 10%|▉         | 47/485 [00:12<01:52,  3.91it/s]"
     ]
    },
    {
     "name": "stdout",
     "output_type": "stream",
     "text": [
      "len(rightx) 741\n",
      "len(leftx) 4240\n"
     ]
    },
    {
     "name": "stderr",
     "output_type": "stream",
     "text": [
      "\u001b[A\n",
      " 10%|▉         | 48/485 [00:12<01:51,  3.92it/s]"
     ]
    },
    {
     "name": "stdout",
     "output_type": "stream",
     "text": [
      "len(rightx) 432\n",
      "len(leftx) 4612\n"
     ]
    },
    {
     "name": "stderr",
     "output_type": "stream",
     "text": [
      "\u001b[A\n",
      " 10%|█         | 49/485 [00:12<01:51,  3.90it/s]"
     ]
    },
    {
     "name": "stdout",
     "output_type": "stream",
     "text": [
      "len(rightx) 328\n",
      "len(leftx) 3794\n"
     ]
    },
    {
     "name": "stderr",
     "output_type": "stream",
     "text": [
      "\u001b[A\n",
      " 10%|█         | 50/485 [00:13<01:54,  3.81it/s]"
     ]
    },
    {
     "name": "stdout",
     "output_type": "stream",
     "text": [
      "len(rightx) 332\n",
      "len(leftx) 4063\n"
     ]
    },
    {
     "name": "stderr",
     "output_type": "stream",
     "text": [
      "\u001b[A\n",
      " 11%|█         | 51/485 [00:13<01:54,  3.78it/s]"
     ]
    },
    {
     "name": "stdout",
     "output_type": "stream",
     "text": [
      "len(rightx) 354\n",
      "len(leftx) 3776\n"
     ]
    },
    {
     "name": "stderr",
     "output_type": "stream",
     "text": [
      "\u001b[A\n",
      " 11%|█         | 52/485 [00:13<01:56,  3.71it/s]"
     ]
    },
    {
     "name": "stdout",
     "output_type": "stream",
     "text": [
      "len(rightx) 423\n",
      "len(leftx) 3600\n"
     ]
    },
    {
     "name": "stderr",
     "output_type": "stream",
     "text": [
      "\u001b[A\n",
      " 11%|█         | 53/485 [00:14<01:55,  3.75it/s]"
     ]
    },
    {
     "name": "stdout",
     "output_type": "stream",
     "text": [
      "len(rightx) 502\n",
      "len(leftx) 3452\n"
     ]
    },
    {
     "name": "stderr",
     "output_type": "stream",
     "text": [
      "\u001b[A\n",
      " 11%|█         | 54/485 [00:14<01:54,  3.77it/s]"
     ]
    },
    {
     "name": "stdout",
     "output_type": "stream",
     "text": [
      "len(rightx) 570\n",
      "len(leftx) 3637\n"
     ]
    },
    {
     "name": "stderr",
     "output_type": "stream",
     "text": [
      "\u001b[A\n",
      " 11%|█▏        | 55/485 [00:14<01:54,  3.77it/s]"
     ]
    },
    {
     "name": "stdout",
     "output_type": "stream",
     "text": [
      "len(rightx) 679\n",
      "len(leftx) 3424\n"
     ]
    },
    {
     "name": "stderr",
     "output_type": "stream",
     "text": [
      "\u001b[A\n",
      " 12%|█▏        | 56/485 [00:14<01:52,  3.82it/s]"
     ]
    },
    {
     "name": "stdout",
     "output_type": "stream",
     "text": [
      "len(rightx) 739\n",
      "len(leftx) 3740\n"
     ]
    },
    {
     "name": "stderr",
     "output_type": "stream",
     "text": [
      "\u001b[A\n",
      " 12%|█▏        | 57/485 [00:15<01:51,  3.85it/s]"
     ]
    },
    {
     "name": "stdout",
     "output_type": "stream",
     "text": [
      "len(rightx) 735\n",
      "len(leftx) 3363\n"
     ]
    },
    {
     "name": "stderr",
     "output_type": "stream",
     "text": [
      "\u001b[A\n",
      " 12%|█▏        | 58/485 [00:15<01:50,  3.86it/s]"
     ]
    },
    {
     "name": "stdout",
     "output_type": "stream",
     "text": [
      "len(rightx) 775\n",
      "len(leftx) 3445\n"
     ]
    },
    {
     "name": "stderr",
     "output_type": "stream",
     "text": [
      "\u001b[A\n",
      " 12%|█▏        | 59/485 [00:15<01:49,  3.90it/s]"
     ]
    },
    {
     "name": "stdout",
     "output_type": "stream",
     "text": [
      "len(rightx) 847\n",
      "len(leftx) 3466\n"
     ]
    },
    {
     "name": "stderr",
     "output_type": "stream",
     "text": [
      "\u001b[A\n",
      " 12%|█▏        | 60/485 [00:15<01:54,  3.71it/s]"
     ]
    },
    {
     "name": "stdout",
     "output_type": "stream",
     "text": [
      "len(rightx) 904\n",
      "len(leftx) 4380\n"
     ]
    },
    {
     "name": "stderr",
     "output_type": "stream",
     "text": [
      "\u001b[A\n",
      " 13%|█▎        | 61/485 [00:16<01:52,  3.78it/s]"
     ]
    },
    {
     "name": "stdout",
     "output_type": "stream",
     "text": [
      "len(rightx) 693\n",
      "len(leftx) 3813\n"
     ]
    },
    {
     "name": "stderr",
     "output_type": "stream",
     "text": [
      "\u001b[A\n",
      " 13%|█▎        | 62/485 [00:16<01:50,  3.83it/s]"
     ]
    },
    {
     "name": "stdout",
     "output_type": "stream",
     "text": [
      "len(rightx) 476\n",
      "len(leftx) 3840\n"
     ]
    },
    {
     "name": "stderr",
     "output_type": "stream",
     "text": [
      "\u001b[A\n",
      " 13%|█▎        | 63/485 [00:16<01:48,  3.87it/s]"
     ]
    },
    {
     "name": "stdout",
     "output_type": "stream",
     "text": [
      "len(rightx) 378\n",
      "len(leftx) 4454\n"
     ]
    },
    {
     "name": "stderr",
     "output_type": "stream",
     "text": [
      "\u001b[A\n",
      " 13%|█▎        | 64/485 [00:16<01:52,  3.73it/s]"
     ]
    },
    {
     "name": "stdout",
     "output_type": "stream",
     "text": [
      "len(rightx) 370\n",
      "len(leftx) 4514\n"
     ]
    },
    {
     "name": "stderr",
     "output_type": "stream",
     "text": [
      "\u001b[A\n",
      " 13%|█▎        | 65/485 [00:17<01:52,  3.74it/s]"
     ]
    },
    {
     "name": "stdout",
     "output_type": "stream",
     "text": [
      "len(rightx) 388\n",
      "len(leftx) 3917\n"
     ]
    },
    {
     "name": "stderr",
     "output_type": "stream",
     "text": [
      "\u001b[A\n",
      " 14%|█▎        | 66/485 [00:17<01:51,  3.77it/s]"
     ]
    },
    {
     "name": "stdout",
     "output_type": "stream",
     "text": [
      "len(rightx) 359\n",
      "len(leftx) 4047\n"
     ]
    },
    {
     "name": "stderr",
     "output_type": "stream",
     "text": [
      "\u001b[A\n",
      " 14%|█▍        | 67/485 [00:17<01:49,  3.83it/s]"
     ]
    },
    {
     "name": "stdout",
     "output_type": "stream",
     "text": [
      "len(rightx) 426\n",
      "len(leftx) 3893\n"
     ]
    },
    {
     "name": "stderr",
     "output_type": "stream",
     "text": [
      "\u001b[A\n",
      " 14%|█▍        | 68/485 [00:18<01:58,  3.53it/s]"
     ]
    },
    {
     "name": "stdout",
     "output_type": "stream",
     "text": [
      "len(rightx) 548\n",
      "len(leftx) 3809\n"
     ]
    },
    {
     "name": "stderr",
     "output_type": "stream",
     "text": [
      "\u001b[A\n",
      " 14%|█▍        | 69/485 [00:18<02:18,  3.01it/s]"
     ]
    },
    {
     "name": "stdout",
     "output_type": "stream",
     "text": [
      "len(rightx) 691\n",
      "len(leftx) 3238\n"
     ]
    },
    {
     "name": "stderr",
     "output_type": "stream",
     "text": [
      "\u001b[A\n",
      " 14%|█▍        | 70/485 [00:18<02:12,  3.13it/s]"
     ]
    },
    {
     "name": "stdout",
     "output_type": "stream",
     "text": [
      "len(rightx) 758\n",
      "len(leftx) 3051\n"
     ]
    },
    {
     "name": "stderr",
     "output_type": "stream",
     "text": [
      "\u001b[A\n",
      " 15%|█▍        | 71/485 [00:19<02:05,  3.29it/s]"
     ]
    },
    {
     "name": "stdout",
     "output_type": "stream",
     "text": [
      "len(rightx) 830\n",
      "len(leftx) 3286\n",
      "left_curverad, right_curverad\n",
      "871.038768838 272.775600683\n"
     ]
    },
    {
     "name": "stderr",
     "output_type": "stream",
     "text": [
      "\u001b[A\n",
      " 15%|█▍        | 72/485 [00:19<02:00,  3.42it/s]"
     ]
    },
    {
     "name": "stdout",
     "output_type": "stream",
     "text": [
      "len(rightx) 1038\n",
      "len(leftx) 2786\n"
     ]
    },
    {
     "name": "stderr",
     "output_type": "stream",
     "text": [
      "\u001b[A\n",
      " 15%|█▌        | 73/485 [00:19<01:55,  3.58it/s]"
     ]
    },
    {
     "name": "stdout",
     "output_type": "stream",
     "text": [
      "len(rightx) 1061\n",
      "len(leftx) 3119\n"
     ]
    },
    {
     "name": "stderr",
     "output_type": "stream",
     "text": [
      "\u001b[A\n",
      " 15%|█▌        | 74/485 [00:19<01:52,  3.64it/s]"
     ]
    },
    {
     "name": "stdout",
     "output_type": "stream",
     "text": [
      "len(rightx) 1174\n",
      "len(leftx) 2774\n"
     ]
    },
    {
     "name": "stderr",
     "output_type": "stream",
     "text": [
      "\u001b[A\n",
      " 15%|█▌        | 75/485 [00:20<01:49,  3.75it/s]"
     ]
    },
    {
     "name": "stdout",
     "output_type": "stream",
     "text": [
      "len(rightx) 1017\n",
      "len(leftx) 2833\n"
     ]
    },
    {
     "name": "stderr",
     "output_type": "stream",
     "text": [
      "\u001b[A\n",
      " 16%|█▌        | 76/485 [00:20<01:48,  3.78it/s]"
     ]
    },
    {
     "name": "stdout",
     "output_type": "stream",
     "text": [
      "len(rightx) 893\n",
      "len(leftx) 2793\n"
     ]
    },
    {
     "name": "stderr",
     "output_type": "stream",
     "text": [
      "\u001b[A\n",
      " 16%|█▌        | 77/485 [00:20<01:47,  3.80it/s]"
     ]
    },
    {
     "name": "stdout",
     "output_type": "stream",
     "text": [
      "len(rightx) 713\n",
      "len(leftx) 2669\n"
     ]
    },
    {
     "name": "stderr",
     "output_type": "stream",
     "text": [
      "\u001b[A\n",
      " 16%|█▌        | 78/485 [00:20<01:44,  3.88it/s]"
     ]
    },
    {
     "name": "stdout",
     "output_type": "stream",
     "text": [
      "len(rightx) 608\n",
      "len(leftx) 2350\n"
     ]
    },
    {
     "name": "stderr",
     "output_type": "stream",
     "text": [
      "\u001b[A\n",
      " 16%|█▋        | 79/485 [00:21<01:45,  3.84it/s]"
     ]
    },
    {
     "name": "stdout",
     "output_type": "stream",
     "text": [
      "len(rightx) 750\n",
      "len(leftx) 2787\n"
     ]
    },
    {
     "name": "stderr",
     "output_type": "stream",
     "text": [
      "\u001b[A\n",
      " 16%|█▋        | 80/485 [00:21<01:45,  3.83it/s]"
     ]
    },
    {
     "name": "stdout",
     "output_type": "stream",
     "text": [
      "len(rightx) 796\n",
      "len(leftx) 2925\n"
     ]
    },
    {
     "name": "stderr",
     "output_type": "stream",
     "text": [
      "\u001b[A\n",
      " 17%|█▋        | 81/485 [00:21<01:44,  3.86it/s]"
     ]
    },
    {
     "name": "stdout",
     "output_type": "stream",
     "text": [
      "len(rightx) 788\n",
      "len(leftx) 2518\n"
     ]
    },
    {
     "name": "stderr",
     "output_type": "stream",
     "text": [
      "\u001b[A\n",
      " 17%|█▋        | 82/485 [00:21<01:44,  3.86it/s]"
     ]
    },
    {
     "name": "stdout",
     "output_type": "stream",
     "text": [
      "len(rightx) 906\n",
      "len(leftx) 2569\n"
     ]
    },
    {
     "name": "stderr",
     "output_type": "stream",
     "text": [
      "\u001b[A\n",
      " 17%|█▋        | 83/485 [00:22<01:44,  3.87it/s]"
     ]
    },
    {
     "name": "stdout",
     "output_type": "stream",
     "text": [
      "len(rightx) 1008\n",
      "len(leftx) 2898\n"
     ]
    },
    {
     "name": "stderr",
     "output_type": "stream",
     "text": [
      "\u001b[A\n",
      " 17%|█▋        | 84/485 [00:22<01:44,  3.84it/s]"
     ]
    },
    {
     "name": "stdout",
     "output_type": "stream",
     "text": [
      "len(rightx) 1109\n",
      "len(leftx) 3023\n",
      "left_curverad, right_curverad\n",
      "1610.77166104 405.969223605\n"
     ]
    },
    {
     "name": "stderr",
     "output_type": "stream",
     "text": [
      "\u001b[A\n",
      " 18%|█▊        | 85/485 [00:22<01:43,  3.86it/s]"
     ]
    },
    {
     "name": "stdout",
     "output_type": "stream",
     "text": [
      "len(rightx) 1127\n",
      "len(leftx) 3076\n"
     ]
    },
    {
     "name": "stderr",
     "output_type": "stream",
     "text": [
      "\u001b[A\n",
      " 18%|█▊        | 86/485 [00:22<01:43,  3.86it/s]"
     ]
    },
    {
     "name": "stdout",
     "output_type": "stream",
     "text": [
      "len(rightx) 1186\n",
      "len(leftx) 3199\n"
     ]
    },
    {
     "name": "stderr",
     "output_type": "stream",
     "text": [
      "\u001b[A\n",
      " 18%|█▊        | 87/485 [00:23<01:45,  3.79it/s]"
     ]
    },
    {
     "name": "stdout",
     "output_type": "stream",
     "text": [
      "len(rightx) 1354\n",
      "len(leftx) 2887\n"
     ]
    },
    {
     "name": "stderr",
     "output_type": "stream",
     "text": [
      "\u001b[A\n",
      " 18%|█▊        | 88/485 [00:23<01:45,  3.76it/s]"
     ]
    },
    {
     "name": "stdout",
     "output_type": "stream",
     "text": [
      "len(rightx) 1147\n",
      "len(leftx) 3503\n"
     ]
    },
    {
     "name": "stderr",
     "output_type": "stream",
     "text": [
      "\u001b[A\n",
      " 18%|█▊        | 89/485 [00:23<01:45,  3.74it/s]"
     ]
    },
    {
     "name": "stdout",
     "output_type": "stream",
     "text": [
      "len(rightx) 981\n",
      "len(leftx) 3913\n"
     ]
    },
    {
     "name": "stderr",
     "output_type": "stream",
     "text": [
      "\u001b[A\n",
      " 19%|█▊        | 90/485 [00:24<01:45,  3.73it/s]"
     ]
    },
    {
     "name": "stdout",
     "output_type": "stream",
     "text": [
      "len(rightx) 852\n",
      "len(leftx) 3492\n"
     ]
    },
    {
     "name": "stderr",
     "output_type": "stream",
     "text": [
      "\u001b[A\n",
      " 19%|█▉        | 91/485 [00:24<01:44,  3.77it/s]"
     ]
    },
    {
     "name": "stdout",
     "output_type": "stream",
     "text": [
      "len(rightx) 734\n",
      "len(leftx) 2739\n"
     ]
    },
    {
     "name": "stderr",
     "output_type": "stream",
     "text": [
      "\u001b[A\n",
      " 19%|█▉        | 92/485 [00:24<01:44,  3.74it/s]"
     ]
    },
    {
     "name": "stdout",
     "output_type": "stream",
     "text": [
      "len(rightx) 669\n",
      "len(leftx) 3309\n"
     ]
    },
    {
     "name": "stderr",
     "output_type": "stream",
     "text": [
      "\u001b[A\n",
      " 19%|█▉        | 93/485 [00:24<01:43,  3.79it/s]"
     ]
    },
    {
     "name": "stdout",
     "output_type": "stream",
     "text": [
      "len(rightx) 663\n",
      "len(leftx) 3120\n"
     ]
    },
    {
     "name": "stderr",
     "output_type": "stream",
     "text": [
      "\u001b[A\n",
      " 19%|█▉        | 94/485 [00:25<01:44,  3.75it/s]"
     ]
    },
    {
     "name": "stdout",
     "output_type": "stream",
     "text": [
      "len(rightx) 793\n",
      "len(leftx) 3407\n"
     ]
    },
    {
     "name": "stderr",
     "output_type": "stream",
     "text": [
      "\u001b[A\n",
      " 20%|█▉        | 95/485 [00:25<01:42,  3.81it/s]"
     ]
    },
    {
     "name": "stdout",
     "output_type": "stream",
     "text": [
      "len(rightx) 792\n",
      "len(leftx) 3377\n"
     ]
    },
    {
     "name": "stderr",
     "output_type": "stream",
     "text": [
      "\u001b[A\n",
      " 20%|█▉        | 96/485 [00:25<01:45,  3.70it/s]"
     ]
    },
    {
     "name": "stdout",
     "output_type": "stream",
     "text": [
      "len(rightx) 834\n",
      "len(leftx) 3650\n"
     ]
    },
    {
     "name": "stderr",
     "output_type": "stream",
     "text": [
      "\u001b[A\n",
      " 20%|██        | 97/485 [00:25<01:42,  3.77it/s]"
     ]
    },
    {
     "name": "stdout",
     "output_type": "stream",
     "text": [
      "len(rightx) 894\n",
      "len(leftx) 3232\n"
     ]
    },
    {
     "name": "stderr",
     "output_type": "stream",
     "text": [
      "\u001b[A\n",
      " 20%|██        | 98/485 [00:26<01:41,  3.83it/s]"
     ]
    },
    {
     "name": "stdout",
     "output_type": "stream",
     "text": [
      "len(rightx) 1061\n",
      "len(leftx) 3351\n"
     ]
    },
    {
     "name": "stderr",
     "output_type": "stream",
     "text": [
      "\u001b[A\n",
      " 20%|██        | 99/485 [00:26<01:40,  3.83it/s]"
     ]
    },
    {
     "name": "stdout",
     "output_type": "stream",
     "text": [
      "len(rightx) 1061\n",
      "len(leftx) 3305\n"
     ]
    },
    {
     "name": "stderr",
     "output_type": "stream",
     "text": [
      "\u001b[A\n",
      " 21%|██        | 100/485 [00:26<01:42,  3.75it/s]"
     ]
    },
    {
     "name": "stdout",
     "output_type": "stream",
     "text": [
      "len(rightx) 1122\n",
      "len(leftx) 3609\n"
     ]
    },
    {
     "name": "stderr",
     "output_type": "stream",
     "text": [
      "\u001b[A\n",
      " 21%|██        | 101/485 [00:26<01:43,  3.71it/s]"
     ]
    },
    {
     "name": "stdout",
     "output_type": "stream",
     "text": [
      "len(rightx) 1331\n",
      "len(leftx) 4249\n"
     ]
    },
    {
     "name": "stderr",
     "output_type": "stream",
     "text": [
      "\u001b[A\n",
      " 21%|██        | 102/485 [00:27<01:42,  3.73it/s]"
     ]
    },
    {
     "name": "stdout",
     "output_type": "stream",
     "text": [
      "len(rightx) 1391\n",
      "len(leftx) 4284\n"
     ]
    },
    {
     "name": "stderr",
     "output_type": "stream",
     "text": [
      "\u001b[A\n",
      " 21%|██        | 103/485 [00:27<01:41,  3.77it/s]"
     ]
    },
    {
     "name": "stdout",
     "output_type": "stream",
     "text": [
      "len(rightx) 1106\n",
      "len(leftx) 4473\n"
     ]
    },
    {
     "name": "stderr",
     "output_type": "stream",
     "text": [
      "\u001b[A\n",
      " 21%|██▏       | 104/485 [00:27<01:41,  3.77it/s]"
     ]
    },
    {
     "name": "stdout",
     "output_type": "stream",
     "text": [
      "len(rightx) 1104\n",
      "len(leftx) 3780\n"
     ]
    },
    {
     "name": "stderr",
     "output_type": "stream",
     "text": [
      "\u001b[A\n",
      " 22%|██▏       | 105/485 [00:28<01:40,  3.78it/s]"
     ]
    },
    {
     "name": "stdout",
     "output_type": "stream",
     "text": [
      "len(rightx) 1003\n",
      "len(leftx) 5586\n"
     ]
    },
    {
     "name": "stderr",
     "output_type": "stream",
     "text": [
      "\u001b[A\n",
      " 22%|██▏       | 106/485 [00:28<01:38,  3.85it/s]"
     ]
    },
    {
     "name": "stdout",
     "output_type": "stream",
     "text": [
      "len(rightx) 985\n",
      "len(leftx) 5824\n"
     ]
    },
    {
     "name": "stderr",
     "output_type": "stream",
     "text": [
      "\u001b[A\n",
      " 22%|██▏       | 107/485 [00:28<01:37,  3.88it/s]"
     ]
    },
    {
     "name": "stdout",
     "output_type": "stream",
     "text": [
      "len(rightx) 1077\n",
      "len(leftx) 5017\n"
     ]
    },
    {
     "name": "stderr",
     "output_type": "stream",
     "text": [
      "\u001b[A\n",
      " 22%|██▏       | 108/485 [00:28<01:40,  3.76it/s]"
     ]
    },
    {
     "name": "stdout",
     "output_type": "stream",
     "text": [
      "len(rightx) 1178\n",
      "len(leftx) 5409\n"
     ]
    },
    {
     "name": "stderr",
     "output_type": "stream",
     "text": [
      "\u001b[A\n",
      " 22%|██▏       | 109/485 [00:29<01:39,  3.78it/s]"
     ]
    },
    {
     "name": "stdout",
     "output_type": "stream",
     "text": [
      "len(rightx) 1219\n",
      "len(leftx) 5790\n",
      "left_curverad, right_curverad\n",
      "2030.38303663 516.411647091\n"
     ]
    },
    {
     "name": "stderr",
     "output_type": "stream",
     "text": [
      "\u001b[A\n",
      " 23%|██▎       | 110/485 [00:29<01:37,  3.83it/s]"
     ]
    },
    {
     "name": "stdout",
     "output_type": "stream",
     "text": [
      "len(rightx) 1137\n",
      "len(leftx) 5371\n"
     ]
    },
    {
     "name": "stderr",
     "output_type": "stream",
     "text": [
      "\u001b[A\n",
      " 23%|██▎       | 111/485 [00:29<01:40,  3.72it/s]"
     ]
    },
    {
     "name": "stdout",
     "output_type": "stream",
     "text": [
      "len(rightx) 1282\n",
      "len(leftx) 5476\n"
     ]
    },
    {
     "name": "stderr",
     "output_type": "stream",
     "text": [
      "\u001b[A\n",
      " 23%|██▎       | 112/485 [00:29<01:52,  3.33it/s]"
     ]
    },
    {
     "name": "stdout",
     "output_type": "stream",
     "text": [
      "len(rightx) 1486\n",
      "len(leftx) 5270\n"
     ]
    },
    {
     "name": "stderr",
     "output_type": "stream",
     "text": [
      "\u001b[A\n",
      " 23%|██▎       | 113/485 [00:30<01:46,  3.50it/s]"
     ]
    },
    {
     "name": "stdout",
     "output_type": "stream",
     "text": [
      "len(rightx) 1394\n",
      "len(leftx) 4802\n"
     ]
    },
    {
     "name": "stderr",
     "output_type": "stream",
     "text": [
      "\u001b[A\n",
      " 24%|██▎       | 114/485 [00:30<01:42,  3.61it/s]"
     ]
    },
    {
     "name": "stdout",
     "output_type": "stream",
     "text": [
      "len(rightx) 1580\n",
      "len(leftx) 4667\n",
      "left_curverad, right_curverad\n",
      "2522.16626035 653.30765774\n"
     ]
    },
    {
     "name": "stderr",
     "output_type": "stream",
     "text": [
      "\u001b[A\n",
      " 24%|██▎       | 115/485 [00:30<01:40,  3.69it/s]"
     ]
    },
    {
     "name": "stdout",
     "output_type": "stream",
     "text": [
      "len(rightx) 1736\n",
      "len(leftx) 5513\n",
      "left_curverad, right_curverad\n",
      "8484.97289777 679.411956696\n"
     ]
    },
    {
     "name": "stderr",
     "output_type": "stream",
     "text": [
      "\u001b[A\n",
      " 24%|██▍       | 116/485 [00:31<01:40,  3.67it/s]"
     ]
    },
    {
     "name": "stdout",
     "output_type": "stream",
     "text": [
      "len(rightx) 1729\n",
      "len(leftx) 5497\n"
     ]
    },
    {
     "name": "stderr",
     "output_type": "stream",
     "text": [
      "\u001b[A\n",
      " 24%|██▍       | 117/485 [00:31<01:39,  3.70it/s]"
     ]
    },
    {
     "name": "stdout",
     "output_type": "stream",
     "text": [
      "len(rightx) 1421\n",
      "len(leftx) 5155\n",
      "left_curverad, right_curverad\n",
      "16782.529771 480.760948185\n"
     ]
    },
    {
     "name": "stderr",
     "output_type": "stream",
     "text": [
      "\u001b[A\n",
      " 24%|██▍       | 118/485 [00:31<01:37,  3.78it/s]"
     ]
    },
    {
     "name": "stdout",
     "output_type": "stream",
     "text": [
      "len(rightx) 1208\n",
      "len(leftx) 4441\n",
      "left_curverad, right_curverad\n",
      "4356.29280481 346.838739549\n"
     ]
    },
    {
     "name": "stderr",
     "output_type": "stream",
     "text": [
      "\u001b[A\n",
      " 25%|██▍       | 119/485 [00:31<01:36,  3.80it/s]"
     ]
    },
    {
     "name": "stdout",
     "output_type": "stream",
     "text": [
      "len(rightx) 853\n",
      "len(leftx) 3843\n",
      "left_curverad, right_curverad\n",
      "1843.7449116 329.768045007\n"
     ]
    },
    {
     "name": "stderr",
     "output_type": "stream",
     "text": [
      "\u001b[A\n",
      " 25%|██▍       | 120/485 [00:32<01:36,  3.79it/s]"
     ]
    },
    {
     "name": "stdout",
     "output_type": "stream",
     "text": [
      "len(rightx) 801\n",
      "len(leftx) 3330\n",
      "left_curverad, right_curverad\n",
      "18578.8107495 433.732280445\n"
     ]
    },
    {
     "name": "stderr",
     "output_type": "stream",
     "text": [
      "\u001b[A\n",
      " 25%|██▍       | 121/485 [00:32<01:36,  3.76it/s]"
     ]
    },
    {
     "name": "stdout",
     "output_type": "stream",
     "text": [
      "len(rightx) 873\n",
      "len(leftx) 3055\n",
      "left_curverad, right_curverad\n",
      "1176.1947428 320.29929193\n"
     ]
    },
    {
     "name": "stderr",
     "output_type": "stream",
     "text": [
      "\u001b[A\n",
      " 25%|██▌       | 122/485 [00:32<01:37,  3.72it/s]"
     ]
    },
    {
     "name": "stdout",
     "output_type": "stream",
     "text": [
      "len(rightx) 901\n",
      "len(leftx) 2823\n"
     ]
    },
    {
     "name": "stderr",
     "output_type": "stream",
     "text": [
      "\u001b[A\n",
      " 25%|██▌       | 123/485 [00:32<01:36,  3.76it/s]"
     ]
    },
    {
     "name": "stdout",
     "output_type": "stream",
     "text": [
      "len(rightx) 906\n",
      "len(leftx) 2929\n",
      "left_curverad, right_curverad\n",
      "1260.06727423 345.040430148\n"
     ]
    },
    {
     "name": "stderr",
     "output_type": "stream",
     "text": [
      "\u001b[A\n",
      " 26%|██▌       | 124/485 [00:33<01:35,  3.77it/s]"
     ]
    },
    {
     "name": "stdout",
     "output_type": "stream",
     "text": [
      "len(rightx) 981\n",
      "len(leftx) 2570\n"
     ]
    },
    {
     "name": "stderr",
     "output_type": "stream",
     "text": [
      "\u001b[A\n",
      " 26%|██▌       | 125/485 [00:33<01:34,  3.79it/s]"
     ]
    },
    {
     "name": "stdout",
     "output_type": "stream",
     "text": [
      "len(rightx) 1024\n",
      "len(leftx) 2260\n",
      "left_curverad, right_curverad\n",
      "10949.5210285 554.112824479\n"
     ]
    },
    {
     "name": "stderr",
     "output_type": "stream",
     "text": [
      "\u001b[A\n",
      " 26%|██▌       | 126/485 [00:33<01:35,  3.76it/s]"
     ]
    },
    {
     "name": "stdout",
     "output_type": "stream",
     "text": [
      "len(rightx) 1141\n",
      "len(leftx) 2029\n"
     ]
    },
    {
     "name": "stderr",
     "output_type": "stream",
     "text": [
      "\u001b[A\n",
      " 26%|██▌       | 127/485 [00:33<01:34,  3.81it/s]"
     ]
    },
    {
     "name": "stdout",
     "output_type": "stream",
     "text": [
      "len(rightx) 1143\n",
      "len(leftx) 1750\n",
      "left_curverad, right_curverad\n",
      "4254.58980164 605.339758623\n"
     ]
    },
    {
     "name": "stderr",
     "output_type": "stream",
     "text": [
      "\u001b[A\n",
      " 26%|██▋       | 128/485 [00:34<01:34,  3.79it/s]"
     ]
    },
    {
     "name": "stdout",
     "output_type": "stream",
     "text": [
      "len(rightx) 1168\n",
      "len(leftx) 1521\n",
      "upper, lower\n",
      "630.246934178 538.252416387\n"
     ]
    },
    {
     "name": "stderr",
     "output_type": "stream",
     "text": [
      "\u001b[A\n",
      " 27%|██▋       | 129/485 [00:34<01:35,  3.72it/s]"
     ]
    },
    {
     "name": "stdout",
     "output_type": "stream",
     "text": [
      "len(rightx) 1189\n",
      "len(leftx) 1142\n",
      "left_curverad, right_curverad\n",
      "2676.90415898 642.579007936\n"
     ]
    },
    {
     "name": "stderr",
     "output_type": "stream",
     "text": [
      "\u001b[A\n",
      " 27%|██▋       | 130/485 [00:34<01:52,  3.16it/s]"
     ]
    },
    {
     "name": "stdout",
     "output_type": "stream",
     "text": [
      "len(rightx) 1453\n",
      "len(leftx) 690\n",
      "upper, lower\n",
      "953.143266422 545.150705292\n"
     ]
    },
    {
     "name": "stderr",
     "output_type": "stream",
     "text": [
      "\u001b[A\n",
      " 27%|██▋       | 131/485 [00:35<02:08,  2.76it/s]"
     ]
    },
    {
     "name": "stdout",
     "output_type": "stream",
     "text": [
      "len(rightx) 1312\n",
      "len(leftx) 317\n",
      "upper, lower\n",
      "1937.97884615 545.018366687\n"
     ]
    },
    {
     "name": "stderr",
     "output_type": "stream",
     "text": [
      "\u001b[A\n",
      " 27%|██▋       | 132/485 [00:35<02:08,  2.74it/s]"
     ]
    },
    {
     "name": "stdout",
     "output_type": "stream",
     "text": [
      "len(rightx) 969\n",
      "len(leftx) 143\n",
      "right_fitx[-1], left_fitx[-1\n",
      "925.048165926 187.364901779\n"
     ]
    },
    {
     "name": "stderr",
     "output_type": "stream",
     "text": [
      "\u001b[A\n",
      " 27%|██▋       | 133/485 [00:36<02:00,  2.91it/s]"
     ]
    },
    {
     "name": "stdout",
     "output_type": "stream",
     "text": [
      "len(rightx) 891\n",
      "len(leftx) 135\n",
      "upper, lower\n",
      "60430.7514944 576.185535909\n"
     ]
    },
    {
     "name": "stderr",
     "output_type": "stream",
     "text": [
      "\u001b[A\n",
      " 28%|██▊       | 134/485 [00:36<01:48,  3.23it/s]\u001b[A\n",
      " 28%|██▊       | 135/485 [00:36<01:41,  3.44it/s]\u001b[A\n",
      " 28%|██▊       | 136/485 [00:36<01:36,  3.61it/s]\u001b[A\n",
      " 28%|██▊       | 137/485 [00:37<01:35,  3.65it/s]\u001b[A\n",
      " 28%|██▊       | 138/485 [00:37<01:48,  3.21it/s]\u001b[A\n",
      " 29%|██▊       | 139/485 [00:37<01:54,  3.01it/s]\u001b[A\n",
      " 29%|██▉       | 140/485 [00:38<01:58,  2.90it/s]\u001b[A\n",
      " 29%|██▉       | 141/485 [00:38<02:16,  2.52it/s]"
     ]
    },
    {
     "name": "stdout",
     "output_type": "stream",
     "text": [
      "len(rightx) 3009\n",
      "len(leftx) 443\n",
      "upper, lower\n",
      "446.025313867 365.910701129\n"
     ]
    },
    {
     "name": "stderr",
     "output_type": "stream",
     "text": [
      "\u001b[A\n",
      " 29%|██▉       | 142/485 [00:39<02:12,  2.58it/s]"
     ]
    },
    {
     "name": "stdout",
     "output_type": "stream",
     "text": [
      "len(rightx) 3826\n",
      "len(leftx) 922\n"
     ]
    },
    {
     "name": "stderr",
     "output_type": "stream",
     "text": [
      "\u001b[A\n",
      " 29%|██▉       | 143/485 [00:39<02:05,  2.72it/s]"
     ]
    },
    {
     "name": "stdout",
     "output_type": "stream",
     "text": [
      "len(rightx) 4100\n",
      "len(leftx) 1124\n"
     ]
    },
    {
     "name": "stderr",
     "output_type": "stream",
     "text": [
      "\u001b[A\n",
      " 30%|██▉       | 144/485 [00:39<01:57,  2.91it/s]"
     ]
    },
    {
     "name": "stdout",
     "output_type": "stream",
     "text": [
      "len(rightx) 4696\n",
      "len(leftx) 730\n"
     ]
    },
    {
     "name": "stderr",
     "output_type": "stream",
     "text": [
      "\u001b[A\n",
      " 30%|██▉       | 145/485 [00:39<01:50,  3.07it/s]"
     ]
    },
    {
     "name": "stdout",
     "output_type": "stream",
     "text": [
      "len(rightx) 5192\n",
      "len(leftx) 585\n"
     ]
    },
    {
     "name": "stderr",
     "output_type": "stream",
     "text": [
      "\u001b[A\n",
      " 30%|███       | 146/485 [00:40<01:47,  3.15it/s]"
     ]
    },
    {
     "name": "stdout",
     "output_type": "stream",
     "text": [
      "len(rightx) 5674\n",
      "len(leftx) 969\n"
     ]
    },
    {
     "name": "stderr",
     "output_type": "stream",
     "text": [
      "\u001b[A\n",
      " 30%|███       | 147/485 [00:40<01:44,  3.23it/s]"
     ]
    },
    {
     "name": "stdout",
     "output_type": "stream",
     "text": [
      "len(rightx) 5334\n",
      "len(leftx) 1575\n",
      "left_curverad, right_curverad\n",
      "2979.69856701 434.258077623\n"
     ]
    },
    {
     "name": "stderr",
     "output_type": "stream",
     "text": [
      "\u001b[A\n",
      " 31%|███       | 148/485 [00:40<01:42,  3.28it/s]"
     ]
    },
    {
     "name": "stdout",
     "output_type": "stream",
     "text": [
      "len(rightx) 6066\n",
      "len(leftx) 1660\n"
     ]
    },
    {
     "name": "stderr",
     "output_type": "stream",
     "text": [
      "\u001b[A\n",
      " 31%|███       | 149/485 [00:41<01:39,  3.38it/s]"
     ]
    },
    {
     "name": "stdout",
     "output_type": "stream",
     "text": [
      "len(rightx) 6473\n",
      "len(leftx) 1826\n"
     ]
    },
    {
     "name": "stderr",
     "output_type": "stream",
     "text": [
      "\u001b[A\n",
      " 31%|███       | 150/485 [00:41<01:36,  3.46it/s]"
     ]
    },
    {
     "name": "stdout",
     "output_type": "stream",
     "text": [
      "len(rightx) 6359\n",
      "len(leftx) 2260\n"
     ]
    },
    {
     "name": "stderr",
     "output_type": "stream",
     "text": [
      "\u001b[A\n",
      " 31%|███       | 151/485 [00:41<01:33,  3.58it/s]"
     ]
    },
    {
     "name": "stdout",
     "output_type": "stream",
     "text": [
      "len(rightx) 4700\n",
      "len(leftx) 2310\n"
     ]
    },
    {
     "name": "stderr",
     "output_type": "stream",
     "text": [
      "\u001b[A\n",
      " 31%|███▏      | 152/485 [00:41<01:31,  3.63it/s]"
     ]
    },
    {
     "name": "stdout",
     "output_type": "stream",
     "text": [
      "len(rightx) 4737\n",
      "len(leftx) 2414\n"
     ]
    },
    {
     "name": "stderr",
     "output_type": "stream",
     "text": [
      "\u001b[A\n",
      " 32%|███▏      | 153/485 [00:42<01:30,  3.68it/s]"
     ]
    },
    {
     "name": "stdout",
     "output_type": "stream",
     "text": [
      "len(rightx) 4864\n",
      "len(leftx) 2923\n"
     ]
    },
    {
     "name": "stderr",
     "output_type": "stream",
     "text": [
      "\u001b[A\n",
      " 32%|███▏      | 154/485 [00:42<01:29,  3.71it/s]"
     ]
    },
    {
     "name": "stdout",
     "output_type": "stream",
     "text": [
      "len(rightx) 4567\n",
      "len(leftx) 3126\n"
     ]
    },
    {
     "name": "stderr",
     "output_type": "stream",
     "text": [
      "\u001b[A\n",
      " 32%|███▏      | 155/485 [00:42<01:29,  3.67it/s]"
     ]
    },
    {
     "name": "stdout",
     "output_type": "stream",
     "text": [
      "len(rightx) 4468\n",
      "len(leftx) 3594\n"
     ]
    },
    {
     "name": "stderr",
     "output_type": "stream",
     "text": [
      "\u001b[A\n",
      " 32%|███▏      | 156/485 [00:43<01:38,  3.34it/s]"
     ]
    },
    {
     "name": "stdout",
     "output_type": "stream",
     "text": [
      "len(rightx) 4622\n",
      "len(leftx) 3691\n"
     ]
    },
    {
     "name": "stderr",
     "output_type": "stream",
     "text": [
      "\u001b[A\n",
      " 32%|███▏      | 157/485 [00:43<01:34,  3.48it/s]"
     ]
    },
    {
     "name": "stdout",
     "output_type": "stream",
     "text": [
      "len(rightx) 5190\n",
      "len(leftx) 4542\n"
     ]
    },
    {
     "name": "stderr",
     "output_type": "stream",
     "text": [
      "\u001b[A\n",
      " 33%|███▎      | 158/485 [00:43<01:32,  3.54it/s]"
     ]
    },
    {
     "name": "stdout",
     "output_type": "stream",
     "text": [
      "len(rightx) 5787\n",
      "len(leftx) 4420\n"
     ]
    },
    {
     "name": "stderr",
     "output_type": "stream",
     "text": [
      "\u001b[A\n",
      " 33%|███▎      | 159/485 [00:43<01:31,  3.57it/s]"
     ]
    },
    {
     "name": "stdout",
     "output_type": "stream",
     "text": [
      "len(rightx) 5411\n",
      "len(leftx) 4808\n"
     ]
    },
    {
     "name": "stderr",
     "output_type": "stream",
     "text": [
      "\u001b[A\n",
      " 33%|███▎      | 160/485 [00:44<01:30,  3.61it/s]"
     ]
    },
    {
     "name": "stdout",
     "output_type": "stream",
     "text": [
      "len(rightx) 4567\n",
      "len(leftx) 4278\n",
      "upper, lower\n",
      "628.577052712 537.93840211\n"
     ]
    },
    {
     "name": "stderr",
     "output_type": "stream",
     "text": [
      "\u001b[A\n",
      " 33%|███▎      | 161/485 [00:44<01:28,  3.68it/s]"
     ]
    },
    {
     "name": "stdout",
     "output_type": "stream",
     "text": [
      "len(rightx) 4525\n",
      "len(leftx) 3628\n",
      "upper, lower\n",
      "650.189621025 544.867726949\n"
     ]
    },
    {
     "name": "stderr",
     "output_type": "stream",
     "text": [
      "\u001b[A\n",
      " 33%|███▎      | 162/485 [00:44<01:25,  3.78it/s]"
     ]
    },
    {
     "name": "stdout",
     "output_type": "stream",
     "text": [
      "len(rightx) 4109\n",
      "len(leftx) 3872\n",
      "upper, lower\n",
      "691.166303848 540.553207147\n"
     ]
    },
    {
     "name": "stderr",
     "output_type": "stream",
     "text": [
      "\u001b[A\n",
      " 34%|███▎      | 163/485 [00:44<01:25,  3.77it/s]"
     ]
    },
    {
     "name": "stdout",
     "output_type": "stream",
     "text": [
      "len(rightx) 4171\n",
      "len(leftx) 3790\n",
      "upper, lower\n",
      "730.553026758 536.329520032\n"
     ]
    },
    {
     "name": "stderr",
     "output_type": "stream",
     "text": [
      "\u001b[A\n",
      " 34%|███▍      | 164/485 [00:45<01:27,  3.65it/s]"
     ]
    },
    {
     "name": "stdout",
     "output_type": "stream",
     "text": [
      "len(rightx) 4099\n",
      "len(leftx) 3636\n",
      "upper, lower\n",
      "760.352782954 542.249485779\n"
     ]
    },
    {
     "name": "stderr",
     "output_type": "stream",
     "text": [
      "\u001b[A\n",
      " 34%|███▍      | 165/485 [00:45<01:27,  3.66it/s]"
     ]
    },
    {
     "name": "stdout",
     "output_type": "stream",
     "text": [
      "len(rightx) 3883\n",
      "len(leftx) 4165\n",
      "upper, lower\n",
      "823.246688201 553.100664834\n"
     ]
    },
    {
     "name": "stderr",
     "output_type": "stream",
     "text": [
      "\u001b[A\n",
      " 34%|███▍      | 166/485 [00:45<01:26,  3.70it/s]"
     ]
    },
    {
     "name": "stdout",
     "output_type": "stream",
     "text": [
      "len(rightx) 3775\n",
      "len(leftx) 4200\n",
      "upper, lower\n",
      "765.368582501 550.441114284\n"
     ]
    },
    {
     "name": "stderr",
     "output_type": "stream",
     "text": [
      "\u001b[A\n",
      " 34%|███▍      | 167/485 [00:46<01:26,  3.70it/s]"
     ]
    },
    {
     "name": "stdout",
     "output_type": "stream",
     "text": [
      "len(rightx) 3750\n",
      "len(leftx) 4572\n",
      "upper, lower\n",
      "723.419576907 547.378865068\n"
     ]
    },
    {
     "name": "stderr",
     "output_type": "stream",
     "text": [
      "\u001b[A\n",
      " 35%|███▍      | 168/485 [00:46<01:29,  3.56it/s]"
     ]
    },
    {
     "name": "stdout",
     "output_type": "stream",
     "text": [
      "len(rightx) 3759\n",
      "len(leftx) 4162\n",
      "upper, lower\n",
      "764.683478739 548.572389704\n"
     ]
    },
    {
     "name": "stderr",
     "output_type": "stream",
     "text": [
      "\u001b[A\n",
      " 35%|███▍      | 169/485 [00:46<01:31,  3.44it/s]"
     ]
    },
    {
     "name": "stdout",
     "output_type": "stream",
     "text": [
      "len(rightx) 3782\n",
      "len(leftx) 4306\n",
      "upper, lower\n",
      "614.525209114 542.410210152\n"
     ]
    },
    {
     "name": "stderr",
     "output_type": "stream",
     "text": [
      "\u001b[A\n",
      " 35%|███▌      | 170/485 [00:46<01:33,  3.38it/s]"
     ]
    },
    {
     "name": "stdout",
     "output_type": "stream",
     "text": [
      "len(rightx) 3799\n",
      "len(leftx) 4165\n"
     ]
    },
    {
     "name": "stderr",
     "output_type": "stream",
     "text": [
      "\u001b[A\n",
      " 35%|███▌      | 171/485 [00:47<01:33,  3.35it/s]"
     ]
    },
    {
     "name": "stdout",
     "output_type": "stream",
     "text": [
      "len(rightx) 3508\n",
      "len(leftx) 4496\n"
     ]
    },
    {
     "name": "stderr",
     "output_type": "stream",
     "text": [
      "\u001b[A\n",
      " 35%|███▌      | 172/485 [00:47<01:39,  3.15it/s]"
     ]
    },
    {
     "name": "stdout",
     "output_type": "stream",
     "text": [
      "len(rightx) 3648\n",
      "len(leftx) 5141\n"
     ]
    },
    {
     "name": "stderr",
     "output_type": "stream",
     "text": [
      "\u001b[A\n",
      " 36%|███▌      | 173/485 [00:47<01:45,  2.97it/s]"
     ]
    },
    {
     "name": "stdout",
     "output_type": "stream",
     "text": [
      "len(rightx) 3260\n",
      "len(leftx) 4684\n"
     ]
    },
    {
     "name": "stderr",
     "output_type": "stream",
     "text": [
      "\u001b[A\n",
      " 36%|███▌      | 174/485 [00:48<01:39,  3.14it/s]"
     ]
    },
    {
     "name": "stdout",
     "output_type": "stream",
     "text": [
      "len(rightx) 3022\n",
      "len(leftx) 4645\n"
     ]
    },
    {
     "name": "stderr",
     "output_type": "stream",
     "text": [
      "\u001b[A\n",
      " 36%|███▌      | 175/485 [00:48<01:34,  3.28it/s]"
     ]
    },
    {
     "name": "stdout",
     "output_type": "stream",
     "text": [
      "len(rightx) 2862\n",
      "len(leftx) 4087\n"
     ]
    },
    {
     "name": "stderr",
     "output_type": "stream",
     "text": [
      "\u001b[A\n",
      " 36%|███▋      | 176/485 [00:48<01:32,  3.34it/s]"
     ]
    },
    {
     "name": "stdout",
     "output_type": "stream",
     "text": [
      "len(rightx) 2738\n",
      "len(leftx) 3395\n"
     ]
    },
    {
     "name": "stderr",
     "output_type": "stream",
     "text": [
      "\u001b[A\n",
      " 36%|███▋      | 177/485 [00:49<01:31,  3.35it/s]"
     ]
    },
    {
     "name": "stdout",
     "output_type": "stream",
     "text": [
      "len(rightx) 2823\n",
      "len(leftx) 4416\n"
     ]
    },
    {
     "name": "stderr",
     "output_type": "stream",
     "text": [
      "\u001b[A\n",
      " 37%|███▋      | 178/485 [00:49<01:29,  3.45it/s]"
     ]
    },
    {
     "name": "stdout",
     "output_type": "stream",
     "text": [
      "len(rightx) 2505\n",
      "len(leftx) 3749\n"
     ]
    },
    {
     "name": "stderr",
     "output_type": "stream",
     "text": [
      "\u001b[A\n",
      " 37%|███▋      | 179/485 [00:49<01:26,  3.54it/s]"
     ]
    },
    {
     "name": "stdout",
     "output_type": "stream",
     "text": [
      "len(rightx) 2566\n",
      "len(leftx) 3713\n",
      "left_curverad, right_curverad\n",
      "1160.30436993 347.114960665\n"
     ]
    },
    {
     "name": "stderr",
     "output_type": "stream",
     "text": [
      "\u001b[A\n",
      " 37%|███▋      | 180/485 [00:49<01:24,  3.60it/s]"
     ]
    },
    {
     "name": "stdout",
     "output_type": "stream",
     "text": [
      "len(rightx) 2616\n",
      "len(leftx) 3884\n"
     ]
    },
    {
     "name": "stderr",
     "output_type": "stream",
     "text": [
      "\u001b[A\n",
      " 37%|███▋      | 181/485 [00:50<01:23,  3.62it/s]"
     ]
    },
    {
     "name": "stdout",
     "output_type": "stream",
     "text": [
      "len(rightx) 3051\n",
      "len(leftx) 3305\n"
     ]
    },
    {
     "name": "stderr",
     "output_type": "stream",
     "text": [
      "\u001b[A\n",
      " 38%|███▊      | 182/485 [00:50<01:26,  3.50it/s]"
     ]
    },
    {
     "name": "stdout",
     "output_type": "stream",
     "text": [
      "len(rightx) 2959\n",
      "len(leftx) 2758\n"
     ]
    },
    {
     "name": "stderr",
     "output_type": "stream",
     "text": [
      "\u001b[A\n",
      " 38%|███▊      | 183/485 [00:50<01:29,  3.36it/s]"
     ]
    },
    {
     "name": "stdout",
     "output_type": "stream",
     "text": [
      "len(rightx) 2895\n",
      "len(leftx) 3040\n"
     ]
    },
    {
     "name": "stderr",
     "output_type": "stream",
     "text": [
      "\u001b[A\n",
      " 38%|███▊      | 184/485 [00:51<01:30,  3.33it/s]"
     ]
    },
    {
     "name": "stdout",
     "output_type": "stream",
     "text": [
      "len(rightx) 2948\n",
      "len(leftx) 2947\n",
      "left_curverad, right_curverad\n",
      "1550.856879 509.412522517\n"
     ]
    },
    {
     "name": "stderr",
     "output_type": "stream",
     "text": [
      "\u001b[A\n",
      " 38%|███▊      | 185/485 [00:51<01:30,  3.32it/s]"
     ]
    },
    {
     "name": "stdout",
     "output_type": "stream",
     "text": [
      "len(rightx) 2810\n",
      "len(leftx) 2959\n",
      "left_curverad, right_curverad\n",
      "3465.24297062 497.235457439\n"
     ]
    },
    {
     "name": "stderr",
     "output_type": "stream",
     "text": [
      "\u001b[A\n",
      " 38%|███▊      | 186/485 [00:51<01:29,  3.34it/s]"
     ]
    },
    {
     "name": "stdout",
     "output_type": "stream",
     "text": [
      "len(rightx) 2522\n",
      "len(leftx) 3026\n"
     ]
    },
    {
     "name": "stderr",
     "output_type": "stream",
     "text": [
      "\u001b[A\n",
      " 39%|███▊      | 187/485 [00:52<01:34,  3.15it/s]"
     ]
    },
    {
     "name": "stdout",
     "output_type": "stream",
     "text": [
      "len(rightx) 2029\n",
      "len(leftx) 4118\n"
     ]
    },
    {
     "name": "stderr",
     "output_type": "stream",
     "text": [
      "\u001b[A\n",
      " 39%|███▉      | 188/485 [00:52<01:36,  3.07it/s]"
     ]
    },
    {
     "name": "stdout",
     "output_type": "stream",
     "text": [
      "len(rightx) 1703\n",
      "len(leftx) 3950\n"
     ]
    },
    {
     "name": "stderr",
     "output_type": "stream",
     "text": [
      "\u001b[A\n",
      " 39%|███▉      | 189/485 [00:52<01:31,  3.23it/s]"
     ]
    },
    {
     "name": "stdout",
     "output_type": "stream",
     "text": [
      "len(rightx) 1710\n",
      "len(leftx) 4297\n",
      "left_curverad, right_curverad\n",
      "1630.34830344 351.987159457\n"
     ]
    },
    {
     "name": "stderr",
     "output_type": "stream",
     "text": [
      "\u001b[A\n",
      " 39%|███▉      | 190/485 [00:52<01:27,  3.36it/s]"
     ]
    },
    {
     "name": "stdout",
     "output_type": "stream",
     "text": [
      "len(rightx) 1689\n",
      "len(leftx) 3560\n"
     ]
    },
    {
     "name": "stderr",
     "output_type": "stream",
     "text": [
      "\u001b[A\n",
      " 39%|███▉      | 191/485 [00:53<01:28,  3.34it/s]"
     ]
    },
    {
     "name": "stdout",
     "output_type": "stream",
     "text": [
      "len(rightx) 1582\n",
      "len(leftx) 3644\n"
     ]
    },
    {
     "name": "stderr",
     "output_type": "stream",
     "text": [
      "\u001b[A\n",
      " 40%|███▉      | 192/485 [00:53<01:27,  3.36it/s]"
     ]
    },
    {
     "name": "stdout",
     "output_type": "stream",
     "text": [
      "len(rightx) 1745\n",
      "len(leftx) 4057\n"
     ]
    },
    {
     "name": "stderr",
     "output_type": "stream",
     "text": [
      "\u001b[A\n",
      " 40%|███▉      | 193/485 [00:53<01:24,  3.47it/s]"
     ]
    },
    {
     "name": "stdout",
     "output_type": "stream",
     "text": [
      "len(rightx) 1821\n",
      "len(leftx) 4224\n"
     ]
    },
    {
     "name": "stderr",
     "output_type": "stream",
     "text": [
      "\u001b[A\n",
      " 40%|████      | 194/485 [00:54<01:22,  3.51it/s]"
     ]
    },
    {
     "name": "stdout",
     "output_type": "stream",
     "text": [
      "len(rightx) 1879\n",
      "len(leftx) 3064\n"
     ]
    },
    {
     "name": "stderr",
     "output_type": "stream",
     "text": [
      "\u001b[A\n",
      " 40%|████      | 195/485 [00:54<01:21,  3.54it/s]"
     ]
    },
    {
     "name": "stdout",
     "output_type": "stream",
     "text": [
      "len(rightx) 1794\n",
      "len(leftx) 2678\n"
     ]
    },
    {
     "name": "stderr",
     "output_type": "stream",
     "text": [
      "\u001b[A\n",
      " 40%|████      | 196/485 [00:54<01:21,  3.54it/s]"
     ]
    },
    {
     "name": "stdout",
     "output_type": "stream",
     "text": [
      "len(rightx) 1840\n",
      "len(leftx) 3249\n"
     ]
    },
    {
     "name": "stderr",
     "output_type": "stream",
     "text": [
      "\u001b[A\n",
      " 41%|████      | 197/485 [00:54<01:20,  3.57it/s]"
     ]
    },
    {
     "name": "stdout",
     "output_type": "stream",
     "text": [
      "len(rightx) 1816\n",
      "len(leftx) 3161\n"
     ]
    },
    {
     "name": "stderr",
     "output_type": "stream",
     "text": [
      "\u001b[A\n",
      " 41%|████      | 198/485 [00:55<01:20,  3.56it/s]"
     ]
    },
    {
     "name": "stdout",
     "output_type": "stream",
     "text": [
      "len(rightx) 1957\n",
      "len(leftx) 3407\n"
     ]
    },
    {
     "name": "stderr",
     "output_type": "stream",
     "text": [
      "\u001b[A\n",
      " 41%|████      | 199/485 [00:55<01:18,  3.62it/s]"
     ]
    },
    {
     "name": "stdout",
     "output_type": "stream",
     "text": [
      "len(rightx) 1776\n",
      "len(leftx) 3236\n",
      "left_curverad, right_curverad\n",
      "1402.32037216 390.543663477\n"
     ]
    },
    {
     "name": "stderr",
     "output_type": "stream",
     "text": [
      "\u001b[A\n",
      " 41%|████      | 200/485 [00:55<01:16,  3.75it/s]"
     ]
    },
    {
     "name": "stdout",
     "output_type": "stream",
     "text": [
      "len(rightx) 1510\n",
      "len(leftx) 3640\n"
     ]
    },
    {
     "name": "stderr",
     "output_type": "stream",
     "text": [
      "\u001b[A\n",
      " 41%|████▏     | 201/485 [00:56<01:15,  3.75it/s]"
     ]
    },
    {
     "name": "stdout",
     "output_type": "stream",
     "text": [
      "len(rightx) 1319\n",
      "len(leftx) 3302\n"
     ]
    },
    {
     "name": "stderr",
     "output_type": "stream",
     "text": [
      "\u001b[A\n",
      " 42%|████▏     | 202/485 [00:56<01:14,  3.78it/s]"
     ]
    },
    {
     "name": "stdout",
     "output_type": "stream",
     "text": [
      "len(rightx) 1143\n",
      "len(leftx) 3463\n",
      "left_curverad, right_curverad\n",
      "2583.12003431 322.641018433\n"
     ]
    },
    {
     "name": "stderr",
     "output_type": "stream",
     "text": [
      "\u001b[A\n",
      " 42%|████▏     | 203/485 [00:56<01:14,  3.80it/s]"
     ]
    },
    {
     "name": "stdout",
     "output_type": "stream",
     "text": [
      "len(rightx) 1076\n",
      "len(leftx) 2883\n",
      "left_curverad, right_curverad\n",
      "4685.85582393 326.059318643\n"
     ]
    },
    {
     "name": "stderr",
     "output_type": "stream",
     "text": [
      "\u001b[A\n",
      " 42%|████▏     | 204/485 [00:56<01:14,  3.77it/s]"
     ]
    },
    {
     "name": "stdout",
     "output_type": "stream",
     "text": [
      "len(rightx) 1164\n",
      "len(leftx) 3908\n"
     ]
    },
    {
     "name": "stderr",
     "output_type": "stream",
     "text": [
      "\u001b[A\n",
      " 42%|████▏     | 205/485 [00:57<01:13,  3.79it/s]"
     ]
    },
    {
     "name": "stdout",
     "output_type": "stream",
     "text": [
      "len(rightx) 1189\n",
      "len(leftx) 3559\n",
      "left_curverad, right_curverad\n",
      "1149.65074479 352.455836089\n"
     ]
    },
    {
     "name": "stderr",
     "output_type": "stream",
     "text": [
      "\u001b[A\n",
      " 42%|████▏     | 206/485 [00:57<01:13,  3.82it/s]"
     ]
    },
    {
     "name": "stdout",
     "output_type": "stream",
     "text": [
      "len(rightx) 1211\n",
      "len(leftx) 3508\n"
     ]
    },
    {
     "name": "stderr",
     "output_type": "stream",
     "text": [
      "\u001b[A\n",
      " 43%|████▎     | 207/485 [00:57<01:11,  3.88it/s]"
     ]
    },
    {
     "name": "stdout",
     "output_type": "stream",
     "text": [
      "len(rightx) 1263\n",
      "len(leftx) 3421\n"
     ]
    },
    {
     "name": "stderr",
     "output_type": "stream",
     "text": [
      "\u001b[A\n",
      " 43%|████▎     | 208/485 [00:57<01:10,  3.91it/s]"
     ]
    },
    {
     "name": "stdout",
     "output_type": "stream",
     "text": [
      "len(rightx) 1387\n",
      "len(leftx) 2817\n"
     ]
    },
    {
     "name": "stderr",
     "output_type": "stream",
     "text": [
      "\u001b[A\n",
      " 43%|████▎     | 209/485 [00:58<01:10,  3.94it/s]"
     ]
    },
    {
     "name": "stdout",
     "output_type": "stream",
     "text": [
      "len(rightx) 1542\n",
      "len(leftx) 3031\n"
     ]
    },
    {
     "name": "stderr",
     "output_type": "stream",
     "text": [
      "\u001b[A\n",
      " 43%|████▎     | 210/485 [00:58<01:10,  3.88it/s]"
     ]
    },
    {
     "name": "stdout",
     "output_type": "stream",
     "text": [
      "len(rightx) 1526\n",
      "len(leftx) 3564\n"
     ]
    },
    {
     "name": "stderr",
     "output_type": "stream",
     "text": [
      "\u001b[A\n",
      " 44%|████▎     | 211/485 [00:58<01:10,  3.87it/s]"
     ]
    },
    {
     "name": "stdout",
     "output_type": "stream",
     "text": [
      "len(rightx) 1557\n",
      "len(leftx) 3457\n"
     ]
    },
    {
     "name": "stderr",
     "output_type": "stream",
     "text": [
      "\u001b[A\n",
      " 44%|████▎     | 212/485 [00:58<01:10,  3.88it/s]"
     ]
    },
    {
     "name": "stdout",
     "output_type": "stream",
     "text": [
      "len(rightx) 1573\n",
      "len(leftx) 3392\n"
     ]
    },
    {
     "name": "stderr",
     "output_type": "stream",
     "text": [
      "\u001b[A\n",
      " 44%|████▍     | 213/485 [00:59<01:12,  3.77it/s]"
     ]
    },
    {
     "name": "stdout",
     "output_type": "stream",
     "text": [
      "len(rightx) 1294\n",
      "len(leftx) 3041\n"
     ]
    },
    {
     "name": "stderr",
     "output_type": "stream",
     "text": [
      "\u001b[A\n",
      " 44%|████▍     | 214/485 [00:59<01:24,  3.22it/s]"
     ]
    },
    {
     "name": "stdout",
     "output_type": "stream",
     "text": [
      "len(rightx) 1113\n",
      "len(leftx) 3104\n"
     ]
    },
    {
     "name": "stderr",
     "output_type": "stream",
     "text": [
      "\u001b[A\n",
      " 44%|████▍     | 215/485 [00:59<01:28,  3.04it/s]"
     ]
    },
    {
     "name": "stdout",
     "output_type": "stream",
     "text": [
      "len(rightx) 897\n",
      "len(leftx) 3570\n"
     ]
    },
    {
     "name": "stderr",
     "output_type": "stream",
     "text": [
      "\u001b[A\n",
      " 45%|████▍     | 216/485 [01:00<01:27,  3.08it/s]"
     ]
    },
    {
     "name": "stdout",
     "output_type": "stream",
     "text": [
      "len(rightx) 871\n",
      "len(leftx) 3214\n"
     ]
    },
    {
     "name": "stderr",
     "output_type": "stream",
     "text": [
      "\u001b[A\n",
      " 45%|████▍     | 217/485 [01:00<01:22,  3.23it/s]"
     ]
    },
    {
     "name": "stdout",
     "output_type": "stream",
     "text": [
      "len(rightx) 910\n",
      "len(leftx) 3533\n"
     ]
    },
    {
     "name": "stderr",
     "output_type": "stream",
     "text": [
      "\u001b[A\n",
      " 45%|████▍     | 218/485 [01:00<01:20,  3.32it/s]"
     ]
    },
    {
     "name": "stdout",
     "output_type": "stream",
     "text": [
      "len(rightx) 1006\n",
      "len(leftx) 3441\n"
     ]
    },
    {
     "name": "stderr",
     "output_type": "stream",
     "text": [
      "\u001b[A\n",
      " 45%|████▌     | 219/485 [01:01<01:17,  3.44it/s]"
     ]
    },
    {
     "name": "stdout",
     "output_type": "stream",
     "text": [
      "len(rightx) 989\n",
      "len(leftx) 3373\n"
     ]
    },
    {
     "name": "stderr",
     "output_type": "stream",
     "text": [
      "\u001b[A\n",
      " 45%|████▌     | 220/485 [01:01<01:14,  3.54it/s]"
     ]
    },
    {
     "name": "stdout",
     "output_type": "stream",
     "text": [
      "len(rightx) 1083\n",
      "len(leftx) 3644\n"
     ]
    },
    {
     "name": "stderr",
     "output_type": "stream",
     "text": [
      "\u001b[A\n",
      " 46%|████▌     | 221/485 [01:01<01:12,  3.63it/s]"
     ]
    },
    {
     "name": "stdout",
     "output_type": "stream",
     "text": [
      "len(rightx) 1119\n",
      "len(leftx) 3686\n"
     ]
    },
    {
     "name": "stderr",
     "output_type": "stream",
     "text": [
      "\u001b[A\n",
      " 46%|████▌     | 222/485 [01:01<01:13,  3.60it/s]"
     ]
    },
    {
     "name": "stdout",
     "output_type": "stream",
     "text": [
      "len(rightx) 1241\n",
      "len(leftx) 3795\n",
      "left_curverad, right_curverad\n",
      "1872.82537458 414.190131763\n"
     ]
    },
    {
     "name": "stderr",
     "output_type": "stream",
     "text": [
      "\u001b[A\n",
      " 46%|████▌     | 223/485 [01:02<01:10,  3.70it/s]"
     ]
    },
    {
     "name": "stdout",
     "output_type": "stream",
     "text": [
      "len(rightx) 1318\n",
      "len(leftx) 3762\n",
      "left_curverad, right_curverad\n",
      "1923.22089063 408.381783732\n"
     ]
    },
    {
     "name": "stderr",
     "output_type": "stream",
     "text": [
      "\u001b[A\n",
      " 46%|████▌     | 224/485 [01:02<01:08,  3.78it/s]"
     ]
    },
    {
     "name": "stdout",
     "output_type": "stream",
     "text": [
      "len(rightx) 1435\n",
      "len(leftx) 3753\n",
      "left_curverad, right_curverad\n",
      "1861.0874453 419.522304495\n"
     ]
    },
    {
     "name": "stderr",
     "output_type": "stream",
     "text": [
      "\u001b[A\n",
      " 46%|████▋     | 225/485 [01:02<01:08,  3.82it/s]"
     ]
    },
    {
     "name": "stdout",
     "output_type": "stream",
     "text": [
      "len(rightx) 1430\n",
      "len(leftx) 3869\n",
      "left_curverad, right_curverad\n",
      "2512.16634425 434.000197863\n"
     ]
    },
    {
     "name": "stderr",
     "output_type": "stream",
     "text": [
      "\u001b[A\n",
      " 47%|████▋     | 226/485 [01:02<01:07,  3.84it/s]"
     ]
    },
    {
     "name": "stdout",
     "output_type": "stream",
     "text": [
      "len(rightx) 1460\n",
      "len(leftx) 3626\n"
     ]
    },
    {
     "name": "stderr",
     "output_type": "stream",
     "text": [
      "\u001b[A\n",
      " 47%|████▋     | 227/485 [01:03<01:06,  3.86it/s]"
     ]
    },
    {
     "name": "stdout",
     "output_type": "stream",
     "text": [
      "len(rightx) 1203\n",
      "len(leftx) 3123\n"
     ]
    },
    {
     "name": "stderr",
     "output_type": "stream",
     "text": [
      "\u001b[A\n",
      " 47%|████▋     | 228/485 [01:03<01:05,  3.91it/s]"
     ]
    },
    {
     "name": "stdout",
     "output_type": "stream",
     "text": [
      "len(rightx) 1051\n",
      "len(leftx) 3115\n"
     ]
    },
    {
     "name": "stderr",
     "output_type": "stream",
     "text": [
      "\u001b[A\n",
      " 47%|████▋     | 229/485 [01:03<01:05,  3.90it/s]"
     ]
    },
    {
     "name": "stdout",
     "output_type": "stream",
     "text": [
      "len(rightx) 770\n",
      "len(leftx) 3100\n"
     ]
    },
    {
     "name": "stderr",
     "output_type": "stream",
     "text": [
      "\u001b[A\n",
      " 47%|████▋     | 230/485 [01:03<01:04,  3.94it/s]"
     ]
    },
    {
     "name": "stdout",
     "output_type": "stream",
     "text": [
      "len(rightx) 629\n",
      "len(leftx) 3194\n"
     ]
    },
    {
     "name": "stderr",
     "output_type": "stream",
     "text": [
      "\u001b[A\n",
      " 48%|████▊     | 231/485 [01:04<01:04,  3.94it/s]"
     ]
    },
    {
     "name": "stdout",
     "output_type": "stream",
     "text": [
      "len(rightx) 706\n",
      "len(leftx) 4141\n"
     ]
    },
    {
     "name": "stderr",
     "output_type": "stream",
     "text": [
      "\u001b[A\n",
      " 48%|████▊     | 232/485 [01:04<01:03,  3.96it/s]"
     ]
    },
    {
     "name": "stdout",
     "output_type": "stream",
     "text": [
      "len(rightx) 848\n",
      "len(leftx) 3614\n"
     ]
    },
    {
     "name": "stderr",
     "output_type": "stream",
     "text": [
      "\u001b[A\n",
      " 48%|████▊     | 233/485 [01:04<01:03,  3.97it/s]"
     ]
    },
    {
     "name": "stdout",
     "output_type": "stream",
     "text": [
      "len(rightx) 850\n",
      "len(leftx) 4219\n"
     ]
    },
    {
     "name": "stderr",
     "output_type": "stream",
     "text": [
      "\u001b[A\n",
      " 48%|████▊     | 234/485 [01:04<01:03,  3.94it/s]"
     ]
    },
    {
     "name": "stdout",
     "output_type": "stream",
     "text": [
      "len(rightx) 992\n",
      "len(leftx) 4236\n"
     ]
    },
    {
     "name": "stderr",
     "output_type": "stream",
     "text": [
      "\u001b[A\n",
      " 48%|████▊     | 235/485 [01:05<01:05,  3.83it/s]"
     ]
    },
    {
     "name": "stdout",
     "output_type": "stream",
     "text": [
      "len(rightx) 986\n",
      "len(leftx) 3770\n"
     ]
    },
    {
     "name": "stderr",
     "output_type": "stream",
     "text": [
      "\u001b[A\n",
      " 49%|████▊     | 236/485 [01:05<01:05,  3.82it/s]"
     ]
    },
    {
     "name": "stdout",
     "output_type": "stream",
     "text": [
      "len(rightx) 1083\n",
      "len(leftx) 3885\n"
     ]
    },
    {
     "name": "stderr",
     "output_type": "stream",
     "text": [
      "\u001b[A\n",
      " 49%|████▉     | 237/485 [01:05<01:05,  3.76it/s]"
     ]
    },
    {
     "name": "stdout",
     "output_type": "stream",
     "text": [
      "len(rightx) 1116\n",
      "len(leftx) 3045\n"
     ]
    },
    {
     "name": "stderr",
     "output_type": "stream",
     "text": [
      "\u001b[A\n",
      " 49%|████▉     | 238/485 [01:05<01:04,  3.81it/s]"
     ]
    },
    {
     "name": "stdout",
     "output_type": "stream",
     "text": [
      "len(rightx) 1255\n",
      "len(leftx) 2945\n"
     ]
    },
    {
     "name": "stderr",
     "output_type": "stream",
     "text": [
      "\u001b[A\n",
      " 49%|████▉     | 239/485 [01:06<01:02,  3.91it/s]"
     ]
    },
    {
     "name": "stdout",
     "output_type": "stream",
     "text": [
      "len(rightx) 1240\n",
      "len(leftx) 2869\n"
     ]
    },
    {
     "name": "stderr",
     "output_type": "stream",
     "text": [
      "\u001b[A\n",
      " 49%|████▉     | 240/485 [01:06<01:02,  3.91it/s]"
     ]
    },
    {
     "name": "stdout",
     "output_type": "stream",
     "text": [
      "len(rightx) 1105\n",
      "len(leftx) 2868\n"
     ]
    },
    {
     "name": "stderr",
     "output_type": "stream",
     "text": [
      "\u001b[A\n",
      " 50%|████▉     | 241/485 [01:06<01:02,  3.89it/s]"
     ]
    },
    {
     "name": "stdout",
     "output_type": "stream",
     "text": [
      "len(rightx) 966\n",
      "len(leftx) 3426\n"
     ]
    },
    {
     "name": "stderr",
     "output_type": "stream",
     "text": [
      "\u001b[A\n",
      " 50%|████▉     | 242/485 [01:06<01:01,  3.94it/s]"
     ]
    },
    {
     "name": "stdout",
     "output_type": "stream",
     "text": [
      "len(rightx) 895\n",
      "len(leftx) 3262\n"
     ]
    },
    {
     "name": "stderr",
     "output_type": "stream",
     "text": [
      "\u001b[A\n",
      " 50%|█████     | 243/485 [01:07<01:00,  3.99it/s]"
     ]
    },
    {
     "name": "stdout",
     "output_type": "stream",
     "text": [
      "len(rightx) 641\n",
      "len(leftx) 2997\n"
     ]
    },
    {
     "name": "stderr",
     "output_type": "stream",
     "text": [
      "\u001b[A\n",
      " 50%|█████     | 244/485 [01:07<01:01,  3.94it/s]"
     ]
    },
    {
     "name": "stdout",
     "output_type": "stream",
     "text": [
      "len(rightx) 665\n",
      "len(leftx) 3547\n"
     ]
    },
    {
     "name": "stderr",
     "output_type": "stream",
     "text": [
      "\u001b[A\n",
      " 51%|█████     | 245/485 [01:07<01:02,  3.82it/s]"
     ]
    },
    {
     "name": "stdout",
     "output_type": "stream",
     "text": [
      "len(rightx) 805\n",
      "len(leftx) 3504\n"
     ]
    },
    {
     "name": "stderr",
     "output_type": "stream",
     "text": [
      "\u001b[A\n",
      " 51%|█████     | 246/485 [01:08<01:03,  3.79it/s]"
     ]
    },
    {
     "name": "stdout",
     "output_type": "stream",
     "text": [
      "len(rightx) 839\n",
      "len(leftx) 4092\n",
      "left_curverad, right_curverad\n",
      "3858.55076246 623.162432724\n"
     ]
    },
    {
     "name": "stderr",
     "output_type": "stream",
     "text": [
      "\u001b[A\n",
      " 51%|█████     | 247/485 [01:08<01:01,  3.84it/s]"
     ]
    },
    {
     "name": "stdout",
     "output_type": "stream",
     "text": [
      "len(rightx) 935\n",
      "len(leftx) 3897\n"
     ]
    },
    {
     "name": "stderr",
     "output_type": "stream",
     "text": [
      "\u001b[A\n",
      " 51%|█████     | 248/485 [01:08<01:08,  3.47it/s]"
     ]
    },
    {
     "name": "stdout",
     "output_type": "stream",
     "text": [
      "len(rightx) 958\n",
      "len(leftx) 3728\n",
      "left_curverad, right_curverad\n",
      "3332.89378763 461.043949165\n"
     ]
    },
    {
     "name": "stderr",
     "output_type": "stream",
     "text": [
      "\u001b[A\n",
      " 51%|█████▏    | 249/485 [01:09<01:17,  3.06it/s]"
     ]
    },
    {
     "name": "stdout",
     "output_type": "stream",
     "text": [
      "len(rightx) 1051\n",
      "len(leftx) 3595\n",
      "left_curverad, right_curverad\n",
      "2922.25887868 420.111411091\n"
     ]
    },
    {
     "name": "stderr",
     "output_type": "stream",
     "text": [
      "\u001b[A\n",
      " 52%|█████▏    | 250/485 [01:09<01:14,  3.15it/s]"
     ]
    },
    {
     "name": "stdout",
     "output_type": "stream",
     "text": [
      "len(rightx) 1258\n",
      "len(leftx) 3512\n",
      "left_curverad, right_curverad\n",
      "188598.631021 452.419114519\n"
     ]
    },
    {
     "name": "stderr",
     "output_type": "stream",
     "text": [
      "\u001b[A\n",
      " 52%|█████▏    | 251/485 [01:09<01:10,  3.32it/s]"
     ]
    },
    {
     "name": "stdout",
     "output_type": "stream",
     "text": [
      "len(rightx) 1210\n",
      "len(leftx) 3499\n"
     ]
    },
    {
     "name": "stderr",
     "output_type": "stream",
     "text": [
      "\u001b[A\n",
      " 52%|█████▏    | 252/485 [01:09<01:07,  3.45it/s]"
     ]
    },
    {
     "name": "stdout",
     "output_type": "stream",
     "text": [
      "len(rightx) 1230\n",
      "len(leftx) 3542\n"
     ]
    },
    {
     "name": "stderr",
     "output_type": "stream",
     "text": [
      "\u001b[A\n",
      " 52%|█████▏    | 253/485 [01:10<01:05,  3.54it/s]"
     ]
    },
    {
     "name": "stdout",
     "output_type": "stream",
     "text": [
      "len(rightx) 1293\n",
      "len(leftx) 3569\n"
     ]
    },
    {
     "name": "stderr",
     "output_type": "stream",
     "text": [
      "\u001b[A\n",
      " 52%|█████▏    | 254/485 [01:10<01:03,  3.62it/s]"
     ]
    },
    {
     "name": "stdout",
     "output_type": "stream",
     "text": [
      "len(rightx) 1169\n",
      "len(leftx) 3813\n"
     ]
    },
    {
     "name": "stderr",
     "output_type": "stream",
     "text": [
      "\u001b[A\n",
      " 53%|█████▎    | 255/485 [01:10<01:01,  3.76it/s]"
     ]
    },
    {
     "name": "stdout",
     "output_type": "stream",
     "text": [
      "len(rightx) 1038\n",
      "len(leftx) 3939\n"
     ]
    },
    {
     "name": "stderr",
     "output_type": "stream",
     "text": [
      "\u001b[A\n",
      " 53%|█████▎    | 256/485 [01:10<01:00,  3.81it/s]"
     ]
    },
    {
     "name": "stdout",
     "output_type": "stream",
     "text": [
      "len(rightx) 842\n",
      "len(leftx) 3701\n"
     ]
    },
    {
     "name": "stderr",
     "output_type": "stream",
     "text": [
      "\u001b[A\n",
      " 53%|█████▎    | 257/485 [01:11<01:02,  3.62it/s]"
     ]
    },
    {
     "name": "stdout",
     "output_type": "stream",
     "text": [
      "len(rightx) 791\n",
      "len(leftx) 3338\n"
     ]
    },
    {
     "name": "stderr",
     "output_type": "stream",
     "text": [
      "\u001b[A\n",
      " 53%|█████▎    | 258/485 [01:11<01:09,  3.25it/s]"
     ]
    },
    {
     "name": "stdout",
     "output_type": "stream",
     "text": [
      "len(rightx) 966\n",
      "len(leftx) 3643\n"
     ]
    },
    {
     "name": "stderr",
     "output_type": "stream",
     "text": [
      "\u001b[A\n",
      " 53%|█████▎    | 259/485 [01:11<01:06,  3.40it/s]"
     ]
    },
    {
     "name": "stdout",
     "output_type": "stream",
     "text": [
      "len(rightx) 915\n",
      "len(leftx) 3696\n"
     ]
    },
    {
     "name": "stderr",
     "output_type": "stream",
     "text": [
      "\u001b[A\n",
      " 54%|█████▎    | 260/485 [01:12<01:03,  3.53it/s]"
     ]
    },
    {
     "name": "stdout",
     "output_type": "stream",
     "text": [
      "len(rightx) 972\n",
      "len(leftx) 3439\n",
      "left_curverad, right_curverad\n",
      "2042.27246556 373.069221626\n"
     ]
    },
    {
     "name": "stderr",
     "output_type": "stream",
     "text": [
      "\u001b[A\n",
      " 54%|█████▍    | 261/485 [01:12<01:01,  3.66it/s]"
     ]
    },
    {
     "name": "stdout",
     "output_type": "stream",
     "text": [
      "len(rightx) 980\n",
      "len(leftx) 3729\n"
     ]
    },
    {
     "name": "stderr",
     "output_type": "stream",
     "text": [
      "\u001b[A\n",
      " 54%|█████▍    | 262/485 [01:12<00:58,  3.78it/s]"
     ]
    },
    {
     "name": "stdout",
     "output_type": "stream",
     "text": [
      "len(rightx) 1039\n",
      "len(leftx) 3439\n",
      "left_curverad, right_curverad\n",
      "1163.36107709 321.06563274\n"
     ]
    },
    {
     "name": "stderr",
     "output_type": "stream",
     "text": [
      "\u001b[A\n",
      " 54%|█████▍    | 263/485 [01:12<00:58,  3.82it/s]"
     ]
    },
    {
     "name": "stdout",
     "output_type": "stream",
     "text": [
      "len(rightx) 1071\n",
      "len(leftx) 3190\n",
      "left_curverad, right_curverad\n",
      "1365.82550677 319.835186591\n"
     ]
    },
    {
     "name": "stderr",
     "output_type": "stream",
     "text": [
      "\u001b[A\n",
      " 54%|█████▍    | 264/485 [01:13<00:57,  3.84it/s]"
     ]
    },
    {
     "name": "stdout",
     "output_type": "stream",
     "text": [
      "len(rightx) 1087\n",
      "len(leftx) 3423\n"
     ]
    },
    {
     "name": "stderr",
     "output_type": "stream",
     "text": [
      "\u001b[A\n",
      " 55%|█████▍    | 265/485 [01:13<00:57,  3.84it/s]"
     ]
    },
    {
     "name": "stdout",
     "output_type": "stream",
     "text": [
      "len(rightx) 1297\n",
      "len(leftx) 3207\n"
     ]
    },
    {
     "name": "stderr",
     "output_type": "stream",
     "text": [
      "\u001b[A\n",
      " 55%|█████▍    | 266/485 [01:13<00:56,  3.87it/s]"
     ]
    },
    {
     "name": "stdout",
     "output_type": "stream",
     "text": [
      "len(rightx) 1418\n",
      "len(leftx) 3711\n"
     ]
    },
    {
     "name": "stderr",
     "output_type": "stream",
     "text": [
      "\u001b[A\n",
      " 55%|█████▌    | 267/485 [01:13<00:59,  3.64it/s]"
     ]
    },
    {
     "name": "stdout",
     "output_type": "stream",
     "text": [
      "len(rightx) 1487\n",
      "len(leftx) 3046\n"
     ]
    },
    {
     "name": "stderr",
     "output_type": "stream",
     "text": [
      "\u001b[A\n",
      " 55%|█████▌    | 268/485 [01:14<01:05,  3.32it/s]"
     ]
    },
    {
     "name": "stdout",
     "output_type": "stream",
     "text": [
      "len(rightx) 1329\n",
      "len(leftx) 2817\n"
     ]
    },
    {
     "name": "stderr",
     "output_type": "stream",
     "text": [
      "\u001b[A\n",
      " 55%|█████▌    | 269/485 [01:14<01:05,  3.32it/s]"
     ]
    },
    {
     "name": "stdout",
     "output_type": "stream",
     "text": [
      "len(rightx) 1166\n",
      "len(leftx) 2813\n"
     ]
    },
    {
     "name": "stderr",
     "output_type": "stream",
     "text": [
      "\u001b[A\n",
      " 56%|█████▌    | 270/485 [01:14<01:01,  3.48it/s]"
     ]
    },
    {
     "name": "stdout",
     "output_type": "stream",
     "text": [
      "len(rightx) 979\n",
      "len(leftx) 3040\n"
     ]
    },
    {
     "name": "stderr",
     "output_type": "stream",
     "text": [
      "\u001b[A\n",
      " 56%|█████▌    | 271/485 [01:15<00:59,  3.62it/s]"
     ]
    },
    {
     "name": "stdout",
     "output_type": "stream",
     "text": [
      "len(rightx) 777\n",
      "len(leftx) 3071\n"
     ]
    },
    {
     "name": "stderr",
     "output_type": "stream",
     "text": [
      "\u001b[A\n",
      " 56%|█████▌    | 272/485 [01:15<00:56,  3.74it/s]"
     ]
    },
    {
     "name": "stdout",
     "output_type": "stream",
     "text": [
      "len(rightx) 807\n",
      "len(leftx) 2799\n"
     ]
    },
    {
     "name": "stderr",
     "output_type": "stream",
     "text": [
      "\u001b[A\n",
      " 56%|█████▋    | 273/485 [01:15<00:56,  3.78it/s]"
     ]
    },
    {
     "name": "stdout",
     "output_type": "stream",
     "text": [
      "len(rightx) 864\n",
      "len(leftx) 2886\n"
     ]
    },
    {
     "name": "stderr",
     "output_type": "stream",
     "text": [
      "\u001b[A\n",
      " 56%|█████▋    | 274/485 [01:15<00:56,  3.74it/s]"
     ]
    },
    {
     "name": "stdout",
     "output_type": "stream",
     "text": [
      "len(rightx) 880\n",
      "len(leftx) 3081\n"
     ]
    },
    {
     "name": "stderr",
     "output_type": "stream",
     "text": [
      "\u001b[A\n",
      " 57%|█████▋    | 275/485 [01:16<00:56,  3.73it/s]"
     ]
    },
    {
     "name": "stdout",
     "output_type": "stream",
     "text": [
      "len(rightx) 938\n",
      "len(leftx) 3199\n",
      "left_curverad, right_curverad\n",
      "1152.20779869 380.819018725\n"
     ]
    },
    {
     "name": "stderr",
     "output_type": "stream",
     "text": [
      "\u001b[A\n",
      " 57%|█████▋    | 276/485 [01:16<00:55,  3.78it/s]"
     ]
    },
    {
     "name": "stdout",
     "output_type": "stream",
     "text": [
      "len(rightx) 971\n",
      "len(leftx) 2889\n"
     ]
    },
    {
     "name": "stderr",
     "output_type": "stream",
     "text": [
      "\u001b[A\n",
      " 57%|█████▋    | 277/485 [01:16<00:54,  3.84it/s]"
     ]
    },
    {
     "name": "stdout",
     "output_type": "stream",
     "text": [
      "len(rightx) 1067\n",
      "len(leftx) 2670\n"
     ]
    },
    {
     "name": "stderr",
     "output_type": "stream",
     "text": [
      "\u001b[A\n",
      " 57%|█████▋    | 278/485 [01:16<00:52,  3.93it/s]"
     ]
    },
    {
     "name": "stdout",
     "output_type": "stream",
     "text": [
      "len(rightx) 1112\n",
      "len(leftx) 2728\n"
     ]
    },
    {
     "name": "stderr",
     "output_type": "stream",
     "text": [
      "\u001b[A\n",
      " 58%|█████▊    | 279/485 [01:17<00:52,  3.93it/s]"
     ]
    },
    {
     "name": "stdout",
     "output_type": "stream",
     "text": [
      "len(rightx) 1126\n",
      "len(leftx) 2371\n"
     ]
    },
    {
     "name": "stderr",
     "output_type": "stream",
     "text": [
      "\u001b[A\n",
      " 58%|█████▊    | 280/485 [01:17<00:51,  3.97it/s]"
     ]
    },
    {
     "name": "stdout",
     "output_type": "stream",
     "text": [
      "len(rightx) 1273\n",
      "len(leftx) 2461\n"
     ]
    },
    {
     "name": "stderr",
     "output_type": "stream",
     "text": [
      "\u001b[A\n",
      " 58%|█████▊    | 281/485 [01:17<00:51,  3.93it/s]"
     ]
    },
    {
     "name": "stdout",
     "output_type": "stream",
     "text": [
      "len(rightx) 1252\n",
      "len(leftx) 2731\n"
     ]
    },
    {
     "name": "stderr",
     "output_type": "stream",
     "text": [
      "\u001b[A\n",
      " 58%|█████▊    | 282/485 [01:17<00:51,  3.95it/s]"
     ]
    },
    {
     "name": "stdout",
     "output_type": "stream",
     "text": [
      "len(rightx) 1062\n",
      "len(leftx) 2729\n"
     ]
    },
    {
     "name": "stderr",
     "output_type": "stream",
     "text": [
      "\u001b[A\n",
      " 58%|█████▊    | 283/485 [01:18<00:51,  3.95it/s]"
     ]
    },
    {
     "name": "stdout",
     "output_type": "stream",
     "text": [
      "len(rightx) 898\n",
      "len(leftx) 2205\n"
     ]
    },
    {
     "name": "stderr",
     "output_type": "stream",
     "text": [
      "\u001b[A\n",
      " 59%|█████▊    | 284/485 [01:18<00:50,  3.95it/s]"
     ]
    },
    {
     "name": "stdout",
     "output_type": "stream",
     "text": [
      "len(rightx) 620\n",
      "len(leftx) 2385\n"
     ]
    },
    {
     "name": "stderr",
     "output_type": "stream",
     "text": [
      "\u001b[A\n",
      " 59%|█████▉    | 285/485 [01:18<00:50,  3.99it/s]"
     ]
    },
    {
     "name": "stdout",
     "output_type": "stream",
     "text": [
      "len(rightx) 713\n",
      "len(leftx) 2788\n"
     ]
    },
    {
     "name": "stderr",
     "output_type": "stream",
     "text": [
      "\u001b[A\n",
      " 59%|█████▉    | 286/485 [01:18<00:50,  3.98it/s]"
     ]
    },
    {
     "name": "stdout",
     "output_type": "stream",
     "text": [
      "len(rightx) 791\n",
      "len(leftx) 3446\n"
     ]
    },
    {
     "name": "stderr",
     "output_type": "stream",
     "text": [
      "\u001b[A\n",
      " 59%|█████▉    | 287/485 [01:19<00:50,  3.93it/s]"
     ]
    },
    {
     "name": "stdout",
     "output_type": "stream",
     "text": [
      "len(rightx) 837\n",
      "len(leftx) 2612\n"
     ]
    },
    {
     "name": "stderr",
     "output_type": "stream",
     "text": [
      "\u001b[A\n",
      " 59%|█████▉    | 288/485 [01:19<00:49,  3.97it/s]"
     ]
    },
    {
     "name": "stdout",
     "output_type": "stream",
     "text": [
      "len(rightx) 881\n",
      "len(leftx) 2660\n"
     ]
    },
    {
     "name": "stderr",
     "output_type": "stream",
     "text": [
      "\u001b[A\n",
      " 60%|█████▉    | 289/485 [01:19<00:49,  3.99it/s]"
     ]
    },
    {
     "name": "stdout",
     "output_type": "stream",
     "text": [
      "len(rightx) 1001\n",
      "len(leftx) 2891\n"
     ]
    },
    {
     "name": "stderr",
     "output_type": "stream",
     "text": [
      "\u001b[A\n",
      " 60%|█████▉    | 290/485 [01:19<00:48,  4.04it/s]"
     ]
    },
    {
     "name": "stdout",
     "output_type": "stream",
     "text": [
      "len(rightx) 1103\n",
      "len(leftx) 3180\n"
     ]
    },
    {
     "name": "stderr",
     "output_type": "stream",
     "text": [
      "\u001b[A\n",
      " 60%|██████    | 291/485 [01:20<00:48,  4.03it/s]"
     ]
    },
    {
     "name": "stdout",
     "output_type": "stream",
     "text": [
      "len(rightx) 1083\n",
      "len(leftx) 3109\n"
     ]
    },
    {
     "name": "stderr",
     "output_type": "stream",
     "text": [
      "\u001b[A\n",
      " 60%|██████    | 292/485 [01:20<00:47,  4.05it/s]"
     ]
    },
    {
     "name": "stdout",
     "output_type": "stream",
     "text": [
      "len(rightx) 1079\n",
      "len(leftx) 3029\n"
     ]
    },
    {
     "name": "stderr",
     "output_type": "stream",
     "text": [
      "\u001b[A\n",
      " 60%|██████    | 293/485 [01:20<00:47,  4.04it/s]"
     ]
    },
    {
     "name": "stdout",
     "output_type": "stream",
     "text": [
      "len(rightx) 1161\n",
      "len(leftx) 3136\n"
     ]
    },
    {
     "name": "stderr",
     "output_type": "stream",
     "text": [
      "\u001b[A\n",
      " 61%|██████    | 294/485 [01:20<00:47,  4.06it/s]"
     ]
    },
    {
     "name": "stdout",
     "output_type": "stream",
     "text": [
      "len(rightx) 1227\n",
      "len(leftx) 2894\n"
     ]
    },
    {
     "name": "stderr",
     "output_type": "stream",
     "text": [
      "\u001b[A\n",
      " 61%|██████    | 295/485 [01:21<00:47,  4.01it/s]"
     ]
    },
    {
     "name": "stdout",
     "output_type": "stream",
     "text": [
      "len(rightx) 1157\n",
      "len(leftx) 2852\n"
     ]
    },
    {
     "name": "stderr",
     "output_type": "stream",
     "text": [
      "\u001b[A\n",
      " 61%|██████    | 296/485 [01:21<00:46,  4.02it/s]"
     ]
    },
    {
     "name": "stdout",
     "output_type": "stream",
     "text": [
      "len(rightx) 1000\n",
      "len(leftx) 3666\n"
     ]
    },
    {
     "name": "stderr",
     "output_type": "stream",
     "text": [
      "\u001b[A\n",
      " 61%|██████    | 297/485 [01:21<00:46,  4.04it/s]"
     ]
    },
    {
     "name": "stdout",
     "output_type": "stream",
     "text": [
      "len(rightx) 849\n",
      "len(leftx) 3386\n"
     ]
    },
    {
     "name": "stderr",
     "output_type": "stream",
     "text": [
      "\u001b[A\n",
      " 61%|██████▏   | 298/485 [01:21<00:46,  4.04it/s]"
     ]
    },
    {
     "name": "stdout",
     "output_type": "stream",
     "text": [
      "len(rightx) 582\n",
      "len(leftx) 3456\n"
     ]
    },
    {
     "name": "stderr",
     "output_type": "stream",
     "text": [
      "\u001b[A\n",
      " 62%|██████▏   | 299/485 [01:22<00:46,  3.97it/s]"
     ]
    },
    {
     "name": "stdout",
     "output_type": "stream",
     "text": [
      "len(rightx) 695\n",
      "len(leftx) 3739\n"
     ]
    },
    {
     "name": "stderr",
     "output_type": "stream",
     "text": [
      "\u001b[A\n",
      " 62%|██████▏   | 300/485 [01:22<00:46,  3.97it/s]"
     ]
    },
    {
     "name": "stdout",
     "output_type": "stream",
     "text": [
      "len(rightx) 731\n",
      "len(leftx) 3588\n"
     ]
    },
    {
     "name": "stderr",
     "output_type": "stream",
     "text": [
      "\u001b[A\n",
      " 62%|██████▏   | 301/485 [01:22<00:54,  3.40it/s]"
     ]
    },
    {
     "name": "stdout",
     "output_type": "stream",
     "text": [
      "len(rightx) 778\n",
      "len(leftx) 4456\n"
     ]
    },
    {
     "name": "stderr",
     "output_type": "stream",
     "text": [
      "\u001b[A\n",
      " 62%|██████▏   | 302/485 [01:23<00:54,  3.37it/s]"
     ]
    },
    {
     "name": "stdout",
     "output_type": "stream",
     "text": [
      "len(rightx) 672\n",
      "len(leftx) 3712\n"
     ]
    },
    {
     "name": "stderr",
     "output_type": "stream",
     "text": [
      "\u001b[A\n",
      " 62%|██████▏   | 303/485 [01:23<00:52,  3.50it/s]"
     ]
    },
    {
     "name": "stdout",
     "output_type": "stream",
     "text": [
      "len(rightx) 792\n",
      "len(leftx) 3524\n"
     ]
    },
    {
     "name": "stderr",
     "output_type": "stream",
     "text": [
      "\u001b[A\n",
      " 63%|██████▎   | 304/485 [01:23<00:49,  3.65it/s]"
     ]
    },
    {
     "name": "stdout",
     "output_type": "stream",
     "text": [
      "len(rightx) 833\n",
      "len(leftx) 3355\n"
     ]
    },
    {
     "name": "stderr",
     "output_type": "stream",
     "text": [
      "\u001b[A\n",
      " 63%|██████▎   | 305/485 [01:23<00:48,  3.75it/s]"
     ]
    },
    {
     "name": "stdout",
     "output_type": "stream",
     "text": [
      "len(rightx) 953\n",
      "len(leftx) 3750\n"
     ]
    },
    {
     "name": "stderr",
     "output_type": "stream",
     "text": [
      "\u001b[A\n",
      " 63%|██████▎   | 306/485 [01:24<00:46,  3.84it/s]"
     ]
    },
    {
     "name": "stdout",
     "output_type": "stream",
     "text": [
      "len(rightx) 955\n",
      "len(leftx) 3630\n"
     ]
    },
    {
     "name": "stderr",
     "output_type": "stream",
     "text": [
      "\u001b[A\n",
      " 63%|██████▎   | 307/485 [01:24<00:45,  3.92it/s]"
     ]
    },
    {
     "name": "stdout",
     "output_type": "stream",
     "text": [
      "len(rightx) 1122\n",
      "len(leftx) 3921\n"
     ]
    },
    {
     "name": "stderr",
     "output_type": "stream",
     "text": [
      "\u001b[A\n",
      " 64%|██████▎   | 308/485 [01:24<00:44,  3.94it/s]"
     ]
    },
    {
     "name": "stdout",
     "output_type": "stream",
     "text": [
      "len(rightx) 1163\n",
      "len(leftx) 3709\n"
     ]
    },
    {
     "name": "stderr",
     "output_type": "stream",
     "text": [
      "\u001b[A\n",
      " 64%|██████▎   | 309/485 [01:24<00:44,  3.94it/s]"
     ]
    },
    {
     "name": "stdout",
     "output_type": "stream",
     "text": [
      "len(rightx) 1032\n",
      "len(leftx) 4134\n"
     ]
    },
    {
     "name": "stderr",
     "output_type": "stream",
     "text": [
      "\u001b[A\n",
      " 64%|██████▍   | 310/485 [01:25<00:44,  3.94it/s]"
     ]
    },
    {
     "name": "stdout",
     "output_type": "stream",
     "text": [
      "len(rightx) 807\n",
      "len(leftx) 4252\n"
     ]
    },
    {
     "name": "stderr",
     "output_type": "stream",
     "text": [
      "\u001b[A\n",
      " 64%|██████▍   | 311/485 [01:25<00:44,  3.93it/s]"
     ]
    },
    {
     "name": "stdout",
     "output_type": "stream",
     "text": [
      "len(rightx) 671\n",
      "len(leftx) 4015\n"
     ]
    },
    {
     "name": "stderr",
     "output_type": "stream",
     "text": [
      "\u001b[A\n",
      " 64%|██████▍   | 312/485 [01:25<00:44,  3.89it/s]"
     ]
    },
    {
     "name": "stdout",
     "output_type": "stream",
     "text": [
      "len(rightx) 585\n",
      "len(leftx) 4332\n"
     ]
    },
    {
     "name": "stderr",
     "output_type": "stream",
     "text": [
      "\u001b[A\n",
      " 65%|██████▍   | 313/485 [01:25<00:44,  3.88it/s]"
     ]
    },
    {
     "name": "stdout",
     "output_type": "stream",
     "text": [
      "len(rightx) 668\n",
      "len(leftx) 4592\n"
     ]
    },
    {
     "name": "stderr",
     "output_type": "stream",
     "text": [
      "\u001b[A\n",
      " 65%|██████▍   | 314/485 [01:26<00:43,  3.89it/s]"
     ]
    },
    {
     "name": "stdout",
     "output_type": "stream",
     "text": [
      "len(rightx) 803\n",
      "len(leftx) 4819\n"
     ]
    },
    {
     "name": "stderr",
     "output_type": "stream",
     "text": [
      "\u001b[A\n",
      " 65%|██████▍   | 315/485 [01:26<00:42,  3.96it/s]"
     ]
    },
    {
     "name": "stdout",
     "output_type": "stream",
     "text": [
      "len(rightx) 805\n",
      "len(leftx) 4900\n"
     ]
    },
    {
     "name": "stderr",
     "output_type": "stream",
     "text": [
      "\u001b[A\n",
      " 65%|██████▌   | 316/485 [01:26<00:42,  3.93it/s]"
     ]
    },
    {
     "name": "stdout",
     "output_type": "stream",
     "text": [
      "len(rightx) 804\n",
      "len(leftx) 4717\n"
     ]
    },
    {
     "name": "stderr",
     "output_type": "stream",
     "text": [
      "\u001b[A\n",
      " 65%|██████▌   | 317/485 [01:26<00:43,  3.86it/s]"
     ]
    },
    {
     "name": "stdout",
     "output_type": "stream",
     "text": [
      "len(rightx) 894\n",
      "len(leftx) 4757\n"
     ]
    },
    {
     "name": "stderr",
     "output_type": "stream",
     "text": [
      "\u001b[A\n",
      " 66%|██████▌   | 318/485 [01:27<00:43,  3.83it/s]"
     ]
    },
    {
     "name": "stdout",
     "output_type": "stream",
     "text": [
      "len(rightx) 924\n",
      "len(leftx) 4990\n"
     ]
    },
    {
     "name": "stderr",
     "output_type": "stream",
     "text": [
      "\u001b[A\n",
      " 66%|██████▌   | 319/485 [01:27<00:43,  3.79it/s]"
     ]
    },
    {
     "name": "stdout",
     "output_type": "stream",
     "text": [
      "len(rightx) 972\n",
      "len(leftx) 4478\n"
     ]
    },
    {
     "name": "stderr",
     "output_type": "stream",
     "text": [
      "\u001b[A\n",
      " 66%|██████▌   | 320/485 [01:27<00:42,  3.86it/s]"
     ]
    },
    {
     "name": "stdout",
     "output_type": "stream",
     "text": [
      "len(rightx) 1115\n",
      "len(leftx) 4411\n"
     ]
    },
    {
     "name": "stderr",
     "output_type": "stream",
     "text": [
      "\u001b[A\n",
      " 66%|██████▌   | 321/485 [01:27<00:41,  3.91it/s]"
     ]
    },
    {
     "name": "stdout",
     "output_type": "stream",
     "text": [
      "len(rightx) 1200\n",
      "len(leftx) 4540\n"
     ]
    },
    {
     "name": "stderr",
     "output_type": "stream",
     "text": [
      "\u001b[A\n",
      " 66%|██████▋   | 322/485 [01:28<00:41,  3.93it/s]"
     ]
    },
    {
     "name": "stdout",
     "output_type": "stream",
     "text": [
      "len(rightx) 1285\n",
      "len(leftx) 4199\n"
     ]
    },
    {
     "name": "stderr",
     "output_type": "stream",
     "text": [
      "\u001b[A\n",
      " 67%|██████▋   | 323/485 [01:28<00:41,  3.95it/s]"
     ]
    },
    {
     "name": "stdout",
     "output_type": "stream",
     "text": [
      "len(rightx) 1223\n",
      "len(leftx) 4125\n"
     ]
    },
    {
     "name": "stderr",
     "output_type": "stream",
     "text": [
      "\u001b[A\n",
      " 67%|██████▋   | 324/485 [01:28<00:40,  3.95it/s]"
     ]
    },
    {
     "name": "stdout",
     "output_type": "stream",
     "text": [
      "len(rightx) 975\n",
      "len(leftx) 4501\n"
     ]
    },
    {
     "name": "stderr",
     "output_type": "stream",
     "text": [
      "\u001b[A\n",
      " 67%|██████▋   | 325/485 [01:28<00:40,  3.97it/s]"
     ]
    },
    {
     "name": "stdout",
     "output_type": "stream",
     "text": [
      "len(rightx) 737\n",
      "len(leftx) 4402\n"
     ]
    },
    {
     "name": "stderr",
     "output_type": "stream",
     "text": [
      "\u001b[A\n",
      " 67%|██████▋   | 326/485 [01:29<00:40,  3.95it/s]"
     ]
    },
    {
     "name": "stdout",
     "output_type": "stream",
     "text": [
      "len(rightx) 483\n",
      "len(leftx) 3653\n"
     ]
    },
    {
     "name": "stderr",
     "output_type": "stream",
     "text": [
      "\u001b[A\n",
      " 67%|██████▋   | 327/485 [01:29<00:40,  3.94it/s]"
     ]
    },
    {
     "name": "stdout",
     "output_type": "stream",
     "text": [
      "len(rightx) 573\n",
      "len(leftx) 3718\n"
     ]
    },
    {
     "name": "stderr",
     "output_type": "stream",
     "text": [
      "\u001b[A\n",
      " 68%|██████▊   | 328/485 [01:29<00:40,  3.90it/s]"
     ]
    },
    {
     "name": "stdout",
     "output_type": "stream",
     "text": [
      "len(rightx) 691\n",
      "len(leftx) 4820\n"
     ]
    },
    {
     "name": "stderr",
     "output_type": "stream",
     "text": [
      "\u001b[A\n",
      " 68%|██████▊   | 329/485 [01:29<00:40,  3.87it/s]"
     ]
    },
    {
     "name": "stdout",
     "output_type": "stream",
     "text": [
      "len(rightx) 701\n",
      "len(leftx) 4368\n"
     ]
    },
    {
     "name": "stderr",
     "output_type": "stream",
     "text": [
      "\u001b[A\n",
      " 68%|██████▊   | 330/485 [01:30<00:39,  3.92it/s]"
     ]
    },
    {
     "name": "stdout",
     "output_type": "stream",
     "text": [
      "len(rightx) 751\n",
      "len(leftx) 4639\n"
     ]
    },
    {
     "name": "stderr",
     "output_type": "stream",
     "text": [
      "\u001b[A\n",
      " 68%|██████▊   | 331/485 [01:30<00:39,  3.93it/s]"
     ]
    },
    {
     "name": "stdout",
     "output_type": "stream",
     "text": [
      "len(rightx) 881\n",
      "len(leftx) 5442\n"
     ]
    },
    {
     "name": "stderr",
     "output_type": "stream",
     "text": [
      "\u001b[A\n",
      " 68%|██████▊   | 332/485 [01:30<00:39,  3.89it/s]"
     ]
    },
    {
     "name": "stdout",
     "output_type": "stream",
     "text": [
      "len(rightx) 854\n",
      "len(leftx) 4510\n"
     ]
    },
    {
     "name": "stderr",
     "output_type": "stream",
     "text": [
      "\u001b[A\n",
      " 69%|██████▊   | 333/485 [01:31<00:39,  3.86it/s]"
     ]
    },
    {
     "name": "stdout",
     "output_type": "stream",
     "text": [
      "len(rightx) 921\n",
      "len(leftx) 3845\n"
     ]
    },
    {
     "name": "stderr",
     "output_type": "stream",
     "text": [
      "\u001b[A\n",
      " 69%|██████▉   | 334/485 [01:31<00:38,  3.91it/s]"
     ]
    },
    {
     "name": "stdout",
     "output_type": "stream",
     "text": [
      "len(rightx) 1044\n",
      "len(leftx) 4356\n"
     ]
    },
    {
     "name": "stderr",
     "output_type": "stream",
     "text": [
      "\u001b[A\n",
      " 69%|██████▉   | 335/485 [01:31<00:38,  3.92it/s]"
     ]
    },
    {
     "name": "stdout",
     "output_type": "stream",
     "text": [
      "len(rightx) 1163\n",
      "len(leftx) 5014\n"
     ]
    },
    {
     "name": "stderr",
     "output_type": "stream",
     "text": [
      "\u001b[A\n",
      " 69%|██████▉   | 336/485 [01:31<00:37,  3.98it/s]"
     ]
    },
    {
     "name": "stdout",
     "output_type": "stream",
     "text": [
      "len(rightx) 1221\n",
      "len(leftx) 5241\n"
     ]
    },
    {
     "name": "stderr",
     "output_type": "stream",
     "text": [
      "\u001b[A\n",
      " 69%|██████▉   | 337/485 [01:32<00:37,  3.96it/s]"
     ]
    },
    {
     "name": "stdout",
     "output_type": "stream",
     "text": [
      "len(rightx) 1085\n",
      "len(leftx) 4901\n",
      "left_curverad, right_curverad\n",
      "18178.1176243 1649.35807005\n"
     ]
    },
    {
     "name": "stderr",
     "output_type": "stream",
     "text": [
      "\u001b[A\n",
      " 70%|██████▉   | 338/485 [01:32<00:37,  3.95it/s]"
     ]
    },
    {
     "name": "stdout",
     "output_type": "stream",
     "text": [
      "len(rightx) 908\n",
      "len(leftx) 4578\n"
     ]
    },
    {
     "name": "stderr",
     "output_type": "stream",
     "text": [
      "\u001b[A\n",
      " 70%|██████▉   | 339/485 [01:32<00:37,  3.94it/s]"
     ]
    },
    {
     "name": "stdout",
     "output_type": "stream",
     "text": [
      "len(rightx) 702\n",
      "len(leftx) 3905\n"
     ]
    },
    {
     "name": "stderr",
     "output_type": "stream",
     "text": [
      "\u001b[A\n",
      " 70%|███████   | 340/485 [01:32<00:36,  3.96it/s]"
     ]
    },
    {
     "name": "stdout",
     "output_type": "stream",
     "text": [
      "len(rightx) 496\n",
      "len(leftx) 4209\n"
     ]
    },
    {
     "name": "stderr",
     "output_type": "stream",
     "text": [
      "\u001b[A\n",
      " 70%|███████   | 341/485 [01:33<00:36,  3.97it/s]"
     ]
    },
    {
     "name": "stdout",
     "output_type": "stream",
     "text": [
      "len(rightx) 633\n",
      "len(leftx) 3550\n"
     ]
    },
    {
     "name": "stderr",
     "output_type": "stream",
     "text": [
      "\u001b[A\n",
      " 71%|███████   | 342/485 [01:33<00:35,  3.99it/s]"
     ]
    },
    {
     "name": "stdout",
     "output_type": "stream",
     "text": [
      "len(rightx) 575\n",
      "len(leftx) 4414\n"
     ]
    },
    {
     "name": "stderr",
     "output_type": "stream",
     "text": [
      "\u001b[A\n",
      " 71%|███████   | 343/485 [01:33<00:35,  3.99it/s]"
     ]
    },
    {
     "name": "stdout",
     "output_type": "stream",
     "text": [
      "len(rightx) 619\n",
      "len(leftx) 4022\n"
     ]
    },
    {
     "name": "stderr",
     "output_type": "stream",
     "text": [
      "\u001b[A\n",
      " 71%|███████   | 344/485 [01:33<00:35,  3.99it/s]"
     ]
    },
    {
     "name": "stdout",
     "output_type": "stream",
     "text": [
      "len(rightx) 662\n",
      "len(leftx) 3789\n"
     ]
    },
    {
     "name": "stderr",
     "output_type": "stream",
     "text": [
      "\u001b[A\n",
      " 71%|███████   | 345/485 [01:34<00:34,  4.01it/s]"
     ]
    },
    {
     "name": "stdout",
     "output_type": "stream",
     "text": [
      "len(rightx) 809\n",
      "len(leftx) 4461\n"
     ]
    },
    {
     "name": "stderr",
     "output_type": "stream",
     "text": [
      "\u001b[A\n",
      " 71%|███████▏  | 346/485 [01:34<00:34,  4.00it/s]"
     ]
    },
    {
     "name": "stdout",
     "output_type": "stream",
     "text": [
      "len(rightx) 878\n",
      "len(leftx) 4404\n"
     ]
    },
    {
     "name": "stderr",
     "output_type": "stream",
     "text": [
      "\u001b[A\n",
      " 72%|███████▏  | 347/485 [01:34<00:34,  3.97it/s]"
     ]
    },
    {
     "name": "stdout",
     "output_type": "stream",
     "text": [
      "len(rightx) 979\n",
      "len(leftx) 4188\n",
      "left_curverad, right_curverad\n",
      "12386.578013 3935.98998964\n"
     ]
    },
    {
     "name": "stderr",
     "output_type": "stream",
     "text": [
      "\u001b[A\n",
      " 72%|███████▏  | 348/485 [01:34<00:34,  4.00it/s]"
     ]
    },
    {
     "name": "stdout",
     "output_type": "stream",
     "text": [
      "len(rightx) 995\n",
      "len(leftx) 3880\n"
     ]
    },
    {
     "name": "stderr",
     "output_type": "stream",
     "text": [
      "\u001b[A\n",
      " 72%|███████▏  | 349/485 [01:35<00:33,  4.02it/s]"
     ]
    },
    {
     "name": "stdout",
     "output_type": "stream",
     "text": [
      "len(rightx) 1085\n",
      "len(leftx) 4180\n"
     ]
    },
    {
     "name": "stderr",
     "output_type": "stream",
     "text": [
      "\u001b[A\n",
      " 72%|███████▏  | 350/485 [01:35<00:33,  4.00it/s]"
     ]
    },
    {
     "name": "stdout",
     "output_type": "stream",
     "text": [
      "len(rightx) 1126\n",
      "len(leftx) 4118\n"
     ]
    },
    {
     "name": "stderr",
     "output_type": "stream",
     "text": [
      "\u001b[A\n",
      " 72%|███████▏  | 351/485 [01:35<00:33,  4.02it/s]"
     ]
    },
    {
     "name": "stdout",
     "output_type": "stream",
     "text": [
      "len(rightx) 900\n",
      "len(leftx) 4618\n"
     ]
    },
    {
     "name": "stderr",
     "output_type": "stream",
     "text": [
      "\u001b[A\n",
      " 73%|███████▎  | 352/485 [01:35<00:32,  4.06it/s]"
     ]
    },
    {
     "name": "stdout",
     "output_type": "stream",
     "text": [
      "len(rightx) 709\n",
      "len(leftx) 4431\n"
     ]
    },
    {
     "name": "stderr",
     "output_type": "stream",
     "text": [
      "\u001b[A\n",
      " 73%|███████▎  | 353/485 [01:35<00:32,  4.06it/s]"
     ]
    },
    {
     "name": "stdout",
     "output_type": "stream",
     "text": [
      "len(rightx) 498\n",
      "len(leftx) 4628\n"
     ]
    },
    {
     "name": "stderr",
     "output_type": "stream",
     "text": [
      "\u001b[A\n",
      " 73%|███████▎  | 354/485 [01:36<00:32,  4.06it/s]"
     ]
    },
    {
     "name": "stdout",
     "output_type": "stream",
     "text": [
      "len(rightx) 414\n",
      "len(leftx) 4362\n",
      "left_curverad, right_curverad\n",
      "645.370297505 100.738606878\n"
     ]
    },
    {
     "name": "stderr",
     "output_type": "stream",
     "text": [
      "\u001b[A\n",
      " 73%|███████▎  | 355/485 [01:36<00:32,  4.04it/s]"
     ]
    },
    {
     "name": "stdout",
     "output_type": "stream",
     "text": [
      "len(rightx) 485\n",
      "len(leftx) 5356\n"
     ]
    },
    {
     "name": "stderr",
     "output_type": "stream",
     "text": [
      "\u001b[A\n",
      " 73%|███████▎  | 356/485 [01:36<00:32,  3.95it/s]"
     ]
    },
    {
     "name": "stdout",
     "output_type": "stream",
     "text": [
      "len(rightx) 502\n",
      "len(leftx) 5357\n"
     ]
    },
    {
     "name": "stderr",
     "output_type": "stream",
     "text": [
      "\u001b[A\n",
      " 74%|███████▎  | 357/485 [01:37<00:32,  3.89it/s]"
     ]
    },
    {
     "name": "stdout",
     "output_type": "stream",
     "text": [
      "len(rightx) 520\n",
      "len(leftx) 5383\n"
     ]
    },
    {
     "name": "stderr",
     "output_type": "stream",
     "text": [
      "\u001b[A\n",
      " 74%|███████▍  | 358/485 [01:37<00:32,  3.85it/s]"
     ]
    },
    {
     "name": "stdout",
     "output_type": "stream",
     "text": [
      "len(rightx) 626\n",
      "len(leftx) 5623\n"
     ]
    },
    {
     "name": "stderr",
     "output_type": "stream",
     "text": [
      "\u001b[A\n",
      " 74%|███████▍  | 359/485 [01:37<00:32,  3.85it/s]"
     ]
    },
    {
     "name": "stdout",
     "output_type": "stream",
     "text": [
      "len(rightx) 793\n",
      "len(leftx) 5125\n"
     ]
    },
    {
     "name": "stderr",
     "output_type": "stream",
     "text": [
      "\u001b[A\n",
      " 74%|███████▍  | 360/485 [01:37<00:32,  3.84it/s]"
     ]
    },
    {
     "name": "stdout",
     "output_type": "stream",
     "text": [
      "len(rightx) 755\n",
      "len(leftx) 5245\n"
     ]
    },
    {
     "name": "stderr",
     "output_type": "stream",
     "text": [
      "\u001b[A\n",
      " 74%|███████▍  | 361/485 [01:38<00:31,  3.88it/s]"
     ]
    },
    {
     "name": "stdout",
     "output_type": "stream",
     "text": [
      "len(rightx) 949\n",
      "len(leftx) 5353\n"
     ]
    },
    {
     "name": "stderr",
     "output_type": "stream",
     "text": [
      "\u001b[A\n",
      " 75%|███████▍  | 362/485 [01:38<00:31,  3.88it/s]"
     ]
    },
    {
     "name": "stdout",
     "output_type": "stream",
     "text": [
      "len(rightx) 1001\n",
      "len(leftx) 5105\n"
     ]
    },
    {
     "name": "stderr",
     "output_type": "stream",
     "text": [
      "\u001b[A\n",
      " 75%|███████▍  | 363/485 [01:38<00:32,  3.79it/s]"
     ]
    },
    {
     "name": "stdout",
     "output_type": "stream",
     "text": [
      "len(rightx) 1075\n",
      "len(leftx) 4834\n"
     ]
    },
    {
     "name": "stderr",
     "output_type": "stream",
     "text": [
      "\u001b[A\n",
      " 75%|███████▌  | 364/485 [01:38<00:36,  3.36it/s]"
     ]
    },
    {
     "name": "stdout",
     "output_type": "stream",
     "text": [
      "len(rightx) 1048\n",
      "len(leftx) 3924\n"
     ]
    },
    {
     "name": "stderr",
     "output_type": "stream",
     "text": [
      "\u001b[A\n",
      " 75%|███████▌  | 365/485 [01:39<00:34,  3.49it/s]"
     ]
    },
    {
     "name": "stdout",
     "output_type": "stream",
     "text": [
      "len(rightx) 856\n",
      "len(leftx) 4314\n"
     ]
    },
    {
     "name": "stderr",
     "output_type": "stream",
     "text": [
      "\u001b[A\n",
      " 75%|███████▌  | 366/485 [01:39<00:32,  3.63it/s]"
     ]
    },
    {
     "name": "stdout",
     "output_type": "stream",
     "text": [
      "len(rightx) 557\n",
      "len(leftx) 4717\n"
     ]
    },
    {
     "name": "stderr",
     "output_type": "stream",
     "text": [
      "\u001b[A\n",
      " 76%|███████▌  | 367/485 [01:39<00:31,  3.76it/s]"
     ]
    },
    {
     "name": "stdout",
     "output_type": "stream",
     "text": [
      "len(rightx) 369\n",
      "len(leftx) 3984\n"
     ]
    },
    {
     "name": "stderr",
     "output_type": "stream",
     "text": [
      "\u001b[A\n",
      " 76%|███████▌  | 368/485 [01:39<00:30,  3.82it/s]"
     ]
    },
    {
     "name": "stdout",
     "output_type": "stream",
     "text": [
      "len(rightx) 328\n",
      "len(leftx) 3927\n",
      "left_curverad, right_curverad\n",
      "1827.13523135 403.826416411\n"
     ]
    },
    {
     "name": "stderr",
     "output_type": "stream",
     "text": [
      "\u001b[A\n",
      " 76%|███████▌  | 369/485 [01:40<00:29,  3.88it/s]"
     ]
    },
    {
     "name": "stdout",
     "output_type": "stream",
     "text": [
      "len(rightx) 375\n",
      "len(leftx) 4397\n",
      "left_curverad, right_curverad\n",
      "8118.60858565 742.304217432\n"
     ]
    },
    {
     "name": "stderr",
     "output_type": "stream",
     "text": [
      "\u001b[A\n",
      " 76%|███████▋  | 370/485 [01:40<00:29,  3.87it/s]"
     ]
    },
    {
     "name": "stdout",
     "output_type": "stream",
     "text": [
      "len(rightx) 499\n",
      "len(leftx) 4447\n",
      "left_curverad, right_curverad\n",
      "2659.91257764 676.977900218\n"
     ]
    },
    {
     "name": "stderr",
     "output_type": "stream",
     "text": [
      "\u001b[A\n",
      " 76%|███████▋  | 371/485 [01:40<00:28,  3.93it/s]"
     ]
    },
    {
     "name": "stdout",
     "output_type": "stream",
     "text": [
      "len(rightx) 561\n",
      "len(leftx) 5530\n",
      "left_curverad, right_curverad\n",
      "5664.0505963 710.180984246\n"
     ]
    },
    {
     "name": "stderr",
     "output_type": "stream",
     "text": [
      "\u001b[A\n",
      " 77%|███████▋  | 372/485 [01:40<00:28,  3.98it/s]"
     ]
    },
    {
     "name": "stdout",
     "output_type": "stream",
     "text": [
      "len(rightx) 605\n",
      "len(leftx) 5468\n"
     ]
    },
    {
     "name": "stderr",
     "output_type": "stream",
     "text": [
      "\u001b[A\n",
      " 77%|███████▋  | 373/485 [01:41<00:28,  3.97it/s]"
     ]
    },
    {
     "name": "stdout",
     "output_type": "stream",
     "text": [
      "len(rightx) 748\n",
      "len(leftx) 6532\n",
      "left_curverad, right_curverad\n",
      "13606.9317509 1108.47062342\n"
     ]
    },
    {
     "name": "stderr",
     "output_type": "stream",
     "text": [
      "\u001b[A\n",
      " 77%|███████▋  | 374/485 [01:41<00:28,  3.94it/s]"
     ]
    },
    {
     "name": "stdout",
     "output_type": "stream",
     "text": [
      "len(rightx) 794\n",
      "len(leftx) 6177\n",
      "left_curverad, right_curverad\n",
      "36519.0245814 951.180185291\n"
     ]
    },
    {
     "name": "stderr",
     "output_type": "stream",
     "text": [
      "\u001b[A\n",
      " 77%|███████▋  | 375/485 [01:41<00:27,  3.97it/s]"
     ]
    },
    {
     "name": "stdout",
     "output_type": "stream",
     "text": [
      "len(rightx) 934\n",
      "len(leftx) 5811\n",
      "left_curverad, right_curverad\n",
      "19947.1709026 1350.26942428\n"
     ]
    },
    {
     "name": "stderr",
     "output_type": "stream",
     "text": [
      "\u001b[A\n",
      " 78%|███████▊  | 376/485 [01:41<00:27,  3.98it/s]"
     ]
    },
    {
     "name": "stdout",
     "output_type": "stream",
     "text": [
      "len(rightx) 1014\n",
      "len(leftx) 5189\n"
     ]
    },
    {
     "name": "stderr",
     "output_type": "stream",
     "text": [
      "\u001b[A\n",
      " 78%|███████▊  | 377/485 [01:42<00:27,  4.00it/s]"
     ]
    },
    {
     "name": "stdout",
     "output_type": "stream",
     "text": [
      "len(rightx) 1120\n",
      "len(leftx) 5202\n"
     ]
    },
    {
     "name": "stderr",
     "output_type": "stream",
     "text": [
      "\u001b[A\n",
      " 78%|███████▊  | 378/485 [01:42<00:27,  3.93it/s]"
     ]
    },
    {
     "name": "stdout",
     "output_type": "stream",
     "text": [
      "len(rightx) 1035\n",
      "len(leftx) 4347\n"
     ]
    },
    {
     "name": "stderr",
     "output_type": "stream",
     "text": [
      "\u001b[A\n",
      " 78%|███████▊  | 379/485 [01:42<00:29,  3.55it/s]"
     ]
    },
    {
     "name": "stdout",
     "output_type": "stream",
     "text": [
      "len(rightx) 902\n",
      "len(leftx) 4854\n"
     ]
    },
    {
     "name": "stderr",
     "output_type": "stream",
     "text": [
      "\u001b[A\n",
      " 78%|███████▊  | 380/485 [01:43<00:31,  3.30it/s]"
     ]
    },
    {
     "name": "stdout",
     "output_type": "stream",
     "text": [
      "len(rightx) 646\n",
      "len(leftx) 4268\n"
     ]
    },
    {
     "name": "stderr",
     "output_type": "stream",
     "text": [
      "\u001b[A\n",
      " 79%|███████▊  | 381/485 [01:43<00:30,  3.38it/s]"
     ]
    },
    {
     "name": "stdout",
     "output_type": "stream",
     "text": [
      "len(rightx) 416\n",
      "len(leftx) 4334\n"
     ]
    },
    {
     "name": "stderr",
     "output_type": "stream",
     "text": [
      "\u001b[A\n",
      " 79%|███████▉  | 382/485 [01:43<00:29,  3.54it/s]"
     ]
    },
    {
     "name": "stdout",
     "output_type": "stream",
     "text": [
      "len(rightx) 359\n",
      "len(leftx) 4293\n"
     ]
    },
    {
     "name": "stderr",
     "output_type": "stream",
     "text": [
      "\u001b[A\n",
      " 79%|███████▉  | 383/485 [01:43<00:27,  3.67it/s]"
     ]
    },
    {
     "name": "stdout",
     "output_type": "stream",
     "text": [
      "len(rightx) 412\n",
      "len(leftx) 4429\n"
     ]
    },
    {
     "name": "stderr",
     "output_type": "stream",
     "text": [
      "\u001b[A\n",
      " 79%|███████▉  | 384/485 [01:44<00:26,  3.81it/s]"
     ]
    },
    {
     "name": "stdout",
     "output_type": "stream",
     "text": [
      "len(rightx) 555\n",
      "len(leftx) 4668\n"
     ]
    },
    {
     "name": "stderr",
     "output_type": "stream",
     "text": [
      "\u001b[A\n",
      " 79%|███████▉  | 385/485 [01:44<00:26,  3.83it/s]"
     ]
    },
    {
     "name": "stdout",
     "output_type": "stream",
     "text": [
      "len(rightx) 566\n",
      "len(leftx) 4427\n"
     ]
    },
    {
     "name": "stderr",
     "output_type": "stream",
     "text": [
      "\u001b[A\n",
      " 80%|███████▉  | 386/485 [01:44<00:25,  3.84it/s]"
     ]
    },
    {
     "name": "stdout",
     "output_type": "stream",
     "text": [
      "len(rightx) 605\n",
      "len(leftx) 4386\n"
     ]
    },
    {
     "name": "stderr",
     "output_type": "stream",
     "text": [
      "\u001b[A\n",
      " 80%|███████▉  | 387/485 [01:44<00:25,  3.86it/s]"
     ]
    },
    {
     "name": "stdout",
     "output_type": "stream",
     "text": [
      "len(rightx) 708\n",
      "len(leftx) 4082\n"
     ]
    },
    {
     "name": "stderr",
     "output_type": "stream",
     "text": [
      "\u001b[A\n",
      " 80%|████████  | 388/485 [01:45<00:24,  3.92it/s]"
     ]
    },
    {
     "name": "stdout",
     "output_type": "stream",
     "text": [
      "len(rightx) 759\n",
      "len(leftx) 3903\n"
     ]
    },
    {
     "name": "stderr",
     "output_type": "stream",
     "text": [
      "\u001b[A\n",
      " 80%|████████  | 389/485 [01:45<00:24,  3.94it/s]"
     ]
    },
    {
     "name": "stdout",
     "output_type": "stream",
     "text": [
      "len(rightx) 914\n",
      "len(leftx) 3601\n"
     ]
    },
    {
     "name": "stderr",
     "output_type": "stream",
     "text": [
      "\u001b[A\n",
      " 80%|████████  | 390/485 [01:45<00:23,  3.97it/s]"
     ]
    },
    {
     "name": "stdout",
     "output_type": "stream",
     "text": [
      "len(rightx) 1037\n",
      "len(leftx) 4300\n"
     ]
    },
    {
     "name": "stderr",
     "output_type": "stream",
     "text": [
      "\u001b[A\n",
      " 81%|████████  | 391/485 [01:45<00:23,  3.95it/s]"
     ]
    },
    {
     "name": "stdout",
     "output_type": "stream",
     "text": [
      "len(rightx) 1047\n",
      "len(leftx) 5019\n"
     ]
    },
    {
     "name": "stderr",
     "output_type": "stream",
     "text": [
      "\u001b[A\n",
      " 81%|████████  | 392/485 [01:46<00:24,  3.74it/s]"
     ]
    },
    {
     "name": "stdout",
     "output_type": "stream",
     "text": [
      "len(rightx) 1051\n",
      "len(leftx) 4822\n"
     ]
    },
    {
     "name": "stderr",
     "output_type": "stream",
     "text": [
      "\u001b[A\n",
      " 81%|████████  | 393/485 [01:46<00:26,  3.47it/s]"
     ]
    },
    {
     "name": "stdout",
     "output_type": "stream",
     "text": [
      "len(rightx) 820\n",
      "len(leftx) 4441\n"
     ]
    },
    {
     "name": "stderr",
     "output_type": "stream",
     "text": [
      "\u001b[A\n",
      " 81%|████████  | 394/485 [01:46<00:25,  3.60it/s]"
     ]
    },
    {
     "name": "stdout",
     "output_type": "stream",
     "text": [
      "len(rightx) 657\n",
      "len(leftx) 4335\n"
     ]
    },
    {
     "name": "stderr",
     "output_type": "stream",
     "text": [
      "\u001b[A\n",
      " 81%|████████▏ | 395/485 [01:47<00:24,  3.72it/s]"
     ]
    },
    {
     "name": "stdout",
     "output_type": "stream",
     "text": [
      "len(rightx) 366\n",
      "len(leftx) 4954\n"
     ]
    },
    {
     "name": "stderr",
     "output_type": "stream",
     "text": [
      "\u001b[A\n",
      " 82%|████████▏ | 396/485 [01:47<00:23,  3.78it/s]"
     ]
    },
    {
     "name": "stdout",
     "output_type": "stream",
     "text": [
      "len(rightx) 383\n",
      "len(leftx) 4747\n",
      "left_curverad, right_curverad\n",
      "762.919424973 129.367428608\n"
     ]
    },
    {
     "name": "stderr",
     "output_type": "stream",
     "text": [
      "\u001b[A\n",
      " 82%|████████▏ | 397/485 [01:47<00:23,  3.79it/s]"
     ]
    },
    {
     "name": "stdout",
     "output_type": "stream",
     "text": [
      "len(rightx) 399\n",
      "len(leftx) 4989\n"
     ]
    },
    {
     "name": "stderr",
     "output_type": "stream",
     "text": [
      "\u001b[A\n",
      " 82%|████████▏ | 398/485 [01:47<00:22,  3.80it/s]"
     ]
    },
    {
     "name": "stdout",
     "output_type": "stream",
     "text": [
      "len(rightx) 417\n",
      "len(leftx) 4480\n"
     ]
    },
    {
     "name": "stderr",
     "output_type": "stream",
     "text": [
      "\u001b[A\n",
      " 82%|████████▏ | 399/485 [01:48<00:22,  3.74it/s]"
     ]
    },
    {
     "name": "stdout",
     "output_type": "stream",
     "text": [
      "len(rightx) 484\n",
      "len(leftx) 4067\n"
     ]
    },
    {
     "name": "stderr",
     "output_type": "stream",
     "text": [
      "\u001b[A\n",
      " 82%|████████▏ | 400/485 [01:48<00:22,  3.77it/s]"
     ]
    },
    {
     "name": "stdout",
     "output_type": "stream",
     "text": [
      "len(rightx) 526\n",
      "len(leftx) 3882\n"
     ]
    },
    {
     "name": "stderr",
     "output_type": "stream",
     "text": [
      "\u001b[A\n",
      " 83%|████████▎ | 401/485 [01:48<00:21,  3.82it/s]"
     ]
    },
    {
     "name": "stdout",
     "output_type": "stream",
     "text": [
      "len(rightx) 571\n",
      "len(leftx) 4533\n"
     ]
    },
    {
     "name": "stderr",
     "output_type": "stream",
     "text": [
      "\u001b[A\n",
      " 83%|████████▎ | 402/485 [01:48<00:21,  3.91it/s]"
     ]
    },
    {
     "name": "stdout",
     "output_type": "stream",
     "text": [
      "len(rightx) 650\n",
      "len(leftx) 5589\n"
     ]
    },
    {
     "name": "stderr",
     "output_type": "stream",
     "text": [
      "\u001b[A\n",
      " 83%|████████▎ | 403/485 [01:49<00:20,  3.91it/s]"
     ]
    },
    {
     "name": "stdout",
     "output_type": "stream",
     "text": [
      "len(rightx) 750\n",
      "len(leftx) 4836\n"
     ]
    },
    {
     "name": "stderr",
     "output_type": "stream",
     "text": [
      "\u001b[A\n",
      " 83%|████████▎ | 404/485 [01:49<00:20,  3.93it/s]"
     ]
    },
    {
     "name": "stdout",
     "output_type": "stream",
     "text": [
      "len(rightx) 783\n",
      "len(leftx) 4608\n"
     ]
    },
    {
     "name": "stderr",
     "output_type": "stream",
     "text": [
      "\u001b[A\n",
      " 84%|████████▎ | 405/485 [01:49<00:20,  3.97it/s]"
     ]
    },
    {
     "name": "stdout",
     "output_type": "stream",
     "text": [
      "len(rightx) 880\n",
      "len(leftx) 4694\n"
     ]
    },
    {
     "name": "stderr",
     "output_type": "stream",
     "text": [
      "\u001b[A\n",
      " 84%|████████▎ | 406/485 [01:49<00:19,  4.01it/s]"
     ]
    },
    {
     "name": "stdout",
     "output_type": "stream",
     "text": [
      "len(rightx) 748\n",
      "len(leftx) 4181\n"
     ]
    },
    {
     "name": "stderr",
     "output_type": "stream",
     "text": [
      "\u001b[A\n",
      " 84%|████████▍ | 407/485 [01:50<00:19,  3.94it/s]"
     ]
    },
    {
     "name": "stdout",
     "output_type": "stream",
     "text": [
      "len(rightx) 470\n",
      "len(leftx) 3751\n"
     ]
    },
    {
     "name": "stderr",
     "output_type": "stream",
     "text": [
      "\u001b[A\n",
      " 84%|████████▍ | 408/485 [01:50<00:19,  3.99it/s]"
     ]
    },
    {
     "name": "stdout",
     "output_type": "stream",
     "text": [
      "len(rightx) 339\n",
      "len(leftx) 3361\n"
     ]
    },
    {
     "name": "stderr",
     "output_type": "stream",
     "text": [
      "\u001b[A\n",
      " 84%|████████▍ | 409/485 [01:50<00:18,  4.01it/s]"
     ]
    },
    {
     "name": "stdout",
     "output_type": "stream",
     "text": [
      "len(rightx) 202\n",
      "len(leftx) 3862\n"
     ]
    },
    {
     "name": "stderr",
     "output_type": "stream",
     "text": [
      "\u001b[A\n",
      " 85%|████████▍ | 410/485 [01:50<00:18,  4.05it/s]"
     ]
    },
    {
     "name": "stdout",
     "output_type": "stream",
     "text": [
      "len(rightx) 232\n",
      "len(leftx) 4318\n"
     ]
    },
    {
     "name": "stderr",
     "output_type": "stream",
     "text": [
      "\u001b[A\n",
      " 85%|████████▍ | 411/485 [01:51<00:18,  4.04it/s]"
     ]
    },
    {
     "name": "stdout",
     "output_type": "stream",
     "text": [
      "len(rightx) 246\n",
      "len(leftx) 3828\n"
     ]
    },
    {
     "name": "stderr",
     "output_type": "stream",
     "text": [
      "\u001b[A\n",
      " 85%|████████▍ | 412/485 [01:51<00:17,  4.07it/s]"
     ]
    },
    {
     "name": "stdout",
     "output_type": "stream",
     "text": [
      "len(rightx) 363\n",
      "len(leftx) 4491\n"
     ]
    },
    {
     "name": "stderr",
     "output_type": "stream",
     "text": [
      "\u001b[A\n",
      " 85%|████████▌ | 413/485 [01:51<00:17,  4.07it/s]"
     ]
    },
    {
     "name": "stdout",
     "output_type": "stream",
     "text": [
      "len(rightx) 477\n",
      "len(leftx) 4847\n"
     ]
    },
    {
     "name": "stderr",
     "output_type": "stream",
     "text": [
      "\u001b[A\n",
      " 85%|████████▌ | 414/485 [01:51<00:17,  4.00it/s]"
     ]
    },
    {
     "name": "stdout",
     "output_type": "stream",
     "text": [
      "len(rightx) 498\n",
      "len(leftx) 4271\n"
     ]
    },
    {
     "name": "stderr",
     "output_type": "stream",
     "text": [
      "\u001b[A\n",
      " 86%|████████▌ | 415/485 [01:52<00:17,  3.94it/s]"
     ]
    },
    {
     "name": "stdout",
     "output_type": "stream",
     "text": [
      "len(rightx) 458\n",
      "len(leftx) 4390\n"
     ]
    },
    {
     "name": "stderr",
     "output_type": "stream",
     "text": [
      "\u001b[A\n",
      " 86%|████████▌ | 416/485 [01:52<00:17,  3.91it/s]"
     ]
    },
    {
     "name": "stdout",
     "output_type": "stream",
     "text": [
      "len(rightx) 634\n",
      "len(leftx) 4709\n"
     ]
    },
    {
     "name": "stderr",
     "output_type": "stream",
     "text": [
      "\u001b[A\n",
      " 86%|████████▌ | 417/485 [01:52<00:17,  3.94it/s]"
     ]
    },
    {
     "name": "stdout",
     "output_type": "stream",
     "text": [
      "len(rightx) 638\n",
      "len(leftx) 4612\n"
     ]
    },
    {
     "name": "stderr",
     "output_type": "stream",
     "text": [
      "\u001b[A\n",
      " 86%|████████▌ | 418/485 [01:52<00:16,  3.95it/s]"
     ]
    },
    {
     "name": "stdout",
     "output_type": "stream",
     "text": [
      "len(rightx) 673\n",
      "len(leftx) 4110\n"
     ]
    },
    {
     "name": "stderr",
     "output_type": "stream",
     "text": [
      "\u001b[A\n",
      " 86%|████████▋ | 419/485 [01:53<00:16,  3.96it/s]"
     ]
    },
    {
     "name": "stdout",
     "output_type": "stream",
     "text": [
      "len(rightx) 785\n",
      "len(leftx) 4259\n"
     ]
    },
    {
     "name": "stderr",
     "output_type": "stream",
     "text": [
      "\u001b[A\n",
      " 87%|████████▋ | 420/485 [01:53<00:16,  3.95it/s]"
     ]
    },
    {
     "name": "stdout",
     "output_type": "stream",
     "text": [
      "len(rightx) 687\n",
      "len(leftx) 5412\n"
     ]
    },
    {
     "name": "stderr",
     "output_type": "stream",
     "text": [
      "\u001b[A\n",
      " 87%|████████▋ | 421/485 [01:53<00:15,  4.02it/s]"
     ]
    },
    {
     "name": "stdout",
     "output_type": "stream",
     "text": [
      "len(rightx) 542\n",
      "len(leftx) 4549\n"
     ]
    },
    {
     "name": "stderr",
     "output_type": "stream",
     "text": [
      "\u001b[A\n",
      " 87%|████████▋ | 422/485 [01:53<00:15,  4.00it/s]"
     ]
    },
    {
     "name": "stdout",
     "output_type": "stream",
     "text": [
      "len(rightx) 459\n",
      "len(leftx) 4408\n"
     ]
    },
    {
     "name": "stderr",
     "output_type": "stream",
     "text": [
      "\u001b[A\n",
      " 87%|████████▋ | 423/485 [01:54<00:15,  4.00it/s]"
     ]
    },
    {
     "name": "stdout",
     "output_type": "stream",
     "text": [
      "len(rightx) 370\n",
      "len(leftx) 4181\n"
     ]
    },
    {
     "name": "stderr",
     "output_type": "stream",
     "text": [
      "\u001b[A\n",
      " 87%|████████▋ | 424/485 [01:54<00:15,  4.06it/s]"
     ]
    },
    {
     "name": "stdout",
     "output_type": "stream",
     "text": [
      "len(rightx) 359\n",
      "len(leftx) 4492\n"
     ]
    },
    {
     "name": "stderr",
     "output_type": "stream",
     "text": [
      "\u001b[A\n",
      " 88%|████████▊ | 425/485 [01:54<00:14,  4.04it/s]"
     ]
    },
    {
     "name": "stdout",
     "output_type": "stream",
     "text": [
      "len(rightx) 391\n",
      "len(leftx) 4100\n"
     ]
    },
    {
     "name": "stderr",
     "output_type": "stream",
     "text": [
      "\u001b[A\n",
      " 88%|████████▊ | 426/485 [01:54<00:14,  4.08it/s]"
     ]
    },
    {
     "name": "stdout",
     "output_type": "stream",
     "text": [
      "len(rightx) 445\n",
      "len(leftx) 5189\n"
     ]
    },
    {
     "name": "stderr",
     "output_type": "stream",
     "text": [
      "\u001b[A\n",
      " 88%|████████▊ | 427/485 [01:55<00:14,  4.04it/s]"
     ]
    },
    {
     "name": "stdout",
     "output_type": "stream",
     "text": [
      "len(rightx) 546\n",
      "len(leftx) 4656\n"
     ]
    },
    {
     "name": "stderr",
     "output_type": "stream",
     "text": [
      "\u001b[A\n",
      " 88%|████████▊ | 428/485 [01:55<00:14,  4.00it/s]"
     ]
    },
    {
     "name": "stdout",
     "output_type": "stream",
     "text": [
      "len(rightx) 569\n",
      "len(leftx) 3818\n"
     ]
    },
    {
     "name": "stderr",
     "output_type": "stream",
     "text": [
      "\u001b[A\n",
      " 88%|████████▊ | 429/485 [01:55<00:13,  4.01it/s]"
     ]
    },
    {
     "name": "stdout",
     "output_type": "stream",
     "text": [
      "len(rightx) 627\n",
      "len(leftx) 4184\n"
     ]
    },
    {
     "name": "stderr",
     "output_type": "stream",
     "text": [
      "\u001b[A\n",
      " 89%|████████▊ | 430/485 [01:55<00:13,  4.00it/s]"
     ]
    },
    {
     "name": "stdout",
     "output_type": "stream",
     "text": [
      "len(rightx) 851\n",
      "len(leftx) 5182\n"
     ]
    },
    {
     "name": "stderr",
     "output_type": "stream",
     "text": [
      "\u001b[A\n",
      " 89%|████████▉ | 431/485 [01:56<00:13,  4.00it/s]"
     ]
    },
    {
     "name": "stdout",
     "output_type": "stream",
     "text": [
      "len(rightx) 914\n",
      "len(leftx) 5165\n"
     ]
    },
    {
     "name": "stderr",
     "output_type": "stream",
     "text": [
      "\u001b[A\n",
      " 89%|████████▉ | 432/485 [01:56<00:13,  4.02it/s]"
     ]
    },
    {
     "name": "stdout",
     "output_type": "stream",
     "text": [
      "len(rightx) 1038\n",
      "len(leftx) 5710\n"
     ]
    },
    {
     "name": "stderr",
     "output_type": "stream",
     "text": [
      "\u001b[A\n",
      " 89%|████████▉ | 433/485 [01:56<00:12,  4.01it/s]"
     ]
    },
    {
     "name": "stdout",
     "output_type": "stream",
     "text": [
      "len(rightx) 1073\n",
      "len(leftx) 5609\n"
     ]
    },
    {
     "name": "stderr",
     "output_type": "stream",
     "text": [
      "\u001b[A\n",
      " 89%|████████▉ | 434/485 [01:56<00:12,  4.05it/s]"
     ]
    },
    {
     "name": "stdout",
     "output_type": "stream",
     "text": [
      "len(rightx) 899\n",
      "len(leftx) 5582\n"
     ]
    },
    {
     "name": "stderr",
     "output_type": "stream",
     "text": [
      "\u001b[A\n",
      " 90%|████████▉ | 435/485 [01:57<00:12,  4.08it/s]"
     ]
    },
    {
     "name": "stdout",
     "output_type": "stream",
     "text": [
      "len(rightx) 730\n",
      "len(leftx) 5665\n",
      "left_curverad, right_curverad\n",
      "39095.27315 12207.4219438\n"
     ]
    },
    {
     "name": "stderr",
     "output_type": "stream",
     "text": [
      "\u001b[A\n",
      " 90%|████████▉ | 436/485 [01:57<00:12,  3.97it/s]"
     ]
    },
    {
     "name": "stdout",
     "output_type": "stream",
     "text": [
      "len(rightx) 484\n",
      "len(leftx) 6241\n"
     ]
    },
    {
     "name": "stderr",
     "output_type": "stream",
     "text": [
      "\u001b[A\n",
      " 90%|█████████ | 437/485 [01:57<00:11,  4.01it/s]"
     ]
    },
    {
     "name": "stdout",
     "output_type": "stream",
     "text": [
      "len(rightx) 281\n",
      "len(leftx) 5972\n"
     ]
    },
    {
     "name": "stderr",
     "output_type": "stream",
     "text": [
      "\u001b[A\n",
      " 90%|█████████ | 438/485 [01:57<00:11,  3.99it/s]"
     ]
    },
    {
     "name": "stdout",
     "output_type": "stream",
     "text": [
      "len(rightx) 321\n",
      "len(leftx) 5143\n",
      "left_curverad, right_curverad\n",
      "2387.7012447 576.971513192\n"
     ]
    },
    {
     "name": "stderr",
     "output_type": "stream",
     "text": [
      "\u001b[A\n",
      " 91%|█████████ | 439/485 [01:58<00:11,  3.99it/s]"
     ]
    },
    {
     "name": "stdout",
     "output_type": "stream",
     "text": [
      "len(rightx) 391\n",
      "len(leftx) 5923\n"
     ]
    },
    {
     "name": "stderr",
     "output_type": "stream",
     "text": [
      "\u001b[A\n",
      " 91%|█████████ | 440/485 [01:58<00:11,  3.94it/s]"
     ]
    },
    {
     "name": "stdout",
     "output_type": "stream",
     "text": [
      "len(rightx) 440\n",
      "len(leftx) 4672\n",
      "left_curverad, right_curverad\n",
      "3162.80154188 820.184408104\n"
     ]
    },
    {
     "name": "stderr",
     "output_type": "stream",
     "text": [
      "\u001b[A\n",
      " 91%|█████████ | 441/485 [01:58<00:11,  3.86it/s]"
     ]
    },
    {
     "name": "stdout",
     "output_type": "stream",
     "text": [
      "len(rightx) 548\n",
      "len(leftx) 5276\n"
     ]
    },
    {
     "name": "stderr",
     "output_type": "stream",
     "text": [
      "\u001b[A\n",
      " 91%|█████████ | 442/485 [01:58<00:11,  3.81it/s]"
     ]
    },
    {
     "name": "stdout",
     "output_type": "stream",
     "text": [
      "len(rightx) 525\n",
      "len(leftx) 6043\n"
     ]
    },
    {
     "name": "stderr",
     "output_type": "stream",
     "text": [
      "\u001b[A\n",
      " 91%|█████████▏| 443/485 [01:59<00:11,  3.80it/s]"
     ]
    },
    {
     "name": "stdout",
     "output_type": "stream",
     "text": [
      "len(rightx) 509\n",
      "len(leftx) 6908\n"
     ]
    },
    {
     "name": "stderr",
     "output_type": "stream",
     "text": [
      "\u001b[A\n",
      " 92%|█████████▏| 444/485 [01:59<00:10,  3.81it/s]"
     ]
    },
    {
     "name": "stdout",
     "output_type": "stream",
     "text": [
      "len(rightx) 539\n",
      "len(leftx) 6445\n",
      "left_curverad, right_curverad\n",
      "2122.97367773 152.889641873\n"
     ]
    },
    {
     "name": "stderr",
     "output_type": "stream",
     "text": [
      "\u001b[A\n",
      " 92%|█████████▏| 445/485 [01:59<00:10,  3.80it/s]"
     ]
    },
    {
     "name": "stdout",
     "output_type": "stream",
     "text": [
      "len(rightx) 582\n",
      "len(leftx) 7616\n",
      "left_curverad, right_curverad\n",
      "818.333450499 268.973961022\n"
     ]
    },
    {
     "name": "stderr",
     "output_type": "stream",
     "text": [
      "\u001b[A\n",
      " 92%|█████████▏| 446/485 [02:00<00:10,  3.82it/s]"
     ]
    },
    {
     "name": "stdout",
     "output_type": "stream",
     "text": [
      "len(rightx) 617\n",
      "len(leftx) 6459\n"
     ]
    },
    {
     "name": "stderr",
     "output_type": "stream",
     "text": [
      "\u001b[A\n",
      " 92%|█████████▏| 447/485 [02:00<00:09,  3.86it/s]"
     ]
    },
    {
     "name": "stdout",
     "output_type": "stream",
     "text": [
      "len(rightx) 692\n",
      "len(leftx) 5866\n"
     ]
    },
    {
     "name": "stderr",
     "output_type": "stream",
     "text": [
      "\u001b[A\n",
      " 92%|█████████▏| 448/485 [02:00<00:09,  3.88it/s]"
     ]
    },
    {
     "name": "stdout",
     "output_type": "stream",
     "text": [
      "len(rightx) 622\n",
      "len(leftx) 5612\n"
     ]
    },
    {
     "name": "stderr",
     "output_type": "stream",
     "text": [
      "\u001b[A\n",
      " 93%|█████████▎| 449/485 [02:00<00:09,  3.87it/s]"
     ]
    },
    {
     "name": "stdout",
     "output_type": "stream",
     "text": [
      "len(rightx) 437\n",
      "len(leftx) 5971\n"
     ]
    },
    {
     "name": "stderr",
     "output_type": "stream",
     "text": [
      "\u001b[A\n",
      " 93%|█████████▎| 450/485 [02:01<00:09,  3.88it/s]"
     ]
    },
    {
     "name": "stdout",
     "output_type": "stream",
     "text": [
      "len(rightx) 285\n",
      "len(leftx) 6885\n"
     ]
    },
    {
     "name": "stderr",
     "output_type": "stream",
     "text": [
      "\u001b[A\n",
      " 93%|█████████▎| 451/485 [02:01<00:08,  3.93it/s]"
     ]
    },
    {
     "name": "stdout",
     "output_type": "stream",
     "text": [
      "len(rightx) 200\n",
      "len(leftx) 5666\n"
     ]
    },
    {
     "name": "stderr",
     "output_type": "stream",
     "text": [
      "\u001b[A\n",
      " 93%|█████████▎| 452/485 [02:01<00:08,  3.93it/s]"
     ]
    },
    {
     "name": "stdout",
     "output_type": "stream",
     "text": [
      "len(rightx) 256\n",
      "len(leftx) 5110\n"
     ]
    },
    {
     "name": "stderr",
     "output_type": "stream",
     "text": [
      "\u001b[A\n",
      " 93%|█████████▎| 453/485 [02:01<00:08,  3.96it/s]"
     ]
    },
    {
     "name": "stdout",
     "output_type": "stream",
     "text": [
      "len(rightx) 286\n",
      "len(leftx) 6211\n"
     ]
    },
    {
     "name": "stderr",
     "output_type": "stream",
     "text": [
      "\u001b[A\n",
      " 94%|█████████▎| 454/485 [02:02<00:07,  3.96it/s]"
     ]
    },
    {
     "name": "stdout",
     "output_type": "stream",
     "text": [
      "len(rightx) 303\n",
      "len(leftx) 6748\n"
     ]
    },
    {
     "name": "stderr",
     "output_type": "stream",
     "text": [
      "\u001b[A\n",
      " 94%|█████████▍| 455/485 [02:02<00:07,  3.99it/s]"
     ]
    },
    {
     "name": "stdout",
     "output_type": "stream",
     "text": [
      "len(rightx) 393\n",
      "len(leftx) 7476\n"
     ]
    },
    {
     "name": "stderr",
     "output_type": "stream",
     "text": [
      "\u001b[A\n",
      " 94%|█████████▍| 456/485 [02:02<00:07,  3.98it/s]"
     ]
    },
    {
     "name": "stdout",
     "output_type": "stream",
     "text": [
      "len(rightx) 390\n",
      "len(leftx) 8168\n"
     ]
    },
    {
     "name": "stderr",
     "output_type": "stream",
     "text": [
      "\u001b[A\n",
      " 94%|█████████▍| 457/485 [02:02<00:07,  3.96it/s]"
     ]
    },
    {
     "name": "stdout",
     "output_type": "stream",
     "text": [
      "len(rightx) 456\n",
      "len(leftx) 7395\n"
     ]
    },
    {
     "name": "stderr",
     "output_type": "stream",
     "text": [
      "\u001b[A\n",
      " 94%|█████████▍| 458/485 [02:03<00:06,  4.02it/s]"
     ]
    },
    {
     "name": "stdout",
     "output_type": "stream",
     "text": [
      "len(rightx) 487\n",
      "len(leftx) 7263\n"
     ]
    },
    {
     "name": "stderr",
     "output_type": "stream",
     "text": [
      "\u001b[A\n",
      " 95%|█████████▍| 459/485 [02:03<00:06,  4.01it/s]"
     ]
    },
    {
     "name": "stdout",
     "output_type": "stream",
     "text": [
      "len(rightx) 556\n",
      "len(leftx) 7604\n"
     ]
    },
    {
     "name": "stderr",
     "output_type": "stream",
     "text": [
      "\u001b[A\n",
      " 95%|█████████▍| 460/485 [02:03<00:06,  4.03it/s]"
     ]
    },
    {
     "name": "stdout",
     "output_type": "stream",
     "text": [
      "len(rightx) 612\n",
      "len(leftx) 6443\n"
     ]
    },
    {
     "name": "stderr",
     "output_type": "stream",
     "text": [
      "\u001b[A\n",
      " 95%|█████████▌| 461/485 [02:03<00:05,  4.02it/s]"
     ]
    },
    {
     "name": "stdout",
     "output_type": "stream",
     "text": [
      "len(rightx) 609\n",
      "len(leftx) 6748\n"
     ]
    },
    {
     "name": "stderr",
     "output_type": "stream",
     "text": [
      "\u001b[A\n",
      " 95%|█████████▌| 462/485 [02:04<00:05,  4.02it/s]"
     ]
    },
    {
     "name": "stdout",
     "output_type": "stream",
     "text": [
      "len(rightx) 490\n",
      "len(leftx) 7062\n"
     ]
    },
    {
     "name": "stderr",
     "output_type": "stream",
     "text": [
      "\u001b[A\n",
      " 95%|█████████▌| 463/485 [02:04<00:05,  4.03it/s]"
     ]
    },
    {
     "name": "stdout",
     "output_type": "stream",
     "text": [
      "len(rightx) 421\n",
      "len(leftx) 7177\n"
     ]
    },
    {
     "name": "stderr",
     "output_type": "stream",
     "text": [
      "\u001b[A\n",
      " 96%|█████████▌| 464/485 [02:04<00:05,  4.02it/s]"
     ]
    },
    {
     "name": "stdout",
     "output_type": "stream",
     "text": [
      "len(rightx) 216\n",
      "len(leftx) 7399\n",
      "left_curverad, right_curverad\n",
      "1349.49295583 369.991500825\n"
     ]
    },
    {
     "name": "stderr",
     "output_type": "stream",
     "text": [
      "\u001b[A\n",
      " 96%|█████████▌| 465/485 [02:04<00:04,  4.04it/s]"
     ]
    },
    {
     "name": "stdout",
     "output_type": "stream",
     "text": [
      "len(rightx) 227\n",
      "len(leftx) 6467\n"
     ]
    },
    {
     "name": "stderr",
     "output_type": "stream",
     "text": [
      "\u001b[A\n",
      " 96%|█████████▌| 466/485 [02:05<00:04,  4.02it/s]"
     ]
    },
    {
     "name": "stdout",
     "output_type": "stream",
     "text": [
      "len(rightx) 267\n",
      "len(leftx) 6573\n"
     ]
    },
    {
     "name": "stderr",
     "output_type": "stream",
     "text": [
      "\u001b[A\n",
      " 96%|█████████▋| 467/485 [02:05<00:04,  4.02it/s]"
     ]
    },
    {
     "name": "stdout",
     "output_type": "stream",
     "text": [
      "len(rightx) 275\n",
      "len(leftx) 6157\n"
     ]
    },
    {
     "name": "stderr",
     "output_type": "stream",
     "text": [
      "\u001b[A\n",
      " 96%|█████████▋| 468/485 [02:05<00:04,  4.05it/s]"
     ]
    },
    {
     "name": "stdout",
     "output_type": "stream",
     "text": [
      "len(rightx) 294\n",
      "len(leftx) 6528\n"
     ]
    },
    {
     "name": "stderr",
     "output_type": "stream",
     "text": [
      "\u001b[A\n",
      " 97%|█████████▋| 469/485 [02:05<00:03,  4.04it/s]"
     ]
    },
    {
     "name": "stdout",
     "output_type": "stream",
     "text": [
      "len(rightx) 339\n",
      "len(leftx) 6748\n",
      "left_curverad, right_curverad\n",
      "1801.16722366 292.356525356\n"
     ]
    },
    {
     "name": "stderr",
     "output_type": "stream",
     "text": [
      "\u001b[A\n",
      " 97%|█████████▋| 470/485 [02:06<00:03,  4.02it/s]"
     ]
    },
    {
     "name": "stdout",
     "output_type": "stream",
     "text": [
      "len(rightx) 404\n",
      "len(leftx) 6644\n",
      "left_curverad, right_curverad\n",
      "2084.99185895 85.4086925244\n"
     ]
    },
    {
     "name": "stderr",
     "output_type": "stream",
     "text": [
      "\u001b[A\n",
      " 97%|█████████▋| 471/485 [02:06<00:03,  3.98it/s]"
     ]
    },
    {
     "name": "stdout",
     "output_type": "stream",
     "text": [
      "len(rightx) 451\n",
      "len(leftx) 6684\n",
      "left_curverad, right_curverad\n",
      "1254.97017435 91.2704192105\n"
     ]
    },
    {
     "name": "stderr",
     "output_type": "stream",
     "text": [
      "\u001b[A\n",
      " 97%|█████████▋| 472/485 [02:06<00:03,  3.99it/s]"
     ]
    },
    {
     "name": "stdout",
     "output_type": "stream",
     "text": [
      "len(rightx) 453\n",
      "len(leftx) 6464\n",
      "left_curverad, right_curverad\n",
      "1519.85043759 81.7949122966\n"
     ]
    },
    {
     "name": "stderr",
     "output_type": "stream",
     "text": [
      "\u001b[A\n",
      " 98%|█████████▊| 473/485 [02:06<00:03,  3.99it/s]"
     ]
    },
    {
     "name": "stdout",
     "output_type": "stream",
     "text": [
      "len(rightx) 552\n",
      "len(leftx) 6040\n",
      "left_curverad, right_curverad\n",
      "1065.74793983 141.288379924\n"
     ]
    },
    {
     "name": "stderr",
     "output_type": "stream",
     "text": [
      "\u001b[A\n",
      " 98%|█████████▊| 474/485 [02:07<00:02,  4.00it/s]"
     ]
    },
    {
     "name": "stdout",
     "output_type": "stream",
     "text": [
      "len(rightx) 618\n",
      "len(leftx) 6384\n",
      "left_curverad, right_curverad\n",
      "860.203703897 88.9961487003\n"
     ]
    },
    {
     "name": "stderr",
     "output_type": "stream",
     "text": [
      "\u001b[A\n",
      " 98%|█████████▊| 475/485 [02:07<00:02,  4.03it/s]"
     ]
    },
    {
     "name": "stdout",
     "output_type": "stream",
     "text": [
      "len(rightx) 580\n",
      "len(leftx) 6221\n",
      "left_curverad, right_curverad\n",
      "1349.83490029 90.8526707866\n"
     ]
    },
    {
     "name": "stderr",
     "output_type": "stream",
     "text": [
      "\u001b[A\n",
      " 98%|█████████▊| 476/485 [02:07<00:02,  4.01it/s]"
     ]
    },
    {
     "name": "stdout",
     "output_type": "stream",
     "text": [
      "len(rightx) 411\n",
      "len(leftx) 6180\n",
      "left_curverad, right_curverad\n",
      "1742.07751994 339.896633066\n"
     ]
    },
    {
     "name": "stderr",
     "output_type": "stream",
     "text": [
      "\u001b[A\n",
      " 98%|█████████▊| 477/485 [02:07<00:01,  4.02it/s]"
     ]
    },
    {
     "name": "stdout",
     "output_type": "stream",
     "text": [
      "len(rightx) 230\n",
      "len(leftx) 5629\n",
      "left_curverad, right_curverad\n",
      "1839.7105503 13.8432551693\n"
     ]
    },
    {
     "name": "stderr",
     "output_type": "stream",
     "text": [
      "\u001b[A\n",
      " 99%|█████████▊| 478/485 [02:08<00:01,  4.01it/s]"
     ]
    },
    {
     "name": "stdout",
     "output_type": "stream",
     "text": [
      "len(rightx) 59\n",
      "len(leftx) 5396\n",
      "left_curverad, right_curverad\n",
      "1297.68395029 82.5573064012\n"
     ]
    },
    {
     "name": "stderr",
     "output_type": "stream",
     "text": [
      "\u001b[A\n",
      " 99%|█████████▉| 479/485 [02:08<00:01,  3.95it/s]"
     ]
    },
    {
     "name": "stdout",
     "output_type": "stream",
     "text": [
      "len(rightx) 6\n",
      "len(leftx) 5290\n",
      "upper, lower\n",
      "-57058.1979654 -13776.8167391\n"
     ]
    },
    {
     "name": "stderr",
     "output_type": "stream",
     "text": [
      "\u001b[A\n",
      " 99%|█████████▉| 480/485 [02:08<00:01,  3.94it/s]"
     ]
    },
    {
     "name": "stdout",
     "output_type": "stream",
     "text": [
      "len(rightx) 18\n",
      "len(leftx) 5543\n",
      "left_curverad, right_curverad\n",
      "1060.5063705 30.7280978105\n"
     ]
    },
    {
     "name": "stderr",
     "output_type": "stream",
     "text": [
      "\u001b[A\n",
      " 99%|█████████▉| 481/485 [02:08<00:01,  3.95it/s]"
     ]
    },
    {
     "name": "stdout",
     "output_type": "stream",
     "text": [
      "len(rightx) 42\n",
      "len(leftx) 5450\n",
      "left_curverad, right_curverad\n",
      "1910.94315525 48.5609701934\n"
     ]
    },
    {
     "name": "stderr",
     "output_type": "stream",
     "text": [
      "\u001b[A\n",
      " 99%|█████████▉| 482/485 [02:09<00:00,  3.95it/s]"
     ]
    },
    {
     "name": "stdout",
     "output_type": "stream",
     "text": [
      "len(rightx) 55\n",
      "len(leftx) 5195\n",
      "left_curverad, right_curverad\n",
      "1568.42251648 319.151805892\n"
     ]
    },
    {
     "name": "stderr",
     "output_type": "stream",
     "text": [
      "\u001b[A\n",
      "100%|█████████▉| 483/485 [02:09<00:00,  3.98it/s]"
     ]
    },
    {
     "name": "stdout",
     "output_type": "stream",
     "text": [
      "len(rightx) 58\n",
      "len(leftx) 5025\n",
      "left_curverad, right_curverad\n",
      "1208.388352 35.1577684326\n"
     ]
    },
    {
     "name": "stderr",
     "output_type": "stream",
     "text": [
      "\u001b[A\n",
      "100%|█████████▉| 484/485 [02:09<00:00,  3.89it/s]"
     ]
    },
    {
     "name": "stdout",
     "output_type": "stream",
     "text": [
      "len(rightx) 61\n",
      "len(leftx) 5886\n",
      "left_curverad, right_curverad\n",
      "1596.04205661 70.3607582829\n"
     ]
    },
    {
     "name": "stderr",
     "output_type": "stream",
     "text": [
      "\u001b[A\n",
      "100%|██████████| 485/485 [02:09<00:00,  3.76it/s]"
     ]
    },
    {
     "name": "stdout",
     "output_type": "stream",
     "text": [
      "len(rightx) 61\n",
      "len(leftx) 5886\n",
      "left_curverad, right_curverad\n",
      "1596.04205661 70.3607582829\n"
     ]
    },
    {
     "name": "stderr",
     "output_type": "stream",
     "text": [
      "\u001b[A\n",
      "\u001b[A"
     ]
    },
    {
     "name": "stdout",
     "output_type": "stream",
     "text": [
      "[MoviePy] Done.\n",
      "[MoviePy] >>>> Video ready: ../output_images/challenge_video.mp4 \n",
      "\n",
      "CPU times: user 3min 19s, sys: 6.78 s, total: 3min 26s\n",
      "Wall time: 2min 10s\n"
     ]
    }
   ],
   "source": [
    "# Import everything needed to edit/save/watch video clips\n",
    "from moviepy.editor import VideoFileClip\n",
    "from IPython.display import HTML\n",
    "def process_image(image):\n",
    "    result = pipeline(image)\n",
    "    return result\n",
    "\n",
    "output = '../output_images/challenge_video.mp4'\n",
    "clip1 = VideoFileClip(\"../challenge_video.mp4\")\n",
    "white_clip = clip1.fl_image(process_image) #NOTE: this function expects color images!!\n",
    "%time white_clip.write_videofile(output, audio=False)"
   ]
  },
  {
   "cell_type": "code",
   "execution_count": 340,
   "metadata": {},
   "outputs": [
    {
     "name": "stdout",
     "output_type": "stream",
     "text": [
      "[MoviePy] >>>> Building video ../output_images/harder_challenge_video.mp4\n",
      "[MoviePy] Writing video ../output_images/harder_challenge_video.mp4\n"
     ]
    },
    {
     "name": "stderr",
     "output_type": "stream",
     "text": [
      "\n",
      "  0%|          | 0/1200 [00:00<?, ?it/s]\u001b[A\n",
      "  0%|          | 1/1200 [00:00<05:29,  3.64it/s]\u001b[A\n",
      "  0%|          | 2/1200 [00:00<05:30,  3.63it/s]\u001b[A\n",
      "  0%|          | 3/1200 [00:00<05:25,  3.68it/s]\u001b[A\n",
      "  0%|          | 4/1200 [00:01<05:22,  3.71it/s]\u001b[A\n",
      "  0%|          | 5/1200 [00:01<05:21,  3.72it/s]\u001b[A\n",
      "  0%|          | 6/1200 [00:01<05:20,  3.72it/s]\u001b[A\n",
      "  1%|          | 7/1200 [00:01<05:20,  3.73it/s]\u001b[A\n",
      "  1%|          | 8/1200 [00:02<05:17,  3.76it/s]\u001b[A\n",
      "  1%|          | 9/1200 [00:02<05:14,  3.79it/s]\u001b[A\n",
      "  1%|          | 10/1200 [00:02<05:15,  3.77it/s]\u001b[A\n",
      "  1%|          | 11/1200 [00:02<05:13,  3.80it/s]\u001b[A\n",
      "  1%|          | 12/1200 [00:03<05:10,  3.82it/s]\u001b[A\n",
      "  1%|          | 13/1200 [00:03<05:08,  3.85it/s]\u001b[A\n",
      "  1%|          | 14/1200 [00:03<05:07,  3.86it/s]\u001b[A\n",
      "  1%|▏         | 15/1200 [00:03<05:05,  3.88it/s]\u001b[A\n",
      "  1%|▏         | 16/1200 [00:04<05:04,  3.89it/s]\u001b[A\n",
      "  1%|▏         | 17/1200 [00:04<05:08,  3.84it/s]\u001b[A\n",
      "  2%|▏         | 18/1200 [00:04<05:08,  3.83it/s]\u001b[A\n",
      "  2%|▏         | 19/1200 [00:05<05:09,  3.81it/s]\u001b[A\n",
      "  2%|▏         | 20/1200 [00:05<05:12,  3.78it/s]"
     ]
    },
    {
     "name": "stdout",
     "output_type": "stream",
     "text": [
      "right_fitx[-1], left_fitx[-1\n",
      "1041.98022728 297.994585283\n"
     ]
    },
    {
     "name": "stderr",
     "output_type": "stream",
     "text": [
      "\u001b[A\n",
      "  2%|▏         | 21/1200 [00:05<05:20,  3.68it/s]"
     ]
    },
    {
     "name": "stdout",
     "output_type": "stream",
     "text": [
      "right_fitx[-1], left_fitx[-1\n",
      "1071.45104678 296.409551562\n"
     ]
    },
    {
     "name": "stderr",
     "output_type": "stream",
     "text": [
      "\u001b[A\n",
      "  2%|▏         | 22/1200 [00:05<05:39,  3.47it/s]"
     ]
    },
    {
     "name": "stdout",
     "output_type": "stream",
     "text": [
      "right_fitx[-1], left_fitx[-1\n",
      "1093.59373391 292.807620531\n"
     ]
    },
    {
     "name": "stderr",
     "output_type": "stream",
     "text": [
      "\u001b[A\n",
      "  2%|▏         | 23/1200 [00:06<05:41,  3.45it/s]"
     ]
    },
    {
     "name": "stdout",
     "output_type": "stream",
     "text": [
      "right_fitx[-1], left_fitx[-1\n",
      "1116.29014757 291.44021916\n"
     ]
    },
    {
     "name": "stderr",
     "output_type": "stream",
     "text": [
      "\u001b[A\n",
      "  2%|▏         | 24/1200 [00:06<05:38,  3.47it/s]"
     ]
    },
    {
     "name": "stdout",
     "output_type": "stream",
     "text": [
      "right_fitx[-1], left_fitx[-1\n",
      "1138.81094673 289.531892932\n"
     ]
    },
    {
     "name": "stderr",
     "output_type": "stream",
     "text": [
      "\u001b[A\n",
      "  2%|▏         | 25/1200 [00:06<05:44,  3.41it/s]"
     ]
    },
    {
     "name": "stdout",
     "output_type": "stream",
     "text": [
      "right_fitx[-1], left_fitx[-1\n",
      "1153.07282188 285.897399505\n"
     ]
    },
    {
     "name": "stderr",
     "output_type": "stream",
     "text": [
      "\u001b[A\n",
      "  2%|▏         | 26/1200 [00:07<05:45,  3.40it/s]"
     ]
    },
    {
     "name": "stdout",
     "output_type": "stream",
     "text": [
      "right_fitx[-1], left_fitx[-1\n",
      "1164.65728577 281.14782604\n"
     ]
    },
    {
     "name": "stderr",
     "output_type": "stream",
     "text": [
      "\u001b[A\n",
      "  2%|▏         | 27/1200 [00:07<05:46,  3.38it/s]"
     ]
    },
    {
     "name": "stdout",
     "output_type": "stream",
     "text": [
      "right_fitx[-1], left_fitx[-1\n",
      "1200.38314169 278.136118179\n"
     ]
    },
    {
     "name": "stderr",
     "output_type": "stream",
     "text": [
      "\u001b[A\n",
      "  2%|▏         | 28/1200 [00:07<05:50,  3.34it/s]"
     ]
    },
    {
     "name": "stdout",
     "output_type": "stream",
     "text": [
      "right_fitx[-1], left_fitx[-1\n",
      "1210.790286 275.068314231\n"
     ]
    },
    {
     "name": "stderr",
     "output_type": "stream",
     "text": [
      "\u001b[A\n",
      "  2%|▏         | 29/1200 [00:07<05:47,  3.37it/s]"
     ]
    },
    {
     "name": "stdout",
     "output_type": "stream",
     "text": [
      "right_fitx[-1], left_fitx[-1\n",
      "1216.59396851 274.0540477\n"
     ]
    },
    {
     "name": "stderr",
     "output_type": "stream",
     "text": [
      "\u001b[A\n",
      "  2%|▎         | 30/1200 [00:08<05:41,  3.43it/s]\u001b[A\n",
      "  3%|▎         | 31/1200 [00:08<05:42,  3.42it/s]\u001b[A\n",
      "  3%|▎         | 32/1200 [00:08<05:37,  3.46it/s]"
     ]
    },
    {
     "name": "stdout",
     "output_type": "stream",
     "text": [
      "upper, lower\n",
      "722.116213964 640.897902341\n"
     ]
    },
    {
     "name": "stderr",
     "output_type": "stream",
     "text": [
      "\u001b[A\n",
      "  3%|▎         | 33/1200 [00:09<05:38,  3.45it/s]"
     ]
    },
    {
     "name": "stdout",
     "output_type": "stream",
     "text": [
      "upper, lower\n",
      "744.817061256 643.742068612\n"
     ]
    },
    {
     "name": "stderr",
     "output_type": "stream",
     "text": [
      "\u001b[A\n",
      "  3%|▎         | 34/1200 [00:09<05:33,  3.50it/s]"
     ]
    },
    {
     "name": "stdout",
     "output_type": "stream",
     "text": [
      "upper, lower\n",
      "754.841760856 643.908618079\n"
     ]
    },
    {
     "name": "stderr",
     "output_type": "stream",
     "text": [
      "\u001b[A\n",
      "  3%|▎         | 35/1200 [00:09<06:16,  3.10it/s]"
     ]
    },
    {
     "name": "stdout",
     "output_type": "stream",
     "text": [
      "upper, lower\n",
      "747.363319419 643.229159653\n"
     ]
    },
    {
     "name": "stderr",
     "output_type": "stream",
     "text": [
      "\u001b[A\n",
      "  3%|▎         | 36/1200 [00:10<06:41,  2.90it/s]"
     ]
    },
    {
     "name": "stdout",
     "output_type": "stream",
     "text": [
      "upper, lower\n",
      "741.60742415 641.023338921\n"
     ]
    },
    {
     "name": "stderr",
     "output_type": "stream",
     "text": [
      "\u001b[A\n",
      "  3%|▎         | 37/1200 [00:10<06:47,  2.86it/s]"
     ]
    },
    {
     "name": "stdout",
     "output_type": "stream",
     "text": [
      "upper, lower\n",
      "751.183454285 639.487490179\n"
     ]
    },
    {
     "name": "stderr",
     "output_type": "stream",
     "text": [
      "\u001b[A\n",
      "  3%|▎         | 38/1200 [00:10<06:34,  2.94it/s]"
     ]
    },
    {
     "name": "stdout",
     "output_type": "stream",
     "text": [
      "upper, lower\n",
      "768.456467525 639.570257838\n"
     ]
    },
    {
     "name": "stderr",
     "output_type": "stream",
     "text": [
      "\u001b[A\n",
      "  3%|▎         | 39/1200 [00:11<06:31,  2.97it/s]"
     ]
    },
    {
     "name": "stdout",
     "output_type": "stream",
     "text": [
      "upper, lower\n",
      "766.412655017 634.770961855\n"
     ]
    },
    {
     "name": "stderr",
     "output_type": "stream",
     "text": [
      "\u001b[A\n",
      "  3%|▎         | 40/1200 [00:11<06:16,  3.08it/s]"
     ]
    },
    {
     "name": "stdout",
     "output_type": "stream",
     "text": [
      "left_curverad, right_curverad\n",
      "1854.19488428 140.73107116\n"
     ]
    },
    {
     "name": "stderr",
     "output_type": "stream",
     "text": [
      "\u001b[A\n",
      "  3%|▎         | 41/1200 [00:11<06:01,  3.21it/s]"
     ]
    },
    {
     "name": "stdout",
     "output_type": "stream",
     "text": [
      "right_fitx[-1], left_fitx[-1\n",
      "1246.19946601 317.773536513\n"
     ]
    },
    {
     "name": "stderr",
     "output_type": "stream",
     "text": [
      "\u001b[A\n",
      "  4%|▎         | 42/1200 [00:12<06:05,  3.17it/s]"
     ]
    },
    {
     "name": "stdout",
     "output_type": "stream",
     "text": [
      "left_curverad, right_curverad\n",
      "6301.92769089 132.198918525\n"
     ]
    },
    {
     "name": "stderr",
     "output_type": "stream",
     "text": [
      "\u001b[A\n",
      "  4%|▎         | 43/1200 [00:12<07:27,  2.59it/s]"
     ]
    },
    {
     "name": "stdout",
     "output_type": "stream",
     "text": [
      "right_fitx[-1], left_fitx[-1\n",
      "1260.70251765 318.364414253\n"
     ]
    },
    {
     "name": "stderr",
     "output_type": "stream",
     "text": [
      "\u001b[A\n",
      "  4%|▎         | 44/1200 [00:13<07:20,  2.63it/s]"
     ]
    },
    {
     "name": "stdout",
     "output_type": "stream",
     "text": [
      "left_curverad, right_curverad\n",
      "2155.81940263 668.966387607\n"
     ]
    },
    {
     "name": "stderr",
     "output_type": "stream",
     "text": [
      "\u001b[A\n",
      "  4%|▍         | 45/1200 [00:13<06:43,  2.86it/s]"
     ]
    },
    {
     "name": "stdout",
     "output_type": "stream",
     "text": [
      "left_curverad, right_curverad\n",
      "2396.66833096 453.007824777\n"
     ]
    },
    {
     "name": "stderr",
     "output_type": "stream",
     "text": [
      "\u001b[A\n",
      "  4%|▍         | 46/1200 [00:13<06:27,  2.98it/s]"
     ]
    },
    {
     "name": "stdout",
     "output_type": "stream",
     "text": [
      "left_curverad, right_curverad\n",
      "1462.94906116 425.838934252\n"
     ]
    },
    {
     "name": "stderr",
     "output_type": "stream",
     "text": [
      "\u001b[A\n",
      "  4%|▍         | 47/1200 [00:14<07:31,  2.55it/s]"
     ]
    },
    {
     "name": "stdout",
     "output_type": "stream",
     "text": [
      "left_curverad, right_curverad\n",
      "858.150242089 256.788527009\n"
     ]
    },
    {
     "name": "stderr",
     "output_type": "stream",
     "text": [
      "\u001b[A\n",
      "  4%|▍         | 48/1200 [00:14<08:33,  2.24it/s]"
     ]
    },
    {
     "name": "stdout",
     "output_type": "stream",
     "text": [
      "left_curverad, right_curverad\n",
      "769.760619241 116.587539851\n"
     ]
    },
    {
     "name": "stderr",
     "output_type": "stream",
     "text": [
      "\u001b[A\n",
      "  4%|▍         | 49/1200 [00:15<07:46,  2.47it/s]"
     ]
    },
    {
     "name": "stdout",
     "output_type": "stream",
     "text": [
      "left_curverad, right_curverad\n",
      "602.716088022 118.858135039\n"
     ]
    },
    {
     "name": "stderr",
     "output_type": "stream",
     "text": [
      "\u001b[A\n",
      "  4%|▍         | 50/1200 [00:15<07:13,  2.65it/s]"
     ]
    },
    {
     "name": "stdout",
     "output_type": "stream",
     "text": [
      "left_curverad, right_curverad\n",
      "600.980845883 122.991500799\n"
     ]
    },
    {
     "name": "stderr",
     "output_type": "stream",
     "text": [
      "\u001b[A\n",
      "  4%|▍         | 51/1200 [00:15<07:17,  2.63it/s]"
     ]
    },
    {
     "name": "stdout",
     "output_type": "stream",
     "text": [
      "left_curverad, right_curverad\n",
      "425.794879778 125.155382744\n"
     ]
    },
    {
     "name": "stderr",
     "output_type": "stream",
     "text": [
      "\u001b[A\n",
      "  4%|▍         | 52/1200 [00:16<07:02,  2.72it/s]\u001b[A\n",
      "  4%|▍         | 53/1200 [00:16<07:01,  2.72it/s]\u001b[A\n",
      "  4%|▍         | 54/1200 [00:16<06:47,  2.81it/s]\u001b[A\n",
      "  5%|▍         | 55/1200 [00:17<06:30,  2.93it/s]\u001b[A\n",
      "  5%|▍         | 56/1200 [00:17<06:20,  3.00it/s]\u001b[A\n",
      "  5%|▍         | 57/1200 [00:17<06:04,  3.14it/s]\u001b[A\n",
      "  5%|▍         | 58/1200 [00:17<05:45,  3.30it/s]\u001b[A\n",
      "  5%|▍         | 59/1200 [00:18<05:29,  3.46it/s]\u001b[A\n",
      "  5%|▌         | 60/1200 [00:18<05:20,  3.56it/s]\u001b[A\n",
      "  5%|▌         | 61/1200 [00:18<05:13,  3.63it/s]\u001b[A\n",
      "  5%|▌         | 62/1200 [00:18<05:06,  3.71it/s]"
     ]
    },
    {
     "name": "stdout",
     "output_type": "stream",
     "text": [
      "left_curverad, right_curverad\n",
      "319.054803439 101.917444957\n"
     ]
    },
    {
     "name": "stderr",
     "output_type": "stream",
     "text": [
      "\u001b[A\n",
      "  5%|▌         | 63/1200 [00:19<05:06,  3.70it/s]\u001b[A\n",
      "  5%|▌         | 64/1200 [00:19<05:07,  3.69it/s]"
     ]
    },
    {
     "name": "stdout",
     "output_type": "stream",
     "text": [
      "left_curverad, right_curverad\n",
      "273.784726667 91.0979271695\n"
     ]
    },
    {
     "name": "stderr",
     "output_type": "stream",
     "text": [
      "\u001b[A\n",
      "  5%|▌         | 65/1200 [00:19<05:12,  3.64it/s]"
     ]
    },
    {
     "name": "stdout",
     "output_type": "stream",
     "text": [
      "left_curverad, right_curverad\n",
      "282.376451629 87.7555797255\n"
     ]
    },
    {
     "name": "stderr",
     "output_type": "stream",
     "text": [
      "\u001b[A\n",
      "  6%|▌         | 66/1200 [00:20<06:12,  3.04it/s]"
     ]
    },
    {
     "name": "stdout",
     "output_type": "stream",
     "text": [
      "left_curverad, right_curverad\n",
      "357.905894186 80.7183556706\n"
     ]
    },
    {
     "name": "stderr",
     "output_type": "stream",
     "text": [
      "\u001b[A\n",
      "  6%|▌         | 67/1200 [00:20<06:18,  2.99it/s]\u001b[A\n",
      "  6%|▌         | 68/1200 [00:20<06:10,  3.06it/s]\u001b[A\n",
      "  6%|▌         | 69/1200 [00:21<05:47,  3.26it/s]\u001b[A\n",
      "  6%|▌         | 70/1200 [00:21<05:30,  3.42it/s]\u001b[A\n",
      "  6%|▌         | 71/1200 [00:21<05:25,  3.47it/s]\u001b[A\n",
      "  6%|▌         | 72/1200 [00:21<05:25,  3.47it/s]\u001b[A\n",
      "  6%|▌         | 73/1200 [00:22<05:14,  3.59it/s]\u001b[A\n",
      "  6%|▌         | 74/1200 [00:22<05:13,  3.59it/s]\u001b[A\n",
      "  6%|▋         | 75/1200 [00:22<05:32,  3.38it/s]\u001b[A\n",
      "  6%|▋         | 76/1200 [00:23<05:29,  3.41it/s]\u001b[A\n",
      "  6%|▋         | 77/1200 [00:23<05:15,  3.56it/s]\u001b[A\n",
      "  6%|▋         | 78/1200 [00:23<05:03,  3.70it/s]\u001b[A\n",
      "  7%|▋         | 79/1200 [00:23<04:56,  3.77it/s]\u001b[A\n",
      "  7%|▋         | 80/1200 [00:24<04:55,  3.79it/s]\u001b[A\n",
      "  7%|▋         | 81/1200 [00:24<04:51,  3.84it/s]\u001b[A\n",
      "  7%|▋         | 82/1200 [00:24<04:50,  3.85it/s]\u001b[A\n",
      "  7%|▋         | 83/1200 [00:24<04:51,  3.83it/s]"
     ]
    },
    {
     "name": "stdout",
     "output_type": "stream",
     "text": [
      "right_fitx[-1], left_fitx[-1\n",
      "983.78223118 -50.2713010026\n"
     ]
    },
    {
     "name": "stderr",
     "output_type": "stream",
     "text": [
      "\u001b[A\n",
      "  7%|▋         | 84/1200 [00:25<04:51,  3.82it/s]"
     ]
    },
    {
     "name": "stdout",
     "output_type": "stream",
     "text": [
      "right_fitx[-1], left_fitx[-1\n",
      "993.839090691 -16.1869897396\n"
     ]
    },
    {
     "name": "stderr",
     "output_type": "stream",
     "text": [
      "\u001b[A\n",
      "  7%|▋         | 85/1200 [00:25<04:57,  3.75it/s]"
     ]
    },
    {
     "name": "stdout",
     "output_type": "stream",
     "text": [
      "upper, lower\n",
      "724.687134943 646.311439482\n"
     ]
    },
    {
     "name": "stderr",
     "output_type": "stream",
     "text": [
      "\u001b[A\n",
      "  7%|▋         | 86/1200 [00:25<04:57,  3.74it/s]\u001b[A\n",
      "  7%|▋         | 87/1200 [00:26<04:58,  3.73it/s]"
     ]
    },
    {
     "name": "stdout",
     "output_type": "stream",
     "text": [
      "right_fitx[-1], left_fitx[-1\n",
      "1037.58484765 114.526728732\n"
     ]
    },
    {
     "name": "stderr",
     "output_type": "stream",
     "text": [
      "\u001b[A\n",
      "  7%|▋         | 88/1200 [00:26<04:52,  3.80it/s]"
     ]
    },
    {
     "name": "stdout",
     "output_type": "stream",
     "text": [
      "right_fitx[-1], left_fitx[-1\n",
      "1034.65301541 142.399321845\n"
     ]
    },
    {
     "name": "stderr",
     "output_type": "stream",
     "text": [
      "\u001b[A\n",
      "  7%|▋         | 89/1200 [00:26<04:50,  3.82it/s]\u001b[A\n",
      "  8%|▊         | 90/1200 [00:26<04:49,  3.83it/s]\u001b[A\n",
      "  8%|▊         | 91/1200 [00:27<04:52,  3.79it/s]\u001b[A\n",
      "  8%|▊         | 92/1200 [00:27<04:47,  3.85it/s]"
     ]
    },
    {
     "name": "stdout",
     "output_type": "stream",
     "text": [
      "left_curverad, right_curverad\n",
      "779.348129745 100.661045535\n"
     ]
    },
    {
     "name": "stderr",
     "output_type": "stream",
     "text": [
      "\u001b[A\n",
      "  8%|▊         | 93/1200 [00:27<04:42,  3.92it/s]"
     ]
    },
    {
     "name": "stdout",
     "output_type": "stream",
     "text": [
      "left_curverad, right_curverad\n",
      "389.949739585 110.56029069\n"
     ]
    },
    {
     "name": "stderr",
     "output_type": "stream",
     "text": [
      "\u001b[A\n",
      "  8%|▊         | 94/1200 [00:27<04:44,  3.88it/s]"
     ]
    },
    {
     "name": "stdout",
     "output_type": "stream",
     "text": [
      "upper, lower\n",
      "672.090867651 542.307415261\n"
     ]
    },
    {
     "name": "stderr",
     "output_type": "stream",
     "text": [
      "\u001b[A\n",
      "  8%|▊         | 95/1200 [00:28<04:42,  3.91it/s]\u001b[A\n",
      "  8%|▊         | 96/1200 [00:28<04:44,  3.88it/s]"
     ]
    },
    {
     "name": "stdout",
     "output_type": "stream",
     "text": [
      "upper, lower\n",
      "571.200649184 484.046255509\n"
     ]
    },
    {
     "name": "stderr",
     "output_type": "stream",
     "text": [
      "\u001b[A\n",
      "  8%|▊         | 97/1200 [00:28<04:44,  3.88it/s]"
     ]
    },
    {
     "name": "stdout",
     "output_type": "stream",
     "text": [
      "upper, lower\n",
      "2117.99876652 521.449081118\n"
     ]
    },
    {
     "name": "stderr",
     "output_type": "stream",
     "text": [
      "\u001b[A\n",
      "  8%|▊         | 98/1200 [00:28<04:46,  3.84it/s]"
     ]
    },
    {
     "name": "stdout",
     "output_type": "stream",
     "text": [
      "upper, lower\n",
      "2347.09728213 664.055223335\n"
     ]
    },
    {
     "name": "stderr",
     "output_type": "stream",
     "text": [
      "\u001b[A\n",
      "  8%|▊         | 99/1200 [00:29<04:46,  3.85it/s]"
     ]
    },
    {
     "name": "stdout",
     "output_type": "stream",
     "text": [
      "right_fitx[-1], left_fitx[-1\n",
      "1243.92680344 281.36693015\n"
     ]
    },
    {
     "name": "stderr",
     "output_type": "stream",
     "text": [
      "\u001b[A\n",
      "  8%|▊         | 100/1200 [00:29<04:47,  3.82it/s]"
     ]
    },
    {
     "name": "stdout",
     "output_type": "stream",
     "text": [
      "upper, lower\n",
      "2565.67258244 655.531723628\n"
     ]
    },
    {
     "name": "stderr",
     "output_type": "stream",
     "text": [
      "\u001b[A\n",
      "  8%|▊         | 101/1200 [00:29<04:45,  3.85it/s]"
     ]
    },
    {
     "name": "stdout",
     "output_type": "stream",
     "text": [
      "upper, lower\n",
      "2177.71823185 570.966940087\n"
     ]
    },
    {
     "name": "stderr",
     "output_type": "stream",
     "text": [
      "\u001b[A\n",
      "  8%|▊         | 102/1200 [00:29<04:42,  3.88it/s]"
     ]
    },
    {
     "name": "stdout",
     "output_type": "stream",
     "text": [
      "upper, lower\n",
      "2102.57264679 613.715329676\n"
     ]
    },
    {
     "name": "stderr",
     "output_type": "stream",
     "text": [
      "\u001b[A\n",
      "  9%|▊         | 103/1200 [00:30<05:00,  3.65it/s]"
     ]
    },
    {
     "name": "stdout",
     "output_type": "stream",
     "text": [
      "upper, lower\n",
      "998.206911073 405.215760386\n"
     ]
    },
    {
     "name": "stderr",
     "output_type": "stream",
     "text": [
      "\u001b[A\n",
      "  9%|▊         | 104/1200 [00:30<05:12,  3.50it/s]"
     ]
    },
    {
     "name": "stdout",
     "output_type": "stream",
     "text": [
      "upper, lower\n",
      "1232.86595633 488.195343344\n"
     ]
    },
    {
     "name": "stderr",
     "output_type": "stream",
     "text": [
      "\u001b[A\n",
      "  9%|▉         | 105/1200 [00:30<05:09,  3.54it/s]"
     ]
    },
    {
     "name": "stdout",
     "output_type": "stream",
     "text": [
      "upper, lower\n",
      "1126.83031993 470.017172277\n"
     ]
    },
    {
     "name": "stderr",
     "output_type": "stream",
     "text": [
      "\u001b[A\n",
      "  9%|▉         | 106/1200 [00:31<05:04,  3.59it/s]"
     ]
    },
    {
     "name": "stdout",
     "output_type": "stream",
     "text": [
      "upper, lower\n",
      "855.795768489 473.151387745\n"
     ]
    },
    {
     "name": "stderr",
     "output_type": "stream",
     "text": [
      "\u001b[A\n",
      "  9%|▉         | 107/1200 [00:31<04:51,  3.74it/s]"
     ]
    },
    {
     "name": "stdout",
     "output_type": "stream",
     "text": [
      "upper, lower\n",
      "511.31524639 371.408758696\n"
     ]
    },
    {
     "name": "stderr",
     "output_type": "stream",
     "text": [
      "\u001b[A\n",
      "  9%|▉         | 108/1200 [00:31<04:44,  3.83it/s]"
     ]
    },
    {
     "name": "stdout",
     "output_type": "stream",
     "text": [
      "upper, lower\n",
      "483.623840487 339.794407457\n"
     ]
    },
    {
     "name": "stderr",
     "output_type": "stream",
     "text": [
      "\u001b[A\n",
      "  9%|▉         | 109/1200 [00:31<05:13,  3.48it/s]"
     ]
    },
    {
     "name": "stdout",
     "output_type": "stream",
     "text": [
      "right_fitx[-1], left_fitx[-1\n",
      "1197.00488786 477.925616487\n"
     ]
    },
    {
     "name": "stderr",
     "output_type": "stream",
     "text": [
      "\u001b[A\n",
      "  9%|▉         | 110/1200 [00:32<05:13,  3.48it/s]\u001b[A\n",
      "  9%|▉         | 111/1200 [00:32<05:07,  3.54it/s]"
     ]
    },
    {
     "name": "stdout",
     "output_type": "stream",
     "text": [
      "upper, lower\n",
      "-592.062844963 -459.380431066\n"
     ]
    },
    {
     "name": "stderr",
     "output_type": "stream",
     "text": [
      "\u001b[A\n",
      "  9%|▉         | 112/1200 [00:32<05:09,  3.51it/s]"
     ]
    },
    {
     "name": "stdout",
     "output_type": "stream",
     "text": [
      "right_fitx[-1], left_fitx[-1\n",
      "1286.36311812 456.901075249\n"
     ]
    },
    {
     "name": "stderr",
     "output_type": "stream",
     "text": [
      "\u001b[A\n",
      "  9%|▉         | 113/1200 [00:32<05:01,  3.60it/s]"
     ]
    },
    {
     "name": "stdout",
     "output_type": "stream",
     "text": [
      "right_fitx[-1], left_fitx[-1\n",
      "1226.28472683 439.027458029\n"
     ]
    },
    {
     "name": "stderr",
     "output_type": "stream",
     "text": [
      "\u001b[A\n",
      " 10%|▉         | 114/1200 [00:33<04:55,  3.67it/s]"
     ]
    },
    {
     "name": "stdout",
     "output_type": "stream",
     "text": [
      "left_curverad, right_curverad\n",
      "206.879188684 39.1404311707\n"
     ]
    },
    {
     "name": "stderr",
     "output_type": "stream",
     "text": [
      "\u001b[A\n",
      " 10%|▉         | 115/1200 [00:33<04:50,  3.74it/s]"
     ]
    },
    {
     "name": "stdout",
     "output_type": "stream",
     "text": [
      "left_curverad, right_curverad\n",
      "387.922893607 38.9035742367\n"
     ]
    },
    {
     "name": "stderr",
     "output_type": "stream",
     "text": [
      "\u001b[A\n",
      " 10%|▉         | 116/1200 [00:33<04:44,  3.82it/s]"
     ]
    },
    {
     "name": "stdout",
     "output_type": "stream",
     "text": [
      "upper, lower\n",
      "1513.12667354 707.047907598\n"
     ]
    },
    {
     "name": "stderr",
     "output_type": "stream",
     "text": [
      "\u001b[A\n",
      " 10%|▉         | 117/1200 [00:34<04:39,  3.87it/s]"
     ]
    },
    {
     "name": "stdout",
     "output_type": "stream",
     "text": [
      "upper, lower\n",
      "1515.64263062 673.506775846\n"
     ]
    },
    {
     "name": "stderr",
     "output_type": "stream",
     "text": [
      "\u001b[A\n",
      " 10%|▉         | 118/1200 [00:34<04:39,  3.88it/s]"
     ]
    },
    {
     "name": "stdout",
     "output_type": "stream",
     "text": [
      "upper, lower\n",
      "1455.28466834 624.126000152\n"
     ]
    },
    {
     "name": "stderr",
     "output_type": "stream",
     "text": [
      "\u001b[A\n",
      " 10%|▉         | 119/1200 [00:34<04:37,  3.89it/s]"
     ]
    },
    {
     "name": "stdout",
     "output_type": "stream",
     "text": [
      "left_curverad, right_curverad\n",
      "134.924347645 42.9005401635\n"
     ]
    },
    {
     "name": "stderr",
     "output_type": "stream",
     "text": [
      "\u001b[A\n",
      " 10%|█         | 120/1200 [00:34<04:39,  3.86it/s]"
     ]
    },
    {
     "name": "stdout",
     "output_type": "stream",
     "text": [
      "left_curverad, right_curverad\n",
      "135.264420131 44.4350536911\n"
     ]
    },
    {
     "name": "stderr",
     "output_type": "stream",
     "text": [
      "\u001b[A\n",
      " 10%|█         | 121/1200 [00:35<04:36,  3.90it/s]"
     ]
    },
    {
     "name": "stdout",
     "output_type": "stream",
     "text": [
      "upper, lower\n",
      "1345.60447484 596.606634412\n"
     ]
    },
    {
     "name": "stderr",
     "output_type": "stream",
     "text": [
      "\u001b[A\n",
      " 10%|█         | 122/1200 [00:35<04:33,  3.94it/s]"
     ]
    },
    {
     "name": "stdout",
     "output_type": "stream",
     "text": [
      "upper, lower\n",
      "1305.41087132 596.35003296\n"
     ]
    },
    {
     "name": "stderr",
     "output_type": "stream",
     "text": [
      "\u001b[A\n",
      " 10%|█         | 123/1200 [00:35<04:33,  3.94it/s]"
     ]
    },
    {
     "name": "stdout",
     "output_type": "stream",
     "text": [
      "upper, lower\n",
      "1374.72166998 596.474812977\n"
     ]
    },
    {
     "name": "stderr",
     "output_type": "stream",
     "text": [
      "\u001b[A\n",
      " 10%|█         | 124/1200 [00:35<04:30,  3.98it/s]"
     ]
    },
    {
     "name": "stdout",
     "output_type": "stream",
     "text": [
      "upper, lower\n",
      "1434.03573926 594.2817858\n"
     ]
    },
    {
     "name": "stderr",
     "output_type": "stream",
     "text": [
      "\u001b[A\n",
      " 10%|█         | 125/1200 [00:36<04:30,  3.97it/s]"
     ]
    },
    {
     "name": "stdout",
     "output_type": "stream",
     "text": [
      "upper, lower\n",
      "1411.96740918 586.591821359\n"
     ]
    },
    {
     "name": "stderr",
     "output_type": "stream",
     "text": [
      "\u001b[A\n",
      " 10%|█         | 126/1200 [00:36<04:29,  3.98it/s]"
     ]
    },
    {
     "name": "stdout",
     "output_type": "stream",
     "text": [
      "upper, lower\n",
      "1424.20041762 580.60721253\n"
     ]
    },
    {
     "name": "stderr",
     "output_type": "stream",
     "text": [
      "\u001b[A\n",
      " 11%|█         | 127/1200 [00:36<04:30,  3.97it/s]\u001b[A\n",
      " 11%|█         | 128/1200 [00:36<04:26,  4.02it/s]\u001b[A\n",
      " 11%|█         | 129/1200 [00:37<04:29,  3.98it/s]\u001b[A\n",
      " 11%|█         | 130/1200 [00:37<04:26,  4.01it/s]"
     ]
    },
    {
     "name": "stdout",
     "output_type": "stream",
     "text": [
      "upper, lower\n",
      "1336.68201132 568.290637091\n"
     ]
    },
    {
     "name": "stderr",
     "output_type": "stream",
     "text": [
      "\u001b[A\n",
      " 11%|█         | 131/1200 [00:37<04:25,  4.03it/s]"
     ]
    },
    {
     "name": "stdout",
     "output_type": "stream",
     "text": [
      "upper, lower\n",
      "1367.1378866 570.333639928\n"
     ]
    },
    {
     "name": "stderr",
     "output_type": "stream",
     "text": [
      "\u001b[A\n",
      " 11%|█         | 132/1200 [00:37<04:22,  4.06it/s]"
     ]
    },
    {
     "name": "stdout",
     "output_type": "stream",
     "text": [
      "upper, lower\n",
      "1481.26871949 573.668443926\n"
     ]
    },
    {
     "name": "stderr",
     "output_type": "stream",
     "text": [
      "\u001b[A\n",
      " 11%|█         | 133/1200 [00:38<04:20,  4.10it/s]"
     ]
    },
    {
     "name": "stdout",
     "output_type": "stream",
     "text": [
      "upper, lower\n",
      "1444.24746792 573.044978201\n"
     ]
    },
    {
     "name": "stderr",
     "output_type": "stream",
     "text": [
      "\u001b[A\n",
      " 11%|█         | 134/1200 [00:38<04:19,  4.10it/s]"
     ]
    },
    {
     "name": "stdout",
     "output_type": "stream",
     "text": [
      "upper, lower\n",
      "1537.2938649 575.39493998\n"
     ]
    },
    {
     "name": "stderr",
     "output_type": "stream",
     "text": [
      "\u001b[A\n",
      " 11%|█▏        | 135/1200 [00:38<04:21,  4.07it/s]"
     ]
    },
    {
     "name": "stdout",
     "output_type": "stream",
     "text": [
      "upper, lower\n",
      "1574.85800506 573.861547096\n"
     ]
    },
    {
     "name": "stderr",
     "output_type": "stream",
     "text": [
      "\u001b[A\n",
      " 11%|█▏        | 136/1200 [00:38<04:22,  4.06it/s]"
     ]
    },
    {
     "name": "stdout",
     "output_type": "stream",
     "text": [
      "upper, lower\n",
      "1527.71669727 574.405549567\n"
     ]
    },
    {
     "name": "stderr",
     "output_type": "stream",
     "text": [
      "\u001b[A\n",
      " 11%|█▏        | 137/1200 [00:38<04:22,  4.05it/s]"
     ]
    },
    {
     "name": "stdout",
     "output_type": "stream",
     "text": [
      "upper, lower\n",
      "1403.26695201 564.819633303\n"
     ]
    },
    {
     "name": "stderr",
     "output_type": "stream",
     "text": [
      "\u001b[A\n",
      " 12%|█▏        | 138/1200 [00:39<04:21,  4.07it/s]"
     ]
    },
    {
     "name": "stdout",
     "output_type": "stream",
     "text": [
      "upper, lower\n",
      "1575.8415866 581.271698522\n"
     ]
    },
    {
     "name": "stderr",
     "output_type": "stream",
     "text": [
      "\u001b[A\n",
      " 12%|█▏        | 139/1200 [00:39<04:22,  4.05it/s]"
     ]
    },
    {
     "name": "stdout",
     "output_type": "stream",
     "text": [
      "upper, lower\n",
      "1444.31953319 575.184185893\n"
     ]
    },
    {
     "name": "stderr",
     "output_type": "stream",
     "text": [
      "\u001b[A\n",
      " 12%|█▏        | 140/1200 [00:39<04:22,  4.04it/s]"
     ]
    },
    {
     "name": "stdout",
     "output_type": "stream",
     "text": [
      "upper, lower\n",
      "1540.6909868 580.141009967\n"
     ]
    },
    {
     "name": "stderr",
     "output_type": "stream",
     "text": [
      "\u001b[A\n",
      " 12%|█▏        | 141/1200 [00:39<04:22,  4.04it/s]"
     ]
    },
    {
     "name": "stdout",
     "output_type": "stream",
     "text": [
      "upper, lower\n",
      "1610.31666154 581.919899381\n"
     ]
    },
    {
     "name": "stderr",
     "output_type": "stream",
     "text": [
      "\u001b[A\n",
      " 12%|█▏        | 142/1200 [00:40<04:22,  4.03it/s]"
     ]
    },
    {
     "name": "stdout",
     "output_type": "stream",
     "text": [
      "left_curverad, right_curverad\n",
      "240.972530593 38.8958379321\n"
     ]
    },
    {
     "name": "stderr",
     "output_type": "stream",
     "text": [
      "\u001b[A\n",
      " 12%|█▏        | 143/1200 [00:40<04:21,  4.04it/s]\u001b[A\n",
      " 12%|█▏        | 144/1200 [00:40<04:25,  3.98it/s]"
     ]
    },
    {
     "name": "stdout",
     "output_type": "stream",
     "text": [
      "left_curverad, right_curverad\n",
      "193.129233418 38.9828491869\n"
     ]
    },
    {
     "name": "stderr",
     "output_type": "stream",
     "text": [
      "\u001b[A\n",
      " 12%|█▏        | 145/1200 [00:41<04:30,  3.91it/s]"
     ]
    },
    {
     "name": "stdout",
     "output_type": "stream",
     "text": [
      "left_curverad, right_curverad\n",
      "166.319082471 39.697042589\n"
     ]
    },
    {
     "name": "stderr",
     "output_type": "stream",
     "text": [
      "\u001b[A\n",
      " 12%|█▏        | 146/1200 [00:41<04:31,  3.88it/s]\u001b[A\n",
      " 12%|█▏        | 147/1200 [00:41<04:28,  3.93it/s]\u001b[A\n",
      " 12%|█▏        | 148/1200 [00:41<04:27,  3.93it/s]"
     ]
    },
    {
     "name": "stdout",
     "output_type": "stream",
     "text": [
      "right_fitx[-1], left_fitx[-1\n",
      "1264.71385361 300.927502035\n"
     ]
    },
    {
     "name": "stderr",
     "output_type": "stream",
     "text": [
      "\u001b[A\n",
      " 12%|█▏        | 149/1200 [00:42<04:44,  3.69it/s]"
     ]
    },
    {
     "name": "stdout",
     "output_type": "stream",
     "text": [
      "right_fitx[-1], left_fitx[-1\n",
      "1282.7477134 340.343030579\n"
     ]
    },
    {
     "name": "stderr",
     "output_type": "stream",
     "text": [
      "\u001b[A\n",
      " 12%|█▎        | 150/1200 [00:42<06:05,  2.87it/s]"
     ]
    },
    {
     "name": "stdout",
     "output_type": "stream",
     "text": [
      "right_fitx[-1], left_fitx[-1\n",
      "1281.39790396 335.732595771\n"
     ]
    },
    {
     "name": "stderr",
     "output_type": "stream",
     "text": [
      "\u001b[A\n",
      " 13%|█▎        | 151/1200 [00:43<06:50,  2.55it/s]"
     ]
    },
    {
     "name": "stdout",
     "output_type": "stream",
     "text": [
      "right_fitx[-1], left_fitx[-1\n",
      "1268.15467329 331.029429941\n"
     ]
    },
    {
     "name": "stderr",
     "output_type": "stream",
     "text": [
      "\u001b[A\n",
      " 13%|█▎        | 152/1200 [00:43<06:46,  2.58it/s]"
     ]
    },
    {
     "name": "stdout",
     "output_type": "stream",
     "text": [
      "left_curverad, right_curverad\n",
      "100.275943967 31.313576689\n"
     ]
    },
    {
     "name": "stderr",
     "output_type": "stream",
     "text": [
      "\u001b[A\n",
      " 13%|█▎        | 153/1200 [00:43<06:30,  2.68it/s]"
     ]
    },
    {
     "name": "stdout",
     "output_type": "stream",
     "text": [
      "left_curverad, right_curverad\n",
      "101.88471069 16.9873533996\n"
     ]
    },
    {
     "name": "stderr",
     "output_type": "stream",
     "text": [
      "\u001b[A\n",
      " 13%|█▎        | 154/1200 [00:44<06:14,  2.79it/s]"
     ]
    },
    {
     "name": "stdout",
     "output_type": "stream",
     "text": [
      "left_curverad, right_curverad\n",
      "117.457948538 22.1814687001\n"
     ]
    },
    {
     "name": "stderr",
     "output_type": "stream",
     "text": [
      "\u001b[A\n",
      " 13%|█▎        | 155/1200 [00:44<06:03,  2.88it/s]"
     ]
    },
    {
     "name": "stdout",
     "output_type": "stream",
     "text": [
      "left_curverad, right_curverad\n",
      "130.604330169 35.9363838563\n"
     ]
    },
    {
     "name": "stderr",
     "output_type": "stream",
     "text": [
      "\u001b[A\n",
      " 13%|█▎        | 156/1200 [00:44<05:52,  2.96it/s]"
     ]
    },
    {
     "name": "stdout",
     "output_type": "stream",
     "text": [
      "right_fitx[-1], left_fitx[-1\n",
      "1259.9105609 317.633151341\n"
     ]
    },
    {
     "name": "stderr",
     "output_type": "stream",
     "text": [
      "\u001b[A\n",
      " 13%|█▎        | 157/1200 [00:45<05:39,  3.07it/s]"
     ]
    },
    {
     "name": "stdout",
     "output_type": "stream",
     "text": [
      "right_fitx[-1], left_fitx[-1\n",
      "1259.75488029 471.818195729\n"
     ]
    },
    {
     "name": "stderr",
     "output_type": "stream",
     "text": [
      "\u001b[A\n",
      " 13%|█▎        | 158/1200 [00:45<05:29,  3.16it/s]"
     ]
    },
    {
     "name": "stdout",
     "output_type": "stream",
     "text": [
      "left_curverad, right_curverad\n",
      "109.935334569 25.6237930518\n"
     ]
    },
    {
     "name": "stderr",
     "output_type": "stream",
     "text": [
      "\u001b[A\n",
      " 13%|█▎        | 159/1200 [00:45<06:20,  2.73it/s]"
     ]
    },
    {
     "name": "stdout",
     "output_type": "stream",
     "text": [
      "left_curverad, right_curverad\n",
      "102.023348328 18.6802689987\n"
     ]
    },
    {
     "name": "stderr",
     "output_type": "stream",
     "text": [
      "\u001b[A\n",
      " 13%|█▎        | 160/1200 [00:46<06:11,  2.80it/s]"
     ]
    },
    {
     "name": "stdout",
     "output_type": "stream",
     "text": [
      "upper, lower\n",
      "-949.731471596 -149.363812591\n"
     ]
    },
    {
     "name": "stderr",
     "output_type": "stream",
     "text": [
      "\u001b[A\n",
      " 13%|█▎        | 161/1200 [00:46<05:48,  2.98it/s]"
     ]
    },
    {
     "name": "stdout",
     "output_type": "stream",
     "text": [
      "upper, lower\n",
      "-1993.75662742 -739.938910716\n"
     ]
    },
    {
     "name": "stderr",
     "output_type": "stream",
     "text": [
      "\u001b[A\n",
      " 14%|█▎        | 162/1200 [00:46<05:22,  3.21it/s]"
     ]
    },
    {
     "name": "stdout",
     "output_type": "stream",
     "text": [
      "upper, lower\n",
      "-2177.16644327 -442.030113989\n"
     ]
    },
    {
     "name": "stderr",
     "output_type": "stream",
     "text": [
      "\u001b[A\n",
      " 14%|█▎        | 163/1200 [00:46<05:07,  3.37it/s]"
     ]
    },
    {
     "name": "stdout",
     "output_type": "stream",
     "text": [
      "upper, lower\n",
      "-2639.59692328 -518.712861461\n"
     ]
    },
    {
     "name": "stderr",
     "output_type": "stream",
     "text": [
      "\u001b[A\n",
      " 14%|█▎        | 164/1200 [00:47<04:53,  3.53it/s]\u001b[A\n",
      " 14%|█▍        | 165/1200 [00:47<04:56,  3.50it/s]"
     ]
    },
    {
     "name": "stdout",
     "output_type": "stream",
     "text": [
      "left_curverad, right_curverad\n",
      "92.7195401195 15.2127427326\n"
     ]
    },
    {
     "name": "stderr",
     "output_type": "stream",
     "text": [
      "\u001b[A\n",
      " 14%|█▍        | 166/1200 [00:47<04:50,  3.56it/s]"
     ]
    },
    {
     "name": "stdout",
     "output_type": "stream",
     "text": [
      "left_curverad, right_curverad\n",
      "123.85905806 37.8597932178\n"
     ]
    },
    {
     "name": "stderr",
     "output_type": "stream",
     "text": [
      "\u001b[A\n",
      " 14%|█▍        | 167/1200 [00:48<04:40,  3.68it/s]"
     ]
    },
    {
     "name": "stdout",
     "output_type": "stream",
     "text": [
      "upper, lower\n",
      "346.247023209 298.708917719\n"
     ]
    },
    {
     "name": "stderr",
     "output_type": "stream",
     "text": [
      "\u001b[A\n",
      " 14%|█▍        | 168/1200 [00:48<04:32,  3.78it/s]"
     ]
    },
    {
     "name": "stdout",
     "output_type": "stream",
     "text": [
      "upper, lower\n",
      "-1144.1402643 -174.969437562\n"
     ]
    },
    {
     "name": "stderr",
     "output_type": "stream",
     "text": [
      "\u001b[A\n",
      " 14%|█▍        | 169/1200 [00:48<04:31,  3.79it/s]\u001b[A\n",
      " 14%|█▍        | 170/1200 [00:48<05:11,  3.31it/s]"
     ]
    },
    {
     "name": "stdout",
     "output_type": "stream",
     "text": [
      "left_curverad, right_curverad\n",
      "335.283549234 10.4670864132\n"
     ]
    },
    {
     "name": "stderr",
     "output_type": "stream",
     "text": [
      "\u001b[A\n",
      " 14%|█▍        | 171/1200 [00:49<06:03,  2.83it/s]"
     ]
    },
    {
     "name": "stdout",
     "output_type": "stream",
     "text": [
      "left_curverad, right_curverad\n",
      "262.889954087 10.5472109189\n"
     ]
    },
    {
     "name": "stderr",
     "output_type": "stream",
     "text": [
      "\u001b[A\n",
      " 14%|█▍        | 172/1200 [00:49<05:43,  2.99it/s]"
     ]
    },
    {
     "name": "stdout",
     "output_type": "stream",
     "text": [
      "left_curverad, right_curverad\n",
      "939.999059779 9.87477135103\n"
     ]
    },
    {
     "name": "stderr",
     "output_type": "stream",
     "text": [
      "\u001b[A\n",
      " 14%|█▍        | 173/1200 [00:50<06:00,  2.85it/s]"
     ]
    },
    {
     "name": "stdout",
     "output_type": "stream",
     "text": [
      "left_curverad, right_curverad\n",
      "307.468537692 9.96561930277\n"
     ]
    },
    {
     "name": "stderr",
     "output_type": "stream",
     "text": [
      "\u001b[A\n",
      " 14%|█▍        | 174/1200 [00:50<05:39,  3.03it/s]"
     ]
    },
    {
     "name": "stdout",
     "output_type": "stream",
     "text": [
      "left_curverad, right_curverad\n",
      "495.581004298 13.3964926009\n"
     ]
    },
    {
     "name": "stderr",
     "output_type": "stream",
     "text": [
      "\u001b[A\n",
      " 15%|█▍        | 175/1200 [00:50<05:14,  3.26it/s]"
     ]
    },
    {
     "name": "stdout",
     "output_type": "stream",
     "text": [
      "left_curverad, right_curverad\n",
      "455.009705536 11.718505465\n"
     ]
    },
    {
     "name": "stderr",
     "output_type": "stream",
     "text": [
      "\u001b[A\n",
      " 15%|█▍        | 176/1200 [00:50<05:03,  3.38it/s]"
     ]
    },
    {
     "name": "stdout",
     "output_type": "stream",
     "text": [
      "left_curverad, right_curverad\n",
      "353.832211529 11.790522688\n"
     ]
    },
    {
     "name": "stderr",
     "output_type": "stream",
     "text": [
      "\u001b[A\n",
      " 15%|█▍        | 177/1200 [00:51<05:31,  3.08it/s]"
     ]
    },
    {
     "name": "stdout",
     "output_type": "stream",
     "text": [
      "left_curverad, right_curverad\n",
      "81.5592263124 11.3213170998\n"
     ]
    },
    {
     "name": "stderr",
     "output_type": "stream",
     "text": [
      "\u001b[A\n",
      " 15%|█▍        | 178/1200 [00:51<05:41,  3.00it/s]"
     ]
    },
    {
     "name": "stdout",
     "output_type": "stream",
     "text": [
      "left_curverad, right_curverad\n",
      "713.022085677 12.0509000661\n"
     ]
    },
    {
     "name": "stderr",
     "output_type": "stream",
     "text": [
      "\u001b[A\n",
      " 15%|█▍        | 179/1200 [00:51<05:25,  3.14it/s]"
     ]
    },
    {
     "name": "stdout",
     "output_type": "stream",
     "text": [
      "left_curverad, right_curverad\n",
      "111.809531006 10.9617994741\n"
     ]
    },
    {
     "name": "stderr",
     "output_type": "stream",
     "text": [
      "\u001b[A\n",
      " 15%|█▌        | 180/1200 [00:52<05:11,  3.27it/s]\u001b[A\n",
      " 15%|█▌        | 181/1200 [00:52<04:57,  3.42it/s]\u001b[A\n",
      " 15%|█▌        | 182/1200 [00:52<04:46,  3.55it/s]"
     ]
    },
    {
     "name": "stdout",
     "output_type": "stream",
     "text": [
      "right_fitx[-1], left_fitx[-1\n",
      "1060.5768236 338.400932359\n"
     ]
    },
    {
     "name": "stderr",
     "output_type": "stream",
     "text": [
      "\u001b[A\n",
      " 15%|█▌        | 183/1200 [00:52<04:39,  3.64it/s]"
     ]
    },
    {
     "name": "stdout",
     "output_type": "stream",
     "text": [
      "right_fitx[-1], left_fitx[-1\n",
      "1081.78393438 335.960307557\n"
     ]
    },
    {
     "name": "stderr",
     "output_type": "stream",
     "text": [
      "\u001b[A\n",
      " 15%|█▌        | 184/1200 [00:53<04:31,  3.74it/s]"
     ]
    },
    {
     "name": "stdout",
     "output_type": "stream",
     "text": [
      "left_curverad, right_curverad\n",
      "546.09008256 103.049281611\n"
     ]
    },
    {
     "name": "stderr",
     "output_type": "stream",
     "text": [
      "\u001b[A\n",
      " 15%|█▌        | 185/1200 [00:53<04:24,  3.83it/s]"
     ]
    },
    {
     "name": "stdout",
     "output_type": "stream",
     "text": [
      "right_fitx[-1], left_fitx[-1\n",
      "1079.47595556 324.803898325\n"
     ]
    },
    {
     "name": "stderr",
     "output_type": "stream",
     "text": [
      "\u001b[A\n",
      " 16%|█▌        | 186/1200 [00:53<04:22,  3.87it/s]"
     ]
    },
    {
     "name": "stdout",
     "output_type": "stream",
     "text": [
      "right_fitx[-1], left_fitx[-1\n",
      "1082.08814979 320.934618439\n"
     ]
    },
    {
     "name": "stderr",
     "output_type": "stream",
     "text": [
      "\u001b[A\n",
      " 16%|█▌        | 187/1200 [00:53<04:19,  3.90it/s]"
     ]
    },
    {
     "name": "stdout",
     "output_type": "stream",
     "text": [
      "left_curverad, right_curverad\n",
      "437.672231403 108.041181624\n"
     ]
    },
    {
     "name": "stderr",
     "output_type": "stream",
     "text": [
      "\u001b[A\n",
      " 16%|█▌        | 188/1200 [00:54<04:17,  3.92it/s]"
     ]
    },
    {
     "name": "stdout",
     "output_type": "stream",
     "text": [
      "right_fitx[-1], left_fitx[-1\n",
      "1044.37879266 313.060996191\n"
     ]
    },
    {
     "name": "stderr",
     "output_type": "stream",
     "text": [
      "\u001b[A\n",
      " 16%|█▌        | 189/1200 [00:54<04:16,  3.93it/s]\u001b[A\n",
      " 16%|█▌        | 190/1200 [00:54<04:15,  3.96it/s]"
     ]
    },
    {
     "name": "stdout",
     "output_type": "stream",
     "text": [
      "upper, lower\n",
      "-7791.36976808 -572.439434985\n"
     ]
    },
    {
     "name": "stderr",
     "output_type": "stream",
     "text": [
      "\u001b[A\n",
      " 16%|█▌        | 191/1200 [00:54<04:12,  3.99it/s]\u001b[A\n",
      " 16%|█▌        | 192/1200 [00:55<04:12,  4.00it/s]"
     ]
    },
    {
     "name": "stdout",
     "output_type": "stream",
     "text": [
      "upper, lower\n",
      "4571.55867279 353.642166051\n"
     ]
    },
    {
     "name": "stderr",
     "output_type": "stream",
     "text": [
      "\u001b[A\n",
      " 16%|█▌        | 193/1200 [00:55<04:15,  3.95it/s]\u001b[A\n",
      " 16%|█▌        | 194/1200 [00:55<04:15,  3.94it/s]"
     ]
    },
    {
     "name": "stdout",
     "output_type": "stream",
     "text": [
      "upper, lower\n",
      "9.1959127152 3.72002407837\n"
     ]
    },
    {
     "name": "stderr",
     "output_type": "stream",
     "text": [
      "\u001b[A\n",
      " 16%|█▋        | 195/1200 [00:56<04:17,  3.90it/s]"
     ]
    },
    {
     "name": "stdout",
     "output_type": "stream",
     "text": [
      "upper, lower\n",
      "23.1210604371 7.41611931633\n"
     ]
    },
    {
     "name": "stderr",
     "output_type": "stream",
     "text": [
      "\u001b[A\n",
      " 16%|█▋        | 196/1200 [00:56<04:17,  3.90it/s]\u001b[A\n",
      " 16%|█▋        | 197/1200 [00:56<04:16,  3.90it/s]\u001b[A\n",
      " 16%|█▋        | 198/1200 [00:56<04:15,  3.92it/s]"
     ]
    },
    {
     "name": "stdout",
     "output_type": "stream",
     "text": [
      "right_fitx[-1], left_fitx[-1\n",
      "855.303714754 -139.659280302\n"
     ]
    },
    {
     "name": "stderr",
     "output_type": "stream",
     "text": [
      "\u001b[A\n",
      " 17%|█▋        | 199/1200 [00:57<04:14,  3.94it/s]"
     ]
    },
    {
     "name": "stdout",
     "output_type": "stream",
     "text": [
      "left_curverad, right_curverad\n",
      "210.147634996 45.917139835\n"
     ]
    },
    {
     "name": "stderr",
     "output_type": "stream",
     "text": [
      "\u001b[A\n",
      " 17%|█▋        | 200/1200 [00:57<04:14,  3.93it/s]"
     ]
    },
    {
     "name": "stdout",
     "output_type": "stream",
     "text": [
      "right_fitx[-1], left_fitx[-1\n",
      "1000.90984348 -365.185468297\n"
     ]
    },
    {
     "name": "stderr",
     "output_type": "stream",
     "text": [
      "\u001b[A\n",
      " 17%|█▋        | 201/1200 [00:57<04:10,  3.99it/s]"
     ]
    },
    {
     "name": "stdout",
     "output_type": "stream",
     "text": [
      "right_fitx[-1], left_fitx[-1\n",
      "998.562038996 -380.623217646\n"
     ]
    },
    {
     "name": "stderr",
     "output_type": "stream",
     "text": [
      "\u001b[A\n",
      " 17%|█▋        | 202/1200 [00:57<04:12,  3.95it/s]"
     ]
    },
    {
     "name": "stdout",
     "output_type": "stream",
     "text": [
      "left_curverad, right_curverad\n",
      "896.340695668 66.0131972676\n"
     ]
    },
    {
     "name": "stderr",
     "output_type": "stream",
     "text": [
      "\u001b[A\n",
      " 17%|█▋        | 203/1200 [00:58<04:20,  3.83it/s]"
     ]
    },
    {
     "name": "stdout",
     "output_type": "stream",
     "text": [
      "right_fitx[-1], left_fitx[-1\n",
      "904.269420659 -433.174054401\n"
     ]
    },
    {
     "name": "stderr",
     "output_type": "stream",
     "text": [
      "\u001b[A\n",
      " 17%|█▋        | 204/1200 [00:58<04:20,  3.83it/s]\u001b[A\n",
      " 17%|█▋        | 205/1200 [00:58<04:16,  3.87it/s]\u001b[A\n",
      " 17%|█▋        | 206/1200 [00:58<04:20,  3.82it/s]"
     ]
    },
    {
     "name": "stdout",
     "output_type": "stream",
     "text": [
      "right_fitx[-1], left_fitx[-1\n",
      "986.407288015 268.963445323\n"
     ]
    },
    {
     "name": "stderr",
     "output_type": "stream",
     "text": [
      "\u001b[A\n",
      " 17%|█▋        | 207/1200 [00:59<04:23,  3.77it/s]"
     ]
    },
    {
     "name": "stdout",
     "output_type": "stream",
     "text": [
      "right_fitx[-1], left_fitx[-1\n",
      "989.008489064 275.52837225\n"
     ]
    },
    {
     "name": "stderr",
     "output_type": "stream",
     "text": [
      "\u001b[A\n",
      " 17%|█▋        | 208/1200 [00:59<04:28,  3.70it/s]\u001b[A\n",
      " 17%|█▋        | 209/1200 [00:59<04:47,  3.45it/s]\u001b[A\n",
      " 18%|█▊        | 210/1200 [01:00<06:00,  2.75it/s]\u001b[A\n",
      " 18%|█▊        | 211/1200 [01:00<06:01,  2.74it/s]\u001b[A\n",
      " 18%|█▊        | 212/1200 [01:00<05:40,  2.91it/s]\u001b[A\n",
      " 18%|█▊        | 213/1200 [01:01<05:29,  3.00it/s]\u001b[A\n",
      " 18%|█▊        | 214/1200 [01:01<06:31,  2.52it/s]\u001b[A\n",
      " 18%|█▊        | 215/1200 [01:02<06:21,  2.58it/s]"
     ]
    },
    {
     "name": "stdout",
     "output_type": "stream",
     "text": [
      "upper, lower\n",
      "802.206107202 694.857570401\n"
     ]
    },
    {
     "name": "stderr",
     "output_type": "stream",
     "text": [
      "\u001b[A\n",
      " 18%|█▊        | 216/1200 [01:02<05:59,  2.74it/s]"
     ]
    },
    {
     "name": "stdout",
     "output_type": "stream",
     "text": [
      "upper, lower\n",
      "1286.89677397 689.933526514\n"
     ]
    },
    {
     "name": "stderr",
     "output_type": "stream",
     "text": [
      "\u001b[A\n",
      " 18%|█▊        | 217/1200 [01:02<05:39,  2.90it/s]"
     ]
    },
    {
     "name": "stdout",
     "output_type": "stream",
     "text": [
      "upper, lower\n",
      "2473.10192332 702.113569071\n"
     ]
    },
    {
     "name": "stderr",
     "output_type": "stream",
     "text": [
      "\u001b[A\n",
      " 18%|█▊        | 218/1200 [01:03<05:18,  3.08it/s]"
     ]
    },
    {
     "name": "stdout",
     "output_type": "stream",
     "text": [
      "upper, lower\n",
      "2185.76291596 687.160400349\n"
     ]
    },
    {
     "name": "stderr",
     "output_type": "stream",
     "text": [
      "\u001b[A\n",
      " 18%|█▊        | 219/1200 [01:03<05:06,  3.20it/s]"
     ]
    },
    {
     "name": "stdout",
     "output_type": "stream",
     "text": [
      "upper, lower\n",
      "1668.26299204 648.012070981\n"
     ]
    },
    {
     "name": "stderr",
     "output_type": "stream",
     "text": [
      "\u001b[A\n",
      " 18%|█▊        | 220/1200 [01:03<05:00,  3.26it/s]"
     ]
    },
    {
     "name": "stdout",
     "output_type": "stream",
     "text": [
      "upper, lower\n",
      "2036.9163054 662.931105633\n"
     ]
    },
    {
     "name": "stderr",
     "output_type": "stream",
     "text": [
      "\u001b[A\n",
      " 18%|█▊        | 221/1200 [01:03<04:57,  3.30it/s]"
     ]
    },
    {
     "name": "stdout",
     "output_type": "stream",
     "text": [
      "upper, lower\n",
      "2048.42957097 647.850884985\n"
     ]
    },
    {
     "name": "stderr",
     "output_type": "stream",
     "text": [
      "\u001b[A\n",
      " 18%|█▊        | 222/1200 [01:04<04:53,  3.34it/s]"
     ]
    },
    {
     "name": "stdout",
     "output_type": "stream",
     "text": [
      "upper, lower\n",
      "2422.17517104 586.549871291\n"
     ]
    },
    {
     "name": "stderr",
     "output_type": "stream",
     "text": [
      "\u001b[A\n",
      " 19%|█▊        | 223/1200 [01:04<05:30,  2.95it/s]"
     ]
    },
    {
     "name": "stdout",
     "output_type": "stream",
     "text": [
      "upper, lower\n",
      "1135.03646494 536.415122332\n"
     ]
    },
    {
     "name": "stderr",
     "output_type": "stream",
     "text": [
      "\u001b[A\n",
      " 19%|█▊        | 224/1200 [01:04<05:18,  3.07it/s]\u001b[A\n",
      " 19%|█▉        | 225/1200 [01:05<05:04,  3.20it/s]"
     ]
    },
    {
     "name": "stdout",
     "output_type": "stream",
     "text": [
      "upper, lower\n",
      "643.883995064 549.548730474\n"
     ]
    },
    {
     "name": "stderr",
     "output_type": "stream",
     "text": [
      "\u001b[A\n",
      " 19%|█▉        | 226/1200 [01:05<04:47,  3.39it/s]"
     ]
    },
    {
     "name": "stdout",
     "output_type": "stream",
     "text": [
      "upper, lower\n",
      "2388.3720065 631.519082473\n"
     ]
    },
    {
     "name": "stderr",
     "output_type": "stream",
     "text": [
      "\u001b[A\n",
      " 19%|█▉        | 227/1200 [01:05<04:34,  3.54it/s]"
     ]
    },
    {
     "name": "stdout",
     "output_type": "stream",
     "text": [
      "upper, lower\n",
      "692.26917432 552.667824083\n"
     ]
    },
    {
     "name": "stderr",
     "output_type": "stream",
     "text": [
      "\u001b[A\n",
      " 19%|█▉        | 228/1200 [01:05<04:30,  3.59it/s]"
     ]
    },
    {
     "name": "stdout",
     "output_type": "stream",
     "text": [
      "upper, lower\n",
      "947.950854855 556.7496338\n"
     ]
    },
    {
     "name": "stderr",
     "output_type": "stream",
     "text": [
      "\u001b[A\n",
      " 19%|█▉        | 229/1200 [01:06<04:39,  3.47it/s]"
     ]
    },
    {
     "name": "stdout",
     "output_type": "stream",
     "text": [
      "upper, lower\n",
      "1193.72958997 587.091618106\n"
     ]
    },
    {
     "name": "stderr",
     "output_type": "stream",
     "text": [
      "\u001b[A\n",
      " 19%|█▉        | 230/1200 [01:06<04:54,  3.29it/s]"
     ]
    },
    {
     "name": "stdout",
     "output_type": "stream",
     "text": [
      "right_fitx[-1], left_fitx[-1\n",
      "1173.47968025 321.729559727\n"
     ]
    },
    {
     "name": "stderr",
     "output_type": "stream",
     "text": [
      "\u001b[A\n",
      " 19%|█▉        | 231/1200 [01:06<04:45,  3.39it/s]"
     ]
    },
    {
     "name": "stdout",
     "output_type": "stream",
     "text": [
      "right_fitx[-1], left_fitx[-1\n",
      "1185.30646251 326.561146553\n"
     ]
    },
    {
     "name": "stderr",
     "output_type": "stream",
     "text": [
      "\u001b[A\n",
      " 19%|█▉        | 232/1200 [01:07<04:37,  3.49it/s]"
     ]
    },
    {
     "name": "stdout",
     "output_type": "stream",
     "text": [
      "right_fitx[-1], left_fitx[-1\n",
      "1207.61230329 326.507251471\n"
     ]
    },
    {
     "name": "stderr",
     "output_type": "stream",
     "text": [
      "\u001b[A\n",
      " 19%|█▉        | 233/1200 [01:07<04:29,  3.58it/s]"
     ]
    },
    {
     "name": "stdout",
     "output_type": "stream",
     "text": [
      "right_fitx[-1], left_fitx[-1\n",
      "1223.76649405 328.500939773\n"
     ]
    },
    {
     "name": "stderr",
     "output_type": "stream",
     "text": [
      "\u001b[A\n",
      " 20%|█▉        | 234/1200 [01:07<04:18,  3.74it/s]"
     ]
    },
    {
     "name": "stdout",
     "output_type": "stream",
     "text": [
      "right_fitx[-1], left_fitx[-1\n",
      "1234.97497483 327.385445429\n"
     ]
    },
    {
     "name": "stderr",
     "output_type": "stream",
     "text": [
      "\u001b[A\n",
      " 20%|█▉        | 235/1200 [01:07<04:14,  3.79it/s]"
     ]
    },
    {
     "name": "stdout",
     "output_type": "stream",
     "text": [
      "upper, lower\n",
      "830.924867652 598.454115268\n"
     ]
    },
    {
     "name": "stderr",
     "output_type": "stream",
     "text": [
      "\u001b[A\n",
      " 20%|█▉        | 236/1200 [01:08<04:08,  3.87it/s]"
     ]
    },
    {
     "name": "stdout",
     "output_type": "stream",
     "text": [
      "right_fitx[-1], left_fitx[-1\n",
      "1218.24871136 327.81339893\n"
     ]
    },
    {
     "name": "stderr",
     "output_type": "stream",
     "text": [
      "\u001b[A\n",
      " 20%|█▉        | 237/1200 [01:08<04:03,  3.95it/s]"
     ]
    },
    {
     "name": "stdout",
     "output_type": "stream",
     "text": [
      "right_fitx[-1], left_fitx[-1\n",
      "1221.97685182 331.364848489\n"
     ]
    },
    {
     "name": "stderr",
     "output_type": "stream",
     "text": [
      "\u001b[A\n",
      " 20%|█▉        | 238/1200 [01:08<04:02,  3.97it/s]"
     ]
    },
    {
     "name": "stdout",
     "output_type": "stream",
     "text": [
      "upper, lower\n",
      "989.603714079 599.726564298\n"
     ]
    },
    {
     "name": "stderr",
     "output_type": "stream",
     "text": [
      "\u001b[A\n",
      " 20%|█▉        | 239/1200 [01:08<04:00,  3.99it/s]"
     ]
    },
    {
     "name": "stdout",
     "output_type": "stream",
     "text": [
      "upper, lower\n",
      "1052.73525453 598.682618999\n"
     ]
    },
    {
     "name": "stderr",
     "output_type": "stream",
     "text": [
      "\u001b[A\n",
      " 20%|██        | 240/1200 [01:09<04:02,  3.95it/s]"
     ]
    },
    {
     "name": "stdout",
     "output_type": "stream",
     "text": [
      "upper, lower\n",
      "1000.70945564 596.535967891\n"
     ]
    },
    {
     "name": "stderr",
     "output_type": "stream",
     "text": [
      "\u001b[A\n",
      " 20%|██        | 241/1200 [01:09<04:05,  3.91it/s]"
     ]
    },
    {
     "name": "stdout",
     "output_type": "stream",
     "text": [
      "upper, lower\n",
      "952.257308916 599.340952095\n"
     ]
    },
    {
     "name": "stderr",
     "output_type": "stream",
     "text": [
      "\u001b[A\n",
      " 20%|██        | 242/1200 [01:09<04:06,  3.88it/s]"
     ]
    },
    {
     "name": "stdout",
     "output_type": "stream",
     "text": [
      "upper, lower\n",
      "979.083779279 604.939304157\n"
     ]
    },
    {
     "name": "stderr",
     "output_type": "stream",
     "text": [
      "\u001b[A\n",
      " 20%|██        | 243/1200 [01:09<04:04,  3.91it/s]"
     ]
    },
    {
     "name": "stdout",
     "output_type": "stream",
     "text": [
      "upper, lower\n",
      "943.556919881 605.91991926\n"
     ]
    },
    {
     "name": "stderr",
     "output_type": "stream",
     "text": [
      "\u001b[A\n",
      " 20%|██        | 244/1200 [01:10<04:03,  3.93it/s]"
     ]
    },
    {
     "name": "stdout",
     "output_type": "stream",
     "text": [
      "upper, lower\n",
      "795.091669704 605.841589186\n"
     ]
    },
    {
     "name": "stderr",
     "output_type": "stream",
     "text": [
      "\u001b[A\n",
      " 20%|██        | 245/1200 [01:10<04:00,  3.98it/s]"
     ]
    },
    {
     "name": "stdout",
     "output_type": "stream",
     "text": [
      "upper, lower\n",
      "888.564526842 609.714291857\n"
     ]
    },
    {
     "name": "stderr",
     "output_type": "stream",
     "text": [
      "\u001b[A\n",
      " 20%|██        | 246/1200 [01:10<04:01,  3.95it/s]"
     ]
    },
    {
     "name": "stdout",
     "output_type": "stream",
     "text": [
      "upper, lower\n",
      "908.722408613 609.803908545\n"
     ]
    },
    {
     "name": "stderr",
     "output_type": "stream",
     "text": [
      "\u001b[A\n",
      " 21%|██        | 247/1200 [01:10<04:06,  3.87it/s]"
     ]
    },
    {
     "name": "stdout",
     "output_type": "stream",
     "text": [
      "upper, lower\n",
      "1151.14115502 621.663777069\n"
     ]
    },
    {
     "name": "stderr",
     "output_type": "stream",
     "text": [
      "\u001b[A\n",
      " 21%|██        | 248/1200 [01:11<04:05,  3.88it/s]\u001b[A\n",
      " 21%|██        | 249/1200 [01:11<04:03,  3.91it/s]"
     ]
    },
    {
     "name": "stdout",
     "output_type": "stream",
     "text": [
      "upper, lower\n",
      "1112.79697781 613.958406032\n"
     ]
    },
    {
     "name": "stderr",
     "output_type": "stream",
     "text": [
      "\u001b[A\n",
      " 21%|██        | 250/1200 [01:11<04:04,  3.89it/s]"
     ]
    },
    {
     "name": "stdout",
     "output_type": "stream",
     "text": [
      "upper, lower\n",
      "1001.47194175 629.171428562\n"
     ]
    },
    {
     "name": "stderr",
     "output_type": "stream",
     "text": [
      "\u001b[A\n",
      " 21%|██        | 251/1200 [01:12<04:01,  3.93it/s]"
     ]
    },
    {
     "name": "stdout",
     "output_type": "stream",
     "text": [
      "upper, lower\n",
      "1101.96927497 615.635787061\n"
     ]
    },
    {
     "name": "stderr",
     "output_type": "stream",
     "text": [
      "\u001b[A\n",
      " 21%|██        | 252/1200 [01:12<03:58,  3.97it/s]"
     ]
    },
    {
     "name": "stdout",
     "output_type": "stream",
     "text": [
      "upper, lower\n",
      "1099.90761368 615.619448724\n"
     ]
    },
    {
     "name": "stderr",
     "output_type": "stream",
     "text": [
      "\u001b[A\n",
      " 21%|██        | 253/1200 [01:12<03:56,  4.01it/s]"
     ]
    },
    {
     "name": "stdout",
     "output_type": "stream",
     "text": [
      "upper, lower\n",
      "1144.11013296 617.949041634\n"
     ]
    },
    {
     "name": "stderr",
     "output_type": "stream",
     "text": [
      "\u001b[A\n",
      " 21%|██        | 254/1200 [01:12<03:52,  4.07it/s]\u001b[A\n",
      " 21%|██▏       | 255/1200 [01:12<03:54,  4.02it/s]\u001b[A\n",
      " 21%|██▏       | 256/1200 [01:13<03:58,  3.96it/s]\u001b[A\n",
      " 21%|██▏       | 257/1200 [01:13<03:55,  4.00it/s]"
     ]
    },
    {
     "name": "stdout",
     "output_type": "stream",
     "text": [
      "upper, lower\n",
      "899.832474407 612.190098036\n"
     ]
    },
    {
     "name": "stderr",
     "output_type": "stream",
     "text": [
      "\u001b[A\n",
      " 22%|██▏       | 258/1200 [01:13<03:56,  3.99it/s]"
     ]
    },
    {
     "name": "stdout",
     "output_type": "stream",
     "text": [
      "upper, lower\n",
      "737.970741389 613.463948625\n"
     ]
    },
    {
     "name": "stderr",
     "output_type": "stream",
     "text": [
      "\u001b[A\n",
      " 22%|██▏       | 259/1200 [01:14<03:57,  3.96it/s]\u001b[A\n",
      " 22%|██▏       | 260/1200 [01:14<03:57,  3.96it/s]\u001b[A\n",
      " 22%|██▏       | 261/1200 [01:14<03:55,  3.99it/s]\u001b[A\n",
      " 22%|██▏       | 262/1200 [01:14<03:54,  4.01it/s]"
     ]
    },
    {
     "name": "stdout",
     "output_type": "stream",
     "text": [
      "upper, lower\n",
      "2433.26381211 699.633637324\n"
     ]
    },
    {
     "name": "stderr",
     "output_type": "stream",
     "text": [
      "\u001b[A\n",
      " 22%|██▏       | 263/1200 [01:15<03:56,  3.97it/s]"
     ]
    },
    {
     "name": "stdout",
     "output_type": "stream",
     "text": [
      "upper, lower\n",
      "1368.2203978 617.583253272\n"
     ]
    },
    {
     "name": "stderr",
     "output_type": "stream",
     "text": [
      "\u001b[A\n",
      " 22%|██▏       | 264/1200 [01:15<03:57,  3.95it/s]"
     ]
    },
    {
     "name": "stdout",
     "output_type": "stream",
     "text": [
      "upper, lower\n",
      "968.712951039 609.778196995\n"
     ]
    },
    {
     "name": "stderr",
     "output_type": "stream",
     "text": [
      "\u001b[A\n",
      " 22%|██▏       | 265/1200 [01:15<04:08,  3.76it/s]"
     ]
    },
    {
     "name": "stdout",
     "output_type": "stream",
     "text": [
      "left_curverad, right_curverad\n",
      "117.282469559 16.9619410824\n"
     ]
    },
    {
     "name": "stderr",
     "output_type": "stream",
     "text": [
      "\u001b[A\n",
      " 22%|██▏       | 266/1200 [01:15<04:42,  3.31it/s]"
     ]
    },
    {
     "name": "stdout",
     "output_type": "stream",
     "text": [
      "left_curverad, right_curverad\n",
      "967.739399961 151.565397248\n"
     ]
    },
    {
     "name": "stderr",
     "output_type": "stream",
     "text": [
      "\u001b[A\n",
      " 22%|██▏       | 267/1200 [01:16<04:32,  3.42it/s]"
     ]
    },
    {
     "name": "stdout",
     "output_type": "stream",
     "text": [
      "left_curverad, right_curverad\n",
      "250.355863999 66.5269159225\n"
     ]
    },
    {
     "name": "stderr",
     "output_type": "stream",
     "text": [
      "\u001b[A\n",
      " 22%|██▏       | 268/1200 [01:16<04:26,  3.50it/s]"
     ]
    },
    {
     "name": "stdout",
     "output_type": "stream",
     "text": [
      "left_curverad, right_curverad\n",
      "300.33377096 56.1250297653\n"
     ]
    },
    {
     "name": "stderr",
     "output_type": "stream",
     "text": [
      "\u001b[A\n",
      " 22%|██▏       | 269/1200 [01:16<04:18,  3.61it/s]"
     ]
    },
    {
     "name": "stdout",
     "output_type": "stream",
     "text": [
      "left_curverad, right_curverad\n",
      "958.955893766 60.3840579849\n"
     ]
    },
    {
     "name": "stderr",
     "output_type": "stream",
     "text": [
      "\u001b[A\n",
      " 22%|██▎       | 270/1200 [01:16<04:12,  3.68it/s]"
     ]
    },
    {
     "name": "stdout",
     "output_type": "stream",
     "text": [
      "upper, lower\n",
      "1080.87352934 273.24865822\n"
     ]
    },
    {
     "name": "stderr",
     "output_type": "stream",
     "text": [
      "\u001b[A\n",
      " 23%|██▎       | 271/1200 [01:17<04:08,  3.74it/s]\u001b[A\n",
      " 23%|██▎       | 272/1200 [01:17<04:05,  3.77it/s]"
     ]
    },
    {
     "name": "stdout",
     "output_type": "stream",
     "text": [
      "left_curverad, right_curverad\n",
      "1932.1962052 53.6660226322\n"
     ]
    },
    {
     "name": "stderr",
     "output_type": "stream",
     "text": [
      "\u001b[A\n",
      " 23%|██▎       | 273/1200 [01:17<04:02,  3.82it/s]\u001b[A\n",
      " 23%|██▎       | 274/1200 [01:18<04:01,  3.84it/s]"
     ]
    },
    {
     "name": "stdout",
     "output_type": "stream",
     "text": [
      "left_curverad, right_curverad\n",
      "124.475279838 23.0763749442\n"
     ]
    },
    {
     "name": "stderr",
     "output_type": "stream",
     "text": [
      "\u001b[A\n",
      " 23%|██▎       | 275/1200 [01:18<03:57,  3.89it/s]"
     ]
    },
    {
     "name": "stdout",
     "output_type": "stream",
     "text": [
      "left_curverad, right_curverad\n",
      "140.130847068 45.6254838308\n"
     ]
    },
    {
     "name": "stderr",
     "output_type": "stream",
     "text": [
      "\u001b[A\n",
      " 23%|██▎       | 276/1200 [01:18<03:58,  3.88it/s]"
     ]
    },
    {
     "name": "stdout",
     "output_type": "stream",
     "text": [
      "upper, lower\n",
      "1924.51016833 267.236228024\n"
     ]
    },
    {
     "name": "stderr",
     "output_type": "stream",
     "text": [
      "\u001b[A\n",
      " 23%|██▎       | 277/1200 [01:18<03:58,  3.87it/s]"
     ]
    },
    {
     "name": "stdout",
     "output_type": "stream",
     "text": [
      "left_curverad, right_curverad\n",
      "62.0795547957 16.6494905679\n"
     ]
    },
    {
     "name": "stderr",
     "output_type": "stream",
     "text": [
      "\u001b[A\n",
      " 23%|██▎       | 278/1200 [01:19<03:54,  3.94it/s]\u001b[A\n",
      " 23%|██▎       | 279/1200 [01:19<03:52,  3.95it/s]"
     ]
    },
    {
     "name": "stdout",
     "output_type": "stream",
     "text": [
      "upper, lower\n",
      "610.447646697 286.194591583\n"
     ]
    },
    {
     "name": "stderr",
     "output_type": "stream",
     "text": [
      "\u001b[A\n",
      " 23%|██▎       | 280/1200 [01:19<03:51,  3.98it/s]"
     ]
    },
    {
     "name": "stdout",
     "output_type": "stream",
     "text": [
      "upper, lower\n",
      "2906.91704259 296.176286965\n"
     ]
    },
    {
     "name": "stderr",
     "output_type": "stream",
     "text": [
      "\u001b[A\n",
      " 23%|██▎       | 281/1200 [01:19<03:47,  4.04it/s]"
     ]
    },
    {
     "name": "stdout",
     "output_type": "stream",
     "text": [
      "right_fitx[-1], left_fitx[-1\n",
      "1306.58031548 331.992434511\n"
     ]
    },
    {
     "name": "stderr",
     "output_type": "stream",
     "text": [
      "\u001b[A\n",
      " 24%|██▎       | 282/1200 [01:20<03:45,  4.07it/s]"
     ]
    },
    {
     "name": "stdout",
     "output_type": "stream",
     "text": [
      "right_fitx[-1], left_fitx[-1\n",
      "1599.59766731 327.390137153\n"
     ]
    },
    {
     "name": "stderr",
     "output_type": "stream",
     "text": [
      "\u001b[A\n",
      " 24%|██▎       | 283/1200 [01:20<03:47,  4.02it/s]"
     ]
    },
    {
     "name": "stdout",
     "output_type": "stream",
     "text": [
      "right_fitx[-1], left_fitx[-1\n",
      "1247.02342668 332.508421574\n"
     ]
    },
    {
     "name": "stderr",
     "output_type": "stream",
     "text": [
      "\u001b[A\n",
      " 24%|██▎       | 284/1200 [01:20<03:48,  4.00it/s]"
     ]
    },
    {
     "name": "stdout",
     "output_type": "stream",
     "text": [
      "left_curverad, right_curverad\n",
      "258.798045579 36.2865455755\n"
     ]
    },
    {
     "name": "stderr",
     "output_type": "stream",
     "text": [
      "\u001b[A\n",
      " 24%|██▍       | 285/1200 [01:20<03:46,  4.05it/s]"
     ]
    },
    {
     "name": "stdout",
     "output_type": "stream",
     "text": [
      "right_fitx[-1], left_fitx[-1\n",
      "1364.55830532 373.925857308\n"
     ]
    },
    {
     "name": "stderr",
     "output_type": "stream",
     "text": [
      "\u001b[A\n",
      " 24%|██▍       | 286/1200 [01:20<03:42,  4.11it/s]"
     ]
    },
    {
     "name": "stdout",
     "output_type": "stream",
     "text": [
      "right_fitx[-1], left_fitx[-1\n",
      "1382.39789474 387.194244164\n"
     ]
    },
    {
     "name": "stderr",
     "output_type": "stream",
     "text": [
      "\u001b[A\n",
      " 24%|██▍       | 287/1200 [01:21<03:41,  4.12it/s]"
     ]
    },
    {
     "name": "stdout",
     "output_type": "stream",
     "text": [
      "right_fitx[-1], left_fitx[-1\n",
      "1228.43822643 357.492428043\n"
     ]
    },
    {
     "name": "stderr",
     "output_type": "stream",
     "text": [
      "\u001b[A\n",
      " 24%|██▍       | 288/1200 [01:21<03:40,  4.14it/s]"
     ]
    },
    {
     "name": "stdout",
     "output_type": "stream",
     "text": [
      "right_fitx[-1], left_fitx[-1\n",
      "1166.61589616 378.632871902\n"
     ]
    },
    {
     "name": "stderr",
     "output_type": "stream",
     "text": [
      "\u001b[A\n",
      " 24%|██▍       | 289/1200 [01:21<03:44,  4.05it/s]"
     ]
    },
    {
     "name": "stdout",
     "output_type": "stream",
     "text": [
      "left_curverad, right_curverad\n",
      "657.75684095 156.931149077\n"
     ]
    },
    {
     "name": "stderr",
     "output_type": "stream",
     "text": [
      "\u001b[A\n",
      " 24%|██▍       | 290/1200 [01:22<03:54,  3.88it/s]"
     ]
    },
    {
     "name": "stdout",
     "output_type": "stream",
     "text": [
      "left_curverad, right_curverad\n",
      "345.514586949 26.4381313286\n"
     ]
    },
    {
     "name": "stderr",
     "output_type": "stream",
     "text": [
      "\u001b[A\n",
      " 24%|██▍       | 291/1200 [01:22<03:57,  3.82it/s]"
     ]
    },
    {
     "name": "stdout",
     "output_type": "stream",
     "text": [
      "right_fitx[-1], left_fitx[-1\n",
      "1230.16524438 367.905249475\n"
     ]
    },
    {
     "name": "stderr",
     "output_type": "stream",
     "text": [
      "\u001b[A\n",
      " 24%|██▍       | 292/1200 [01:22<03:54,  3.87it/s]"
     ]
    },
    {
     "name": "stdout",
     "output_type": "stream",
     "text": [
      "left_curverad, right_curverad\n",
      "208.23218798 57.7520958339\n"
     ]
    },
    {
     "name": "stderr",
     "output_type": "stream",
     "text": [
      "\u001b[A\n",
      " 24%|██▍       | 293/1200 [01:22<03:50,  3.94it/s]"
     ]
    },
    {
     "name": "stdout",
     "output_type": "stream",
     "text": [
      "left_curverad, right_curverad\n",
      "251.234609355 69.4817191588\n"
     ]
    },
    {
     "name": "stderr",
     "output_type": "stream",
     "text": [
      "\u001b[A\n",
      " 24%|██▍       | 294/1200 [01:23<04:55,  3.07it/s]"
     ]
    },
    {
     "name": "stdout",
     "output_type": "stream",
     "text": [
      "left_curverad, right_curverad\n",
      "988.117409014 85.2313230257\n"
     ]
    },
    {
     "name": "stderr",
     "output_type": "stream",
     "text": [
      "\u001b[A\n",
      " 25%|██▍       | 295/1200 [01:23<04:59,  3.02it/s]\u001b[A\n",
      " 25%|██▍       | 296/1200 [01:23<04:39,  3.24it/s]\u001b[A\n",
      " 25%|██▍       | 297/1200 [01:24<04:20,  3.47it/s]\u001b[A\n",
      " 25%|██▍       | 298/1200 [01:24<04:06,  3.66it/s]"
     ]
    },
    {
     "name": "stdout",
     "output_type": "stream",
     "text": [
      "upper, lower\n",
      "611.505783563 540.090812001\n"
     ]
    },
    {
     "name": "stderr",
     "output_type": "stream",
     "text": [
      "\u001b[A\n",
      " 25%|██▍       | 299/1200 [01:24<03:58,  3.78it/s]"
     ]
    },
    {
     "name": "stdout",
     "output_type": "stream",
     "text": [
      "upper, lower\n",
      "718.786869693 565.265799936\n"
     ]
    },
    {
     "name": "stderr",
     "output_type": "stream",
     "text": [
      "\u001b[A\n",
      " 25%|██▌       | 300/1200 [01:24<04:04,  3.68it/s]"
     ]
    },
    {
     "name": "stdout",
     "output_type": "stream",
     "text": [
      "upper, lower\n",
      "690.161434192 564.47334197\n"
     ]
    },
    {
     "name": "stderr",
     "output_type": "stream",
     "text": [
      "\u001b[A\n",
      " 25%|██▌       | 301/1200 [01:25<04:02,  3.71it/s]"
     ]
    },
    {
     "name": "stdout",
     "output_type": "stream",
     "text": [
      "left_curverad, right_curverad\n",
      "118.375513192 10.4114604331\n"
     ]
    },
    {
     "name": "stderr",
     "output_type": "stream",
     "text": [
      "\u001b[A\n",
      " 25%|██▌       | 302/1200 [01:25<03:55,  3.82it/s]"
     ]
    },
    {
     "name": "stdout",
     "output_type": "stream",
     "text": [
      "left_curverad, right_curverad\n",
      "107.751873757 8.45796187986\n"
     ]
    },
    {
     "name": "stderr",
     "output_type": "stream",
     "text": [
      "\u001b[A\n",
      " 25%|██▌       | 303/1200 [01:25<03:51,  3.87it/s]\u001b[A\n",
      " 25%|██▌       | 304/1200 [01:25<03:47,  3.94it/s]"
     ]
    },
    {
     "name": "stdout",
     "output_type": "stream",
     "text": [
      "upper, lower\n",
      "1076.70711424 596.21311112\n"
     ]
    },
    {
     "name": "stderr",
     "output_type": "stream",
     "text": [
      "\u001b[A\n",
      " 25%|██▌       | 305/1200 [01:26<03:46,  3.96it/s]"
     ]
    },
    {
     "name": "stdout",
     "output_type": "stream",
     "text": [
      "left_curverad, right_curverad\n",
      "1588.37953866 27.8767475707\n"
     ]
    },
    {
     "name": "stderr",
     "output_type": "stream",
     "text": [
      "\u001b[A\n",
      " 26%|██▌       | 306/1200 [01:26<03:45,  3.96it/s]\u001b[A\n",
      " 26%|██▌       | 307/1200 [01:26<03:46,  3.95it/s]\u001b[A\n",
      " 26%|██▌       | 308/1200 [01:26<03:43,  3.99it/s]"
     ]
    },
    {
     "name": "stdout",
     "output_type": "stream",
     "text": [
      "upper, lower\n",
      "626.909635796 540.517022475\n"
     ]
    },
    {
     "name": "stderr",
     "output_type": "stream",
     "text": [
      "\u001b[A\n",
      " 26%|██▌       | 309/1200 [01:27<03:42,  4.01it/s]"
     ]
    },
    {
     "name": "stdout",
     "output_type": "stream",
     "text": [
      "upper, lower\n",
      "1206.56373152 547.925038473\n"
     ]
    },
    {
     "name": "stderr",
     "output_type": "stream",
     "text": [
      "\u001b[A\n",
      " 26%|██▌       | 310/1200 [01:27<03:41,  4.03it/s]"
     ]
    },
    {
     "name": "stdout",
     "output_type": "stream",
     "text": [
      "upper, lower\n",
      "1498.69918335 571.210579591\n"
     ]
    },
    {
     "name": "stderr",
     "output_type": "stream",
     "text": [
      "\u001b[A\n",
      " 26%|██▌       | 311/1200 [01:27<03:40,  4.04it/s]"
     ]
    },
    {
     "name": "stdout",
     "output_type": "stream",
     "text": [
      "upper, lower\n",
      "1383.97989052 525.479406122\n"
     ]
    },
    {
     "name": "stderr",
     "output_type": "stream",
     "text": [
      "\u001b[A\n",
      " 26%|██▌       | 312/1200 [01:27<03:41,  4.01it/s]"
     ]
    },
    {
     "name": "stdout",
     "output_type": "stream",
     "text": [
      "upper, lower\n",
      "966.535391468 480.606022543\n"
     ]
    },
    {
     "name": "stderr",
     "output_type": "stream",
     "text": [
      "\u001b[A\n",
      " 26%|██▌       | 313/1200 [01:28<03:49,  3.86it/s]"
     ]
    },
    {
     "name": "stdout",
     "output_type": "stream",
     "text": [
      "upper, lower\n",
      "1036.06307076 564.12486526\n"
     ]
    },
    {
     "name": "stderr",
     "output_type": "stream",
     "text": [
      "\u001b[A\n",
      " 26%|██▌       | 314/1200 [01:28<03:48,  3.87it/s]"
     ]
    },
    {
     "name": "stdout",
     "output_type": "stream",
     "text": [
      "upper, lower\n",
      "942.531224397 533.455752711\n"
     ]
    },
    {
     "name": "stderr",
     "output_type": "stream",
     "text": [
      "\u001b[A\n",
      " 26%|██▋       | 315/1200 [01:28<03:46,  3.91it/s]\u001b[A\n",
      " 26%|██▋       | 316/1200 [01:28<03:48,  3.87it/s]"
     ]
    },
    {
     "name": "stdout",
     "output_type": "stream",
     "text": [
      "upper, lower\n",
      "1566.41260507 498.530474478\n"
     ]
    },
    {
     "name": "stderr",
     "output_type": "stream",
     "text": [
      "\u001b[A\n",
      " 26%|██▋       | 317/1200 [01:29<03:44,  3.94it/s]\u001b[A\n",
      " 26%|██▋       | 318/1200 [01:29<03:46,  3.89it/s]\u001b[A\n",
      " 27%|██▋       | 319/1200 [01:29<03:54,  3.76it/s]\u001b[A\n",
      " 27%|██▋       | 320/1200 [01:30<04:01,  3.64it/s]\u001b[A\n",
      " 27%|██▋       | 321/1200 [01:30<03:58,  3.69it/s]\u001b[A\n",
      " 27%|██▋       | 322/1200 [01:30<03:51,  3.79it/s]\u001b[A\n",
      " 27%|██▋       | 323/1200 [01:30<03:53,  3.76it/s]\u001b[A\n",
      " 27%|██▋       | 324/1200 [01:31<04:11,  3.49it/s]\u001b[A\n",
      " 27%|██▋       | 325/1200 [01:31<04:21,  3.35it/s]\u001b[A\n",
      " 27%|██▋       | 326/1200 [01:31<04:27,  3.27it/s]\u001b[A\n",
      " 27%|██▋       | 327/1200 [01:32<05:07,  2.84it/s]\u001b[A\n",
      " 27%|██▋       | 328/1200 [01:32<05:10,  2.81it/s]\u001b[A\n",
      " 27%|██▋       | 329/1200 [01:33<05:17,  2.74it/s]"
     ]
    },
    {
     "name": "stdout",
     "output_type": "stream",
     "text": [
      "left_curverad, right_curverad\n",
      "717.146525627 68.9833146557\n"
     ]
    },
    {
     "name": "stderr",
     "output_type": "stream",
     "text": [
      "\u001b[A\n",
      " 28%|██▊       | 330/1200 [01:33<05:32,  2.62it/s]\u001b[A\n",
      " 28%|██▊       | 331/1200 [01:33<05:05,  2.84it/s]"
     ]
    },
    {
     "name": "stdout",
     "output_type": "stream",
     "text": [
      "left_curverad, right_curverad\n",
      "3198.29324562 726.19072257\n"
     ]
    },
    {
     "name": "stderr",
     "output_type": "stream",
     "text": [
      "\u001b[A\n",
      " 28%|██▊       | 332/1200 [01:33<04:41,  3.09it/s]"
     ]
    },
    {
     "name": "stdout",
     "output_type": "stream",
     "text": [
      "upper, lower\n",
      "652.692011901 553.660800479\n"
     ]
    },
    {
     "name": "stderr",
     "output_type": "stream",
     "text": [
      "\u001b[A\n",
      " 28%|██▊       | 333/1200 [01:34<04:21,  3.31it/s]"
     ]
    },
    {
     "name": "stdout",
     "output_type": "stream",
     "text": [
      "left_curverad, right_curverad\n",
      "224.63746628 65.2527551886\n"
     ]
    },
    {
     "name": "stderr",
     "output_type": "stream",
     "text": [
      "\u001b[A\n",
      " 28%|██▊       | 334/1200 [01:34<04:05,  3.53it/s]\u001b[A\n",
      " 28%|██▊       | 335/1200 [01:34<03:58,  3.63it/s]"
     ]
    },
    {
     "name": "stdout",
     "output_type": "stream",
     "text": [
      "upper, lower\n",
      "970.038524979 480.325972999\n"
     ]
    },
    {
     "name": "stderr",
     "output_type": "stream",
     "text": [
      "\u001b[A\n",
      " 28%|██▊       | 336/1200 [01:34<03:59,  3.61it/s]\u001b[A\n",
      " 28%|██▊       | 337/1200 [01:35<03:54,  3.68it/s]\u001b[A\n",
      " 28%|██▊       | 338/1200 [01:35<03:50,  3.74it/s]\u001b[A\n",
      " 28%|██▊       | 339/1200 [01:35<03:49,  3.75it/s]"
     ]
    },
    {
     "name": "stdout",
     "output_type": "stream",
     "text": [
      "right_fitx[-1], left_fitx[-1\n",
      "1289.83495175 422.673723111\n"
     ]
    },
    {
     "name": "stderr",
     "output_type": "stream",
     "text": [
      "\u001b[A\n",
      " 28%|██▊       | 340/1200 [01:36<03:51,  3.71it/s]"
     ]
    },
    {
     "name": "stdout",
     "output_type": "stream",
     "text": [
      "right_fitx[-1], left_fitx[-1\n",
      "1219.3578024 -26.4715776177\n"
     ]
    },
    {
     "name": "stderr",
     "output_type": "stream",
     "text": [
      "\u001b[A\n",
      " 28%|██▊       | 341/1200 [01:36<04:37,  3.10it/s]"
     ]
    },
    {
     "name": "stdout",
     "output_type": "stream",
     "text": [
      "right_fitx[-1], left_fitx[-1\n",
      "1213.4725448 360.694950825\n"
     ]
    },
    {
     "name": "stderr",
     "output_type": "stream",
     "text": [
      "\u001b[A\n",
      " 28%|██▊       | 342/1200 [01:36<04:24,  3.25it/s]"
     ]
    },
    {
     "name": "stdout",
     "output_type": "stream",
     "text": [
      "left_curverad, right_curverad\n",
      "464.768118913 97.7089044161\n"
     ]
    },
    {
     "name": "stderr",
     "output_type": "stream",
     "text": [
      "\u001b[A\n",
      " 29%|██▊       | 343/1200 [01:37<04:14,  3.37it/s]"
     ]
    },
    {
     "name": "stdout",
     "output_type": "stream",
     "text": [
      "right_fitx[-1], left_fitx[-1\n",
      "1221.52692026 397.643571139\n"
     ]
    },
    {
     "name": "stderr",
     "output_type": "stream",
     "text": [
      "\u001b[A\n",
      " 29%|██▊       | 344/1200 [01:37<04:03,  3.51it/s]"
     ]
    },
    {
     "name": "stdout",
     "output_type": "stream",
     "text": [
      "upper, lower\n",
      "805.255733874 621.529476659\n"
     ]
    },
    {
     "name": "stderr",
     "output_type": "stream",
     "text": [
      "\u001b[A\n",
      " 29%|██▉       | 345/1200 [01:37<04:00,  3.55it/s]\u001b[A\n",
      " 29%|██▉       | 346/1200 [01:37<04:28,  3.18it/s]"
     ]
    },
    {
     "name": "stdout",
     "output_type": "stream",
     "text": [
      "right_fitx[-1], left_fitx[-1\n",
      "901.209929912 151.289004867\n"
     ]
    },
    {
     "name": "stderr",
     "output_type": "stream",
     "text": [
      "\u001b[A\n",
      " 29%|██▉       | 347/1200 [01:38<04:34,  3.11it/s]"
     ]
    },
    {
     "name": "stdout",
     "output_type": "stream",
     "text": [
      "upper, lower\n",
      "714.588396902 543.810126055\n"
     ]
    },
    {
     "name": "stderr",
     "output_type": "stream",
     "text": [
      "\u001b[A\n",
      " 29%|██▉       | 348/1200 [01:38<04:26,  3.19it/s]\u001b[A\n",
      " 29%|██▉       | 349/1200 [01:38<04:10,  3.40it/s]\u001b[A\n",
      " 29%|██▉       | 350/1200 [01:39<03:59,  3.56it/s]"
     ]
    },
    {
     "name": "stdout",
     "output_type": "stream",
     "text": [
      "right_fitx[-1], left_fitx[-1\n",
      "1346.92701196 183.11902705\n"
     ]
    },
    {
     "name": "stderr",
     "output_type": "stream",
     "text": [
      "\u001b[A\n",
      " 29%|██▉       | 351/1200 [01:39<03:52,  3.65it/s]"
     ]
    },
    {
     "name": "stdout",
     "output_type": "stream",
     "text": [
      "left_curverad, right_curverad\n",
      "260.801985909 29.2733893778\n"
     ]
    },
    {
     "name": "stderr",
     "output_type": "stream",
     "text": [
      "\u001b[A\n",
      " 29%|██▉       | 352/1200 [01:39<03:50,  3.68it/s]"
     ]
    },
    {
     "name": "stdout",
     "output_type": "stream",
     "text": [
      "left_curverad, right_curverad\n",
      "6270.72976849 592.512615026\n"
     ]
    },
    {
     "name": "stderr",
     "output_type": "stream",
     "text": [
      "\u001b[A\n",
      " 29%|██▉       | 353/1200 [01:39<03:49,  3.69it/s]\u001b[A\n",
      " 30%|██▉       | 354/1200 [01:40<03:49,  3.69it/s]\u001b[A\n",
      " 30%|██▉       | 355/1200 [01:40<03:47,  3.71it/s]"
     ]
    },
    {
     "name": "stdout",
     "output_type": "stream",
     "text": [
      "left_curverad, right_curverad\n",
      "5335.93408947 190.734720066\n"
     ]
    },
    {
     "name": "stderr",
     "output_type": "stream",
     "text": [
      "\u001b[A\n",
      " 30%|██▉       | 356/1200 [01:40<03:53,  3.62it/s]\u001b[A\n",
      " 30%|██▉       | 357/1200 [01:41<03:53,  3.60it/s]\u001b[A\n",
      " 30%|██▉       | 358/1200 [01:41<03:53,  3.60it/s]\u001b[A\n",
      " 30%|██▉       | 359/1200 [01:41<03:54,  3.58it/s]\u001b[A\n",
      " 30%|███       | 360/1200 [01:41<03:57,  3.53it/s]\u001b[A\n",
      " 30%|███       | 361/1200 [01:42<03:53,  3.59it/s]\u001b[A\n",
      " 30%|███       | 362/1200 [01:42<03:50,  3.63it/s]\u001b[A\n",
      " 30%|███       | 363/1200 [01:42<03:52,  3.60it/s]\u001b[A\n",
      " 30%|███       | 364/1200 [01:42<03:52,  3.60it/s]"
     ]
    },
    {
     "name": "stdout",
     "output_type": "stream",
     "text": [
      "right_fitx[-1], left_fitx[-1\n",
      "1131.93317271 412.639292039\n"
     ]
    },
    {
     "name": "stderr",
     "output_type": "stream",
     "text": [
      "\u001b[A\n",
      " 30%|███       | 365/1200 [01:43<04:13,  3.29it/s]\u001b[A\n",
      " 30%|███       | 366/1200 [01:43<04:20,  3.20it/s]\u001b[A\n",
      " 31%|███       | 367/1200 [01:43<04:23,  3.17it/s]\u001b[A\n",
      " 31%|███       | 368/1200 [01:44<04:24,  3.15it/s]\u001b[A\n",
      " 31%|███       | 369/1200 [01:44<04:16,  3.24it/s]\u001b[A\n",
      " 31%|███       | 370/1200 [01:44<04:19,  3.20it/s]\u001b[A\n",
      " 31%|███       | 371/1200 [01:45<04:19,  3.19it/s]\u001b[A\n",
      " 31%|███       | 372/1200 [01:45<04:17,  3.22it/s]\u001b[A\n",
      " 31%|███       | 373/1200 [01:45<04:17,  3.22it/s]\u001b[A\n",
      " 31%|███       | 374/1200 [01:46<04:18,  3.20it/s]"
     ]
    },
    {
     "name": "stdout",
     "output_type": "stream",
     "text": [
      "left_curverad, right_curverad\n",
      "6871.83636665 1045.20527427\n"
     ]
    },
    {
     "name": "stderr",
     "output_type": "stream",
     "text": [
      "\u001b[A\n",
      " 31%|███▏      | 375/1200 [01:46<04:23,  3.13it/s]\u001b[A\n",
      " 31%|███▏      | 376/1200 [01:46<04:23,  3.13it/s]"
     ]
    },
    {
     "name": "stdout",
     "output_type": "stream",
     "text": [
      "left_curverad, right_curverad\n",
      "16060.3194205 1030.54529585\n"
     ]
    },
    {
     "name": "stderr",
     "output_type": "stream",
     "text": [
      "\u001b[A\n",
      " 31%|███▏      | 377/1200 [01:47<04:23,  3.13it/s]"
     ]
    },
    {
     "name": "stdout",
     "output_type": "stream",
     "text": [
      "left_curverad, right_curverad\n",
      "4804.23464311 812.786876538\n"
     ]
    },
    {
     "name": "stderr",
     "output_type": "stream",
     "text": [
      "\u001b[A\n",
      " 32%|███▏      | 378/1200 [01:47<04:27,  3.08it/s]"
     ]
    },
    {
     "name": "stdout",
     "output_type": "stream",
     "text": [
      "left_curverad, right_curverad\n",
      "6375.0060682 787.108095692\n"
     ]
    },
    {
     "name": "stderr",
     "output_type": "stream",
     "text": [
      "\u001b[A\n",
      " 32%|███▏      | 379/1200 [01:47<04:35,  2.98it/s]"
     ]
    },
    {
     "name": "stdout",
     "output_type": "stream",
     "text": [
      "left_curverad, right_curverad\n",
      "2493.17179613 717.555019681\n"
     ]
    },
    {
     "name": "stderr",
     "output_type": "stream",
     "text": [
      "\u001b[A\n",
      " 32%|███▏      | 380/1200 [01:48<04:35,  2.98it/s]"
     ]
    },
    {
     "name": "stdout",
     "output_type": "stream",
     "text": [
      "left_curverad, right_curverad\n",
      "2696.84747506 793.387705202\n"
     ]
    },
    {
     "name": "stderr",
     "output_type": "stream",
     "text": [
      "\u001b[A\n",
      " 32%|███▏      | 381/1200 [01:48<04:35,  2.97it/s]\u001b[A\n",
      " 32%|███▏      | 382/1200 [01:48<05:10,  2.64it/s]\u001b[A\n",
      " 32%|███▏      | 383/1200 [01:49<05:07,  2.65it/s]"
     ]
    },
    {
     "name": "stdout",
     "output_type": "stream",
     "text": [
      "left_curverad, right_curverad\n",
      "16802.3972432 874.987942716\n"
     ]
    },
    {
     "name": "stderr",
     "output_type": "stream",
     "text": [
      "\u001b[A\n",
      " 32%|███▏      | 384/1200 [01:49<05:03,  2.69it/s]\u001b[A\n",
      " 32%|███▏      | 385/1200 [01:50<05:01,  2.70it/s]\u001b[A\n",
      " 32%|███▏      | 386/1200 [01:50<04:56,  2.74it/s]"
     ]
    },
    {
     "name": "stdout",
     "output_type": "stream",
     "text": [
      "left_curverad, right_curverad\n",
      "7387.30172076 1852.01793344\n"
     ]
    },
    {
     "name": "stderr",
     "output_type": "stream",
     "text": [
      "\u001b[A\n",
      " 32%|███▏      | 387/1200 [01:50<04:59,  2.72it/s]\u001b[A\n",
      " 32%|███▏      | 388/1200 [01:51<04:57,  2.73it/s]\u001b[A\n",
      " 32%|███▏      | 389/1200 [01:51<04:54,  2.75it/s]\u001b[A\n",
      " 32%|███▎      | 390/1200 [01:51<04:55,  2.74it/s]\u001b[A\n",
      " 33%|███▎      | 391/1200 [01:52<05:01,  2.68it/s]\u001b[A\n",
      " 33%|███▎      | 392/1200 [01:52<05:26,  2.48it/s]\u001b[A\n",
      " 33%|███▎      | 393/1200 [01:53<05:46,  2.33it/s]\u001b[A\n",
      " 33%|███▎      | 394/1200 [01:53<06:42,  2.00it/s]\u001b[A\n",
      " 33%|███▎      | 395/1200 [01:54<06:43,  2.00it/s]\u001b[A\n",
      " 33%|███▎      | 396/1200 [01:54<06:17,  2.13it/s]\u001b[A\n",
      " 33%|███▎      | 397/1200 [01:55<06:01,  2.22it/s]\u001b[A\n",
      " 33%|███▎      | 398/1200 [01:55<05:52,  2.28it/s]\u001b[A\n",
      " 33%|███▎      | 399/1200 [01:56<05:37,  2.37it/s]\u001b[A\n",
      " 33%|███▎      | 400/1200 [01:56<05:20,  2.50it/s]\u001b[A\n",
      " 33%|███▎      | 401/1200 [01:56<05:04,  2.62it/s]\u001b[A\n",
      " 34%|███▎      | 402/1200 [01:57<04:58,  2.67it/s]\u001b[A\n",
      " 34%|███▎      | 403/1200 [01:57<04:54,  2.71it/s]"
     ]
    },
    {
     "name": "stdout",
     "output_type": "stream",
     "text": [
      "right_fitx[-1], left_fitx[-1\n",
      "1150.52447334 382.143411787\n"
     ]
    },
    {
     "name": "stderr",
     "output_type": "stream",
     "text": [
      "\u001b[A\n",
      " 34%|███▎      | 404/1200 [01:57<04:49,  2.75it/s]"
     ]
    },
    {
     "name": "stdout",
     "output_type": "stream",
     "text": [
      "right_fitx[-1], left_fitx[-1\n",
      "1154.84447735 370.949894508\n"
     ]
    },
    {
     "name": "stderr",
     "output_type": "stream",
     "text": [
      "\u001b[A\n",
      " 34%|███▍      | 405/1200 [01:58<04:48,  2.75it/s]"
     ]
    },
    {
     "name": "stdout",
     "output_type": "stream",
     "text": [
      "right_fitx[-1], left_fitx[-1\n",
      "1153.27678206 359.363802432\n"
     ]
    },
    {
     "name": "stderr",
     "output_type": "stream",
     "text": [
      "\u001b[A\n",
      " 34%|███▍      | 406/1200 [01:58<04:58,  2.66it/s]"
     ]
    },
    {
     "name": "stdout",
     "output_type": "stream",
     "text": [
      "right_fitx[-1], left_fitx[-1\n",
      "1155.63840838 325.670160635\n"
     ]
    },
    {
     "name": "stderr",
     "output_type": "stream",
     "text": [
      "\u001b[A\n",
      " 34%|███▍      | 407/1200 [01:58<04:59,  2.64it/s]"
     ]
    },
    {
     "name": "stdout",
     "output_type": "stream",
     "text": [
      "right_fitx[-1], left_fitx[-1\n",
      "1166.26446128 339.030177315\n"
     ]
    },
    {
     "name": "stderr",
     "output_type": "stream",
     "text": [
      "\u001b[A\n",
      " 34%|███▍      | 408/1200 [01:59<04:53,  2.70it/s]"
     ]
    },
    {
     "name": "stdout",
     "output_type": "stream",
     "text": [
      "right_fitx[-1], left_fitx[-1\n",
      "1176.87032856 343.396922824\n"
     ]
    },
    {
     "name": "stderr",
     "output_type": "stream",
     "text": [
      "\u001b[A\n",
      " 34%|███▍      | 409/1200 [01:59<04:50,  2.72it/s]"
     ]
    },
    {
     "name": "stdout",
     "output_type": "stream",
     "text": [
      "right_fitx[-1], left_fitx[-1\n",
      "1186.33046198 322.738759072\n"
     ]
    },
    {
     "name": "stderr",
     "output_type": "stream",
     "text": [
      "\u001b[A\n",
      " 34%|███▍      | 410/1200 [01:59<04:45,  2.76it/s]"
     ]
    },
    {
     "name": "stdout",
     "output_type": "stream",
     "text": [
      "right_fitx[-1], left_fitx[-1\n",
      "1126.50627236 292.232380729\n"
     ]
    },
    {
     "name": "stderr",
     "output_type": "stream",
     "text": [
      "\u001b[A\n",
      " 34%|███▍      | 411/1200 [02:00<04:44,  2.77it/s]"
     ]
    },
    {
     "name": "stdout",
     "output_type": "stream",
     "text": [
      "right_fitx[-1], left_fitx[-1\n",
      "1197.17414183 292.069462189\n"
     ]
    },
    {
     "name": "stderr",
     "output_type": "stream",
     "text": [
      "\u001b[A\n",
      " 34%|███▍      | 412/1200 [02:00<04:42,  2.79it/s]"
     ]
    },
    {
     "name": "stdout",
     "output_type": "stream",
     "text": [
      "right_fitx[-1], left_fitx[-1\n",
      "1208.193107 297.633843533\n"
     ]
    },
    {
     "name": "stderr",
     "output_type": "stream",
     "text": [
      "\u001b[A\n",
      " 34%|███▍      | 413/1200 [02:01<04:44,  2.77it/s]"
     ]
    },
    {
     "name": "stdout",
     "output_type": "stream",
     "text": [
      "right_fitx[-1], left_fitx[-1\n",
      "1206.19155609 158.285378659\n"
     ]
    },
    {
     "name": "stderr",
     "output_type": "stream",
     "text": [
      "\u001b[A\n",
      " 34%|███▍      | 414/1200 [02:01<04:31,  2.90it/s]"
     ]
    },
    {
     "name": "stdout",
     "output_type": "stream",
     "text": [
      "right_fitx[-1], left_fitx[-1\n",
      "1213.85397644 122.505167165\n"
     ]
    },
    {
     "name": "stderr",
     "output_type": "stream",
     "text": [
      "\u001b[A\n",
      " 35%|███▍      | 415/1200 [02:01<04:22,  2.99it/s]"
     ]
    },
    {
     "name": "stdout",
     "output_type": "stream",
     "text": [
      "upper, lower\n",
      "1119.80504831 635.530709297\n"
     ]
    },
    {
     "name": "stderr",
     "output_type": "stream",
     "text": [
      "\u001b[A\n",
      " 35%|███▍      | 416/1200 [02:01<04:16,  3.05it/s]"
     ]
    },
    {
     "name": "stdout",
     "output_type": "stream",
     "text": [
      "right_fitx[-1], left_fitx[-1\n",
      "1193.95578509 333.569499094\n"
     ]
    },
    {
     "name": "stderr",
     "output_type": "stream",
     "text": [
      "\u001b[A\n",
      " 35%|███▍      | 417/1200 [02:02<04:51,  2.68it/s]"
     ]
    },
    {
     "name": "stdout",
     "output_type": "stream",
     "text": [
      "right_fitx[-1], left_fitx[-1\n",
      "1185.74806433 258.271979919\n"
     ]
    },
    {
     "name": "stderr",
     "output_type": "stream",
     "text": [
      "\u001b[A\n",
      " 35%|███▍      | 418/1200 [02:02<04:51,  2.68it/s]"
     ]
    },
    {
     "name": "stdout",
     "output_type": "stream",
     "text": [
      "right_fitx[-1], left_fitx[-1\n",
      "1163.44347303 330.78076766\n"
     ]
    },
    {
     "name": "stderr",
     "output_type": "stream",
     "text": [
      "\u001b[A\n",
      " 35%|███▍      | 419/1200 [02:03<04:45,  2.73it/s]"
     ]
    },
    {
     "name": "stdout",
     "output_type": "stream",
     "text": [
      "right_fitx[-1], left_fitx[-1\n",
      "1156.10629475 259.676797442\n"
     ]
    },
    {
     "name": "stderr",
     "output_type": "stream",
     "text": [
      "\u001b[A\n",
      " 35%|███▌      | 420/1200 [02:03<04:37,  2.81it/s]"
     ]
    },
    {
     "name": "stdout",
     "output_type": "stream",
     "text": [
      "right_fitx[-1], left_fitx[-1\n",
      "1130.87465399 278.362494496\n"
     ]
    },
    {
     "name": "stderr",
     "output_type": "stream",
     "text": [
      "\u001b[A\n",
      " 35%|███▌      | 421/1200 [02:03<04:21,  2.98it/s]"
     ]
    },
    {
     "name": "stdout",
     "output_type": "stream",
     "text": [
      "right_fitx[-1], left_fitx[-1\n",
      "1130.14584202 204.425539238\n"
     ]
    },
    {
     "name": "stderr",
     "output_type": "stream",
     "text": [
      "\u001b[A\n",
      " 35%|███▌      | 422/1200 [02:04<04:12,  3.09it/s]"
     ]
    },
    {
     "name": "stdout",
     "output_type": "stream",
     "text": [
      "right_fitx[-1], left_fitx[-1\n",
      "1129.56135526 226.960975675\n"
     ]
    },
    {
     "name": "stderr",
     "output_type": "stream",
     "text": [
      "\u001b[A\n",
      " 35%|███▌      | 423/1200 [02:04<04:05,  3.17it/s]"
     ]
    },
    {
     "name": "stdout",
     "output_type": "stream",
     "text": [
      "right_fitx[-1], left_fitx[-1\n",
      "1134.26231745 143.076486275\n"
     ]
    },
    {
     "name": "stderr",
     "output_type": "stream",
     "text": [
      "\u001b[A\n",
      " 35%|███▌      | 424/1200 [02:04<04:00,  3.23it/s]"
     ]
    },
    {
     "name": "stdout",
     "output_type": "stream",
     "text": [
      "left_curverad, right_curverad\n",
      "1408.69646403 453.73120309\n"
     ]
    },
    {
     "name": "stderr",
     "output_type": "stream",
     "text": [
      "\u001b[A\n",
      " 35%|███▌      | 425/1200 [02:04<03:57,  3.26it/s]"
     ]
    },
    {
     "name": "stdout",
     "output_type": "stream",
     "text": [
      "right_fitx[-1], left_fitx[-1\n",
      "1148.15718019 168.168825657\n"
     ]
    },
    {
     "name": "stderr",
     "output_type": "stream",
     "text": [
      "\u001b[A\n",
      " 36%|███▌      | 426/1200 [02:05<03:52,  3.33it/s]"
     ]
    },
    {
     "name": "stdout",
     "output_type": "stream",
     "text": [
      "right_fitx[-1], left_fitx[-1\n",
      "1133.58261772 174.480565838\n"
     ]
    },
    {
     "name": "stderr",
     "output_type": "stream",
     "text": [
      "\u001b[A\n",
      " 36%|███▌      | 427/1200 [02:05<03:48,  3.38it/s]"
     ]
    },
    {
     "name": "stdout",
     "output_type": "stream",
     "text": [
      "right_fitx[-1], left_fitx[-1\n",
      "1107.10196433 116.155989176\n"
     ]
    },
    {
     "name": "stderr",
     "output_type": "stream",
     "text": [
      "\u001b[A\n",
      " 36%|███▌      | 428/1200 [02:05<03:54,  3.30it/s]"
     ]
    },
    {
     "name": "stdout",
     "output_type": "stream",
     "text": [
      "right_fitx[-1], left_fitx[-1\n",
      "1100.80832413 23.2698714202\n"
     ]
    },
    {
     "name": "stderr",
     "output_type": "stream",
     "text": [
      "\u001b[A\n",
      " 36%|███▌      | 429/1200 [02:06<04:01,  3.19it/s]"
     ]
    },
    {
     "name": "stdout",
     "output_type": "stream",
     "text": [
      "left_curverad, right_curverad\n",
      "1020.43758085 325.590957184\n"
     ]
    },
    {
     "name": "stderr",
     "output_type": "stream",
     "text": [
      "\u001b[A\n",
      " 36%|███▌      | 430/1200 [02:06<03:59,  3.21it/s]"
     ]
    },
    {
     "name": "stdout",
     "output_type": "stream",
     "text": [
      "right_fitx[-1], left_fitx[-1\n",
      "1109.28576539 35.8042724887\n"
     ]
    },
    {
     "name": "stderr",
     "output_type": "stream",
     "text": [
      "\u001b[A\n",
      " 36%|███▌      | 431/1200 [02:06<03:52,  3.31it/s]"
     ]
    },
    {
     "name": "stdout",
     "output_type": "stream",
     "text": [
      "right_fitx[-1], left_fitx[-1\n",
      "1125.41286461 41.4246715815\n"
     ]
    },
    {
     "name": "stderr",
     "output_type": "stream",
     "text": [
      "\u001b[A\n",
      " 36%|███▌      | 432/1200 [02:07<03:47,  3.38it/s]"
     ]
    },
    {
     "name": "stdout",
     "output_type": "stream",
     "text": [
      "right_fitx[-1], left_fitx[-1\n",
      "1121.30030357 20.2278271064\n"
     ]
    },
    {
     "name": "stderr",
     "output_type": "stream",
     "text": [
      "\u001b[A\n",
      " 36%|███▌      | 433/1200 [02:07<03:42,  3.45it/s]"
     ]
    },
    {
     "name": "stdout",
     "output_type": "stream",
     "text": [
      "right_fitx[-1], left_fitx[-1\n",
      "1110.39129871 34.9876484589\n"
     ]
    },
    {
     "name": "stderr",
     "output_type": "stream",
     "text": [
      "\u001b[A\n",
      " 36%|███▌      | 434/1200 [02:07<03:39,  3.49it/s]"
     ]
    },
    {
     "name": "stdout",
     "output_type": "stream",
     "text": [
      "right_fitx[-1], left_fitx[-1\n",
      "1094.73140912 41.2282887181\n"
     ]
    },
    {
     "name": "stderr",
     "output_type": "stream",
     "text": [
      "\u001b[A\n",
      " 36%|███▋      | 435/1200 [02:07<03:40,  3.47it/s]"
     ]
    },
    {
     "name": "stdout",
     "output_type": "stream",
     "text": [
      "upper, lower\n",
      "680.356996376 32.292069845\n"
     ]
    },
    {
     "name": "stderr",
     "output_type": "stream",
     "text": [
      "\u001b[A\n",
      " 36%|███▋      | 436/1200 [02:08<03:37,  3.52it/s]\u001b[A\n",
      " 36%|███▋      | 437/1200 [02:08<03:41,  3.44it/s]"
     ]
    },
    {
     "name": "stdout",
     "output_type": "stream",
     "text": [
      "left_curverad, right_curverad\n",
      "3486.01622039 294.91087487\n"
     ]
    },
    {
     "name": "stderr",
     "output_type": "stream",
     "text": [
      "\u001b[A\n",
      " 36%|███▋      | 438/1200 [02:08<03:40,  3.45it/s]"
     ]
    },
    {
     "name": "stdout",
     "output_type": "stream",
     "text": [
      "upper, lower\n",
      "1403.20367955 66.6574635894\n"
     ]
    },
    {
     "name": "stderr",
     "output_type": "stream",
     "text": [
      "\u001b[A\n",
      " 37%|███▋      | 439/1200 [02:09<03:37,  3.50it/s]\u001b[A\n",
      " 37%|███▋      | 440/1200 [02:09<03:42,  3.41it/s]\u001b[A\n",
      " 37%|███▋      | 441/1200 [02:09<04:11,  3.02it/s]"
     ]
    },
    {
     "name": "stdout",
     "output_type": "stream",
     "text": [
      "upper, lower\n",
      "2172.89463359 540.689244056\n"
     ]
    },
    {
     "name": "stderr",
     "output_type": "stream",
     "text": [
      "\u001b[A\n",
      " 37%|███▋      | 442/1200 [02:10<04:01,  3.14it/s]"
     ]
    },
    {
     "name": "stdout",
     "output_type": "stream",
     "text": [
      "right_fitx[-1], left_fitx[-1\n",
      "893.817243434 25.1063019549\n"
     ]
    },
    {
     "name": "stderr",
     "output_type": "stream",
     "text": [
      "\u001b[A\n",
      " 37%|███▋      | 443/1200 [02:10<03:51,  3.27it/s]"
     ]
    },
    {
     "name": "stdout",
     "output_type": "stream",
     "text": [
      "right_fitx[-1], left_fitx[-1\n",
      "913.794038731 1.13043916926\n"
     ]
    },
    {
     "name": "stderr",
     "output_type": "stream",
     "text": [
      "\u001b[A\n",
      " 37%|███▋      | 444/1200 [02:10<03:42,  3.40it/s]"
     ]
    },
    {
     "name": "stdout",
     "output_type": "stream",
     "text": [
      "right_fitx[-1], left_fitx[-1\n",
      "935.078416355 -3.40956879277\n"
     ]
    },
    {
     "name": "stderr",
     "output_type": "stream",
     "text": [
      "\u001b[A\n",
      " 37%|███▋      | 445/1200 [02:10<03:41,  3.41it/s]"
     ]
    },
    {
     "name": "stdout",
     "output_type": "stream",
     "text": [
      "right_fitx[-1], left_fitx[-1\n",
      "1147.25807207 -2.80342482091\n"
     ]
    },
    {
     "name": "stderr",
     "output_type": "stream",
     "text": [
      "\u001b[A\n",
      " 37%|███▋      | 446/1200 [02:11<03:41,  3.40it/s]"
     ]
    },
    {
     "name": "stdout",
     "output_type": "stream",
     "text": [
      "right_fitx[-1], left_fitx[-1\n",
      "929.290569368 6.07551871736\n"
     ]
    },
    {
     "name": "stderr",
     "output_type": "stream",
     "text": [
      "\u001b[A\n",
      " 37%|███▋      | 447/1200 [02:11<03:39,  3.43it/s]"
     ]
    },
    {
     "name": "stdout",
     "output_type": "stream",
     "text": [
      "right_fitx[-1], left_fitx[-1\n",
      "919.894791562 -82.9823300056\n"
     ]
    },
    {
     "name": "stderr",
     "output_type": "stream",
     "text": [
      "\u001b[A\n",
      " 37%|███▋      | 448/1200 [02:11<03:36,  3.48it/s]"
     ]
    },
    {
     "name": "stdout",
     "output_type": "stream",
     "text": [
      "left_curverad, right_curverad\n",
      "146.006782666 37.839333336\n"
     ]
    },
    {
     "name": "stderr",
     "output_type": "stream",
     "text": [
      "\u001b[A\n",
      " 37%|███▋      | 449/1200 [02:12<03:40,  3.41it/s]"
     ]
    },
    {
     "name": "stdout",
     "output_type": "stream",
     "text": [
      "left_curverad, right_curverad\n",
      "143.346652429 45.6679891239\n"
     ]
    },
    {
     "name": "stderr",
     "output_type": "stream",
     "text": [
      "\u001b[A\n",
      " 38%|███▊      | 450/1200 [02:12<04:07,  3.03it/s]"
     ]
    },
    {
     "name": "stdout",
     "output_type": "stream",
     "text": [
      "right_fitx[-1], left_fitx[-1\n",
      "935.057251933 -14.8967479692\n"
     ]
    },
    {
     "name": "stderr",
     "output_type": "stream",
     "text": [
      "\u001b[A\n",
      " 38%|███▊      | 451/1200 [02:12<03:58,  3.13it/s]"
     ]
    },
    {
     "name": "stdout",
     "output_type": "stream",
     "text": [
      "right_fitx[-1], left_fitx[-1\n",
      "934.941884972 -14.2577887894\n"
     ]
    },
    {
     "name": "stderr",
     "output_type": "stream",
     "text": [
      "\u001b[A\n",
      " 38%|███▊      | 452/1200 [02:13<03:50,  3.25it/s]"
     ]
    },
    {
     "name": "stdout",
     "output_type": "stream",
     "text": [
      "right_fitx[-1], left_fitx[-1\n",
      "934.626446928 -16.6117401208\n"
     ]
    },
    {
     "name": "stderr",
     "output_type": "stream",
     "text": [
      "\u001b[A\n",
      " 38%|███▊      | 453/1200 [02:13<03:40,  3.39it/s]"
     ]
    },
    {
     "name": "stdout",
     "output_type": "stream",
     "text": [
      "left_curverad, right_curverad\n",
      "462.697204984 52.2825809512\n"
     ]
    },
    {
     "name": "stderr",
     "output_type": "stream",
     "text": [
      "\u001b[A\n",
      " 38%|███▊      | 454/1200 [02:13<03:33,  3.49it/s]"
     ]
    },
    {
     "name": "stdout",
     "output_type": "stream",
     "text": [
      "left_curverad, right_curverad\n",
      "732.745607151 53.9761376004\n"
     ]
    },
    {
     "name": "stderr",
     "output_type": "stream",
     "text": [
      "\u001b[A\n",
      " 38%|███▊      | 455/1200 [02:13<03:29,  3.56it/s]"
     ]
    },
    {
     "name": "stdout",
     "output_type": "stream",
     "text": [
      "left_curverad, right_curverad\n",
      "2532.65955808 53.8073621233\n"
     ]
    },
    {
     "name": "stderr",
     "output_type": "stream",
     "text": [
      "\u001b[A\n",
      " 38%|███▊      | 456/1200 [02:14<03:25,  3.63it/s]"
     ]
    },
    {
     "name": "stdout",
     "output_type": "stream",
     "text": [
      "left_curverad, right_curverad\n",
      "677.864386514 54.9856820713\n"
     ]
    },
    {
     "name": "stderr",
     "output_type": "stream",
     "text": [
      "\u001b[A\n",
      " 38%|███▊      | 457/1200 [02:14<03:20,  3.71it/s]"
     ]
    },
    {
     "name": "stdout",
     "output_type": "stream",
     "text": [
      "left_curverad, right_curverad\n",
      "751.977544779 56.4403601001\n"
     ]
    },
    {
     "name": "stderr",
     "output_type": "stream",
     "text": [
      "\u001b[A\n",
      " 38%|███▊      | 458/1200 [02:14<03:19,  3.72it/s]"
     ]
    },
    {
     "name": "stdout",
     "output_type": "stream",
     "text": [
      "left_curverad, right_curverad\n",
      "869.176277818 117.277846868\n"
     ]
    },
    {
     "name": "stderr",
     "output_type": "stream",
     "text": [
      "\u001b[A\n",
      " 38%|███▊      | 459/1200 [02:14<03:18,  3.73it/s]"
     ]
    },
    {
     "name": "stdout",
     "output_type": "stream",
     "text": [
      "left_curverad, right_curverad\n",
      "1992.91909698 103.293463595\n"
     ]
    },
    {
     "name": "stderr",
     "output_type": "stream",
     "text": [
      "\u001b[A\n",
      " 38%|███▊      | 460/1200 [02:15<03:18,  3.74it/s]"
     ]
    },
    {
     "name": "stdout",
     "output_type": "stream",
     "text": [
      "left_curverad, right_curverad\n",
      "1446.26617661 91.1492816946\n"
     ]
    },
    {
     "name": "stderr",
     "output_type": "stream",
     "text": [
      "\u001b[A\n",
      " 38%|███▊      | 461/1200 [02:15<03:27,  3.56it/s]"
     ]
    },
    {
     "name": "stdout",
     "output_type": "stream",
     "text": [
      "left_curverad, right_curverad\n",
      "13572.3349529 81.640242965\n"
     ]
    },
    {
     "name": "stderr",
     "output_type": "stream",
     "text": [
      "\u001b[A\n",
      " 38%|███▊      | 462/1200 [02:15<03:48,  3.22it/s]\u001b[A\n",
      " 39%|███▊      | 463/1200 [02:16<03:42,  3.31it/s]\u001b[A\n",
      " 39%|███▊      | 464/1200 [02:16<03:38,  3.37it/s]"
     ]
    },
    {
     "name": "stdout",
     "output_type": "stream",
     "text": [
      "left_curverad, right_curverad\n",
      "942.853047586 227.773228443\n"
     ]
    },
    {
     "name": "stderr",
     "output_type": "stream",
     "text": [
      "\u001b[A\n",
      " 39%|███▉      | 465/1200 [02:16<03:35,  3.42it/s]"
     ]
    },
    {
     "name": "stdout",
     "output_type": "stream",
     "text": [
      "right_fitx[-1], left_fitx[-1\n",
      "786.99589405 -2.41119296881\n"
     ]
    },
    {
     "name": "stderr",
     "output_type": "stream",
     "text": [
      "\u001b[A\n",
      " 39%|███▉      | 466/1200 [02:17<03:30,  3.49it/s]"
     ]
    },
    {
     "name": "stdout",
     "output_type": "stream",
     "text": [
      "right_fitx[-1], left_fitx[-1\n",
      "768.805976281 -44.3795269712\n"
     ]
    },
    {
     "name": "stderr",
     "output_type": "stream",
     "text": [
      "\u001b[A\n",
      " 39%|███▉      | 467/1200 [02:17<03:25,  3.56it/s]"
     ]
    },
    {
     "name": "stdout",
     "output_type": "stream",
     "text": [
      "right_fitx[-1], left_fitx[-1\n",
      "721.03490761 -51.8648501355\n"
     ]
    },
    {
     "name": "stderr",
     "output_type": "stream",
     "text": [
      "\u001b[A\n",
      " 39%|███▉      | 468/1200 [02:17<03:25,  3.57it/s]"
     ]
    },
    {
     "name": "stdout",
     "output_type": "stream",
     "text": [
      "right_fitx[-1], left_fitx[-1\n",
      "691.058381775 -59.0933671158\n"
     ]
    },
    {
     "name": "stderr",
     "output_type": "stream",
     "text": [
      "\u001b[A\n",
      " 39%|███▉      | 469/1200 [02:17<03:27,  3.53it/s]"
     ]
    },
    {
     "name": "stdout",
     "output_type": "stream",
     "text": [
      "right_fitx[-1], left_fitx[-1\n",
      "706.782028159 -79.4777487875\n"
     ]
    },
    {
     "name": "stderr",
     "output_type": "stream",
     "text": [
      "\u001b[A\n",
      " 39%|███▉      | 470/1200 [02:18<03:30,  3.46it/s]\u001b[A\n",
      " 39%|███▉      | 471/1200 [02:18<03:31,  3.45it/s]"
     ]
    },
    {
     "name": "stdout",
     "output_type": "stream",
     "text": [
      "upper, lower\n",
      "125.681130078 60.4357465321\n"
     ]
    },
    {
     "name": "stderr",
     "output_type": "stream",
     "text": [
      "\u001b[A\n",
      " 39%|███▉      | 472/1200 [02:18<03:26,  3.53it/s]"
     ]
    },
    {
     "name": "stdout",
     "output_type": "stream",
     "text": [
      "upper, lower\n",
      "173.337183138 41.8544005534\n"
     ]
    },
    {
     "name": "stderr",
     "output_type": "stream",
     "text": [
      "\u001b[A\n",
      " 39%|███▉      | 473/1200 [02:18<03:23,  3.57it/s]\u001b[A\n",
      " 40%|███▉      | 474/1200 [02:19<03:20,  3.61it/s]"
     ]
    },
    {
     "name": "stdout",
     "output_type": "stream",
     "text": [
      "right_fitx[-1], left_fitx[-1\n",
      "672.530283783 -132.957662411\n"
     ]
    },
    {
     "name": "stderr",
     "output_type": "stream",
     "text": [
      "\u001b[A\n",
      " 40%|███▉      | 475/1200 [02:19<03:18,  3.66it/s]\u001b[A\n",
      " 40%|███▉      | 476/1200 [02:19<03:16,  3.69it/s]\u001b[A\n",
      " 40%|███▉      | 477/1200 [02:20<03:15,  3.69it/s]\u001b[A\n",
      " 40%|███▉      | 478/1200 [02:20<03:14,  3.70it/s]\u001b[A\n",
      " 40%|███▉      | 479/1200 [02:20<03:16,  3.66it/s]\u001b[A\n",
      " 40%|████      | 480/1200 [02:20<03:20,  3.59it/s]\u001b[A\n",
      " 40%|████      | 481/1200 [02:21<03:23,  3.53it/s]\u001b[A\n",
      " 40%|████      | 482/1200 [02:21<03:21,  3.57it/s]\u001b[A\n",
      " 40%|████      | 483/1200 [02:21<03:17,  3.64it/s]\u001b[A\n",
      " 40%|████      | 484/1200 [02:22<03:19,  3.59it/s]"
     ]
    },
    {
     "name": "stdout",
     "output_type": "stream",
     "text": [
      "upper, lower\n",
      "888.80368252 615.88190591\n"
     ]
    },
    {
     "name": "stderr",
     "output_type": "stream",
     "text": [
      "\u001b[A\n",
      " 40%|████      | 485/1200 [02:22<03:20,  3.57it/s]"
     ]
    },
    {
     "name": "stdout",
     "output_type": "stream",
     "text": [
      "upper, lower\n",
      "872.955699609 633.271624197\n"
     ]
    },
    {
     "name": "stderr",
     "output_type": "stream",
     "text": [
      "\u001b[A\n",
      " 40%|████      | 486/1200 [02:22<03:19,  3.58it/s]"
     ]
    },
    {
     "name": "stdout",
     "output_type": "stream",
     "text": [
      "upper, lower\n",
      "843.750372129 551.414709541\n"
     ]
    },
    {
     "name": "stderr",
     "output_type": "stream",
     "text": [
      "\u001b[A\n",
      " 41%|████      | 487/1200 [02:22<03:20,  3.56it/s]"
     ]
    },
    {
     "name": "stdout",
     "output_type": "stream",
     "text": [
      "upper, lower\n",
      "822.054977414 517.644098524\n"
     ]
    },
    {
     "name": "stderr",
     "output_type": "stream",
     "text": [
      "\u001b[A\n",
      " 41%|████      | 488/1200 [02:23<03:21,  3.54it/s]"
     ]
    },
    {
     "name": "stdout",
     "output_type": "stream",
     "text": [
      "upper, lower\n",
      "818.835849415 532.403447368\n"
     ]
    },
    {
     "name": "stderr",
     "output_type": "stream",
     "text": [
      "\u001b[A\n",
      " 41%|████      | 489/1200 [02:23<03:22,  3.51it/s]"
     ]
    },
    {
     "name": "stdout",
     "output_type": "stream",
     "text": [
      "upper, lower\n",
      "811.232553031 510.818834845\n"
     ]
    },
    {
     "name": "stderr",
     "output_type": "stream",
     "text": [
      "\u001b[A\n",
      " 41%|████      | 490/1200 [02:23<03:23,  3.50it/s]"
     ]
    },
    {
     "name": "stdout",
     "output_type": "stream",
     "text": [
      "upper, lower\n",
      "784.909536557 457.610125344\n"
     ]
    },
    {
     "name": "stderr",
     "output_type": "stream",
     "text": [
      "\u001b[A\n",
      " 41%|████      | 491/1200 [02:24<03:23,  3.48it/s]"
     ]
    },
    {
     "name": "stdout",
     "output_type": "stream",
     "text": [
      "upper, lower\n",
      "760.953863757 437.279707573\n"
     ]
    },
    {
     "name": "stderr",
     "output_type": "stream",
     "text": [
      "\u001b[A\n",
      " 41%|████      | 492/1200 [02:24<03:23,  3.49it/s]"
     ]
    },
    {
     "name": "stdout",
     "output_type": "stream",
     "text": [
      "upper, lower\n",
      "750.988445031 444.244237098\n"
     ]
    },
    {
     "name": "stderr",
     "output_type": "stream",
     "text": [
      "\u001b[A\n",
      " 41%|████      | 493/1200 [02:24<03:21,  3.50it/s]"
     ]
    },
    {
     "name": "stdout",
     "output_type": "stream",
     "text": [
      "upper, lower\n",
      "730.701596247 434.717864878\n"
     ]
    },
    {
     "name": "stderr",
     "output_type": "stream",
     "text": [
      "\u001b[A\n",
      " 41%|████      | 494/1200 [02:24<03:23,  3.46it/s]"
     ]
    },
    {
     "name": "stdout",
     "output_type": "stream",
     "text": [
      "upper, lower\n",
      "710.97572514 428.237453525\n"
     ]
    },
    {
     "name": "stderr",
     "output_type": "stream",
     "text": [
      "\u001b[A\n",
      " 41%|████▏     | 495/1200 [02:25<03:23,  3.46it/s]"
     ]
    },
    {
     "name": "stdout",
     "output_type": "stream",
     "text": [
      "right_fitx[-1], left_fitx[-1\n",
      "1344.88566595 292.415075396\n"
     ]
    },
    {
     "name": "stderr",
     "output_type": "stream",
     "text": [
      "\u001b[A\n",
      " 41%|████▏     | 496/1200 [02:25<03:22,  3.48it/s]"
     ]
    },
    {
     "name": "stdout",
     "output_type": "stream",
     "text": [
      "right_fitx[-1], left_fitx[-1\n",
      "1345.94010833 311.711554435\n"
     ]
    },
    {
     "name": "stderr",
     "output_type": "stream",
     "text": [
      "\u001b[A\n",
      " 41%|████▏     | 497/1200 [02:25<03:27,  3.39it/s]"
     ]
    },
    {
     "name": "stdout",
     "output_type": "stream",
     "text": [
      "right_fitx[-1], left_fitx[-1\n",
      "1339.14578986 253.745279614\n"
     ]
    },
    {
     "name": "stderr",
     "output_type": "stream",
     "text": [
      "\u001b[A\n",
      " 42%|████▏     | 498/1200 [02:26<03:30,  3.34it/s]"
     ]
    },
    {
     "name": "stdout",
     "output_type": "stream",
     "text": [
      "right_fitx[-1], left_fitx[-1\n",
      "1338.02350169 323.692078746\n"
     ]
    },
    {
     "name": "stderr",
     "output_type": "stream",
     "text": [
      "\u001b[A\n",
      " 42%|████▏     | 499/1200 [02:26<03:26,  3.39it/s]"
     ]
    },
    {
     "name": "stdout",
     "output_type": "stream",
     "text": [
      "right_fitx[-1], left_fitx[-1\n",
      "1329.21363017 336.956631104\n"
     ]
    },
    {
     "name": "stderr",
     "output_type": "stream",
     "text": [
      "\u001b[A\n",
      " 42%|████▏     | 500/1200 [02:26<03:22,  3.46it/s]"
     ]
    },
    {
     "name": "stdout",
     "output_type": "stream",
     "text": [
      "right_fitx[-1], left_fitx[-1\n",
      "1315.5426823 237.773868765\n"
     ]
    },
    {
     "name": "stderr",
     "output_type": "stream",
     "text": [
      "\u001b[A\n",
      " 42%|████▏     | 501/1200 [02:26<03:18,  3.53it/s]"
     ]
    },
    {
     "name": "stdout",
     "output_type": "stream",
     "text": [
      "right_fitx[-1], left_fitx[-1\n",
      "1320.68414165 294.472314441\n"
     ]
    },
    {
     "name": "stderr",
     "output_type": "stream",
     "text": [
      "\u001b[A\n",
      " 42%|████▏     | 502/1200 [02:27<03:14,  3.59it/s]"
     ]
    },
    {
     "name": "stdout",
     "output_type": "stream",
     "text": [
      "right_fitx[-1], left_fitx[-1\n",
      "1303.51297596 280.962631323\n"
     ]
    },
    {
     "name": "stderr",
     "output_type": "stream",
     "text": [
      "\u001b[A\n",
      " 42%|████▏     | 503/1200 [02:27<03:12,  3.62it/s]"
     ]
    },
    {
     "name": "stdout",
     "output_type": "stream",
     "text": [
      "right_fitx[-1], left_fitx[-1\n",
      "1301.85965206 341.706881521\n"
     ]
    },
    {
     "name": "stderr",
     "output_type": "stream",
     "text": [
      "\u001b[A\n",
      " 42%|████▏     | 504/1200 [02:27<03:11,  3.64it/s]"
     ]
    },
    {
     "name": "stdout",
     "output_type": "stream",
     "text": [
      "right_fitx[-1], left_fitx[-1\n",
      "1301.25296072 250.981708014\n"
     ]
    },
    {
     "name": "stderr",
     "output_type": "stream",
     "text": [
      "\u001b[A\n",
      " 42%|████▏     | 505/1200 [02:27<03:10,  3.65it/s]"
     ]
    },
    {
     "name": "stdout",
     "output_type": "stream",
     "text": [
      "right_fitx[-1], left_fitx[-1\n",
      "1295.67989101 256.817851041\n"
     ]
    },
    {
     "name": "stderr",
     "output_type": "stream",
     "text": [
      "\u001b[A\n",
      " 42%|████▏     | 506/1200 [02:28<03:08,  3.68it/s]"
     ]
    },
    {
     "name": "stdout",
     "output_type": "stream",
     "text": [
      "right_fitx[-1], left_fitx[-1\n",
      "1290.11606946 346.742460762\n"
     ]
    },
    {
     "name": "stderr",
     "output_type": "stream",
     "text": [
      "\u001b[A\n",
      " 42%|████▏     | 507/1200 [02:28<03:05,  3.73it/s]"
     ]
    },
    {
     "name": "stdout",
     "output_type": "stream",
     "text": [
      "right_fitx[-1], left_fitx[-1\n",
      "1287.73424816 271.740869457\n"
     ]
    },
    {
     "name": "stderr",
     "output_type": "stream",
     "text": [
      "\u001b[A\n",
      " 42%|████▏     | 508/1200 [02:28<03:05,  3.73it/s]"
     ]
    },
    {
     "name": "stdout",
     "output_type": "stream",
     "text": [
      "right_fitx[-1], left_fitx[-1\n",
      "1286.97066913 226.766255811\n"
     ]
    },
    {
     "name": "stderr",
     "output_type": "stream",
     "text": [
      "\u001b[A\n",
      " 42%|████▏     | 509/1200 [02:29<03:05,  3.72it/s]"
     ]
    },
    {
     "name": "stdout",
     "output_type": "stream",
     "text": [
      "right_fitx[-1], left_fitx[-1\n",
      "1285.11143841 188.978144513\n"
     ]
    },
    {
     "name": "stderr",
     "output_type": "stream",
     "text": [
      "\u001b[A\n",
      " 42%|████▎     | 510/1200 [02:29<03:05,  3.72it/s]"
     ]
    },
    {
     "name": "stdout",
     "output_type": "stream",
     "text": [
      "right_fitx[-1], left_fitx[-1\n",
      "1283.86116736 310.213172122\n"
     ]
    },
    {
     "name": "stderr",
     "output_type": "stream",
     "text": [
      "\u001b[A\n",
      " 43%|████▎     | 511/1200 [02:29<03:05,  3.72it/s]"
     ]
    },
    {
     "name": "stdout",
     "output_type": "stream",
     "text": [
      "right_fitx[-1], left_fitx[-1\n",
      "1293.66630705 352.323748295\n"
     ]
    },
    {
     "name": "stderr",
     "output_type": "stream",
     "text": [
      "\u001b[A\n",
      " 43%|████▎     | 512/1200 [02:29<03:05,  3.71it/s]"
     ]
    },
    {
     "name": "stdout",
     "output_type": "stream",
     "text": [
      "left_curverad, right_curverad\n",
      "768.798873008 184.414149358\n"
     ]
    },
    {
     "name": "stderr",
     "output_type": "stream",
     "text": [
      "\u001b[A\n",
      " 43%|████▎     | 513/1200 [02:30<03:03,  3.74it/s]"
     ]
    },
    {
     "name": "stdout",
     "output_type": "stream",
     "text": [
      "right_fitx[-1], left_fitx[-1\n",
      "1272.6873183 242.710834775\n"
     ]
    },
    {
     "name": "stderr",
     "output_type": "stream",
     "text": [
      "\u001b[A\n",
      " 43%|████▎     | 514/1200 [02:30<03:04,  3.72it/s]"
     ]
    },
    {
     "name": "stdout",
     "output_type": "stream",
     "text": [
      "right_fitx[-1], left_fitx[-1\n",
      "1284.35879294 259.739608998\n"
     ]
    },
    {
     "name": "stderr",
     "output_type": "stream",
     "text": [
      "\u001b[A\n",
      " 43%|████▎     | 515/1200 [02:30<03:08,  3.64it/s]"
     ]
    },
    {
     "name": "stdout",
     "output_type": "stream",
     "text": [
      "left_curverad, right_curverad\n",
      "1230.30957255 238.094737513\n"
     ]
    },
    {
     "name": "stderr",
     "output_type": "stream",
     "text": [
      "\u001b[A\n",
      " 43%|████▎     | 516/1200 [02:30<03:13,  3.54it/s]"
     ]
    },
    {
     "name": "stdout",
     "output_type": "stream",
     "text": [
      "right_fitx[-1], left_fitx[-1\n",
      "1279.15758985 241.140855013\n"
     ]
    },
    {
     "name": "stderr",
     "output_type": "stream",
     "text": [
      "\u001b[A\n",
      " 43%|████▎     | 517/1200 [02:31<03:13,  3.53it/s]"
     ]
    },
    {
     "name": "stdout",
     "output_type": "stream",
     "text": [
      "right_fitx[-1], left_fitx[-1\n",
      "1313.96719957 227.809932605\n"
     ]
    },
    {
     "name": "stderr",
     "output_type": "stream",
     "text": [
      "\u001b[A\n",
      " 43%|████▎     | 518/1200 [02:31<03:09,  3.60it/s]"
     ]
    },
    {
     "name": "stdout",
     "output_type": "stream",
     "text": [
      "right_fitx[-1], left_fitx[-1\n",
      "1358.84830461 230.767870834\n"
     ]
    },
    {
     "name": "stderr",
     "output_type": "stream",
     "text": [
      "\u001b[A\n",
      " 43%|████▎     | 519/1200 [02:31<03:04,  3.69it/s]"
     ]
    },
    {
     "name": "stdout",
     "output_type": "stream",
     "text": [
      "right_fitx[-1], left_fitx[-1\n",
      "1294.35463616 222.663115526\n"
     ]
    },
    {
     "name": "stderr",
     "output_type": "stream",
     "text": [
      "\u001b[A\n",
      " 43%|████▎     | 520/1200 [02:32<03:25,  3.30it/s]\u001b[A\n",
      " 43%|████▎     | 521/1200 [02:32<03:43,  3.03it/s]\u001b[A\n",
      " 44%|████▎     | 522/1200 [02:32<03:33,  3.17it/s]\u001b[A\n",
      " 44%|████▎     | 523/1200 [02:33<03:23,  3.33it/s]\u001b[A\n",
      " 44%|████▎     | 524/1200 [02:33<03:17,  3.43it/s]\u001b[A\n",
      " 44%|████▍     | 525/1200 [02:33<03:14,  3.47it/s]\u001b[A\n",
      " 44%|████▍     | 526/1200 [02:33<03:07,  3.60it/s]\u001b[A\n",
      " 44%|████▍     | 527/1200 [02:34<03:02,  3.69it/s]\u001b[A\n",
      " 44%|████▍     | 528/1200 [02:34<02:58,  3.77it/s]\u001b[A\n",
      " 44%|████▍     | 529/1200 [02:34<02:55,  3.83it/s]\u001b[A\n",
      " 44%|████▍     | 530/1200 [02:34<02:53,  3.86it/s]\u001b[A\n",
      " 44%|████▍     | 531/1200 [02:35<02:51,  3.90it/s]\u001b[A\n",
      " 44%|████▍     | 532/1200 [02:35<02:51,  3.91it/s]\u001b[A\n",
      " 44%|████▍     | 533/1200 [02:35<02:48,  3.96it/s]\u001b[A\n",
      " 44%|████▍     | 534/1200 [02:35<02:46,  4.00it/s]\u001b[A\n",
      " 45%|████▍     | 535/1200 [02:36<02:45,  4.02it/s]\u001b[A\n",
      " 45%|████▍     | 536/1200 [02:36<02:44,  4.03it/s]\u001b[A\n",
      " 45%|████▍     | 537/1200 [02:36<02:43,  4.04it/s]\u001b[A\n",
      " 45%|████▍     | 538/1200 [02:36<02:43,  4.05it/s]\u001b[A\n",
      " 45%|████▍     | 539/1200 [02:37<02:43,  4.04it/s]\u001b[A\n",
      " 45%|████▌     | 540/1200 [02:37<02:42,  4.06it/s]\u001b[A\n",
      " 45%|████▌     | 541/1200 [02:37<02:41,  4.08it/s]"
     ]
    },
    {
     "name": "stdout",
     "output_type": "stream",
     "text": [
      "left_curverad, right_curverad\n",
      "8122.51327568 451.727040896\n"
     ]
    },
    {
     "name": "stderr",
     "output_type": "stream",
     "text": [
      "\u001b[A\n",
      " 45%|████▌     | 542/1200 [02:37<02:40,  4.09it/s]"
     ]
    },
    {
     "name": "stdout",
     "output_type": "stream",
     "text": [
      "left_curverad, right_curverad\n",
      "2399.92761778 497.315366059\n"
     ]
    },
    {
     "name": "stderr",
     "output_type": "stream",
     "text": [
      "\u001b[A\n",
      " 45%|████▌     | 543/1200 [02:38<02:41,  4.08it/s]"
     ]
    },
    {
     "name": "stdout",
     "output_type": "stream",
     "text": [
      "left_curverad, right_curverad\n",
      "2567.26254718 536.880431625\n"
     ]
    },
    {
     "name": "stderr",
     "output_type": "stream",
     "text": [
      "\u001b[A\n",
      " 45%|████▌     | 544/1200 [02:38<02:42,  4.04it/s]"
     ]
    },
    {
     "name": "stdout",
     "output_type": "stream",
     "text": [
      "left_curverad, right_curverad\n",
      "13590.0707877 561.852561115\n"
     ]
    },
    {
     "name": "stderr",
     "output_type": "stream",
     "text": [
      "\u001b[A\n",
      " 45%|████▌     | 545/1200 [02:38<02:44,  3.97it/s]"
     ]
    },
    {
     "name": "stdout",
     "output_type": "stream",
     "text": [
      "left_curverad, right_curverad\n",
      "2844.26520064 600.005596316\n"
     ]
    },
    {
     "name": "stderr",
     "output_type": "stream",
     "text": [
      "\u001b[A\n",
      " 46%|████▌     | 546/1200 [02:38<02:44,  3.96it/s]\u001b[A\n",
      " 46%|████▌     | 547/1200 [02:39<02:44,  3.97it/s]"
     ]
    },
    {
     "name": "stdout",
     "output_type": "stream",
     "text": [
      "left_curverad, right_curverad\n",
      "3302.60474151 636.367102101\n"
     ]
    },
    {
     "name": "stderr",
     "output_type": "stream",
     "text": [
      "\u001b[A\n",
      " 46%|████▌     | 548/1200 [02:39<02:43,  3.98it/s]"
     ]
    },
    {
     "name": "stdout",
     "output_type": "stream",
     "text": [
      "left_curverad, right_curverad\n",
      "9755.83361647 666.333072342\n"
     ]
    },
    {
     "name": "stderr",
     "output_type": "stream",
     "text": [
      "\u001b[A\n",
      " 46%|████▌     | 549/1200 [02:39<02:44,  3.96it/s]"
     ]
    },
    {
     "name": "stdout",
     "output_type": "stream",
     "text": [
      "left_curverad, right_curverad\n",
      "5169.0666776 708.285852821\n"
     ]
    },
    {
     "name": "stderr",
     "output_type": "stream",
     "text": [
      "\u001b[A\n",
      " 46%|████▌     | 550/1200 [02:39<02:47,  3.87it/s]"
     ]
    },
    {
     "name": "stdout",
     "output_type": "stream",
     "text": [
      "left_curverad, right_curverad\n",
      "8044.31525952 740.898330802\n"
     ]
    },
    {
     "name": "stderr",
     "output_type": "stream",
     "text": [
      "\u001b[A\n",
      " 46%|████▌     | 551/1200 [02:40<02:46,  3.90it/s]"
     ]
    },
    {
     "name": "stdout",
     "output_type": "stream",
     "text": [
      "left_curverad, right_curverad\n",
      "4173.06990141 845.341488098\n"
     ]
    },
    {
     "name": "stderr",
     "output_type": "stream",
     "text": [
      "\u001b[A\n",
      " 46%|████▌     | 552/1200 [02:40<02:46,  3.89it/s]\u001b[A\n",
      " 46%|████▌     | 553/1200 [02:40<02:46,  3.90it/s]\u001b[A\n",
      " 46%|████▌     | 554/1200 [02:40<02:44,  3.92it/s]"
     ]
    },
    {
     "name": "stdout",
     "output_type": "stream",
     "text": [
      "upper, lower\n",
      "689.515584203 617.451646413\n"
     ]
    },
    {
     "name": "stderr",
     "output_type": "stream",
     "text": [
      "\u001b[A\n",
      " 46%|████▋     | 555/1200 [02:41<02:43,  3.94it/s]"
     ]
    },
    {
     "name": "stdout",
     "output_type": "stream",
     "text": [
      "upper, lower\n",
      "734.842196301 616.223620795\n"
     ]
    },
    {
     "name": "stderr",
     "output_type": "stream",
     "text": [
      "\u001b[A\n",
      " 46%|████▋     | 556/1200 [02:41<02:42,  3.97it/s]"
     ]
    },
    {
     "name": "stdout",
     "output_type": "stream",
     "text": [
      "upper, lower\n",
      "796.578829673 616.492978395\n"
     ]
    },
    {
     "name": "stderr",
     "output_type": "stream",
     "text": [
      "\u001b[A\n",
      " 46%|████▋     | 557/1200 [02:41<02:41,  3.98it/s]"
     ]
    },
    {
     "name": "stdout",
     "output_type": "stream",
     "text": [
      "upper, lower\n",
      "857.949872785 612.636127638\n"
     ]
    },
    {
     "name": "stderr",
     "output_type": "stream",
     "text": [
      "\u001b[A\n",
      " 46%|████▋     | 558/1200 [02:41<02:40,  4.00it/s]"
     ]
    },
    {
     "name": "stdout",
     "output_type": "stream",
     "text": [
      "upper, lower\n",
      "786.202300496 612.797227524\n"
     ]
    },
    {
     "name": "stderr",
     "output_type": "stream",
     "text": [
      "\u001b[A\n",
      " 47%|████▋     | 559/1200 [02:42<02:40,  4.00it/s]"
     ]
    },
    {
     "name": "stdout",
     "output_type": "stream",
     "text": [
      "upper, lower\n",
      "836.586378081 610.571678423\n"
     ]
    },
    {
     "name": "stderr",
     "output_type": "stream",
     "text": [
      "\u001b[A\n",
      " 47%|████▋     | 560/1200 [02:42<02:38,  4.04it/s]"
     ]
    },
    {
     "name": "stdout",
     "output_type": "stream",
     "text": [
      "upper, lower\n",
      "1007.5455644 610.041305185\n"
     ]
    },
    {
     "name": "stderr",
     "output_type": "stream",
     "text": [
      "\u001b[A\n",
      " 47%|████▋     | 561/1200 [02:42<02:37,  4.05it/s]"
     ]
    },
    {
     "name": "stdout",
     "output_type": "stream",
     "text": [
      "upper, lower\n",
      "1476.188131 609.430560247\n"
     ]
    },
    {
     "name": "stderr",
     "output_type": "stream",
     "text": [
      "\u001b[A\n",
      " 47%|████▋     | 562/1200 [02:42<02:38,  4.04it/s]"
     ]
    },
    {
     "name": "stdout",
     "output_type": "stream",
     "text": [
      "upper, lower\n",
      "1484.39235018 610.542569324\n"
     ]
    },
    {
     "name": "stderr",
     "output_type": "stream",
     "text": [
      "\u001b[A\n",
      " 47%|████▋     | 563/1200 [02:43<02:38,  4.02it/s]"
     ]
    },
    {
     "name": "stdout",
     "output_type": "stream",
     "text": [
      "upper, lower\n",
      "3131.50513106 615.026777011\n"
     ]
    },
    {
     "name": "stderr",
     "output_type": "stream",
     "text": [
      "\u001b[A\n",
      " 47%|████▋     | 564/1200 [02:43<02:39,  3.99it/s]"
     ]
    },
    {
     "name": "stdout",
     "output_type": "stream",
     "text": [
      "upper, lower\n",
      "3437.48588924 607.878117106\n"
     ]
    },
    {
     "name": "stderr",
     "output_type": "stream",
     "text": [
      "\u001b[A\n",
      " 47%|████▋     | 565/1200 [02:43<02:36,  4.06it/s]"
     ]
    },
    {
     "name": "stdout",
     "output_type": "stream",
     "text": [
      "upper, lower\n",
      "2611.70456497 602.825953145\n"
     ]
    },
    {
     "name": "stderr",
     "output_type": "stream",
     "text": [
      "\u001b[A\n",
      " 47%|████▋     | 566/1200 [02:43<02:34,  4.10it/s]\u001b[A\n",
      " 47%|████▋     | 567/1200 [02:44<02:34,  4.10it/s]\u001b[A\n",
      " 47%|████▋     | 568/1200 [02:44<02:37,  4.01it/s]"
     ]
    },
    {
     "name": "stdout",
     "output_type": "stream",
     "text": [
      "upper, lower\n",
      "1622.59939348 593.079690977\n"
     ]
    },
    {
     "name": "stderr",
     "output_type": "stream",
     "text": [
      "\u001b[A\n",
      " 47%|████▋     | 569/1200 [02:44<02:44,  3.84it/s]\u001b[A\n",
      " 48%|████▊     | 570/1200 [02:44<02:46,  3.77it/s]"
     ]
    },
    {
     "name": "stdout",
     "output_type": "stream",
     "text": [
      "upper, lower\n",
      "3589.94068216 614.86728283\n"
     ]
    },
    {
     "name": "stderr",
     "output_type": "stream",
     "text": [
      "\u001b[A\n",
      " 48%|████▊     | 571/1200 [02:45<02:42,  3.86it/s]"
     ]
    },
    {
     "name": "stdout",
     "output_type": "stream",
     "text": [
      "upper, lower\n",
      "1654.74153085 607.767824387\n"
     ]
    },
    {
     "name": "stderr",
     "output_type": "stream",
     "text": [
      "\u001b[A\n",
      " 48%|████▊     | 572/1200 [02:45<02:39,  3.95it/s]"
     ]
    },
    {
     "name": "stdout",
     "output_type": "stream",
     "text": [
      "upper, lower\n",
      "4503.60958026 612.086001714\n"
     ]
    },
    {
     "name": "stderr",
     "output_type": "stream",
     "text": [
      "\u001b[A\n",
      " 48%|████▊     | 573/1200 [02:45<02:37,  3.97it/s]"
     ]
    },
    {
     "name": "stdout",
     "output_type": "stream",
     "text": [
      "upper, lower\n",
      "14037.4699178 688.356154754\n"
     ]
    },
    {
     "name": "stderr",
     "output_type": "stream",
     "text": [
      "\u001b[A\n",
      " 48%|████▊     | 574/1200 [02:45<02:34,  4.04it/s]"
     ]
    },
    {
     "name": "stdout",
     "output_type": "stream",
     "text": [
      "upper, lower\n",
      "18052.0945645 674.3189797\n"
     ]
    },
    {
     "name": "stderr",
     "output_type": "stream",
     "text": [
      "\u001b[A\n",
      " 48%|████▊     | 575/1200 [02:46<02:35,  4.01it/s]\u001b[A\n",
      " 48%|████▊     | 576/1200 [02:46<02:33,  4.06it/s]\u001b[A\n",
      " 48%|████▊     | 577/1200 [02:46<02:32,  4.09it/s]"
     ]
    },
    {
     "name": "stdout",
     "output_type": "stream",
     "text": [
      "upper, lower\n",
      "17720.6989138 688.733364285\n"
     ]
    },
    {
     "name": "stderr",
     "output_type": "stream",
     "text": [
      "\u001b[A\n",
      " 48%|████▊     | 578/1200 [02:46<02:31,  4.12it/s]"
     ]
    },
    {
     "name": "stdout",
     "output_type": "stream",
     "text": [
      "upper, lower\n",
      "17087.1205504 654.77078211\n"
     ]
    },
    {
     "name": "stderr",
     "output_type": "stream",
     "text": [
      "\u001b[A\n",
      " 48%|████▊     | 579/1200 [02:47<02:29,  4.15it/s]\u001b[A\n",
      " 48%|████▊     | 580/1200 [02:47<02:30,  4.13it/s]\u001b[A\n",
      " 48%|████▊     | 581/1200 [02:47<02:28,  4.17it/s]\u001b[A\n",
      " 48%|████▊     | 582/1200 [02:47<02:28,  4.17it/s]\u001b[A\n",
      " 49%|████▊     | 583/1200 [02:48<02:28,  4.16it/s]\u001b[A\n",
      " 49%|████▊     | 584/1200 [02:48<02:28,  4.16it/s]\u001b[A\n",
      " 49%|████▉     | 585/1200 [02:48<02:29,  4.11it/s]\u001b[A\n",
      " 49%|████▉     | 586/1200 [02:48<02:28,  4.13it/s]\u001b[A\n",
      " 49%|████▉     | 587/1200 [02:49<02:27,  4.16it/s]\u001b[A\n",
      " 49%|████▉     | 588/1200 [02:49<02:26,  4.19it/s]\u001b[A\n",
      " 49%|████▉     | 589/1200 [02:49<02:25,  4.21it/s]"
     ]
    },
    {
     "name": "stdout",
     "output_type": "stream",
     "text": [
      "left_curverad, right_curverad\n",
      "17897.0037275 1530.20798677\n"
     ]
    },
    {
     "name": "stderr",
     "output_type": "stream",
     "text": [
      "\u001b[A\n",
      " 49%|████▉     | 590/1200 [02:49<02:19,  4.38it/s]\u001b[A\n",
      " 49%|████▉     | 591/1200 [02:49<02:15,  4.48it/s]\u001b[A\n",
      " 49%|████▉     | 592/1200 [02:50<02:13,  4.56it/s]\u001b[A\n",
      " 49%|████▉     | 593/1200 [02:50<02:17,  4.40it/s]\u001b[A\n",
      " 50%|████▉     | 594/1200 [02:50<02:19,  4.33it/s]"
     ]
    },
    {
     "name": "stdout",
     "output_type": "stream",
     "text": [
      "upper, lower\n",
      "-278971.251753 -59.6662360956\n"
     ]
    },
    {
     "name": "stderr",
     "output_type": "stream",
     "text": [
      "\u001b[A\n",
      " 50%|████▉     | 595/1200 [02:50<02:20,  4.30it/s]"
     ]
    },
    {
     "name": "stdout",
     "output_type": "stream",
     "text": [
      "upper, lower\n",
      "-21966.8059275 -11.8568345526\n"
     ]
    },
    {
     "name": "stderr",
     "output_type": "stream",
     "text": [
      "\u001b[A\n",
      " 50%|████▉     | 596/1200 [02:51<02:21,  4.27it/s]\u001b[A\n",
      " 50%|████▉     | 597/1200 [02:51<02:21,  4.27it/s]"
     ]
    },
    {
     "name": "stdout",
     "output_type": "stream",
     "text": [
      "upper, lower\n",
      "-44970.3816343 -10.7820187248\n"
     ]
    },
    {
     "name": "stderr",
     "output_type": "stream",
     "text": [
      "\u001b[A\n",
      " 50%|████▉     | 598/1200 [02:51<02:20,  4.28it/s]\u001b[A\n",
      " 50%|████▉     | 599/1200 [02:51<02:20,  4.27it/s]"
     ]
    },
    {
     "name": "stdout",
     "output_type": "stream",
     "text": [
      "upper, lower\n",
      "3441.16594125 6.5535912258\n"
     ]
    },
    {
     "name": "stderr",
     "output_type": "stream",
     "text": [
      "\u001b[A\n",
      " 50%|█████     | 600/1200 [02:52<02:20,  4.28it/s]"
     ]
    },
    {
     "name": "stdout",
     "output_type": "stream",
     "text": [
      "left_curverad, right_curverad\n",
      "79.4487497348 6.01015792921\n"
     ]
    },
    {
     "name": "stderr",
     "output_type": "stream",
     "text": [
      "\u001b[A\n",
      " 50%|█████     | 601/1200 [02:52<02:15,  4.41it/s]\u001b[A\n",
      " 50%|█████     | 602/1200 [02:52<02:13,  4.49it/s]\u001b[A\n",
      " 50%|█████     | 603/1200 [02:52<02:10,  4.58it/s]\u001b[A\n",
      " 50%|█████     | 604/1200 [02:52<02:08,  4.62it/s]\u001b[A\n",
      " 50%|█████     | 605/1200 [02:53<02:07,  4.66it/s]\u001b[A\n",
      " 50%|█████     | 606/1200 [02:53<02:06,  4.71it/s]\u001b[A\n",
      " 51%|█████     | 607/1200 [02:53<02:07,  4.65it/s]\u001b[A\n",
      " 51%|█████     | 608/1200 [02:53<02:06,  4.68it/s]\u001b[A\n",
      " 51%|█████     | 609/1200 [02:53<02:07,  4.64it/s]\u001b[A\n",
      " 51%|█████     | 610/1200 [02:54<02:09,  4.57it/s]\u001b[A\n",
      " 51%|█████     | 611/1200 [02:54<02:15,  4.36it/s]\u001b[A\n",
      " 51%|█████     | 612/1200 [02:54<02:30,  3.92it/s]"
     ]
    },
    {
     "name": "stdout",
     "output_type": "stream",
     "text": [
      "upper, lower\n",
      "-57286.7467394 -3496.98179494\n"
     ]
    },
    {
     "name": "stderr",
     "output_type": "stream",
     "text": [
      "\u001b[A\n",
      " 51%|█████     | 613/1200 [02:55<02:34,  3.81it/s]"
     ]
    },
    {
     "name": "stdout",
     "output_type": "stream",
     "text": [
      "upper, lower\n",
      "995.487818211 374.834140529\n"
     ]
    },
    {
     "name": "stderr",
     "output_type": "stream",
     "text": [
      "\u001b[A\n",
      " 51%|█████     | 614/1200 [02:55<02:33,  3.83it/s]"
     ]
    },
    {
     "name": "stdout",
     "output_type": "stream",
     "text": [
      "right_fitx[-1], left_fitx[-1\n",
      "858.962926484 -553.590891546\n"
     ]
    },
    {
     "name": "stderr",
     "output_type": "stream",
     "text": [
      "\u001b[A\n",
      " 51%|█████▏    | 615/1200 [02:55<02:31,  3.85it/s]"
     ]
    },
    {
     "name": "stdout",
     "output_type": "stream",
     "text": [
      "upper, lower\n",
      "-27054.0109631 -682.67584782\n"
     ]
    },
    {
     "name": "stderr",
     "output_type": "stream",
     "text": [
      "\u001b[A\n",
      " 51%|█████▏    | 616/1200 [02:55<02:30,  3.88it/s]"
     ]
    },
    {
     "name": "stdout",
     "output_type": "stream",
     "text": [
      "upper, lower\n",
      "-50998.5070707 -959.98234468\n"
     ]
    },
    {
     "name": "stderr",
     "output_type": "stream",
     "text": [
      "\u001b[A\n",
      " 51%|█████▏    | 617/1200 [02:56<02:29,  3.89it/s]"
     ]
    },
    {
     "name": "stdout",
     "output_type": "stream",
     "text": [
      "upper, lower\n",
      "-42745.6674705 -403.101438808\n"
     ]
    },
    {
     "name": "stderr",
     "output_type": "stream",
     "text": [
      "\u001b[A\n",
      " 52%|█████▏    | 618/1200 [02:56<02:29,  3.89it/s]"
     ]
    },
    {
     "name": "stdout",
     "output_type": "stream",
     "text": [
      "upper, lower\n",
      "-77812.1426665 -468.336054276\n"
     ]
    },
    {
     "name": "stderr",
     "output_type": "stream",
     "text": [
      "\u001b[A\n",
      " 52%|█████▏    | 619/1200 [02:56<02:30,  3.86it/s]\u001b[A\n",
      " 52%|█████▏    | 620/1200 [02:56<02:30,  3.85it/s]\u001b[A\n",
      " 52%|█████▏    | 621/1200 [02:57<02:31,  3.83it/s]"
     ]
    },
    {
     "name": "stdout",
     "output_type": "stream",
     "text": [
      "upper, lower\n",
      "668.707387584 599.203033178\n"
     ]
    },
    {
     "name": "stderr",
     "output_type": "stream",
     "text": [
      "\u001b[A\n",
      " 52%|█████▏    | 622/1200 [02:57<02:33,  3.76it/s]"
     ]
    },
    {
     "name": "stdout",
     "output_type": "stream",
     "text": [
      "upper, lower\n",
      "683.801290868 593.64778196\n"
     ]
    },
    {
     "name": "stderr",
     "output_type": "stream",
     "text": [
      "\u001b[A\n",
      " 52%|█████▏    | 623/1200 [02:57<02:37,  3.67it/s]"
     ]
    },
    {
     "name": "stdout",
     "output_type": "stream",
     "text": [
      "upper, lower\n",
      "662.66308854 579.322105759\n"
     ]
    },
    {
     "name": "stderr",
     "output_type": "stream",
     "text": [
      "\u001b[A\n",
      " 52%|█████▏    | 624/1200 [02:57<02:40,  3.59it/s]"
     ]
    },
    {
     "name": "stdout",
     "output_type": "stream",
     "text": [
      "upper, lower\n",
      "605.621076833 516.03830722\n"
     ]
    },
    {
     "name": "stderr",
     "output_type": "stream",
     "text": [
      "\u001b[A\n",
      " 52%|█████▏    | 625/1200 [02:58<02:40,  3.58it/s]"
     ]
    },
    {
     "name": "stdout",
     "output_type": "stream",
     "text": [
      "upper, lower\n",
      "609.754092135 544.773393847\n"
     ]
    },
    {
     "name": "stderr",
     "output_type": "stream",
     "text": [
      "\u001b[A\n",
      " 52%|█████▏    | 626/1200 [02:58<02:40,  3.58it/s]"
     ]
    },
    {
     "name": "stdout",
     "output_type": "stream",
     "text": [
      "upper, lower\n",
      "628.677051039 553.711277919\n"
     ]
    },
    {
     "name": "stderr",
     "output_type": "stream",
     "text": [
      "\u001b[A\n",
      " 52%|█████▏    | 627/1200 [02:58<02:39,  3.59it/s]"
     ]
    },
    {
     "name": "stdout",
     "output_type": "stream",
     "text": [
      "right_fitx[-1], left_fitx[-1\n",
      "1180.54779806 357.532880375\n"
     ]
    },
    {
     "name": "stderr",
     "output_type": "stream",
     "text": [
      "\u001b[A\n",
      " 52%|█████▏    | 628/1200 [02:59<02:39,  3.59it/s]"
     ]
    },
    {
     "name": "stdout",
     "output_type": "stream",
     "text": [
      "right_fitx[-1], left_fitx[-1\n",
      "1178.2620525 254.631745826\n"
     ]
    },
    {
     "name": "stderr",
     "output_type": "stream",
     "text": [
      "\u001b[A\n",
      " 52%|█████▏    | 629/1200 [02:59<02:39,  3.59it/s]"
     ]
    },
    {
     "name": "stdout",
     "output_type": "stream",
     "text": [
      "right_fitx[-1], left_fitx[-1\n",
      "1183.05734977 292.483024023\n"
     ]
    },
    {
     "name": "stderr",
     "output_type": "stream",
     "text": [
      "\u001b[A\n",
      " 52%|█████▎    | 630/1200 [02:59<02:40,  3.56it/s]"
     ]
    },
    {
     "name": "stdout",
     "output_type": "stream",
     "text": [
      "right_fitx[-1], left_fitx[-1\n",
      "1188.14753402 252.210135983\n"
     ]
    },
    {
     "name": "stderr",
     "output_type": "stream",
     "text": [
      "\u001b[A\n",
      " 53%|█████▎    | 631/1200 [02:59<02:41,  3.51it/s]"
     ]
    },
    {
     "name": "stdout",
     "output_type": "stream",
     "text": [
      "right_fitx[-1], left_fitx[-1\n",
      "1191.42154703 167.877002121\n"
     ]
    },
    {
     "name": "stderr",
     "output_type": "stream",
     "text": [
      "\u001b[A\n",
      " 53%|█████▎    | 632/1200 [03:00<02:42,  3.51it/s]"
     ]
    },
    {
     "name": "stdout",
     "output_type": "stream",
     "text": [
      "right_fitx[-1], left_fitx[-1\n",
      "1194.10324483 221.833022164\n"
     ]
    },
    {
     "name": "stderr",
     "output_type": "stream",
     "text": [
      "\u001b[A\n",
      " 53%|█████▎    | 633/1200 [03:00<02:41,  3.51it/s]"
     ]
    },
    {
     "name": "stdout",
     "output_type": "stream",
     "text": [
      "right_fitx[-1], left_fitx[-1\n",
      "1193.83029393 238.836823003\n"
     ]
    },
    {
     "name": "stderr",
     "output_type": "stream",
     "text": [
      "\u001b[A\n",
      " 53%|█████▎    | 634/1200 [03:00<02:39,  3.56it/s]"
     ]
    },
    {
     "name": "stdout",
     "output_type": "stream",
     "text": [
      "right_fitx[-1], left_fitx[-1\n",
      "1200.91592706 236.976274343\n"
     ]
    },
    {
     "name": "stderr",
     "output_type": "stream",
     "text": [
      "\u001b[A\n",
      " 53%|█████▎    | 635/1200 [03:01<02:38,  3.56it/s]"
     ]
    },
    {
     "name": "stdout",
     "output_type": "stream",
     "text": [
      "right_fitx[-1], left_fitx[-1\n",
      "1204.33392865 245.394987428\n"
     ]
    },
    {
     "name": "stderr",
     "output_type": "stream",
     "text": [
      "\u001b[A\n",
      " 53%|█████▎    | 636/1200 [03:01<02:40,  3.52it/s]"
     ]
    },
    {
     "name": "stdout",
     "output_type": "stream",
     "text": [
      "right_fitx[-1], left_fitx[-1\n",
      "1195.17283415 272.705886162\n"
     ]
    },
    {
     "name": "stderr",
     "output_type": "stream",
     "text": [
      "\u001b[A\n",
      " 53%|█████▎    | 637/1200 [03:01<02:41,  3.49it/s]"
     ]
    },
    {
     "name": "stdout",
     "output_type": "stream",
     "text": [
      "right_fitx[-1], left_fitx[-1\n",
      "1231.68055988 285.056841994\n"
     ]
    },
    {
     "name": "stderr",
     "output_type": "stream",
     "text": [
      "\u001b[A\n",
      " 53%|█████▎    | 638/1200 [03:01<02:43,  3.45it/s]"
     ]
    },
    {
     "name": "stdout",
     "output_type": "stream",
     "text": [
      "right_fitx[-1], left_fitx[-1\n",
      "1173.40935177 304.683148803\n"
     ]
    },
    {
     "name": "stderr",
     "output_type": "stream",
     "text": [
      "\u001b[A\n",
      " 53%|█████▎    | 639/1200 [03:02<02:44,  3.42it/s]"
     ]
    },
    {
     "name": "stdout",
     "output_type": "stream",
     "text": [
      "right_fitx[-1], left_fitx[-1\n",
      "1142.39644328 333.155621261\n"
     ]
    },
    {
     "name": "stderr",
     "output_type": "stream",
     "text": [
      "\u001b[A\n",
      " 53%|█████▎    | 640/1200 [03:02<02:45,  3.39it/s]"
     ]
    },
    {
     "name": "stdout",
     "output_type": "stream",
     "text": [
      "right_fitx[-1], left_fitx[-1\n",
      "1101.00148779 368.654267018\n"
     ]
    },
    {
     "name": "stderr",
     "output_type": "stream",
     "text": [
      "\u001b[A\n",
      " 53%|█████▎    | 641/1200 [03:02<02:46,  3.36it/s]\u001b[A\n",
      " 54%|█████▎    | 642/1200 [03:03<02:46,  3.34it/s]\u001b[A\n",
      " 54%|█████▎    | 643/1200 [03:03<02:49,  3.28it/s]\u001b[A\n",
      " 54%|█████▎    | 644/1200 [03:03<02:51,  3.25it/s]\u001b[A\n",
      " 54%|█████▍    | 645/1200 [03:04<02:52,  3.22it/s]\u001b[A\n",
      " 54%|█████▍    | 646/1200 [03:04<02:53,  3.20it/s]\u001b[A\n",
      " 54%|█████▍    | 647/1200 [03:04<02:52,  3.20it/s]\u001b[A\n",
      " 54%|█████▍    | 648/1200 [03:05<02:52,  3.20it/s]\u001b[A\n",
      " 54%|█████▍    | 649/1200 [03:05<02:52,  3.20it/s]\u001b[A\n",
      " 54%|█████▍    | 650/1200 [03:05<02:51,  3.20it/s]\u001b[A\n",
      " 54%|█████▍    | 651/1200 [03:06<02:51,  3.19it/s]\u001b[A\n",
      " 54%|█████▍    | 652/1200 [03:06<02:51,  3.20it/s]\u001b[A\n",
      " 54%|█████▍    | 653/1200 [03:06<02:50,  3.21it/s]\u001b[A\n",
      " 55%|█████▍    | 654/1200 [03:06<02:49,  3.22it/s]\u001b[A\n",
      " 55%|█████▍    | 655/1200 [03:07<02:47,  3.25it/s]\u001b[A\n",
      " 55%|█████▍    | 656/1200 [03:07<02:46,  3.27it/s]\u001b[A\n",
      " 55%|█████▍    | 657/1200 [03:07<02:46,  3.26it/s]\u001b[A\n",
      " 55%|█████▍    | 658/1200 [03:08<02:47,  3.23it/s]\u001b[A\n",
      " 55%|█████▍    | 659/1200 [03:08<02:49,  3.19it/s]\u001b[A\n",
      " 55%|█████▌    | 660/1200 [03:08<02:50,  3.17it/s]\u001b[A\n",
      " 55%|█████▌    | 661/1200 [03:09<02:51,  3.15it/s]\u001b[A\n",
      " 55%|█████▌    | 662/1200 [03:09<02:52,  3.12it/s]\u001b[A\n",
      " 55%|█████▌    | 663/1200 [03:09<02:54,  3.08it/s]\u001b[A\n",
      " 55%|█████▌    | 664/1200 [03:10<02:54,  3.07it/s]\u001b[A\n",
      " 55%|█████▌    | 665/1200 [03:10<02:54,  3.07it/s]\u001b[A\n",
      " 56%|█████▌    | 666/1200 [03:10<02:53,  3.08it/s]\u001b[A\n",
      " 56%|█████▌    | 667/1200 [03:11<02:51,  3.10it/s]\u001b[A\n",
      " 56%|█████▌    | 668/1200 [03:11<02:49,  3.14it/s]\u001b[A\n",
      " 56%|█████▌    | 669/1200 [03:11<02:47,  3.17it/s]\u001b[A\n",
      " 56%|█████▌    | 670/1200 [03:12<02:46,  3.17it/s]\u001b[A\n",
      " 56%|█████▌    | 671/1200 [03:12<02:45,  3.20it/s]\u001b[A\n",
      " 56%|█████▌    | 672/1200 [03:12<02:42,  3.25it/s]\u001b[A\n",
      " 56%|█████▌    | 673/1200 [03:12<02:42,  3.24it/s]\u001b[A\n",
      " 56%|█████▌    | 674/1200 [03:13<02:40,  3.27it/s]\u001b[A\n",
      " 56%|█████▋    | 675/1200 [03:13<02:40,  3.27it/s]\u001b[A\n",
      " 56%|█████▋    | 676/1200 [03:13<02:37,  3.32it/s]\u001b[A\n",
      " 56%|█████▋    | 677/1200 [03:14<02:37,  3.32it/s]\u001b[A\n",
      " 56%|█████▋    | 678/1200 [03:14<02:34,  3.37it/s]\u001b[A\n",
      " 57%|█████▋    | 679/1200 [03:14<02:35,  3.35it/s]\u001b[A\n",
      " 57%|█████▋    | 680/1200 [03:15<02:33,  3.39it/s]\u001b[A\n",
      " 57%|█████▋    | 681/1200 [03:15<02:32,  3.40it/s]\u001b[A\n",
      " 57%|█████▋    | 682/1200 [03:15<02:31,  3.43it/s]\u001b[A\n",
      " 57%|█████▋    | 683/1200 [03:15<02:28,  3.48it/s]\u001b[A\n",
      " 57%|█████▋    | 684/1200 [03:16<02:31,  3.40it/s]\u001b[A\n",
      " 57%|█████▋    | 685/1200 [03:16<02:34,  3.34it/s]\u001b[A\n",
      " 57%|█████▋    | 686/1200 [03:16<02:33,  3.35it/s]\u001b[A\n",
      " 57%|█████▋    | 687/1200 [03:17<02:31,  3.38it/s]\u001b[A\n",
      " 57%|█████▋    | 688/1200 [03:17<02:27,  3.47it/s]"
     ]
    },
    {
     "name": "stdout",
     "output_type": "stream",
     "text": [
      "upper, lower\n",
      "342.440670188 270.179484223\n"
     ]
    },
    {
     "name": "stderr",
     "output_type": "stream",
     "text": [
      "\u001b[A\n",
      " 57%|█████▋    | 689/1200 [03:17<02:24,  3.53it/s]"
     ]
    },
    {
     "name": "stdout",
     "output_type": "stream",
     "text": [
      "left_curverad, right_curverad\n",
      "987.957016038 102.405710786\n"
     ]
    },
    {
     "name": "stderr",
     "output_type": "stream",
     "text": [
      "\u001b[A\n",
      " 57%|█████▊    | 690/1200 [03:17<02:22,  3.59it/s]"
     ]
    },
    {
     "name": "stdout",
     "output_type": "stream",
     "text": [
      "upper, lower\n",
      "223.792949111 79.383159064\n"
     ]
    },
    {
     "name": "stderr",
     "output_type": "stream",
     "text": [
      "\u001b[A\n",
      " 58%|█████▊    | 691/1200 [03:18<02:22,  3.57it/s]\u001b[A\n",
      " 58%|█████▊    | 692/1200 [03:18<02:18,  3.67it/s]\u001b[A\n",
      " 58%|█████▊    | 693/1200 [03:18<02:15,  3.75it/s]\u001b[A\n",
      " 58%|█████▊    | 694/1200 [03:18<02:12,  3.83it/s]\u001b[A\n",
      " 58%|█████▊    | 695/1200 [03:19<02:10,  3.88it/s]\u001b[A\n",
      " 58%|█████▊    | 696/1200 [03:19<02:09,  3.90it/s]"
     ]
    },
    {
     "name": "stdout",
     "output_type": "stream",
     "text": [
      "left_curverad, right_curverad\n",
      "235.796706734 60.7655459202\n"
     ]
    },
    {
     "name": "stderr",
     "output_type": "stream",
     "text": [
      "\u001b[A\n",
      " 58%|█████▊    | 697/1200 [03:19<02:09,  3.89it/s]\u001b[A\n",
      " 58%|█████▊    | 698/1200 [03:19<02:09,  3.87it/s]\u001b[A\n",
      " 58%|█████▊    | 699/1200 [03:20<02:08,  3.90it/s]"
     ]
    },
    {
     "name": "stdout",
     "output_type": "stream",
     "text": [
      "upper, lower\n",
      "1022.50951537 384.188081675\n"
     ]
    },
    {
     "name": "stderr",
     "output_type": "stream",
     "text": [
      "\u001b[A\n",
      " 58%|█████▊    | 700/1200 [03:20<02:06,  3.95it/s]"
     ]
    },
    {
     "name": "stdout",
     "output_type": "stream",
     "text": [
      "upper, lower\n",
      "1359.9409393 382.863857089\n"
     ]
    },
    {
     "name": "stderr",
     "output_type": "stream",
     "text": [
      "\u001b[A\n",
      " 58%|█████▊    | 701/1200 [03:20<02:07,  3.93it/s]\u001b[A\n",
      " 58%|█████▊    | 702/1200 [03:20<02:07,  3.91it/s]\u001b[A\n",
      " 59%|█████▊    | 703/1200 [03:21<02:06,  3.93it/s]\u001b[A\n",
      " 59%|█████▊    | 704/1200 [03:21<02:03,  4.01it/s]"
     ]
    },
    {
     "name": "stdout",
     "output_type": "stream",
     "text": [
      "upper, lower\n",
      "918.851319584 433.676111221\n"
     ]
    },
    {
     "name": "stderr",
     "output_type": "stream",
     "text": [
      "\u001b[A\n",
      " 59%|█████▉    | 705/1200 [03:21<02:01,  4.09it/s]\u001b[A\n",
      " 59%|█████▉    | 706/1200 [03:21<02:00,  4.09it/s]"
     ]
    },
    {
     "name": "stdout",
     "output_type": "stream",
     "text": [
      "upper, lower\n",
      "-9805.50752641 -1585.69166494\n"
     ]
    },
    {
     "name": "stderr",
     "output_type": "stream",
     "text": [
      "\u001b[A\n",
      " 59%|█████▉    | 707/1200 [03:22<01:59,  4.13it/s]"
     ]
    },
    {
     "name": "stdout",
     "output_type": "stream",
     "text": [
      "upper, lower\n",
      "4690.82223776 686.866136544\n"
     ]
    },
    {
     "name": "stderr",
     "output_type": "stream",
     "text": [
      "\u001b[A\n",
      " 59%|█████▉    | 708/1200 [03:22<01:58,  4.14it/s]"
     ]
    },
    {
     "name": "stdout",
     "output_type": "stream",
     "text": [
      "upper, lower\n",
      "202659.989533 438.897472911\n"
     ]
    },
    {
     "name": "stderr",
     "output_type": "stream",
     "text": [
      "\u001b[A\n",
      " 59%|█████▉    | 709/1200 [03:22<01:57,  4.17it/s]"
     ]
    },
    {
     "name": "stdout",
     "output_type": "stream",
     "text": [
      "upper, lower\n",
      "10.9824943013 1.14052537878\n"
     ]
    },
    {
     "name": "stderr",
     "output_type": "stream",
     "text": [
      "\u001b[A\n",
      " 59%|█████▉    | 710/1200 [03:22<01:57,  4.16it/s]"
     ]
    },
    {
     "name": "stdout",
     "output_type": "stream",
     "text": [
      "right_fitx[-1], left_fitx[-1\n",
      "1444.95205651 636.503155308\n"
     ]
    },
    {
     "name": "stderr",
     "output_type": "stream",
     "text": [
      "\u001b[A\n",
      " 59%|█████▉    | 711/1200 [03:23<01:57,  4.16it/s]"
     ]
    },
    {
     "name": "stdout",
     "output_type": "stream",
     "text": [
      "right_fitx[-1], left_fitx[-1\n",
      "1428.36717916 670.020679076\n"
     ]
    },
    {
     "name": "stderr",
     "output_type": "stream",
     "text": [
      "\u001b[A\n",
      " 59%|█████▉    | 712/1200 [03:23<01:57,  4.15it/s]\u001b[A\n",
      " 59%|█████▉    | 713/1200 [03:23<01:57,  4.15it/s]"
     ]
    },
    {
     "name": "stdout",
     "output_type": "stream",
     "text": [
      "upper, lower\n",
      "216.789574231 189.76600787\n"
     ]
    },
    {
     "name": "stderr",
     "output_type": "stream",
     "text": [
      "\u001b[A\n",
      " 60%|█████▉    | 714/1200 [03:23<02:02,  3.97it/s]\u001b[A\n",
      " 60%|█████▉    | 715/1200 [03:24<02:11,  3.70it/s]"
     ]
    },
    {
     "name": "stdout",
     "output_type": "stream",
     "text": [
      "left_curverad, right_curverad\n",
      "3340.50306056 265.714397182\n"
     ]
    },
    {
     "name": "stderr",
     "output_type": "stream",
     "text": [
      "\u001b[A\n",
      " 60%|█████▉    | 716/1200 [03:24<02:11,  3.69it/s]"
     ]
    },
    {
     "name": "stdout",
     "output_type": "stream",
     "text": [
      "right_fitx[-1], left_fitx[-1\n",
      "1278.73272478 434.106439877\n"
     ]
    },
    {
     "name": "stderr",
     "output_type": "stream",
     "text": [
      "\u001b[A\n",
      " 60%|█████▉    | 717/1200 [03:24<02:12,  3.63it/s]"
     ]
    },
    {
     "name": "stdout",
     "output_type": "stream",
     "text": [
      "right_fitx[-1], left_fitx[-1\n",
      "1263.9218814 541.690356908\n"
     ]
    },
    {
     "name": "stderr",
     "output_type": "stream",
     "text": [
      "\u001b[A\n",
      " 60%|█████▉    | 718/1200 [03:25<02:14,  3.57it/s]"
     ]
    },
    {
     "name": "stdout",
     "output_type": "stream",
     "text": [
      "right_fitx[-1], left_fitx[-1\n",
      "1279.08146047 440.267402705\n"
     ]
    },
    {
     "name": "stderr",
     "output_type": "stream",
     "text": [
      "\u001b[A\n",
      " 60%|█████▉    | 719/1200 [03:25<02:13,  3.60it/s]"
     ]
    },
    {
     "name": "stdout",
     "output_type": "stream",
     "text": [
      "right_fitx[-1], left_fitx[-1\n",
      "1276.95751349 417.638421266\n"
     ]
    },
    {
     "name": "stderr",
     "output_type": "stream",
     "text": [
      "\u001b[A\n",
      " 60%|██████    | 720/1200 [03:25<02:14,  3.57it/s]"
     ]
    },
    {
     "name": "stdout",
     "output_type": "stream",
     "text": [
      "right_fitx[-1], left_fitx[-1\n",
      "1284.74878885 499.525078464\n"
     ]
    },
    {
     "name": "stderr",
     "output_type": "stream",
     "text": [
      "\u001b[A\n",
      " 60%|██████    | 721/1200 [03:25<02:13,  3.58it/s]"
     ]
    },
    {
     "name": "stdout",
     "output_type": "stream",
     "text": [
      "right_fitx[-1], left_fitx[-1\n",
      "1281.80870922 419.792265518\n"
     ]
    },
    {
     "name": "stderr",
     "output_type": "stream",
     "text": [
      "\u001b[A\n",
      " 60%|██████    | 722/1200 [03:26<02:14,  3.56it/s]"
     ]
    },
    {
     "name": "stdout",
     "output_type": "stream",
     "text": [
      "right_fitx[-1], left_fitx[-1\n",
      "1275.80710719 420.695308208\n"
     ]
    },
    {
     "name": "stderr",
     "output_type": "stream",
     "text": [
      "\u001b[A\n",
      " 60%|██████    | 723/1200 [03:26<02:14,  3.54it/s]"
     ]
    },
    {
     "name": "stdout",
     "output_type": "stream",
     "text": [
      "right_fitx[-1], left_fitx[-1\n",
      "1288.90482371 429.569560305\n"
     ]
    },
    {
     "name": "stderr",
     "output_type": "stream",
     "text": [
      "\u001b[A\n",
      " 60%|██████    | 724/1200 [03:26<02:12,  3.58it/s]"
     ]
    },
    {
     "name": "stdout",
     "output_type": "stream",
     "text": [
      "right_fitx[-1], left_fitx[-1\n",
      "1279.89197689 444.177476104\n"
     ]
    },
    {
     "name": "stderr",
     "output_type": "stream",
     "text": [
      "\u001b[A\n",
      " 60%|██████    | 725/1200 [03:26<02:10,  3.63it/s]"
     ]
    },
    {
     "name": "stdout",
     "output_type": "stream",
     "text": [
      "right_fitx[-1], left_fitx[-1\n",
      "1273.52500982 454.13757304\n"
     ]
    },
    {
     "name": "stderr",
     "output_type": "stream",
     "text": [
      "\u001b[A\n",
      " 60%|██████    | 726/1200 [03:27<02:10,  3.64it/s]"
     ]
    },
    {
     "name": "stdout",
     "output_type": "stream",
     "text": [
      "right_fitx[-1], left_fitx[-1\n",
      "1279.55520698 417.386455645\n"
     ]
    },
    {
     "name": "stderr",
     "output_type": "stream",
     "text": [
      "\u001b[A\n",
      " 61%|██████    | 727/1200 [03:27<02:09,  3.67it/s]"
     ]
    },
    {
     "name": "stdout",
     "output_type": "stream",
     "text": [
      "left_curverad, right_curverad\n",
      "1055.72188392 343.102289125\n"
     ]
    },
    {
     "name": "stderr",
     "output_type": "stream",
     "text": [
      "\u001b[A\n",
      " 61%|██████    | 728/1200 [03:27<02:07,  3.69it/s]"
     ]
    },
    {
     "name": "stdout",
     "output_type": "stream",
     "text": [
      "right_fitx[-1], left_fitx[-1\n",
      "1259.46401443 434.711228017\n"
     ]
    },
    {
     "name": "stderr",
     "output_type": "stream",
     "text": [
      "\u001b[A\n",
      " 61%|██████    | 729/1200 [03:28<02:07,  3.70it/s]"
     ]
    },
    {
     "name": "stdout",
     "output_type": "stream",
     "text": [
      "right_fitx[-1], left_fitx[-1\n",
      "1250.83673237 424.053430475\n"
     ]
    },
    {
     "name": "stderr",
     "output_type": "stream",
     "text": [
      "\u001b[A\n",
      " 61%|██████    | 730/1200 [03:28<02:07,  3.70it/s]"
     ]
    },
    {
     "name": "stdout",
     "output_type": "stream",
     "text": [
      "right_fitx[-1], left_fitx[-1\n",
      "1232.24284443 420.120827549\n"
     ]
    },
    {
     "name": "stderr",
     "output_type": "stream",
     "text": [
      "\u001b[A\n",
      " 61%|██████    | 731/1200 [03:28<02:07,  3.69it/s]"
     ]
    },
    {
     "name": "stdout",
     "output_type": "stream",
     "text": [
      "right_fitx[-1], left_fitx[-1\n",
      "1225.68750666 428.528275036\n"
     ]
    },
    {
     "name": "stderr",
     "output_type": "stream",
     "text": [
      "\u001b[A\n",
      " 61%|██████    | 732/1200 [03:28<02:07,  3.68it/s]\u001b[A\n",
      " 61%|██████    | 733/1200 [03:29<02:05,  3.71it/s]"
     ]
    },
    {
     "name": "stdout",
     "output_type": "stream",
     "text": [
      "left_curverad, right_curverad\n",
      "1074.67025428 85.2816431441\n"
     ]
    },
    {
     "name": "stderr",
     "output_type": "stream",
     "text": [
      "\u001b[A\n",
      " 61%|██████    | 734/1200 [03:29<02:05,  3.70it/s]"
     ]
    },
    {
     "name": "stdout",
     "output_type": "stream",
     "text": [
      "left_curverad, right_curverad\n",
      "1014.64262952 80.5606318801\n"
     ]
    },
    {
     "name": "stderr",
     "output_type": "stream",
     "text": [
      "\u001b[A\n",
      " 61%|██████▏   | 735/1200 [03:29<02:07,  3.66it/s]"
     ]
    },
    {
     "name": "stdout",
     "output_type": "stream",
     "text": [
      "left_curverad, right_curverad\n",
      "604.264728699 73.9966519168\n"
     ]
    },
    {
     "name": "stderr",
     "output_type": "stream",
     "text": [
      "\u001b[A\n",
      " 61%|██████▏   | 736/1200 [03:29<02:06,  3.67it/s]"
     ]
    },
    {
     "name": "stdout",
     "output_type": "stream",
     "text": [
      "left_curverad, right_curverad\n",
      "495.770418913 71.5603963595\n"
     ]
    },
    {
     "name": "stderr",
     "output_type": "stream",
     "text": [
      "\u001b[A\n",
      " 61%|██████▏   | 737/1200 [03:30<02:06,  3.65it/s]\u001b[A\n",
      " 62%|██████▏   | 738/1200 [03:30<02:05,  3.67it/s]"
     ]
    },
    {
     "name": "stdout",
     "output_type": "stream",
     "text": [
      "left_curverad, right_curverad\n",
      "715.627282639 187.578425804\n"
     ]
    },
    {
     "name": "stderr",
     "output_type": "stream",
     "text": [
      "\u001b[A\n",
      " 62%|██████▏   | 739/1200 [03:30<02:04,  3.69it/s]"
     ]
    },
    {
     "name": "stdout",
     "output_type": "stream",
     "text": [
      "left_curverad, right_curverad\n",
      "608.114258722 154.321460099\n"
     ]
    },
    {
     "name": "stderr",
     "output_type": "stream",
     "text": [
      "\u001b[A\n",
      " 62%|██████▏   | 740/1200 [03:31<02:02,  3.75it/s]"
     ]
    },
    {
     "name": "stdout",
     "output_type": "stream",
     "text": [
      "left_curverad, right_curverad\n",
      "5571.53019242 92.434201388\n"
     ]
    },
    {
     "name": "stderr",
     "output_type": "stream",
     "text": [
      "\u001b[A\n",
      " 62%|██████▏   | 741/1200 [03:31<02:00,  3.82it/s]"
     ]
    },
    {
     "name": "stdout",
     "output_type": "stream",
     "text": [
      "left_curverad, right_curverad\n",
      "644.096985944 106.234838097\n"
     ]
    },
    {
     "name": "stderr",
     "output_type": "stream",
     "text": [
      "\u001b[A\n",
      " 62%|██████▏   | 742/1200 [03:31<01:58,  3.85it/s]"
     ]
    },
    {
     "name": "stdout",
     "output_type": "stream",
     "text": [
      "left_curverad, right_curverad\n",
      "373.099266967 79.2342699508\n"
     ]
    },
    {
     "name": "stderr",
     "output_type": "stream",
     "text": [
      "\u001b[A\n",
      " 62%|██████▏   | 743/1200 [03:31<01:57,  3.88it/s]"
     ]
    },
    {
     "name": "stdout",
     "output_type": "stream",
     "text": [
      "left_curverad, right_curverad\n",
      "3705.22493428 105.62569059\n"
     ]
    },
    {
     "name": "stderr",
     "output_type": "stream",
     "text": [
      "\u001b[A\n",
      " 62%|██████▏   | 744/1200 [03:32<01:57,  3.88it/s]\u001b[A\n",
      " 62%|██████▏   | 745/1200 [03:32<01:57,  3.86it/s]"
     ]
    },
    {
     "name": "stdout",
     "output_type": "stream",
     "text": [
      "left_curverad, right_curverad\n",
      "440.830657027 110.889810785\n"
     ]
    },
    {
     "name": "stderr",
     "output_type": "stream",
     "text": [
      "\u001b[A\n",
      " 62%|██████▏   | 746/1200 [03:32<01:58,  3.84it/s]"
     ]
    },
    {
     "name": "stdout",
     "output_type": "stream",
     "text": [
      "left_curverad, right_curverad\n",
      "653.157272875 92.0297396835\n"
     ]
    },
    {
     "name": "stderr",
     "output_type": "stream",
     "text": [
      "\u001b[A\n",
      " 62%|██████▏   | 747/1200 [03:32<01:58,  3.83it/s]"
     ]
    },
    {
     "name": "stdout",
     "output_type": "stream",
     "text": [
      "left_curverad, right_curverad\n",
      "360.331011336 83.2416530856\n"
     ]
    },
    {
     "name": "stderr",
     "output_type": "stream",
     "text": [
      "\u001b[A\n",
      " 62%|██████▏   | 748/1200 [03:33<01:57,  3.86it/s]"
     ]
    },
    {
     "name": "stdout",
     "output_type": "stream",
     "text": [
      "upper, lower\n",
      "1134.3796923 601.358781319\n"
     ]
    },
    {
     "name": "stderr",
     "output_type": "stream",
     "text": [
      "\u001b[A\n",
      " 62%|██████▏   | 749/1200 [03:33<01:55,  3.90it/s]"
     ]
    },
    {
     "name": "stdout",
     "output_type": "stream",
     "text": [
      "left_curverad, right_curverad\n",
      "280.095442317 42.0194936621\n"
     ]
    },
    {
     "name": "stderr",
     "output_type": "stream",
     "text": [
      "\u001b[A\n",
      " 62%|██████▎   | 750/1200 [03:33<01:54,  3.95it/s]"
     ]
    },
    {
     "name": "stdout",
     "output_type": "stream",
     "text": [
      "left_curverad, right_curverad\n",
      "195.043045091 37.3962400467\n"
     ]
    },
    {
     "name": "stderr",
     "output_type": "stream",
     "text": [
      "\u001b[A\n",
      " 63%|██████▎   | 751/1200 [03:33<01:53,  3.95it/s]"
     ]
    },
    {
     "name": "stdout",
     "output_type": "stream",
     "text": [
      "left_curverad, right_curverad\n",
      "255.682827513 40.7354430617\n"
     ]
    },
    {
     "name": "stderr",
     "output_type": "stream",
     "text": [
      "\u001b[A\n",
      " 63%|██████▎   | 752/1200 [03:34<01:51,  4.00it/s]"
     ]
    },
    {
     "name": "stdout",
     "output_type": "stream",
     "text": [
      "left_curverad, right_curverad\n",
      "1587.97940368 34.393781084\n"
     ]
    },
    {
     "name": "stderr",
     "output_type": "stream",
     "text": [
      "\u001b[A\n",
      " 63%|██████▎   | 753/1200 [03:34<01:51,  4.02it/s]"
     ]
    },
    {
     "name": "stdout",
     "output_type": "stream",
     "text": [
      "left_curverad, right_curverad\n",
      "6555.60898633 12.2240682044\n"
     ]
    },
    {
     "name": "stderr",
     "output_type": "stream",
     "text": [
      "\u001b[A\n",
      " 63%|██████▎   | 754/1200 [03:34<01:51,  4.00it/s]"
     ]
    },
    {
     "name": "stdout",
     "output_type": "stream",
     "text": [
      "left_curverad, right_curverad\n",
      "713.549535052 29.721540153\n"
     ]
    },
    {
     "name": "stderr",
     "output_type": "stream",
     "text": [
      "\u001b[A\n",
      " 63%|██████▎   | 755/1200 [03:34<01:52,  3.95it/s]"
     ]
    },
    {
     "name": "stdout",
     "output_type": "stream",
     "text": [
      "left_curverad, right_curverad\n",
      "3095.70125484 530.24058917\n"
     ]
    },
    {
     "name": "stderr",
     "output_type": "stream",
     "text": [
      "\u001b[A\n",
      " 63%|██████▎   | 756/1200 [03:35<01:52,  3.93it/s]"
     ]
    },
    {
     "name": "stdout",
     "output_type": "stream",
     "text": [
      "left_curverad, right_curverad\n",
      "1109.35361986 25.7759464971\n"
     ]
    },
    {
     "name": "stderr",
     "output_type": "stream",
     "text": [
      "\u001b[A\n",
      " 63%|██████▎   | 757/1200 [03:35<01:51,  3.96it/s]"
     ]
    },
    {
     "name": "stdout",
     "output_type": "stream",
     "text": [
      "upper, lower\n",
      "663.779620442 596.373396531\n"
     ]
    },
    {
     "name": "stderr",
     "output_type": "stream",
     "text": [
      "\u001b[A\n",
      " 63%|██████▎   | 758/1200 [03:35<01:52,  3.94it/s]"
     ]
    },
    {
     "name": "stdout",
     "output_type": "stream",
     "text": [
      "left_curverad, right_curverad\n",
      "488.370915184 59.4656791773\n"
     ]
    },
    {
     "name": "stderr",
     "output_type": "stream",
     "text": [
      "\u001b[A\n",
      " 63%|██████▎   | 759/1200 [03:35<01:52,  3.93it/s]"
     ]
    },
    {
     "name": "stdout",
     "output_type": "stream",
     "text": [
      "left_curverad, right_curverad\n",
      "371.18806754 91.8994727162\n"
     ]
    },
    {
     "name": "stderr",
     "output_type": "stream",
     "text": [
      "\u001b[A\n",
      " 63%|██████▎   | 760/1200 [03:36<01:51,  3.93it/s]\u001b[A\n",
      " 63%|██████▎   | 761/1200 [03:36<01:51,  3.94it/s]\u001b[A\n",
      " 64%|██████▎   | 762/1200 [03:36<01:51,  3.92it/s]\u001b[A\n",
      " 64%|██████▎   | 763/1200 [03:36<01:52,  3.88it/s]"
     ]
    },
    {
     "name": "stdout",
     "output_type": "stream",
     "text": [
      "right_fitx[-1], left_fitx[-1\n",
      "1768.08950815 363.881543316\n"
     ]
    },
    {
     "name": "stderr",
     "output_type": "stream",
     "text": [
      "\u001b[A\n",
      " 64%|██████▎   | 764/1200 [03:37<01:53,  3.84it/s]"
     ]
    },
    {
     "name": "stdout",
     "output_type": "stream",
     "text": [
      "right_fitx[-1], left_fitx[-1\n",
      "1227.4375076 368.230806751\n"
     ]
    },
    {
     "name": "stderr",
     "output_type": "stream",
     "text": [
      "\u001b[A\n",
      " 64%|██████▍   | 765/1200 [03:37<01:53,  3.82it/s]"
     ]
    },
    {
     "name": "stdout",
     "output_type": "stream",
     "text": [
      "left_curverad, right_curverad\n",
      "228.247782556 69.473716728\n"
     ]
    },
    {
     "name": "stderr",
     "output_type": "stream",
     "text": [
      "\u001b[A\n",
      " 64%|██████▍   | 766/1200 [03:37<01:53,  3.84it/s]"
     ]
    },
    {
     "name": "stdout",
     "output_type": "stream",
     "text": [
      "left_curverad, right_curverad\n",
      "599.813646349 60.9822178674\n"
     ]
    },
    {
     "name": "stderr",
     "output_type": "stream",
     "text": [
      "\u001b[A\n",
      " 64%|██████▍   | 767/1200 [03:37<01:53,  3.82it/s]"
     ]
    },
    {
     "name": "stdout",
     "output_type": "stream",
     "text": [
      "left_curverad, right_curverad\n",
      "646.644923713 60.8881178884\n"
     ]
    },
    {
     "name": "stderr",
     "output_type": "stream",
     "text": [
      "\u001b[A\n",
      " 64%|██████▍   | 768/1200 [03:38<01:53,  3.81it/s]"
     ]
    },
    {
     "name": "stdout",
     "output_type": "stream",
     "text": [
      "left_curverad, right_curverad\n",
      "345.998064357 57.2939408226\n"
     ]
    },
    {
     "name": "stderr",
     "output_type": "stream",
     "text": [
      "\u001b[A\n",
      " 64%|██████▍   | 769/1200 [03:38<01:53,  3.81it/s]"
     ]
    },
    {
     "name": "stdout",
     "output_type": "stream",
     "text": [
      "left_curverad, right_curverad\n",
      "84492.5564674 52.8080746842\n"
     ]
    },
    {
     "name": "stderr",
     "output_type": "stream",
     "text": [
      "\u001b[A\n",
      " 64%|██████▍   | 770/1200 [03:38<01:54,  3.76it/s]"
     ]
    },
    {
     "name": "stdout",
     "output_type": "stream",
     "text": [
      "left_curverad, right_curverad\n",
      "1796.21119793 60.6211371356\n"
     ]
    },
    {
     "name": "stderr",
     "output_type": "stream",
     "text": [
      "\u001b[A\n",
      " 64%|██████▍   | 771/1200 [03:38<01:52,  3.81it/s]"
     ]
    },
    {
     "name": "stdout",
     "output_type": "stream",
     "text": [
      "left_curverad, right_curverad\n",
      "3359.97451263 453.018539727\n"
     ]
    },
    {
     "name": "stderr",
     "output_type": "stream",
     "text": [
      "\u001b[A\n",
      " 64%|██████▍   | 772/1200 [03:39<01:51,  3.82it/s]"
     ]
    },
    {
     "name": "stdout",
     "output_type": "stream",
     "text": [
      "left_curverad, right_curverad\n",
      "4136.40847863 1104.71461319\n"
     ]
    },
    {
     "name": "stderr",
     "output_type": "stream",
     "text": [
      "\u001b[A\n",
      " 64%|██████▍   | 773/1200 [03:39<01:52,  3.79it/s]"
     ]
    },
    {
     "name": "stdout",
     "output_type": "stream",
     "text": [
      "right_fitx[-1], left_fitx[-1\n",
      "1186.21510667 359.158053815\n"
     ]
    },
    {
     "name": "stderr",
     "output_type": "stream",
     "text": [
      "\u001b[A\n",
      " 64%|██████▍   | 774/1200 [03:39<01:53,  3.74it/s]"
     ]
    },
    {
     "name": "stdout",
     "output_type": "stream",
     "text": [
      "left_curverad, right_curverad\n",
      "954.933538969 165.113673794\n"
     ]
    },
    {
     "name": "stderr",
     "output_type": "stream",
     "text": [
      "\u001b[A\n",
      " 65%|██████▍   | 775/1200 [03:40<01:54,  3.71it/s]"
     ]
    },
    {
     "name": "stdout",
     "output_type": "stream",
     "text": [
      "left_curverad, right_curverad\n",
      "623.342802445 56.6141976479\n"
     ]
    },
    {
     "name": "stderr",
     "output_type": "stream",
     "text": [
      "\u001b[A\n",
      " 65%|██████▍   | 776/1200 [03:40<01:54,  3.69it/s]"
     ]
    },
    {
     "name": "stdout",
     "output_type": "stream",
     "text": [
      "left_curverad, right_curverad\n",
      "887.779416011 87.7161092448\n"
     ]
    },
    {
     "name": "stderr",
     "output_type": "stream",
     "text": [
      "\u001b[A\n",
      " 65%|██████▍   | 777/1200 [03:40<01:56,  3.62it/s]"
     ]
    },
    {
     "name": "stdout",
     "output_type": "stream",
     "text": [
      "left_curverad, right_curverad\n",
      "740.775255904 74.2323796442\n"
     ]
    },
    {
     "name": "stderr",
     "output_type": "stream",
     "text": [
      "\u001b[A\n",
      " 65%|██████▍   | 778/1200 [03:40<01:55,  3.64it/s]"
     ]
    },
    {
     "name": "stdout",
     "output_type": "stream",
     "text": [
      "left_curverad, right_curverad\n",
      "604.332847409 103.19327098\n"
     ]
    },
    {
     "name": "stderr",
     "output_type": "stream",
     "text": [
      "\u001b[A\n",
      " 65%|██████▍   | 779/1200 [03:41<01:55,  3.63it/s]"
     ]
    },
    {
     "name": "stdout",
     "output_type": "stream",
     "text": [
      "left_curverad, right_curverad\n",
      "832.874982215 57.2605669121\n"
     ]
    },
    {
     "name": "stderr",
     "output_type": "stream",
     "text": [
      "\u001b[A\n",
      " 65%|██████▌   | 780/1200 [03:41<01:55,  3.63it/s]"
     ]
    },
    {
     "name": "stdout",
     "output_type": "stream",
     "text": [
      "left_curverad, right_curverad\n",
      "1019.63785067 69.5643406962\n"
     ]
    },
    {
     "name": "stderr",
     "output_type": "stream",
     "text": [
      "\u001b[A\n",
      " 65%|██████▌   | 781/1200 [03:41<01:56,  3.58it/s]"
     ]
    },
    {
     "name": "stdout",
     "output_type": "stream",
     "text": [
      "left_curverad, right_curverad\n",
      "18731.954353 66.097336596\n"
     ]
    },
    {
     "name": "stderr",
     "output_type": "stream",
     "text": [
      "\u001b[A\n",
      " 65%|██████▌   | 782/1200 [03:42<01:57,  3.57it/s]"
     ]
    },
    {
     "name": "stdout",
     "output_type": "stream",
     "text": [
      "left_curverad, right_curverad\n",
      "3000.46588598 80.7161494797\n"
     ]
    },
    {
     "name": "stderr",
     "output_type": "stream",
     "text": [
      "\u001b[A\n",
      " 65%|██████▌   | 783/1200 [03:42<01:55,  3.61it/s]"
     ]
    },
    {
     "name": "stdout",
     "output_type": "stream",
     "text": [
      "left_curverad, right_curverad\n",
      "8339.85280345 94.9752695336\n"
     ]
    },
    {
     "name": "stderr",
     "output_type": "stream",
     "text": [
      "\u001b[A\n",
      " 65%|██████▌   | 784/1200 [03:42<01:53,  3.65it/s]"
     ]
    },
    {
     "name": "stdout",
     "output_type": "stream",
     "text": [
      "left_curverad, right_curverad\n",
      "3028.89854396 140.087385887\n"
     ]
    },
    {
     "name": "stderr",
     "output_type": "stream",
     "text": [
      "\u001b[A\n",
      " 65%|██████▌   | 785/1200 [03:42<01:54,  3.63it/s]"
     ]
    },
    {
     "name": "stdout",
     "output_type": "stream",
     "text": [
      "upper, lower\n",
      "747.413347674 462.990044568\n"
     ]
    },
    {
     "name": "stderr",
     "output_type": "stream",
     "text": [
      "\u001b[A\n",
      " 66%|██████▌   | 786/1200 [03:43<01:55,  3.60it/s]"
     ]
    },
    {
     "name": "stdout",
     "output_type": "stream",
     "text": [
      "left_curverad, right_curverad\n",
      "8338.26344096 603.971369732\n"
     ]
    },
    {
     "name": "stderr",
     "output_type": "stream",
     "text": [
      "\u001b[A\n",
      " 66%|██████▌   | 787/1200 [03:43<01:54,  3.60it/s]"
     ]
    },
    {
     "name": "stdout",
     "output_type": "stream",
     "text": [
      "upper, lower\n",
      "726.184742045 481.429281121\n"
     ]
    },
    {
     "name": "stderr",
     "output_type": "stream",
     "text": [
      "\u001b[A\n",
      " 66%|██████▌   | 788/1200 [03:43<01:53,  3.65it/s]"
     ]
    },
    {
     "name": "stdout",
     "output_type": "stream",
     "text": [
      "upper, lower\n",
      "617.075098571 449.7772709\n"
     ]
    },
    {
     "name": "stderr",
     "output_type": "stream",
     "text": [
      "\u001b[A\n",
      " 66%|██████▌   | 789/1200 [03:43<01:51,  3.69it/s]"
     ]
    },
    {
     "name": "stdout",
     "output_type": "stream",
     "text": [
      "left_curverad, right_curverad\n",
      "691.24151654 57.3605179501\n"
     ]
    },
    {
     "name": "stderr",
     "output_type": "stream",
     "text": [
      "\u001b[A\n",
      " 66%|██████▌   | 790/1200 [03:44<01:50,  3.70it/s]"
     ]
    },
    {
     "name": "stdout",
     "output_type": "stream",
     "text": [
      "left_curverad, right_curverad\n",
      "9994.46293005 55.9606136371\n"
     ]
    },
    {
     "name": "stderr",
     "output_type": "stream",
     "text": [
      "\u001b[A\n",
      " 66%|██████▌   | 791/1200 [03:44<01:50,  3.71it/s]"
     ]
    },
    {
     "name": "stdout",
     "output_type": "stream",
     "text": [
      "left_curverad, right_curverad\n",
      "425.939249471 69.1390775738\n"
     ]
    },
    {
     "name": "stderr",
     "output_type": "stream",
     "text": [
      "\u001b[A\n",
      " 66%|██████▌   | 792/1200 [03:44<01:50,  3.71it/s]"
     ]
    },
    {
     "name": "stdout",
     "output_type": "stream",
     "text": [
      "left_curverad, right_curverad\n",
      "246.847552541 68.9613721428\n"
     ]
    },
    {
     "name": "stderr",
     "output_type": "stream",
     "text": [
      "\u001b[A\n",
      " 66%|██████▌   | 793/1200 [03:45<01:49,  3.73it/s]"
     ]
    },
    {
     "name": "stdout",
     "output_type": "stream",
     "text": [
      "left_curverad, right_curverad\n",
      "287.118896744 56.6457113392\n"
     ]
    },
    {
     "name": "stderr",
     "output_type": "stream",
     "text": [
      "\u001b[A\n",
      " 66%|██████▌   | 794/1200 [03:45<01:48,  3.74it/s]\u001b[A\n",
      " 66%|██████▋   | 795/1200 [03:45<01:48,  3.74it/s]\u001b[A\n",
      " 66%|██████▋   | 796/1200 [03:45<01:48,  3.74it/s]\u001b[A\n",
      " 66%|██████▋   | 797/1200 [03:46<01:47,  3.74it/s]\u001b[A\n",
      " 66%|██████▋   | 798/1200 [03:46<01:47,  3.73it/s]\u001b[A\n",
      " 67%|██████▋   | 799/1200 [03:46<01:47,  3.73it/s]\u001b[A\n",
      " 67%|██████▋   | 800/1200 [03:46<01:49,  3.66it/s]"
     ]
    },
    {
     "name": "stdout",
     "output_type": "stream",
     "text": [
      "left_curverad, right_curverad\n",
      "994.790117422 189.387719914\n"
     ]
    },
    {
     "name": "stderr",
     "output_type": "stream",
     "text": [
      "\u001b[A\n",
      " 67%|██████▋   | 801/1200 [03:47<01:51,  3.58it/s]"
     ]
    },
    {
     "name": "stdout",
     "output_type": "stream",
     "text": [
      "left_curverad, right_curverad\n",
      "534.509762359 170.561185447\n"
     ]
    },
    {
     "name": "stderr",
     "output_type": "stream",
     "text": [
      "\u001b[A\n",
      " 67%|██████▋   | 802/1200 [03:47<01:52,  3.54it/s]"
     ]
    },
    {
     "name": "stdout",
     "output_type": "stream",
     "text": [
      "upper, lower\n",
      "1041.14094751 592.919378922\n"
     ]
    },
    {
     "name": "stderr",
     "output_type": "stream",
     "text": [
      "\u001b[A\n",
      " 67%|██████▋   | 803/1200 [03:47<01:50,  3.58it/s]"
     ]
    },
    {
     "name": "stdout",
     "output_type": "stream",
     "text": [
      "left_curverad, right_curverad\n",
      "3926.84618245 130.34902906\n"
     ]
    },
    {
     "name": "stderr",
     "output_type": "stream",
     "text": [
      "\u001b[A\n",
      " 67%|██████▋   | 804/1200 [03:48<01:49,  3.60it/s]"
     ]
    },
    {
     "name": "stdout",
     "output_type": "stream",
     "text": [
      "left_curverad, right_curverad\n",
      "412.331082126 117.821891136\n"
     ]
    },
    {
     "name": "stderr",
     "output_type": "stream",
     "text": [
      "\u001b[A\n",
      " 67%|██████▋   | 805/1200 [03:48<01:48,  3.65it/s]"
     ]
    },
    {
     "name": "stdout",
     "output_type": "stream",
     "text": [
      "upper, lower\n",
      "817.720014194 567.059810645\n"
     ]
    },
    {
     "name": "stderr",
     "output_type": "stream",
     "text": [
      "\u001b[A\n",
      " 67%|██████▋   | 806/1200 [03:48<01:47,  3.67it/s]"
     ]
    },
    {
     "name": "stdout",
     "output_type": "stream",
     "text": [
      "upper, lower\n",
      "1227.99015662 571.257573028\n"
     ]
    },
    {
     "name": "stderr",
     "output_type": "stream",
     "text": [
      "\u001b[A\n",
      " 67%|██████▋   | 807/1200 [03:48<01:46,  3.70it/s]"
     ]
    },
    {
     "name": "stdout",
     "output_type": "stream",
     "text": [
      "upper, lower\n",
      "1417.00130324 584.283661873\n"
     ]
    },
    {
     "name": "stderr",
     "output_type": "stream",
     "text": [
      "\u001b[A\n",
      " 67%|██████▋   | 808/1200 [03:49<01:45,  3.72it/s]"
     ]
    },
    {
     "name": "stdout",
     "output_type": "stream",
     "text": [
      "upper, lower\n",
      "2061.03497571 590.278123362\n"
     ]
    },
    {
     "name": "stderr",
     "output_type": "stream",
     "text": [
      "\u001b[A\n",
      " 67%|██████▋   | 809/1200 [03:49<01:44,  3.74it/s]"
     ]
    },
    {
     "name": "stdout",
     "output_type": "stream",
     "text": [
      "upper, lower\n",
      "2272.45828734 587.000558471\n"
     ]
    },
    {
     "name": "stderr",
     "output_type": "stream",
     "text": [
      "\u001b[A\n",
      " 68%|██████▊   | 810/1200 [03:49<01:42,  3.81it/s]"
     ]
    },
    {
     "name": "stdout",
     "output_type": "stream",
     "text": [
      "upper, lower\n",
      "2488.90375395 578.536455581\n"
     ]
    },
    {
     "name": "stderr",
     "output_type": "stream",
     "text": [
      "\u001b[A\n",
      " 68%|██████▊   | 811/1200 [03:49<01:41,  3.83it/s]"
     ]
    },
    {
     "name": "stdout",
     "output_type": "stream",
     "text": [
      "upper, lower\n",
      "643.570350999 523.145807493\n"
     ]
    },
    {
     "name": "stderr",
     "output_type": "stream",
     "text": [
      "\u001b[A\n",
      " 68%|██████▊   | 812/1200 [03:50<01:40,  3.84it/s]"
     ]
    },
    {
     "name": "stdout",
     "output_type": "stream",
     "text": [
      "upper, lower\n",
      "2216.39696568 546.228021581\n"
     ]
    },
    {
     "name": "stderr",
     "output_type": "stream",
     "text": [
      "\u001b[A\n",
      " 68%|██████▊   | 813/1200 [03:50<01:41,  3.83it/s]"
     ]
    },
    {
     "name": "stdout",
     "output_type": "stream",
     "text": [
      "upper, lower\n",
      "2660.26921201 513.325841218\n"
     ]
    },
    {
     "name": "stderr",
     "output_type": "stream",
     "text": [
      "\u001b[A\n",
      " 68%|██████▊   | 814/1200 [03:50<01:39,  3.87it/s]"
     ]
    },
    {
     "name": "stdout",
     "output_type": "stream",
     "text": [
      "upper, lower\n",
      "2924.77803236 540.224289658\n"
     ]
    },
    {
     "name": "stderr",
     "output_type": "stream",
     "text": [
      "\u001b[A\n",
      " 68%|██████▊   | 815/1200 [03:50<01:38,  3.90it/s]\u001b[A\n",
      " 68%|██████▊   | 816/1200 [03:51<01:37,  3.94it/s]"
     ]
    },
    {
     "name": "stdout",
     "output_type": "stream",
     "text": [
      "upper, lower\n",
      "1158.12181551 481.30138671\n"
     ]
    },
    {
     "name": "stderr",
     "output_type": "stream",
     "text": [
      "\u001b[A\n",
      " 68%|██████▊   | 817/1200 [03:51<01:40,  3.80it/s]"
     ]
    },
    {
     "name": "stdout",
     "output_type": "stream",
     "text": [
      "left_curverad, right_curverad\n",
      "1837.81669945 300.755402358\n"
     ]
    },
    {
     "name": "stderr",
     "output_type": "stream",
     "text": [
      "\u001b[A\n",
      " 68%|██████▊   | 818/1200 [03:51<01:42,  3.73it/s]"
     ]
    },
    {
     "name": "stdout",
     "output_type": "stream",
     "text": [
      "left_curverad, right_curverad\n",
      "61040.8032627 315.404431748\n"
     ]
    },
    {
     "name": "stderr",
     "output_type": "stream",
     "text": [
      "\u001b[A\n",
      " 68%|██████▊   | 819/1200 [03:51<01:42,  3.72it/s]"
     ]
    },
    {
     "name": "stdout",
     "output_type": "stream",
     "text": [
      "upper, lower\n",
      "254.089529944 224.453913693\n"
     ]
    },
    {
     "name": "stderr",
     "output_type": "stream",
     "text": [
      "\u001b[A\n",
      " 68%|██████▊   | 820/1200 [03:52<01:40,  3.80it/s]"
     ]
    },
    {
     "name": "stdout",
     "output_type": "stream",
     "text": [
      "right_fitx[-1], left_fitx[-1\n",
      "1125.7759219 412.566197068\n"
     ]
    },
    {
     "name": "stderr",
     "output_type": "stream",
     "text": [
      "\u001b[A\n",
      " 68%|██████▊   | 821/1200 [03:52<01:40,  3.78it/s]\u001b[A\n",
      " 68%|██████▊   | 822/1200 [03:52<01:39,  3.81it/s]\u001b[A\n",
      " 69%|██████▊   | 823/1200 [03:53<01:38,  3.82it/s]"
     ]
    },
    {
     "name": "stdout",
     "output_type": "stream",
     "text": [
      "upper, lower\n",
      "1761.63742405 637.969931682\n"
     ]
    },
    {
     "name": "stderr",
     "output_type": "stream",
     "text": [
      "\u001b[A\n",
      " 69%|██████▊   | 824/1200 [03:53<01:38,  3.83it/s]"
     ]
    },
    {
     "name": "stdout",
     "output_type": "stream",
     "text": [
      "upper, lower\n",
      "7296.94588085 368.737326915\n"
     ]
    },
    {
     "name": "stderr",
     "output_type": "stream",
     "text": [
      "\u001b[A\n",
      " 69%|██████▉   | 825/1200 [03:53<01:39,  3.76it/s]\u001b[A\n",
      " 69%|██████▉   | 826/1200 [03:53<01:39,  3.77it/s]"
     ]
    },
    {
     "name": "stdout",
     "output_type": "stream",
     "text": [
      "right_fitx[-1], left_fitx[-1\n",
      "953.225773351 87.8849684401\n"
     ]
    },
    {
     "name": "stderr",
     "output_type": "stream",
     "text": [
      "\u001b[A\n",
      " 69%|██████▉   | 827/1200 [03:54<01:38,  3.77it/s]"
     ]
    },
    {
     "name": "stdout",
     "output_type": "stream",
     "text": [
      "left_curverad, right_curverad\n",
      "1797.40604431 340.613314809\n"
     ]
    },
    {
     "name": "stderr",
     "output_type": "stream",
     "text": [
      "\u001b[A\n",
      " 69%|██████▉   | 828/1200 [03:54<01:33,  3.97it/s]\u001b[A\n",
      " 69%|██████▉   | 829/1200 [03:54<01:29,  4.15it/s]\u001b[A\n",
      " 69%|██████▉   | 830/1200 [03:54<01:31,  4.03it/s]\u001b[A\n",
      " 69%|██████▉   | 831/1200 [03:55<01:34,  3.92it/s]\u001b[A\n",
      " 69%|██████▉   | 832/1200 [03:55<01:35,  3.86it/s]\u001b[A\n",
      " 69%|██████▉   | 833/1200 [03:55<01:35,  3.82it/s]"
     ]
    },
    {
     "name": "stdout",
     "output_type": "stream",
     "text": [
      "right_fitx[-1], left_fitx[-1\n",
      "1209.54022303 471.224312375\n"
     ]
    },
    {
     "name": "stderr",
     "output_type": "stream",
     "text": [
      "\u001b[A\n",
      " 70%|██████▉   | 834/1200 [03:55<01:36,  3.80it/s]"
     ]
    },
    {
     "name": "stdout",
     "output_type": "stream",
     "text": [
      "right_fitx[-1], left_fitx[-1\n",
      "1221.90758758 307.177133811\n"
     ]
    },
    {
     "name": "stderr",
     "output_type": "stream",
     "text": [
      "\u001b[A\n",
      " 70%|██████▉   | 835/1200 [03:56<01:37,  3.74it/s]"
     ]
    },
    {
     "name": "stdout",
     "output_type": "stream",
     "text": [
      "right_fitx[-1], left_fitx[-1\n",
      "1235.00764646 524.312551324\n"
     ]
    },
    {
     "name": "stderr",
     "output_type": "stream",
     "text": [
      "\u001b[A\n",
      " 70%|██████▉   | 836/1200 [03:56<01:36,  3.76it/s]\u001b[A\n",
      " 70%|██████▉   | 837/1200 [03:56<01:37,  3.74it/s]\u001b[A\n",
      " 70%|██████▉   | 838/1200 [03:56<01:37,  3.70it/s]"
     ]
    },
    {
     "name": "stdout",
     "output_type": "stream",
     "text": [
      "right_fitx[-1], left_fitx[-1\n",
      "1251.00528658 442.698663737\n"
     ]
    },
    {
     "name": "stderr",
     "output_type": "stream",
     "text": [
      "\u001b[A\n",
      " 70%|██████▉   | 839/1200 [03:57<01:37,  3.68it/s]"
     ]
    },
    {
     "name": "stdout",
     "output_type": "stream",
     "text": [
      "left_curverad, right_curverad\n",
      "2347.97509121 457.263484179\n"
     ]
    },
    {
     "name": "stderr",
     "output_type": "stream",
     "text": [
      "\u001b[A\n",
      " 70%|███████   | 840/1200 [03:57<01:38,  3.66it/s]"
     ]
    },
    {
     "name": "stdout",
     "output_type": "stream",
     "text": [
      "right_fitx[-1], left_fitx[-1\n",
      "1238.2037159 467.338803434\n"
     ]
    },
    {
     "name": "stderr",
     "output_type": "stream",
     "text": [
      "\u001b[A\n",
      " 70%|███████   | 841/1200 [03:57<01:38,  3.63it/s]"
     ]
    },
    {
     "name": "stdout",
     "output_type": "stream",
     "text": [
      "right_fitx[-1], left_fitx[-1\n",
      "1226.38226938 443.785545129\n"
     ]
    },
    {
     "name": "stderr",
     "output_type": "stream",
     "text": [
      "\u001b[A\n",
      " 70%|███████   | 842/1200 [03:58<01:39,  3.61it/s]"
     ]
    },
    {
     "name": "stdout",
     "output_type": "stream",
     "text": [
      "right_fitx[-1], left_fitx[-1\n",
      "1228.00158209 427.623487767\n"
     ]
    },
    {
     "name": "stderr",
     "output_type": "stream",
     "text": [
      "\u001b[A\n",
      " 70%|███████   | 843/1200 [03:58<01:39,  3.58it/s]"
     ]
    },
    {
     "name": "stdout",
     "output_type": "stream",
     "text": [
      "right_fitx[-1], left_fitx[-1\n",
      "1225.33898969 444.49445062\n"
     ]
    },
    {
     "name": "stderr",
     "output_type": "stream",
     "text": [
      "\u001b[A\n",
      " 70%|███████   | 844/1200 [03:58<01:40,  3.55it/s]"
     ]
    },
    {
     "name": "stdout",
     "output_type": "stream",
     "text": [
      "right_fitx[-1], left_fitx[-1\n",
      "1237.28929891 432.46470229\n"
     ]
    },
    {
     "name": "stderr",
     "output_type": "stream",
     "text": [
      "\u001b[A\n",
      " 70%|███████   | 845/1200 [03:58<01:41,  3.50it/s]\u001b[A\n",
      " 70%|███████   | 846/1200 [03:59<01:42,  3.45it/s]"
     ]
    },
    {
     "name": "stdout",
     "output_type": "stream",
     "text": [
      "right_fitx[-1], left_fitx[-1\n",
      "1221.3008505 412.073782014\n"
     ]
    },
    {
     "name": "stderr",
     "output_type": "stream",
     "text": [
      "\u001b[A\n",
      " 71%|███████   | 847/1200 [03:59<01:43,  3.40it/s]"
     ]
    },
    {
     "name": "stdout",
     "output_type": "stream",
     "text": [
      "right_fitx[-1], left_fitx[-1\n",
      "1215.97092358 490.147847876\n"
     ]
    },
    {
     "name": "stderr",
     "output_type": "stream",
     "text": [
      "\u001b[A\n",
      " 71%|███████   | 848/1200 [03:59<01:45,  3.32it/s]"
     ]
    },
    {
     "name": "stdout",
     "output_type": "stream",
     "text": [
      "right_fitx[-1], left_fitx[-1\n",
      "1206.13929746 467.536921398\n"
     ]
    },
    {
     "name": "stderr",
     "output_type": "stream",
     "text": [
      "\u001b[A\n",
      " 71%|███████   | 849/1200 [04:00<01:52,  3.12it/s]"
     ]
    },
    {
     "name": "stdout",
     "output_type": "stream",
     "text": [
      "right_fitx[-1], left_fitx[-1\n",
      "1197.08892333 467.207528361\n"
     ]
    },
    {
     "name": "stderr",
     "output_type": "stream",
     "text": [
      "\u001b[A\n",
      " 71%|███████   | 850/1200 [04:00<01:57,  2.99it/s]"
     ]
    },
    {
     "name": "stdout",
     "output_type": "stream",
     "text": [
      "right_fitx[-1], left_fitx[-1\n",
      "1176.20631298 465.747551813\n"
     ]
    },
    {
     "name": "stderr",
     "output_type": "stream",
     "text": [
      "\u001b[A\n",
      " 71%|███████   | 851/1200 [04:00<01:58,  2.94it/s]\u001b[A\n",
      " 71%|███████   | 852/1200 [04:01<02:00,  2.89it/s]\u001b[A\n",
      " 71%|███████   | 853/1200 [04:01<01:59,  2.90it/s]\u001b[A\n",
      " 71%|███████   | 854/1200 [04:01<01:57,  2.94it/s]\u001b[A\n",
      " 71%|███████▏  | 855/1200 [04:02<01:56,  2.95it/s]\u001b[A\n",
      " 71%|███████▏  | 856/1200 [04:02<01:57,  2.93it/s]\u001b[A\n",
      " 71%|███████▏  | 857/1200 [04:02<01:57,  2.91it/s]\u001b[A\n",
      " 72%|███████▏  | 858/1200 [04:03<01:58,  2.89it/s]\u001b[A\n",
      " 72%|███████▏  | 859/1200 [04:03<01:59,  2.85it/s]\u001b[A\n",
      " 72%|███████▏  | 860/1200 [04:04<01:58,  2.86it/s]\u001b[A\n",
      " 72%|███████▏  | 861/1200 [04:04<02:00,  2.82it/s]\u001b[A\n",
      " 72%|███████▏  | 862/1200 [04:04<02:00,  2.81it/s]\u001b[A\n",
      " 72%|███████▏  | 863/1200 [04:05<02:00,  2.79it/s]\u001b[A\n",
      " 72%|███████▏  | 864/1200 [04:05<02:01,  2.76it/s]\u001b[A\n",
      " 72%|███████▏  | 865/1200 [04:05<02:01,  2.76it/s]\u001b[A\n",
      " 72%|███████▏  | 866/1200 [04:06<02:01,  2.76it/s]\u001b[A\n",
      " 72%|███████▏  | 867/1200 [04:06<02:00,  2.76it/s]\u001b[A\n",
      " 72%|███████▏  | 868/1200 [04:06<01:59,  2.78it/s]\u001b[A\n",
      " 72%|███████▏  | 869/1200 [04:07<01:59,  2.77it/s]\u001b[A\n",
      " 72%|███████▎  | 870/1200 [04:07<01:58,  2.78it/s]\u001b[A\n",
      " 73%|███████▎  | 871/1200 [04:08<01:58,  2.78it/s]\u001b[A\n",
      " 73%|███████▎  | 872/1200 [04:08<01:57,  2.79it/s]\u001b[A\n",
      " 73%|███████▎  | 873/1200 [04:08<01:56,  2.81it/s]\u001b[A\n",
      " 73%|███████▎  | 874/1200 [04:09<01:55,  2.82it/s]\u001b[A\n",
      " 73%|███████▎  | 875/1200 [04:09<01:54,  2.83it/s]\u001b[A\n",
      " 73%|███████▎  | 876/1200 [04:09<01:53,  2.85it/s]\u001b[A\n",
      " 73%|███████▎  | 877/1200 [04:10<01:52,  2.87it/s]\u001b[A\n",
      " 73%|███████▎  | 878/1200 [04:10<01:52,  2.87it/s]\u001b[A\n",
      " 73%|███████▎  | 879/1200 [04:10<01:51,  2.88it/s]\u001b[A\n",
      " 73%|███████▎  | 880/1200 [04:11<01:51,  2.88it/s]"
     ]
    },
    {
     "name": "stdout",
     "output_type": "stream",
     "text": [
      "left_curverad, right_curverad\n",
      "11647.9476358 3033.8304487\n"
     ]
    },
    {
     "name": "stderr",
     "output_type": "stream",
     "text": [
      "\u001b[A\n",
      " 73%|███████▎  | 881/1200 [04:11<01:50,  2.88it/s]\u001b[A\n",
      " 74%|███████▎  | 882/1200 [04:11<01:50,  2.87it/s]\u001b[A\n",
      " 74%|███████▎  | 883/1200 [04:12<01:49,  2.89it/s]\u001b[A\n",
      " 74%|███████▎  | 884/1200 [04:12<01:47,  2.94it/s]\u001b[A\n",
      " 74%|███████▍  | 885/1200 [04:12<01:45,  2.98it/s]\u001b[A\n",
      " 74%|███████▍  | 886/1200 [04:13<01:43,  3.04it/s]\u001b[A\n",
      " 74%|███████▍  | 887/1200 [04:13<01:40,  3.11it/s]\u001b[A\n",
      " 74%|███████▍  | 888/1200 [04:13<01:38,  3.18it/s]\u001b[A\n",
      " 74%|███████▍  | 889/1200 [04:14<01:36,  3.23it/s]\u001b[A\n",
      " 74%|███████▍  | 890/1200 [04:14<01:34,  3.28it/s]\u001b[A\n",
      " 74%|███████▍  | 891/1200 [04:14<01:32,  3.33it/s]"
     ]
    },
    {
     "name": "stdout",
     "output_type": "stream",
     "text": [
      "left_curverad, right_curverad\n",
      "911.821046902 301.236310016\n"
     ]
    },
    {
     "name": "stderr",
     "output_type": "stream",
     "text": [
      "\u001b[A\n",
      " 74%|███████▍  | 892/1200 [04:14<01:32,  3.35it/s]"
     ]
    },
    {
     "name": "stdout",
     "output_type": "stream",
     "text": [
      "left_curverad, right_curverad\n",
      "7791.1906268 247.716878358\n"
     ]
    },
    {
     "name": "stderr",
     "output_type": "stream",
     "text": [
      "\u001b[A\n",
      " 74%|███████▍  | 893/1200 [04:15<01:30,  3.41it/s]"
     ]
    },
    {
     "name": "stdout",
     "output_type": "stream",
     "text": [
      "left_curverad, right_curverad\n",
      "1132.66394912 196.087758951\n"
     ]
    },
    {
     "name": "stderr",
     "output_type": "stream",
     "text": [
      "\u001b[A\n",
      " 74%|███████▍  | 894/1200 [04:15<01:29,  3.41it/s]"
     ]
    },
    {
     "name": "stdout",
     "output_type": "stream",
     "text": [
      "left_curverad, right_curverad\n",
      "1430.94951777 169.083753718\n"
     ]
    },
    {
     "name": "stderr",
     "output_type": "stream",
     "text": [
      "\u001b[A\n",
      " 75%|███████▍  | 895/1200 [04:15<01:30,  3.37it/s]"
     ]
    },
    {
     "name": "stdout",
     "output_type": "stream",
     "text": [
      "left_curverad, right_curverad\n",
      "852.274887581 144.853250562\n"
     ]
    },
    {
     "name": "stderr",
     "output_type": "stream",
     "text": [
      "\u001b[A\n",
      " 75%|███████▍  | 896/1200 [04:16<01:28,  3.45it/s]"
     ]
    },
    {
     "name": "stdout",
     "output_type": "stream",
     "text": [
      "left_curverad, right_curverad\n",
      "840.829375578 133.082144657\n"
     ]
    },
    {
     "name": "stderr",
     "output_type": "stream",
     "text": [
      "\u001b[A\n",
      " 75%|███████▍  | 897/1200 [04:16<01:25,  3.53it/s]"
     ]
    },
    {
     "name": "stdout",
     "output_type": "stream",
     "text": [
      "left_curverad, right_curverad\n",
      "777.282393199 158.781169416\n"
     ]
    },
    {
     "name": "stderr",
     "output_type": "stream",
     "text": [
      "\u001b[A\n",
      " 75%|███████▍  | 898/1200 [04:16<01:23,  3.60it/s]"
     ]
    },
    {
     "name": "stdout",
     "output_type": "stream",
     "text": [
      "left_curverad, right_curverad\n",
      "468.64431258 154.731468985\n"
     ]
    },
    {
     "name": "stderr",
     "output_type": "stream",
     "text": [
      "\u001b[A\n",
      " 75%|███████▍  | 899/1200 [04:16<01:22,  3.63it/s]"
     ]
    },
    {
     "name": "stdout",
     "output_type": "stream",
     "text": [
      "left_curverad, right_curverad\n",
      "2625.52513238 191.967204853\n"
     ]
    },
    {
     "name": "stderr",
     "output_type": "stream",
     "text": [
      "\u001b[A\n",
      " 75%|███████▌  | 900/1200 [04:17<01:22,  3.62it/s]"
     ]
    },
    {
     "name": "stdout",
     "output_type": "stream",
     "text": [
      "left_curverad, right_curverad\n",
      "4218.24978808 289.758239968\n"
     ]
    },
    {
     "name": "stderr",
     "output_type": "stream",
     "text": [
      "\u001b[A\n",
      " 75%|███████▌  | 901/1200 [04:17<01:22,  3.63it/s]\u001b[A\n",
      " 75%|███████▌  | 902/1200 [04:17<01:22,  3.63it/s]\u001b[A\n",
      " 75%|███████▌  | 903/1200 [04:18<01:21,  3.65it/s]\u001b[A\n",
      " 75%|███████▌  | 904/1200 [04:18<01:19,  3.71it/s]"
     ]
    },
    {
     "name": "stdout",
     "output_type": "stream",
     "text": [
      "upper, lower\n",
      "1082.68057111 595.381159006\n"
     ]
    },
    {
     "name": "stderr",
     "output_type": "stream",
     "text": [
      "\u001b[A\n",
      " 75%|███████▌  | 905/1200 [04:18<01:17,  3.80it/s]\u001b[A\n",
      " 76%|███████▌  | 906/1200 [04:18<01:15,  3.88it/s]"
     ]
    },
    {
     "name": "stdout",
     "output_type": "stream",
     "text": [
      "upper, lower\n",
      "1270.35149492 645.606639085\n"
     ]
    },
    {
     "name": "stderr",
     "output_type": "stream",
     "text": [
      "\u001b[A\n",
      " 76%|███████▌  | 907/1200 [04:19<01:14,  3.93it/s]"
     ]
    },
    {
     "name": "stdout",
     "output_type": "stream",
     "text": [
      "upper, lower\n",
      "2372.60493059 655.543850509\n"
     ]
    },
    {
     "name": "stderr",
     "output_type": "stream",
     "text": [
      "\u001b[A\n",
      " 76%|███████▌  | 908/1200 [04:19<01:13,  4.00it/s]"
     ]
    },
    {
     "name": "stdout",
     "output_type": "stream",
     "text": [
      "upper, lower\n",
      "3283.44222032 656.189340662\n"
     ]
    },
    {
     "name": "stderr",
     "output_type": "stream",
     "text": [
      "\u001b[A\n",
      " 76%|███████▌  | 909/1200 [04:19<01:11,  4.05it/s]"
     ]
    },
    {
     "name": "stdout",
     "output_type": "stream",
     "text": [
      "upper, lower\n",
      "3483.24488058 651.48811872\n"
     ]
    },
    {
     "name": "stderr",
     "output_type": "stream",
     "text": [
      "\u001b[A\n",
      " 76%|███████▌  | 910/1200 [04:19<01:11,  4.08it/s]"
     ]
    },
    {
     "name": "stdout",
     "output_type": "stream",
     "text": [
      "upper, lower\n",
      "2429.56192424 661.612399459\n"
     ]
    },
    {
     "name": "stderr",
     "output_type": "stream",
     "text": [
      "\u001b[A\n",
      " 76%|███████▌  | 911/1200 [04:19<01:10,  4.08it/s]"
     ]
    },
    {
     "name": "stdout",
     "output_type": "stream",
     "text": [
      "upper, lower\n",
      "4965.01813631 604.004202981\n"
     ]
    },
    {
     "name": "stderr",
     "output_type": "stream",
     "text": [
      "\u001b[A\n",
      " 76%|███████▌  | 912/1200 [04:20<01:09,  4.12it/s]"
     ]
    },
    {
     "name": "stdout",
     "output_type": "stream",
     "text": [
      "left_curverad, right_curverad\n",
      "29.4452553703 2.75549433993\n"
     ]
    },
    {
     "name": "stderr",
     "output_type": "stream",
     "text": [
      "\u001b[A\n",
      " 76%|███████▌  | 913/1200 [04:20<01:09,  4.15it/s]"
     ]
    },
    {
     "name": "stdout",
     "output_type": "stream",
     "text": [
      "left_curverad, right_curverad\n",
      "89.6573016121 2.15015856264\n"
     ]
    },
    {
     "name": "stderr",
     "output_type": "stream",
     "text": [
      "\u001b[A\n",
      " 76%|███████▌  | 914/1200 [04:20<01:08,  4.15it/s]"
     ]
    },
    {
     "name": "stdout",
     "output_type": "stream",
     "text": [
      "upper, lower\n",
      "-73299.3329455 -11.4322533996\n"
     ]
    },
    {
     "name": "stderr",
     "output_type": "stream",
     "text": [
      "\u001b[A\n",
      " 76%|███████▋  | 915/1200 [04:20<01:09,  4.12it/s]"
     ]
    },
    {
     "name": "stdout",
     "output_type": "stream",
     "text": [
      "upper, lower\n",
      "-102465.266585 -13.1171275326\n"
     ]
    },
    {
     "name": "stderr",
     "output_type": "stream",
     "text": [
      "\u001b[A\n",
      " 76%|███████▋  | 916/1200 [04:21<01:08,  4.17it/s]"
     ]
    },
    {
     "name": "stdout",
     "output_type": "stream",
     "text": [
      "left_curverad, right_curverad\n",
      "147.835636074 1.96368685459\n"
     ]
    },
    {
     "name": "stderr",
     "output_type": "stream",
     "text": [
      "\u001b[A\n",
      " 76%|███████▋  | 917/1200 [04:21<01:07,  4.19it/s]"
     ]
    },
    {
     "name": "stdout",
     "output_type": "stream",
     "text": [
      "upper, lower\n",
      "-49615.8616069 -8.78726342224\n"
     ]
    },
    {
     "name": "stderr",
     "output_type": "stream",
     "text": [
      "\u001b[A\n",
      " 76%|███████▋  | 918/1200 [04:21<01:07,  4.18it/s]"
     ]
    },
    {
     "name": "stdout",
     "output_type": "stream",
     "text": [
      "upper, lower\n",
      "-58019.0588844 -9.03240419077\n"
     ]
    },
    {
     "name": "stderr",
     "output_type": "stream",
     "text": [
      "\u001b[A\n",
      " 77%|███████▋  | 919/1200 [04:21<01:07,  4.15it/s]"
     ]
    },
    {
     "name": "stdout",
     "output_type": "stream",
     "text": [
      "upper, lower\n",
      "-73388.7268131 -9.5860908289\n"
     ]
    },
    {
     "name": "stderr",
     "output_type": "stream",
     "text": [
      "\u001b[A\n",
      " 77%|███████▋  | 920/1200 [04:22<01:07,  4.13it/s]\u001b[A\n",
      " 77%|███████▋  | 921/1200 [04:22<01:07,  4.14it/s]"
     ]
    },
    {
     "name": "stdout",
     "output_type": "stream",
     "text": [
      "left_curverad, right_curverad\n",
      "6.53254625939 1.10658889056\n"
     ]
    },
    {
     "name": "stderr",
     "output_type": "stream",
     "text": [
      "\u001b[A\n",
      " 77%|███████▋  | 922/1200 [04:22<01:04,  4.30it/s]\u001b[A\n",
      " 77%|███████▋  | 923/1200 [04:22<01:02,  4.43it/s]\u001b[A\n",
      " 77%|███████▋  | 924/1200 [04:22<01:00,  4.52it/s]\u001b[A\n",
      " 77%|███████▋  | 925/1200 [04:23<00:59,  4.61it/s]\u001b[A\n",
      " 77%|███████▋  | 926/1200 [04:23<00:58,  4.69it/s]\u001b[A\n",
      " 77%|███████▋  | 927/1200 [04:23<00:57,  4.72it/s]\u001b[A\n",
      " 77%|███████▋  | 928/1200 [04:23<00:57,  4.77it/s]\u001b[A\n",
      " 77%|███████▋  | 929/1200 [04:24<00:56,  4.82it/s]\u001b[A\n",
      " 78%|███████▊  | 930/1200 [04:24<00:56,  4.79it/s]\u001b[A\n",
      " 78%|███████▊  | 931/1200 [04:24<00:55,  4.82it/s]\u001b[A\n",
      " 78%|███████▊  | 932/1200 [04:24<00:55,  4.81it/s]\u001b[A\n",
      " 78%|███████▊  | 933/1200 [04:24<00:56,  4.75it/s]\u001b[A\n",
      " 78%|███████▊  | 934/1200 [04:25<00:56,  4.74it/s]\u001b[A\n",
      " 78%|███████▊  | 935/1200 [04:25<00:56,  4.73it/s]\u001b[A\n",
      " 78%|███████▊  | 936/1200 [04:25<00:55,  4.76it/s]\u001b[A\n",
      " 78%|███████▊  | 937/1200 [04:25<00:55,  4.78it/s]\u001b[A\n",
      " 78%|███████▊  | 938/1200 [04:25<00:54,  4.79it/s]\u001b[A\n",
      " 78%|███████▊  | 939/1200 [04:26<00:54,  4.78it/s]\u001b[A\n",
      " 78%|███████▊  | 940/1200 [04:26<00:54,  4.79it/s]\u001b[A\n",
      " 78%|███████▊  | 941/1200 [04:26<00:56,  4.58it/s]\u001b[A\n",
      " 78%|███████▊  | 942/1200 [04:26<00:58,  4.41it/s]"
     ]
    },
    {
     "name": "stdout",
     "output_type": "stream",
     "text": [
      "left_curverad, right_curverad\n",
      "1156.57624646 0.235354306446\n"
     ]
    },
    {
     "name": "stderr",
     "output_type": "stream",
     "text": [
      "\u001b[A\n",
      " 79%|███████▊  | 943/1200 [04:27<00:59,  4.32it/s]"
     ]
    },
    {
     "name": "stdout",
     "output_type": "stream",
     "text": [
      "left_curverad, right_curverad\n",
      "341.331096079 0.657898228465\n"
     ]
    },
    {
     "name": "stderr",
     "output_type": "stream",
     "text": [
      "\u001b[A\n",
      " 79%|███████▊  | 944/1200 [04:27<00:59,  4.27it/s]"
     ]
    },
    {
     "name": "stdout",
     "output_type": "stream",
     "text": [
      "left_curverad, right_curverad\n",
      "650.763032752 0.346453261589\n"
     ]
    },
    {
     "name": "stderr",
     "output_type": "stream",
     "text": [
      "\u001b[A\n",
      " 79%|███████▉  | 945/1200 [04:27<01:00,  4.19it/s]"
     ]
    },
    {
     "name": "stdout",
     "output_type": "stream",
     "text": [
      "left_curverad, right_curverad\n",
      "93.124348727 0.346453262352\n"
     ]
    },
    {
     "name": "stderr",
     "output_type": "stream",
     "text": [
      "\u001b[A\n",
      " 79%|███████▉  | 946/1200 [04:27<01:00,  4.21it/s]\u001b[A\n",
      " 79%|███████▉  | 947/1200 [04:28<00:59,  4.22it/s]\u001b[A\n",
      " 79%|███████▉  | 948/1200 [04:28<00:59,  4.21it/s]\u001b[A\n",
      " 79%|███████▉  | 949/1200 [04:28<01:00,  4.18it/s]\u001b[A\n",
      " 79%|███████▉  | 950/1200 [04:28<00:59,  4.17it/s]\u001b[A\n",
      " 79%|███████▉  | 951/1200 [04:28<00:59,  4.17it/s]"
     ]
    },
    {
     "name": "stdout",
     "output_type": "stream",
     "text": [
      "right_fitx[-1], left_fitx[-1\n",
      "1790.00000003 370.359376057\n"
     ]
    },
    {
     "name": "stderr",
     "output_type": "stream",
     "text": [
      "\u001b[A\n",
      " 79%|███████▉  | 952/1200 [04:29<00:59,  4.16it/s]"
     ]
    },
    {
     "name": "stdout",
     "output_type": "stream",
     "text": [
      "upper, lower\n",
      "2164.46276972 579.312313829\n"
     ]
    },
    {
     "name": "stderr",
     "output_type": "stream",
     "text": [
      "\u001b[A\n",
      " 79%|███████▉  | 953/1200 [04:29<00:58,  4.21it/s]\u001b[A\n",
      " 80%|███████▉  | 954/1200 [04:29<00:58,  4.18it/s]\u001b[A\n",
      " 80%|███████▉  | 955/1200 [04:29<00:58,  4.20it/s]\u001b[A\n",
      " 80%|███████▉  | 956/1200 [04:30<00:58,  4.19it/s]\u001b[A\n",
      " 80%|███████▉  | 957/1200 [04:30<00:58,  4.18it/s]\u001b[A\n",
      " 80%|███████▉  | 958/1200 [04:30<00:57,  4.18it/s]"
     ]
    },
    {
     "name": "stdout",
     "output_type": "stream",
     "text": [
      "upper, lower\n",
      "-5879.83175689 -1889.277537\n"
     ]
    },
    {
     "name": "stderr",
     "output_type": "stream",
     "text": [
      "\u001b[A\n",
      " 80%|███████▉  | 959/1200 [04:30<00:58,  4.15it/s]"
     ]
    },
    {
     "name": "stdout",
     "output_type": "stream",
     "text": [
      "upper, lower\n",
      "-9827.11970238 -4728.07522658\n"
     ]
    },
    {
     "name": "stderr",
     "output_type": "stream",
     "text": [
      "\u001b[A\n",
      " 80%|████████  | 960/1200 [04:31<00:57,  4.17it/s]"
     ]
    },
    {
     "name": "stdout",
     "output_type": "stream",
     "text": [
      "upper, lower\n",
      "-6908.16874429 -1942.8084979\n"
     ]
    },
    {
     "name": "stderr",
     "output_type": "stream",
     "text": [
      "\u001b[A\n",
      " 80%|████████  | 961/1200 [04:31<00:57,  4.17it/s]"
     ]
    },
    {
     "name": "stdout",
     "output_type": "stream",
     "text": [
      "upper, lower\n",
      "-7615.04631482 -1937.67380174\n"
     ]
    },
    {
     "name": "stderr",
     "output_type": "stream",
     "text": [
      "\u001b[A\n",
      " 80%|████████  | 962/1200 [04:31<00:57,  4.16it/s]"
     ]
    },
    {
     "name": "stdout",
     "output_type": "stream",
     "text": [
      "upper, lower\n",
      "-6220.24369716 -1406.71221545\n"
     ]
    },
    {
     "name": "stderr",
     "output_type": "stream",
     "text": [
      "\u001b[A\n",
      " 80%|████████  | 963/1200 [04:31<00:57,  4.11it/s]"
     ]
    },
    {
     "name": "stdout",
     "output_type": "stream",
     "text": [
      "upper, lower\n",
      "-5850.39945422 -1396.08185893\n"
     ]
    },
    {
     "name": "stderr",
     "output_type": "stream",
     "text": [
      "\u001b[A\n",
      " 80%|████████  | 964/1200 [04:32<00:59,  3.99it/s]"
     ]
    },
    {
     "name": "stdout",
     "output_type": "stream",
     "text": [
      "upper, lower\n",
      "-7754.81631626 -1757.48424232\n"
     ]
    },
    {
     "name": "stderr",
     "output_type": "stream",
     "text": [
      "\u001b[A\n",
      " 80%|████████  | 965/1200 [04:32<01:00,  3.89it/s]"
     ]
    },
    {
     "name": "stdout",
     "output_type": "stream",
     "text": [
      "upper, lower\n",
      "-6548.23940131 -1973.78442093\n"
     ]
    },
    {
     "name": "stderr",
     "output_type": "stream",
     "text": [
      "\u001b[A\n",
      " 80%|████████  | 966/1200 [04:32<01:00,  3.88it/s]"
     ]
    },
    {
     "name": "stdout",
     "output_type": "stream",
     "text": [
      "upper, lower\n",
      "-8535.3406097 -2478.37295074\n"
     ]
    },
    {
     "name": "stderr",
     "output_type": "stream",
     "text": [
      "\u001b[A\n",
      " 81%|████████  | 967/1200 [04:32<00:59,  3.94it/s]"
     ]
    },
    {
     "name": "stdout",
     "output_type": "stream",
     "text": [
      "upper, lower\n",
      "-7721.38961347 -1704.55189275\n"
     ]
    },
    {
     "name": "stderr",
     "output_type": "stream",
     "text": [
      "\u001b[A\n",
      " 81%|████████  | 968/1200 [04:33<00:58,  3.97it/s]"
     ]
    },
    {
     "name": "stdout",
     "output_type": "stream",
     "text": [
      "upper, lower\n",
      "-5328.57994528 -1065.02085901\n"
     ]
    },
    {
     "name": "stderr",
     "output_type": "stream",
     "text": [
      "\u001b[A\n",
      " 81%|████████  | 969/1200 [04:33<00:57,  3.99it/s]"
     ]
    },
    {
     "name": "stdout",
     "output_type": "stream",
     "text": [
      "upper, lower\n",
      "-9384.89240826 -1568.83013135\n"
     ]
    },
    {
     "name": "stderr",
     "output_type": "stream",
     "text": [
      "\u001b[A\n",
      " 81%|████████  | 970/1200 [04:33<00:57,  4.01it/s]"
     ]
    },
    {
     "name": "stdout",
     "output_type": "stream",
     "text": [
      "upper, lower\n",
      "-11027.8151563 -1880.61070744\n"
     ]
    },
    {
     "name": "stderr",
     "output_type": "stream",
     "text": [
      "\u001b[A\n",
      " 81%|████████  | 971/1200 [04:33<00:57,  3.99it/s]"
     ]
    },
    {
     "name": "stdout",
     "output_type": "stream",
     "text": [
      "upper, lower\n",
      "-11875.9671733 -1983.09140913\n"
     ]
    },
    {
     "name": "stderr",
     "output_type": "stream",
     "text": [
      "\u001b[A\n",
      " 81%|████████  | 972/1200 [04:34<00:56,  4.05it/s]"
     ]
    },
    {
     "name": "stdout",
     "output_type": "stream",
     "text": [
      "upper, lower\n",
      "-14689.750979 -2218.27657772\n"
     ]
    },
    {
     "name": "stderr",
     "output_type": "stream",
     "text": [
      "\u001b[A\n",
      " 81%|████████  | 973/1200 [04:34<00:56,  4.02it/s]"
     ]
    },
    {
     "name": "stdout",
     "output_type": "stream",
     "text": [
      "upper, lower\n",
      "-15566.5776309 -2181.70254733\n"
     ]
    },
    {
     "name": "stderr",
     "output_type": "stream",
     "text": [
      "\u001b[A\n",
      " 81%|████████  | 974/1200 [04:34<00:56,  4.03it/s]"
     ]
    },
    {
     "name": "stdout",
     "output_type": "stream",
     "text": [
      "upper, lower\n",
      "-16939.6429759 -2116.52026755\n"
     ]
    },
    {
     "name": "stderr",
     "output_type": "stream",
     "text": [
      "\u001b[A\n",
      " 81%|████████▏ | 975/1200 [04:34<00:55,  4.05it/s]"
     ]
    },
    {
     "name": "stdout",
     "output_type": "stream",
     "text": [
      "upper, lower\n",
      "-16898.3112661 -1496.2134958\n"
     ]
    },
    {
     "name": "stderr",
     "output_type": "stream",
     "text": [
      "\u001b[A\n",
      " 81%|████████▏ | 976/1200 [04:35<00:56,  3.98it/s]"
     ]
    },
    {
     "name": "stdout",
     "output_type": "stream",
     "text": [
      "upper, lower\n",
      "15207.7761363 98.571772764\n"
     ]
    },
    {
     "name": "stderr",
     "output_type": "stream",
     "text": [
      "\u001b[A\n",
      " 81%|████████▏ | 977/1200 [04:35<00:59,  3.72it/s]"
     ]
    },
    {
     "name": "stdout",
     "output_type": "stream",
     "text": [
      "left_curverad, right_curverad\n",
      "124.985474179 39.6562648761\n"
     ]
    },
    {
     "name": "stderr",
     "output_type": "stream",
     "text": [
      "\u001b[A\n",
      " 82%|████████▏ | 978/1200 [04:35<00:58,  3.78it/s]"
     ]
    },
    {
     "name": "stdout",
     "output_type": "stream",
     "text": [
      "upper, lower\n",
      "24192.7934882 659.100899367\n"
     ]
    },
    {
     "name": "stderr",
     "output_type": "stream",
     "text": [
      "\u001b[A\n",
      " 82%|████████▏ | 979/1200 [04:35<00:57,  3.88it/s]"
     ]
    },
    {
     "name": "stdout",
     "output_type": "stream",
     "text": [
      "upper, lower\n",
      "21557.3174193 283.203008759\n"
     ]
    },
    {
     "name": "stderr",
     "output_type": "stream",
     "text": [
      "\u001b[A\n",
      " 82%|████████▏ | 980/1200 [04:36<00:55,  3.94it/s]\u001b[A\n",
      " 82%|████████▏ | 981/1200 [04:36<00:55,  3.95it/s]\u001b[A\n",
      " 82%|████████▏ | 982/1200 [04:36<00:54,  3.99it/s]"
     ]
    },
    {
     "name": "stdout",
     "output_type": "stream",
     "text": [
      "upper, lower\n",
      "-1089.95283378 -823.660842558\n"
     ]
    },
    {
     "name": "stderr",
     "output_type": "stream",
     "text": [
      "\u001b[A\n",
      " 82%|████████▏ | 983/1200 [04:36<00:54,  4.02it/s]"
     ]
    },
    {
     "name": "stdout",
     "output_type": "stream",
     "text": [
      "upper, lower\n",
      "-4283.2090273 -901.736631235\n"
     ]
    },
    {
     "name": "stderr",
     "output_type": "stream",
     "text": [
      "\u001b[A\n",
      " 82%|████████▏ | 984/1200 [04:37<00:53,  4.03it/s]"
     ]
    },
    {
     "name": "stdout",
     "output_type": "stream",
     "text": [
      "upper, lower\n",
      "-15261.9652978 -969.294333466\n"
     ]
    },
    {
     "name": "stderr",
     "output_type": "stream",
     "text": [
      "\u001b[A\n",
      " 82%|████████▏ | 985/1200 [04:37<00:53,  4.05it/s]"
     ]
    },
    {
     "name": "stdout",
     "output_type": "stream",
     "text": [
      "upper, lower\n",
      "-15779.3483209 -880.18727351\n"
     ]
    },
    {
     "name": "stderr",
     "output_type": "stream",
     "text": [
      "\u001b[A\n",
      " 82%|████████▏ | 986/1200 [04:37<00:52,  4.09it/s]"
     ]
    },
    {
     "name": "stdout",
     "output_type": "stream",
     "text": [
      "upper, lower\n",
      "-15782.5094133 -748.842586368\n"
     ]
    },
    {
     "name": "stderr",
     "output_type": "stream",
     "text": [
      "\u001b[A\n",
      " 82%|████████▏ | 987/1200 [04:37<00:51,  4.12it/s]"
     ]
    },
    {
     "name": "stdout",
     "output_type": "stream",
     "text": [
      "left_curverad, right_curverad\n",
      "177.927379321 28.676421389\n"
     ]
    },
    {
     "name": "stderr",
     "output_type": "stream",
     "text": [
      "\u001b[A\n",
      " 82%|████████▏ | 988/1200 [04:38<00:51,  4.16it/s]"
     ]
    },
    {
     "name": "stdout",
     "output_type": "stream",
     "text": [
      "upper, lower\n",
      "-15535.040571 -560.385312719\n"
     ]
    },
    {
     "name": "stderr",
     "output_type": "stream",
     "text": [
      "\u001b[A\n",
      " 82%|████████▏ | 989/1200 [04:38<00:50,  4.18it/s]"
     ]
    },
    {
     "name": "stdout",
     "output_type": "stream",
     "text": [
      "upper, lower\n",
      "-11230.6621479 -206.302824334\n"
     ]
    },
    {
     "name": "stderr",
     "output_type": "stream",
     "text": [
      "\u001b[A\n",
      " 82%|████████▎ | 990/1200 [04:38<00:50,  4.19it/s]"
     ]
    },
    {
     "name": "stdout",
     "output_type": "stream",
     "text": [
      "upper, lower\n",
      "-23408.8366411 -654.602292704\n"
     ]
    },
    {
     "name": "stderr",
     "output_type": "stream",
     "text": [
      "\u001b[A\n",
      " 83%|████████▎ | 991/1200 [04:38<00:49,  4.18it/s]"
     ]
    },
    {
     "name": "stdout",
     "output_type": "stream",
     "text": [
      "upper, lower\n",
      "-1105.03818006 -43.6334364899\n"
     ]
    },
    {
     "name": "stderr",
     "output_type": "stream",
     "text": [
      "\u001b[A\n",
      " 83%|████████▎ | 992/1200 [04:39<00:49,  4.18it/s]"
     ]
    },
    {
     "name": "stdout",
     "output_type": "stream",
     "text": [
      "upper, lower\n",
      "22885.7351752 448.157756272\n"
     ]
    },
    {
     "name": "stderr",
     "output_type": "stream",
     "text": [
      "\u001b[A\n",
      " 83%|████████▎ | 993/1200 [04:39<00:49,  4.19it/s]"
     ]
    },
    {
     "name": "stdout",
     "output_type": "stream",
     "text": [
      "upper, lower\n",
      "35270.8410865 443.694842536\n"
     ]
    },
    {
     "name": "stderr",
     "output_type": "stream",
     "text": [
      "\u001b[A\n",
      " 83%|████████▎ | 994/1200 [04:39<00:49,  4.14it/s]"
     ]
    },
    {
     "name": "stdout",
     "output_type": "stream",
     "text": [
      "upper, lower\n",
      "42467.5578694 425.441568007\n"
     ]
    },
    {
     "name": "stderr",
     "output_type": "stream",
     "text": [
      "\u001b[A\n",
      " 83%|████████▎ | 995/1200 [04:39<00:49,  4.15it/s]"
     ]
    },
    {
     "name": "stdout",
     "output_type": "stream",
     "text": [
      "upper, lower\n",
      "25649.9654355 293.557089447\n"
     ]
    },
    {
     "name": "stderr",
     "output_type": "stream",
     "text": [
      "\u001b[A\n",
      " 83%|████████▎ | 996/1200 [04:40<00:48,  4.17it/s]"
     ]
    },
    {
     "name": "stdout",
     "output_type": "stream",
     "text": [
      "upper, lower\n",
      "44123.4372041 364.100911525\n"
     ]
    },
    {
     "name": "stderr",
     "output_type": "stream",
     "text": [
      "\u001b[A\n",
      " 83%|████████▎ | 997/1200 [04:40<00:48,  4.16it/s]"
     ]
    },
    {
     "name": "stdout",
     "output_type": "stream",
     "text": [
      "upper, lower\n",
      "40295.1509344 272.358224899\n"
     ]
    },
    {
     "name": "stderr",
     "output_type": "stream",
     "text": [
      "\u001b[A\n",
      " 83%|████████▎ | 998/1200 [04:40<00:48,  4.18it/s]"
     ]
    },
    {
     "name": "stdout",
     "output_type": "stream",
     "text": [
      "left_curverad, right_curverad\n",
      "21.6646388816 5.21483960028\n"
     ]
    },
    {
     "name": "stderr",
     "output_type": "stream",
     "text": [
      "\u001b[A\n",
      " 83%|████████▎ | 999/1200 [04:40<00:48,  4.19it/s]"
     ]
    },
    {
     "name": "stdout",
     "output_type": "stream",
     "text": [
      "left_curverad, right_curverad\n",
      "35.689706354 5.85042578953\n"
     ]
    },
    {
     "name": "stderr",
     "output_type": "stream",
     "text": [
      "\u001b[A\n",
      " 83%|████████▎ | 1000/1200 [04:41<00:47,  4.17it/s]"
     ]
    },
    {
     "name": "stdout",
     "output_type": "stream",
     "text": [
      "upper, lower\n",
      "18236.0503866 149.615554687\n"
     ]
    },
    {
     "name": "stderr",
     "output_type": "stream",
     "text": [
      "\u001b[A\n",
      " 83%|████████▎ | 1001/1200 [04:41<00:48,  4.14it/s]"
     ]
    },
    {
     "name": "stdout",
     "output_type": "stream",
     "text": [
      "upper, lower\n",
      "52687.5919269 503.084863814\n"
     ]
    },
    {
     "name": "stderr",
     "output_type": "stream",
     "text": [
      "\u001b[A\n",
      " 84%|████████▎ | 1002/1200 [04:41<00:48,  4.10it/s]"
     ]
    },
    {
     "name": "stdout",
     "output_type": "stream",
     "text": [
      "right_fitx[-1], left_fitx[-1\n",
      "9525.12662386 406.177780261\n"
     ]
    },
    {
     "name": "stderr",
     "output_type": "stream",
     "text": [
      "\u001b[A\n",
      " 84%|████████▎ | 1003/1200 [04:41<00:48,  4.09it/s]"
     ]
    },
    {
     "name": "stdout",
     "output_type": "stream",
     "text": [
      "right_fitx[-1], left_fitx[-1\n",
      "8986.99204071 403.755757964\n"
     ]
    },
    {
     "name": "stderr",
     "output_type": "stream",
     "text": [
      "\u001b[A\n",
      " 84%|████████▎ | 1004/1200 [04:42<00:47,  4.12it/s]"
     ]
    },
    {
     "name": "stdout",
     "output_type": "stream",
     "text": [
      "right_fitx[-1], left_fitx[-1\n",
      "2777.52269463 429.574413373\n"
     ]
    },
    {
     "name": "stderr",
     "output_type": "stream",
     "text": [
      "\u001b[A\n",
      " 84%|████████▍ | 1005/1200 [04:42<00:47,  4.13it/s]"
     ]
    },
    {
     "name": "stdout",
     "output_type": "stream",
     "text": [
      "right_fitx[-1], left_fitx[-1\n",
      "1511.65345869 428.891460515\n"
     ]
    },
    {
     "name": "stderr",
     "output_type": "stream",
     "text": [
      "\u001b[A\n",
      " 84%|████████▍ | 1006/1200 [04:42<00:46,  4.15it/s]"
     ]
    },
    {
     "name": "stdout",
     "output_type": "stream",
     "text": [
      "left_curverad, right_curverad\n",
      "268.720111561 17.3988239635\n"
     ]
    },
    {
     "name": "stderr",
     "output_type": "stream",
     "text": [
      "\u001b[A\n",
      " 84%|████████▍ | 1007/1200 [04:42<00:46,  4.19it/s]"
     ]
    },
    {
     "name": "stdout",
     "output_type": "stream",
     "text": [
      "left_curverad, right_curverad\n",
      "146.568358863 41.9070211328\n"
     ]
    },
    {
     "name": "stderr",
     "output_type": "stream",
     "text": [
      "\u001b[A\n",
      " 84%|████████▍ | 1008/1200 [04:42<00:45,  4.21it/s]"
     ]
    },
    {
     "name": "stdout",
     "output_type": "stream",
     "text": [
      "right_fitx[-1], left_fitx[-1\n",
      "2874.69049717 446.257029098\n"
     ]
    },
    {
     "name": "stderr",
     "output_type": "stream",
     "text": [
      "\u001b[A\n",
      " 84%|████████▍ | 1009/1200 [04:43<00:45,  4.21it/s]"
     ]
    },
    {
     "name": "stdout",
     "output_type": "stream",
     "text": [
      "upper, lower\n",
      "-13818.6392842 -2099.22229936\n"
     ]
    },
    {
     "name": "stderr",
     "output_type": "stream",
     "text": [
      "\u001b[A\n",
      " 84%|████████▍ | 1010/1200 [04:43<00:44,  4.22it/s]"
     ]
    },
    {
     "name": "stdout",
     "output_type": "stream",
     "text": [
      "right_fitx[-1], left_fitx[-1\n",
      "1089.97311994 332.095411211\n"
     ]
    },
    {
     "name": "stderr",
     "output_type": "stream",
     "text": [
      "\u001b[A\n",
      " 84%|████████▍ | 1011/1200 [04:43<00:44,  4.20it/s]"
     ]
    },
    {
     "name": "stdout",
     "output_type": "stream",
     "text": [
      "upper, lower\n",
      "4637.30576055 4.90053870555\n"
     ]
    },
    {
     "name": "stderr",
     "output_type": "stream",
     "text": [
      "\u001b[A\n",
      " 84%|████████▍ | 1012/1200 [04:43<00:44,  4.20it/s]"
     ]
    },
    {
     "name": "stdout",
     "output_type": "stream",
     "text": [
      "left_curverad, right_curverad\n",
      "45.9462812666 12.1261237918\n"
     ]
    },
    {
     "name": "stderr",
     "output_type": "stream",
     "text": [
      "\u001b[A\n",
      " 84%|████████▍ | 1013/1200 [04:44<00:44,  4.20it/s]"
     ]
    },
    {
     "name": "stdout",
     "output_type": "stream",
     "text": [
      "right_fitx[-1], left_fitx[-1\n",
      "1296.27786439 87.2953460845\n"
     ]
    },
    {
     "name": "stderr",
     "output_type": "stream",
     "text": [
      "\u001b[A\n",
      " 84%|████████▍ | 1014/1200 [04:44<00:44,  4.20it/s]"
     ]
    },
    {
     "name": "stdout",
     "output_type": "stream",
     "text": [
      "right_fitx[-1], left_fitx[-1\n",
      "814.582255928 -128.554170586\n"
     ]
    },
    {
     "name": "stderr",
     "output_type": "stream",
     "text": [
      "\u001b[A\n",
      " 85%|████████▍ | 1015/1200 [04:44<00:43,  4.21it/s]"
     ]
    },
    {
     "name": "stdout",
     "output_type": "stream",
     "text": [
      "left_curverad, right_curverad\n",
      "145.89458991 48.2498624703\n"
     ]
    },
    {
     "name": "stderr",
     "output_type": "stream",
     "text": [
      "\u001b[A\n",
      " 85%|████████▍ | 1016/1200 [04:44<00:44,  4.17it/s]"
     ]
    },
    {
     "name": "stdout",
     "output_type": "stream",
     "text": [
      "upper, lower\n",
      "-5597.96311252 -548.733230821\n"
     ]
    },
    {
     "name": "stderr",
     "output_type": "stream",
     "text": [
      "\u001b[A\n",
      " 85%|████████▍ | 1017/1200 [04:45<00:43,  4.17it/s]"
     ]
    },
    {
     "name": "stdout",
     "output_type": "stream",
     "text": [
      "left_curverad, right_curverad\n",
      "302.954435568 42.6273530629\n"
     ]
    },
    {
     "name": "stderr",
     "output_type": "stream",
     "text": [
      "\u001b[A\n",
      " 85%|████████▍ | 1018/1200 [04:45<00:43,  4.17it/s]"
     ]
    },
    {
     "name": "stdout",
     "output_type": "stream",
     "text": [
      "right_fitx[-1], left_fitx[-1\n",
      "589.463728277 -278.077787821\n"
     ]
    },
    {
     "name": "stderr",
     "output_type": "stream",
     "text": [
      "\u001b[A\n",
      " 85%|████████▍ | 1019/1200 [04:45<00:43,  4.19it/s]\u001b[A\n",
      " 85%|████████▌ | 1020/1200 [04:45<00:43,  4.09it/s]"
     ]
    },
    {
     "name": "stdout",
     "output_type": "stream",
     "text": [
      "upper, lower\n",
      "3039.11459336 681.803885796\n"
     ]
    },
    {
     "name": "stderr",
     "output_type": "stream",
     "text": [
      "\u001b[A\n",
      " 85%|████████▌ | 1021/1200 [04:46<00:44,  4.01it/s]"
     ]
    },
    {
     "name": "stdout",
     "output_type": "stream",
     "text": [
      "upper, lower\n",
      "2437.53508671 472.427230407\n"
     ]
    },
    {
     "name": "stderr",
     "output_type": "stream",
     "text": [
      "\u001b[A\n",
      " 85%|████████▌ | 1022/1200 [04:46<00:45,  3.90it/s]\u001b[A\n",
      " 85%|████████▌ | 1023/1200 [04:46<00:45,  3.85it/s]\u001b[A\n",
      " 85%|████████▌ | 1024/1200 [04:46<00:46,  3.82it/s]\u001b[A\n",
      " 85%|████████▌ | 1025/1200 [04:47<00:46,  3.76it/s]\u001b[A\n",
      " 86%|████████▌ | 1026/1200 [04:47<00:46,  3.75it/s]\u001b[A\n",
      " 86%|████████▌ | 1027/1200 [04:47<00:47,  3.63it/s]"
     ]
    },
    {
     "name": "stdout",
     "output_type": "stream",
     "text": [
      "upper, lower\n",
      "12.514720874 6.98854007722\n"
     ]
    },
    {
     "name": "stderr",
     "output_type": "stream",
     "text": [
      "\u001b[A\n",
      " 86%|████████▌ | 1028/1200 [04:48<00:49,  3.48it/s]\u001b[A\n",
      " 86%|████████▌ | 1029/1200 [04:48<00:50,  3.36it/s]\u001b[A\n",
      " 86%|████████▌ | 1030/1200 [04:48<00:51,  3.28it/s]\u001b[A\n",
      " 86%|████████▌ | 1031/1200 [04:49<00:51,  3.26it/s]"
     ]
    },
    {
     "name": "stdout",
     "output_type": "stream",
     "text": [
      "left_curverad, right_curverad\n",
      "1350.82288684 326.343624229\n"
     ]
    },
    {
     "name": "stderr",
     "output_type": "stream",
     "text": [
      "\u001b[A\n",
      " 86%|████████▌ | 1032/1200 [04:49<00:51,  3.27it/s]\u001b[A\n",
      " 86%|████████▌ | 1033/1200 [04:49<00:50,  3.28it/s]"
     ]
    },
    {
     "name": "stdout",
     "output_type": "stream",
     "text": [
      "right_fitx[-1], left_fitx[-1\n",
      "1099.51408352 292.177321133\n"
     ]
    },
    {
     "name": "stderr",
     "output_type": "stream",
     "text": [
      "\u001b[A\n",
      " 86%|████████▌ | 1034/1200 [04:49<00:50,  3.26it/s]"
     ]
    },
    {
     "name": "stdout",
     "output_type": "stream",
     "text": [
      "right_fitx[-1], left_fitx[-1\n",
      "1077.93777477 217.199019815\n"
     ]
    },
    {
     "name": "stderr",
     "output_type": "stream",
     "text": [
      "\u001b[A\n",
      " 86%|████████▋ | 1035/1200 [04:50<00:49,  3.30it/s]"
     ]
    },
    {
     "name": "stdout",
     "output_type": "stream",
     "text": [
      "right_fitx[-1], left_fitx[-1\n",
      "951.038028885 189.737594426\n"
     ]
    },
    {
     "name": "stderr",
     "output_type": "stream",
     "text": [
      "\u001b[A\n",
      " 86%|████████▋ | 1036/1200 [04:50<00:49,  3.33it/s]"
     ]
    },
    {
     "name": "stdout",
     "output_type": "stream",
     "text": [
      "right_fitx[-1], left_fitx[-1\n",
      "956.135911879 163.897266976\n"
     ]
    },
    {
     "name": "stderr",
     "output_type": "stream",
     "text": [
      "\u001b[A\n",
      " 86%|████████▋ | 1037/1200 [04:50<00:48,  3.35it/s]\u001b[A\n",
      " 86%|████████▋ | 1038/1200 [04:51<00:48,  3.37it/s]\u001b[A\n",
      " 87%|████████▋ | 1039/1200 [04:51<00:47,  3.37it/s]\u001b[A\n",
      " 87%|████████▋ | 1040/1200 [04:51<00:47,  3.39it/s]"
     ]
    },
    {
     "name": "stdout",
     "output_type": "stream",
     "text": [
      "left_curverad, right_curverad\n",
      "1064.01171753 223.858422366\n"
     ]
    },
    {
     "name": "stderr",
     "output_type": "stream",
     "text": [
      "\u001b[A\n",
      " 87%|████████▋ | 1041/1200 [04:51<00:46,  3.41it/s]"
     ]
    },
    {
     "name": "stdout",
     "output_type": "stream",
     "text": [
      "upper, lower\n",
      "984.210155241 563.18748739\n"
     ]
    },
    {
     "name": "stderr",
     "output_type": "stream",
     "text": [
      "\u001b[A\n",
      " 87%|████████▋ | 1042/1200 [04:52<00:45,  3.47it/s]"
     ]
    },
    {
     "name": "stdout",
     "output_type": "stream",
     "text": [
      "right_fitx[-1], left_fitx[-1\n",
      "1243.21755929 514.721560223\n"
     ]
    },
    {
     "name": "stderr",
     "output_type": "stream",
     "text": [
      "\u001b[A\n",
      " 87%|████████▋ | 1043/1200 [04:52<00:44,  3.51it/s]\u001b[A\n",
      " 87%|████████▋ | 1044/1200 [04:52<00:44,  3.51it/s]\u001b[A\n",
      " 87%|████████▋ | 1045/1200 [04:53<00:44,  3.50it/s]\u001b[A\n",
      " 87%|████████▋ | 1046/1200 [04:53<00:43,  3.51it/s]\u001b[A\n",
      " 87%|████████▋ | 1047/1200 [04:53<00:43,  3.51it/s]\u001b[A\n",
      " 87%|████████▋ | 1048/1200 [04:53<00:43,  3.53it/s]\u001b[A\n",
      " 87%|████████▋ | 1049/1200 [04:54<00:42,  3.57it/s]\u001b[A\n",
      " 88%|████████▊ | 1050/1200 [04:54<00:42,  3.54it/s]\u001b[A\n",
      " 88%|████████▊ | 1051/1200 [04:54<00:42,  3.51it/s]\u001b[A\n",
      " 88%|████████▊ | 1052/1200 [04:55<00:42,  3.52it/s]"
     ]
    },
    {
     "name": "stdout",
     "output_type": "stream",
     "text": [
      "right_fitx[-1], left_fitx[-1\n",
      "1244.23088191 519.439844144\n"
     ]
    },
    {
     "name": "stderr",
     "output_type": "stream",
     "text": [
      "\u001b[A\n",
      " 88%|████████▊ | 1053/1200 [04:55<00:41,  3.52it/s]\u001b[A\n",
      " 88%|████████▊ | 1054/1200 [04:55<00:41,  3.52it/s]\u001b[A\n",
      " 88%|████████▊ | 1055/1200 [04:55<00:40,  3.55it/s]\u001b[A\n",
      " 88%|████████▊ | 1056/1200 [04:56<00:40,  3.55it/s]\u001b[A\n",
      " 88%|████████▊ | 1057/1200 [04:56<00:40,  3.57it/s]\u001b[A\n",
      " 88%|████████▊ | 1058/1200 [04:56<00:39,  3.62it/s]\u001b[A\n",
      " 88%|████████▊ | 1059/1200 [04:57<00:38,  3.63it/s]\u001b[A\n",
      " 88%|████████▊ | 1060/1200 [04:57<00:39,  3.55it/s]\u001b[A\n",
      " 88%|████████▊ | 1061/1200 [04:57<00:38,  3.60it/s]\u001b[A\n",
      " 88%|████████▊ | 1062/1200 [04:57<00:37,  3.64it/s]"
     ]
    },
    {
     "name": "stdout",
     "output_type": "stream",
     "text": [
      "left_curverad, right_curverad\n",
      "6378.85200007 214.515563304\n"
     ]
    },
    {
     "name": "stderr",
     "output_type": "stream",
     "text": [
      "\u001b[A\n",
      " 89%|████████▊ | 1063/1200 [04:58<00:37,  3.70it/s]"
     ]
    },
    {
     "name": "stdout",
     "output_type": "stream",
     "text": [
      "upper, lower\n",
      "792.249800981 453.462534288\n"
     ]
    },
    {
     "name": "stderr",
     "output_type": "stream",
     "text": [
      "\u001b[A\n",
      " 89%|████████▊ | 1064/1200 [04:58<00:36,  3.69it/s]\u001b[A\n",
      " 89%|████████▉ | 1065/1200 [04:58<00:36,  3.71it/s]"
     ]
    },
    {
     "name": "stdout",
     "output_type": "stream",
     "text": [
      "upper, lower\n",
      "988.314007744 584.647215375\n"
     ]
    },
    {
     "name": "stderr",
     "output_type": "stream",
     "text": [
      "\u001b[A\n",
      " 89%|████████▉ | 1066/1200 [04:58<00:36,  3.71it/s]\u001b[A\n",
      " 89%|████████▉ | 1067/1200 [04:59<00:35,  3.74it/s]\u001b[A\n",
      " 89%|████████▉ | 1068/1200 [04:59<00:35,  3.75it/s]\u001b[A\n",
      " 89%|████████▉ | 1069/1200 [04:59<00:34,  3.81it/s]"
     ]
    },
    {
     "name": "stdout",
     "output_type": "stream",
     "text": [
      "right_fitx[-1], left_fitx[-1\n",
      "1181.34226509 402.755985223\n"
     ]
    },
    {
     "name": "stderr",
     "output_type": "stream",
     "text": [
      "\u001b[A\n",
      " 89%|████████▉ | 1070/1200 [04:59<00:34,  3.80it/s]"
     ]
    },
    {
     "name": "stdout",
     "output_type": "stream",
     "text": [
      "upper, lower\n",
      "735.124719916 569.887839449\n"
     ]
    },
    {
     "name": "stderr",
     "output_type": "stream",
     "text": [
      "\u001b[A\n",
      " 89%|████████▉ | 1071/1200 [05:00<00:34,  3.79it/s]"
     ]
    },
    {
     "name": "stdout",
     "output_type": "stream",
     "text": [
      "upper, lower\n",
      "693.826641756 506.415767297\n"
     ]
    },
    {
     "name": "stderr",
     "output_type": "stream",
     "text": [
      "\u001b[A\n",
      " 89%|████████▉ | 1072/1200 [05:00<00:33,  3.79it/s]"
     ]
    },
    {
     "name": "stdout",
     "output_type": "stream",
     "text": [
      "upper, lower\n",
      "678.645158158 492.701167135\n"
     ]
    },
    {
     "name": "stderr",
     "output_type": "stream",
     "text": [
      "\u001b[A\n",
      " 89%|████████▉ | 1073/1200 [05:00<00:33,  3.80it/s]\u001b[A\n",
      " 90%|████████▉ | 1074/1200 [05:01<00:33,  3.81it/s]\u001b[A\n",
      " 90%|████████▉ | 1075/1200 [05:01<00:32,  3.80it/s]\u001b[A\n",
      " 90%|████████▉ | 1076/1200 [05:01<00:32,  3.81it/s]\u001b[A\n",
      " 90%|████████▉ | 1077/1200 [05:01<00:32,  3.83it/s]"
     ]
    },
    {
     "name": "stdout",
     "output_type": "stream",
     "text": [
      "left_curverad, right_curverad\n",
      "4946.76978781 79.4049048325\n"
     ]
    },
    {
     "name": "stderr",
     "output_type": "stream",
     "text": [
      "\u001b[A\n",
      " 90%|████████▉ | 1078/1200 [05:02<00:31,  3.84it/s]"
     ]
    },
    {
     "name": "stdout",
     "output_type": "stream",
     "text": [
      "left_curverad, right_curverad\n",
      "2851.64214666 71.6029802978\n"
     ]
    },
    {
     "name": "stderr",
     "output_type": "stream",
     "text": [
      "\u001b[A\n",
      " 90%|████████▉ | 1079/1200 [05:02<00:31,  3.84it/s]"
     ]
    },
    {
     "name": "stdout",
     "output_type": "stream",
     "text": [
      "upper, lower\n",
      "829.337616303 623.603882074\n"
     ]
    },
    {
     "name": "stderr",
     "output_type": "stream",
     "text": [
      "\u001b[A\n",
      " 90%|█████████ | 1080/1200 [05:02<00:32,  3.74it/s]"
     ]
    },
    {
     "name": "stdout",
     "output_type": "stream",
     "text": [
      "upper, lower\n",
      "923.77516927 520.791921905\n"
     ]
    },
    {
     "name": "stderr",
     "output_type": "stream",
     "text": [
      "\u001b[A\n",
      " 90%|█████████ | 1081/1200 [05:02<00:32,  3.72it/s]"
     ]
    },
    {
     "name": "stdout",
     "output_type": "stream",
     "text": [
      "upper, lower\n",
      "1292.74369352 457.63057586\n"
     ]
    },
    {
     "name": "stderr",
     "output_type": "stream",
     "text": [
      "\u001b[A\n",
      " 90%|█████████ | 1082/1200 [05:03<00:31,  3.73it/s]"
     ]
    },
    {
     "name": "stdout",
     "output_type": "stream",
     "text": [
      "upper, lower\n",
      "1403.86582935 378.915166819\n"
     ]
    },
    {
     "name": "stderr",
     "output_type": "stream",
     "text": [
      "\u001b[A\n",
      " 90%|█████████ | 1083/1200 [05:03<00:31,  3.66it/s]"
     ]
    },
    {
     "name": "stdout",
     "output_type": "stream",
     "text": [
      "upper, lower\n",
      "1689.62908796 428.761927007\n"
     ]
    },
    {
     "name": "stderr",
     "output_type": "stream",
     "text": [
      "\u001b[A\n",
      " 90%|█████████ | 1084/1200 [05:03<00:32,  3.59it/s]"
     ]
    },
    {
     "name": "stdout",
     "output_type": "stream",
     "text": [
      "upper, lower\n",
      "1809.42586519 474.260187872\n"
     ]
    },
    {
     "name": "stderr",
     "output_type": "stream",
     "text": [
      "\u001b[A\n",
      " 90%|█████████ | 1085/1200 [05:04<00:32,  3.55it/s]"
     ]
    },
    {
     "name": "stdout",
     "output_type": "stream",
     "text": [
      "upper, lower\n",
      "2104.38295127 490.119236979\n"
     ]
    },
    {
     "name": "stderr",
     "output_type": "stream",
     "text": [
      "\u001b[A\n",
      " 90%|█████████ | 1086/1200 [05:04<00:31,  3.56it/s]"
     ]
    },
    {
     "name": "stdout",
     "output_type": "stream",
     "text": [
      "upper, lower\n",
      "2351.60105467 487.363648304\n"
     ]
    },
    {
     "name": "stderr",
     "output_type": "stream",
     "text": [
      "\u001b[A\n",
      " 91%|█████████ | 1087/1200 [05:04<00:31,  3.53it/s]"
     ]
    },
    {
     "name": "stdout",
     "output_type": "stream",
     "text": [
      "upper, lower\n",
      "2445.93801592 478.756772942\n"
     ]
    },
    {
     "name": "stderr",
     "output_type": "stream",
     "text": [
      "\u001b[A\n",
      " 91%|█████████ | 1088/1200 [05:04<00:31,  3.53it/s]\u001b[A\n",
      " 91%|█████████ | 1089/1200 [05:05<00:31,  3.50it/s]\u001b[A\n",
      " 91%|█████████ | 1090/1200 [05:05<00:31,  3.50it/s]\u001b[A\n",
      " 91%|█████████ | 1091/1200 [05:05<00:31,  3.51it/s]\u001b[A\n",
      " 91%|█████████ | 1092/1200 [05:06<00:30,  3.52it/s]\u001b[A\n",
      " 91%|█████████ | 1093/1200 [05:06<00:30,  3.53it/s]"
     ]
    },
    {
     "name": "stdout",
     "output_type": "stream",
     "text": [
      "upper, lower\n",
      "222.398158139 144.392386837\n"
     ]
    },
    {
     "name": "stderr",
     "output_type": "stream",
     "text": [
      "\u001b[A\n",
      " 91%|█████████ | 1094/1200 [05:06<00:30,  3.53it/s]\u001b[A\n",
      " 91%|█████████▏| 1095/1200 [05:06<00:29,  3.53it/s]\u001b[A\n",
      " 91%|█████████▏| 1096/1200 [05:07<00:29,  3.54it/s]\u001b[A\n",
      " 91%|█████████▏| 1097/1200 [05:07<00:29,  3.54it/s]\u001b[A\n",
      " 92%|█████████▏| 1098/1200 [05:07<00:28,  3.53it/s]"
     ]
    },
    {
     "name": "stdout",
     "output_type": "stream",
     "text": [
      "upper, lower\n",
      "192.772256557 124.391618826\n"
     ]
    },
    {
     "name": "stderr",
     "output_type": "stream",
     "text": [
      "\u001b[A\n",
      " 92%|█████████▏| 1099/1200 [05:07<00:28,  3.54it/s]"
     ]
    },
    {
     "name": "stdout",
     "output_type": "stream",
     "text": [
      "upper, lower\n",
      "184.278654471 156.340556897\n"
     ]
    },
    {
     "name": "stderr",
     "output_type": "stream",
     "text": [
      "\u001b[A\n",
      " 92%|█████████▏| 1100/1200 [05:08<00:28,  3.54it/s]\u001b[A\n",
      " 92%|█████████▏| 1101/1200 [05:08<00:27,  3.55it/s]\u001b[A\n",
      " 92%|█████████▏| 1102/1200 [05:08<00:27,  3.51it/s]\u001b[A\n",
      " 92%|█████████▏| 1103/1200 [05:09<00:27,  3.55it/s]\u001b[A\n",
      " 92%|█████████▏| 1104/1200 [05:09<00:26,  3.63it/s]\u001b[A\n",
      " 92%|█████████▏| 1105/1200 [05:09<00:25,  3.67it/s]\u001b[A\n",
      " 92%|█████████▏| 1106/1200 [05:09<00:25,  3.73it/s]"
     ]
    },
    {
     "name": "stdout",
     "output_type": "stream",
     "text": [
      "upper, lower\n",
      "460.628704315 201.293162684\n"
     ]
    },
    {
     "name": "stderr",
     "output_type": "stream",
     "text": [
      "\u001b[A\n",
      " 92%|█████████▏| 1107/1200 [05:10<00:24,  3.76it/s]"
     ]
    },
    {
     "name": "stdout",
     "output_type": "stream",
     "text": [
      "upper, lower\n",
      "413.833825928 324.704710836\n"
     ]
    },
    {
     "name": "stderr",
     "output_type": "stream",
     "text": [
      "\u001b[A\n",
      " 92%|█████████▏| 1108/1200 [05:10<00:24,  3.78it/s]"
     ]
    },
    {
     "name": "stdout",
     "output_type": "stream",
     "text": [
      "upper, lower\n",
      "448.597191219 369.314550259\n"
     ]
    },
    {
     "name": "stderr",
     "output_type": "stream",
     "text": [
      "\u001b[A\n",
      " 92%|█████████▏| 1109/1200 [05:10<00:23,  3.79it/s]"
     ]
    },
    {
     "name": "stdout",
     "output_type": "stream",
     "text": [
      "upper, lower\n",
      "514.191629455 381.170473094\n"
     ]
    },
    {
     "name": "stderr",
     "output_type": "stream",
     "text": [
      "\u001b[A\n",
      " 92%|█████████▎| 1110/1200 [05:10<00:23,  3.83it/s]\u001b[A\n",
      " 93%|█████████▎| 1111/1200 [05:11<00:23,  3.87it/s]"
     ]
    },
    {
     "name": "stdout",
     "output_type": "stream",
     "text": [
      "left_curverad, right_curverad\n",
      "771.380120044 243.924750013\n"
     ]
    },
    {
     "name": "stderr",
     "output_type": "stream",
     "text": [
      "\u001b[A\n",
      " 93%|█████████▎| 1112/1200 [05:11<00:22,  3.90it/s]\u001b[A\n",
      " 93%|█████████▎| 1113/1200 [05:11<00:22,  3.92it/s]"
     ]
    },
    {
     "name": "stdout",
     "output_type": "stream",
     "text": [
      "upper, lower\n",
      "1025.44997569 618.913728517\n"
     ]
    },
    {
     "name": "stderr",
     "output_type": "stream",
     "text": [
      "\u001b[A\n",
      " 93%|█████████▎| 1114/1200 [05:11<00:21,  3.96it/s]"
     ]
    },
    {
     "name": "stdout",
     "output_type": "stream",
     "text": [
      "upper, lower\n",
      "1688.60068743 671.612956965\n"
     ]
    },
    {
     "name": "stderr",
     "output_type": "stream",
     "text": [
      "\u001b[A\n",
      " 93%|█████████▎| 1115/1200 [05:12<00:21,  3.98it/s]\u001b[A\n",
      " 93%|█████████▎| 1116/1200 [05:12<00:21,  3.83it/s]\u001b[A\n",
      " 93%|█████████▎| 1117/1200 [05:12<00:22,  3.77it/s]\u001b[A\n",
      " 93%|█████████▎| 1118/1200 [05:13<00:21,  3.75it/s]"
     ]
    },
    {
     "name": "stdout",
     "output_type": "stream",
     "text": [
      "left_curverad, right_curverad\n",
      "130.439482486 40.4722666925\n"
     ]
    },
    {
     "name": "stderr",
     "output_type": "stream",
     "text": [
      "\u001b[A\n",
      " 93%|█████████▎| 1119/1200 [05:13<00:21,  3.78it/s]\u001b[A\n",
      " 93%|█████████▎| 1120/1200 [05:13<00:20,  3.85it/s]"
     ]
    },
    {
     "name": "stdout",
     "output_type": "stream",
     "text": [
      "left_curverad, right_curverad\n",
      "151.758260185 11.5854108749\n"
     ]
    },
    {
     "name": "stderr",
     "output_type": "stream",
     "text": [
      "\u001b[A\n",
      " 93%|█████████▎| 1121/1200 [05:13<00:20,  3.89it/s]"
     ]
    },
    {
     "name": "stdout",
     "output_type": "stream",
     "text": [
      "left_curverad, right_curverad\n",
      "383.7929963 11.599572017\n"
     ]
    },
    {
     "name": "stderr",
     "output_type": "stream",
     "text": [
      "\u001b[A\n",
      " 94%|█████████▎| 1122/1200 [05:14<00:19,  3.95it/s]"
     ]
    },
    {
     "name": "stdout",
     "output_type": "stream",
     "text": [
      "left_curverad, right_curverad\n",
      "569.706008243 12.4231049229\n"
     ]
    },
    {
     "name": "stderr",
     "output_type": "stream",
     "text": [
      "\u001b[A\n",
      " 94%|█████████▎| 1123/1200 [05:14<00:19,  3.98it/s]"
     ]
    },
    {
     "name": "stdout",
     "output_type": "stream",
     "text": [
      "right_fitx[-1], left_fitx[-1\n",
      "759.71238472 6.79650432311\n"
     ]
    },
    {
     "name": "stderr",
     "output_type": "stream",
     "text": [
      "\u001b[A\n",
      " 94%|█████████▎| 1124/1200 [05:14<00:18,  4.04it/s]"
     ]
    },
    {
     "name": "stdout",
     "output_type": "stream",
     "text": [
      "right_fitx[-1], left_fitx[-1\n",
      "754.595348544 12.8134768956\n"
     ]
    },
    {
     "name": "stderr",
     "output_type": "stream",
     "text": [
      "\u001b[A\n",
      " 94%|█████████▍| 1125/1200 [05:14<00:18,  4.08it/s]"
     ]
    },
    {
     "name": "stdout",
     "output_type": "stream",
     "text": [
      "right_fitx[-1], left_fitx[-1\n",
      "749.829000017 9.97172350569\n"
     ]
    },
    {
     "name": "stderr",
     "output_type": "stream",
     "text": [
      "\u001b[A\n",
      " 94%|█████████▍| 1126/1200 [05:14<00:18,  4.08it/s]"
     ]
    },
    {
     "name": "stdout",
     "output_type": "stream",
     "text": [
      "right_fitx[-1], left_fitx[-1\n",
      "718.514071499 3.67130297222\n"
     ]
    },
    {
     "name": "stderr",
     "output_type": "stream",
     "text": [
      "\u001b[A\n",
      " 94%|█████████▍| 1127/1200 [05:15<00:17,  4.07it/s]\u001b[A\n",
      " 94%|█████████▍| 1128/1200 [05:15<00:17,  4.09it/s]"
     ]
    },
    {
     "name": "stdout",
     "output_type": "stream",
     "text": [
      "right_fitx[-1], left_fitx[-1\n",
      "749.740732365 -44.318738198\n"
     ]
    },
    {
     "name": "stderr",
     "output_type": "stream",
     "text": [
      "\u001b[A\n",
      " 94%|█████████▍| 1129/1200 [05:15<00:17,  4.09it/s]"
     ]
    },
    {
     "name": "stdout",
     "output_type": "stream",
     "text": [
      "right_fitx[-1], left_fitx[-1\n",
      "739.510974942 -340.678055383\n"
     ]
    },
    {
     "name": "stderr",
     "output_type": "stream",
     "text": [
      "\u001b[A\n",
      " 94%|█████████▍| 1130/1200 [05:15<00:17,  4.11it/s]"
     ]
    },
    {
     "name": "stdout",
     "output_type": "stream",
     "text": [
      "right_fitx[-1], left_fitx[-1\n",
      "731.066216517 -347.692523005\n"
     ]
    },
    {
     "name": "stderr",
     "output_type": "stream",
     "text": [
      "\u001b[A\n",
      " 94%|█████████▍| 1131/1200 [05:16<00:16,  4.13it/s]"
     ]
    },
    {
     "name": "stdout",
     "output_type": "stream",
     "text": [
      "right_fitx[-1], left_fitx[-1\n",
      "751.226106014 -238.462402794\n"
     ]
    },
    {
     "name": "stderr",
     "output_type": "stream",
     "text": [
      "\u001b[A\n",
      " 94%|█████████▍| 1132/1200 [05:16<00:16,  4.14it/s]"
     ]
    },
    {
     "name": "stdout",
     "output_type": "stream",
     "text": [
      "left_curverad, right_curverad\n",
      "105.996598605 31.989275391\n"
     ]
    },
    {
     "name": "stderr",
     "output_type": "stream",
     "text": [
      "\u001b[A\n",
      " 94%|█████████▍| 1133/1200 [05:16<00:16,  4.11it/s]"
     ]
    },
    {
     "name": "stdout",
     "output_type": "stream",
     "text": [
      "upper, lower\n",
      "886.973620029 491.169365903\n"
     ]
    },
    {
     "name": "stderr",
     "output_type": "stream",
     "text": [
      "\u001b[A\n",
      " 94%|█████████▍| 1134/1200 [05:16<00:16,  4.08it/s]"
     ]
    },
    {
     "name": "stdout",
     "output_type": "stream",
     "text": [
      "right_fitx[-1], left_fitx[-1\n",
      "1523.06876359 -119.170005999\n"
     ]
    },
    {
     "name": "stderr",
     "output_type": "stream",
     "text": [
      "\u001b[A\n",
      " 95%|█████████▍| 1135/1200 [05:17<00:16,  4.03it/s]"
     ]
    },
    {
     "name": "stdout",
     "output_type": "stream",
     "text": [
      "right_fitx[-1], left_fitx[-1\n",
      "1031.63157712 -938.571818107\n"
     ]
    },
    {
     "name": "stderr",
     "output_type": "stream",
     "text": [
      "\u001b[A\n",
      " 95%|█████████▍| 1136/1200 [05:17<00:15,  4.01it/s]"
     ]
    },
    {
     "name": "stdout",
     "output_type": "stream",
     "text": [
      "right_fitx[-1], left_fitx[-1\n",
      "1169.62994795 -1210.23040108\n"
     ]
    },
    {
     "name": "stderr",
     "output_type": "stream",
     "text": [
      "\u001b[A\n",
      " 95%|█████████▍| 1137/1200 [05:17<00:15,  4.05it/s]"
     ]
    },
    {
     "name": "stdout",
     "output_type": "stream",
     "text": [
      "right_fitx[-1], left_fitx[-1\n",
      "1210.10731721 -1308.49524727\n"
     ]
    },
    {
     "name": "stderr",
     "output_type": "stream",
     "text": [
      "\u001b[A\n",
      " 95%|█████████▍| 1138/1200 [05:17<00:15,  4.06it/s]"
     ]
    },
    {
     "name": "stdout",
     "output_type": "stream",
     "text": [
      "upper, lower\n",
      "714.756847724 254.054289283\n"
     ]
    },
    {
     "name": "stderr",
     "output_type": "stream",
     "text": [
      "\u001b[A\n",
      " 95%|█████████▍| 1139/1200 [05:18<00:15,  4.03it/s]"
     ]
    },
    {
     "name": "stdout",
     "output_type": "stream",
     "text": [
      "right_fitx[-1], left_fitx[-1\n",
      "607.367697279 -1471.97933723\n"
     ]
    },
    {
     "name": "stderr",
     "output_type": "stream",
     "text": [
      "\u001b[A\n",
      " 95%|█████████▌| 1140/1200 [05:18<00:14,  4.04it/s]"
     ]
    },
    {
     "name": "stdout",
     "output_type": "stream",
     "text": [
      "right_fitx[-1], left_fitx[-1\n",
      "563.5249013 -1634.4627344\n"
     ]
    },
    {
     "name": "stderr",
     "output_type": "stream",
     "text": [
      "\u001b[A\n",
      " 95%|█████████▌| 1141/1200 [05:18<00:14,  4.02it/s]"
     ]
    },
    {
     "name": "stdout",
     "output_type": "stream",
     "text": [
      "right_fitx[-1], left_fitx[-1\n",
      "528.023474584 -885.26958313\n"
     ]
    },
    {
     "name": "stderr",
     "output_type": "stream",
     "text": [
      "\u001b[A\n",
      " 95%|█████████▌| 1142/1200 [05:18<00:14,  3.99it/s]"
     ]
    },
    {
     "name": "stdout",
     "output_type": "stream",
     "text": [
      "right_fitx[-1], left_fitx[-1\n",
      "1482.26791692 -759.328911775\n"
     ]
    },
    {
     "name": "stderr",
     "output_type": "stream",
     "text": [
      "\u001b[A\n",
      " 95%|█████████▌| 1143/1200 [05:19<00:14,  3.99it/s]"
     ]
    },
    {
     "name": "stdout",
     "output_type": "stream",
     "text": [
      "right_fitx[-1], left_fitx[-1\n",
      "1137.130056 -583.219437355\n"
     ]
    },
    {
     "name": "stderr",
     "output_type": "stream",
     "text": [
      "\u001b[A\n",
      " 95%|█████████▌| 1144/1200 [05:19<00:14,  3.96it/s]"
     ]
    },
    {
     "name": "stdout",
     "output_type": "stream",
     "text": [
      "right_fitx[-1], left_fitx[-1\n",
      "1165.81609504 -709.62593043\n"
     ]
    },
    {
     "name": "stderr",
     "output_type": "stream",
     "text": [
      "\u001b[A\n",
      " 95%|█████████▌| 1145/1200 [05:19<00:14,  3.89it/s]"
     ]
    },
    {
     "name": "stdout",
     "output_type": "stream",
     "text": [
      "left_curverad, right_curverad\n",
      "5630.61731624 59.7835424236\n"
     ]
    },
    {
     "name": "stderr",
     "output_type": "stream",
     "text": [
      "\u001b[A\n",
      " 96%|█████████▌| 1146/1200 [05:19<00:14,  3.84it/s]\u001b[A\n",
      " 96%|█████████▌| 1147/1200 [05:20<00:13,  3.86it/s]"
     ]
    },
    {
     "name": "stdout",
     "output_type": "stream",
     "text": [
      "left_curverad, right_curverad\n",
      "476.013691148 87.0808895222\n"
     ]
    },
    {
     "name": "stderr",
     "output_type": "stream",
     "text": [
      "\u001b[A\n",
      " 96%|█████████▌| 1148/1200 [05:20<00:13,  3.85it/s]\u001b[A\n",
      " 96%|█████████▌| 1149/1200 [05:20<00:13,  3.85it/s]\u001b[A\n",
      " 96%|█████████▌| 1150/1200 [05:21<00:13,  3.83it/s]\u001b[A\n",
      " 96%|█████████▌| 1151/1200 [05:21<00:12,  3.82it/s]\u001b[A\n",
      " 96%|█████████▌| 1152/1200 [05:21<00:12,  3.80it/s]"
     ]
    },
    {
     "name": "stdout",
     "output_type": "stream",
     "text": [
      "left_curverad, right_curverad\n",
      "5614.10402016 64.4335635148\n"
     ]
    },
    {
     "name": "stderr",
     "output_type": "stream",
     "text": [
      "\u001b[A\n",
      " 96%|█████████▌| 1153/1200 [05:21<00:12,  3.82it/s]\u001b[A\n",
      " 96%|█████████▌| 1154/1200 [05:22<00:12,  3.79it/s]\u001b[A\n",
      " 96%|█████████▋| 1155/1200 [05:22<00:11,  3.76it/s]\u001b[A\n",
      " 96%|█████████▋| 1156/1200 [05:22<00:11,  3.79it/s]"
     ]
    },
    {
     "name": "stdout",
     "output_type": "stream",
     "text": [
      "right_fitx[-1], left_fitx[-1\n",
      "842.56456384 94.0383031917\n"
     ]
    },
    {
     "name": "stderr",
     "output_type": "stream",
     "text": [
      "\u001b[A\n",
      " 96%|█████████▋| 1157/1200 [05:22<00:11,  3.75it/s]\u001b[A\n",
      " 96%|█████████▋| 1158/1200 [05:23<00:11,  3.77it/s]"
     ]
    },
    {
     "name": "stdout",
     "output_type": "stream",
     "text": [
      "left_curverad, right_curverad\n",
      "161.289547539 42.8979957327\n"
     ]
    },
    {
     "name": "stderr",
     "output_type": "stream",
     "text": [
      "\u001b[A\n",
      " 97%|█████████▋| 1159/1200 [05:23<00:10,  3.81it/s]"
     ]
    },
    {
     "name": "stdout",
     "output_type": "stream",
     "text": [
      "right_fitx[-1], left_fitx[-1\n",
      "1558.79786245 10.5782235882\n"
     ]
    },
    {
     "name": "stderr",
     "output_type": "stream",
     "text": [
      "\u001b[A\n",
      " 97%|█████████▋| 1160/1200 [05:23<00:10,  3.82it/s]"
     ]
    },
    {
     "name": "stdout",
     "output_type": "stream",
     "text": [
      "right_fitx[-1], left_fitx[-1\n",
      "1177.40610775 1.16015507666\n"
     ]
    },
    {
     "name": "stderr",
     "output_type": "stream",
     "text": [
      "\u001b[A\n",
      " 97%|█████████▋| 1161/1200 [05:23<00:10,  3.82it/s]"
     ]
    },
    {
     "name": "stdout",
     "output_type": "stream",
     "text": [
      "right_fitx[-1], left_fitx[-1\n",
      "1526.82019905 -46.2363218291\n"
     ]
    },
    {
     "name": "stderr",
     "output_type": "stream",
     "text": [
      "\u001b[A\n",
      " 97%|█████████▋| 1162/1200 [05:24<00:09,  3.83it/s]"
     ]
    },
    {
     "name": "stdout",
     "output_type": "stream",
     "text": [
      "right_fitx[-1], left_fitx[-1\n",
      "1212.37162343 -41.8199395564\n"
     ]
    },
    {
     "name": "stderr",
     "output_type": "stream",
     "text": [
      "\u001b[A\n",
      " 97%|█████████▋| 1163/1200 [05:24<00:09,  3.79it/s]"
     ]
    },
    {
     "name": "stdout",
     "output_type": "stream",
     "text": [
      "right_fitx[-1], left_fitx[-1\n",
      "1123.26208506 -48.0202350356\n"
     ]
    },
    {
     "name": "stderr",
     "output_type": "stream",
     "text": [
      "\u001b[A\n",
      " 97%|█████████▋| 1164/1200 [05:24<00:09,  3.78it/s]"
     ]
    },
    {
     "name": "stdout",
     "output_type": "stream",
     "text": [
      "right_fitx[-1], left_fitx[-1\n",
      "1167.95905708 -8.61191880573\n"
     ]
    },
    {
     "name": "stderr",
     "output_type": "stream",
     "text": [
      "\u001b[A\n",
      " 97%|█████████▋| 1165/1200 [05:24<00:09,  3.77it/s]\u001b[A\n",
      " 97%|█████████▋| 1166/1200 [05:25<00:09,  3.74it/s]\u001b[A\n",
      " 97%|█████████▋| 1167/1200 [05:25<00:08,  3.74it/s]\u001b[A\n",
      " 97%|█████████▋| 1168/1200 [05:25<00:08,  3.74it/s]\u001b[A\n",
      " 97%|█████████▋| 1169/1200 [05:26<00:08,  3.76it/s]"
     ]
    },
    {
     "name": "stdout",
     "output_type": "stream",
     "text": [
      "right_fitx[-1], left_fitx[-1\n",
      "1028.15813548 180.244218311\n"
     ]
    },
    {
     "name": "stderr",
     "output_type": "stream",
     "text": [
      "\u001b[A\n",
      " 98%|█████████▊| 1170/1200 [05:26<00:07,  3.80it/s]"
     ]
    },
    {
     "name": "stdout",
     "output_type": "stream",
     "text": [
      "left_curverad, right_curverad\n",
      "2538.70830915 97.2982833218\n"
     ]
    },
    {
     "name": "stderr",
     "output_type": "stream",
     "text": [
      "\u001b[A\n",
      " 98%|█████████▊| 1171/1200 [05:26<00:07,  3.80it/s]"
     ]
    },
    {
     "name": "stdout",
     "output_type": "stream",
     "text": [
      "right_fitx[-1], left_fitx[-1\n",
      "877.868730412 13.9567368866\n"
     ]
    },
    {
     "name": "stderr",
     "output_type": "stream",
     "text": [
      "\u001b[A\n",
      " 98%|█████████▊| 1172/1200 [05:26<00:07,  3.79it/s]"
     ]
    },
    {
     "name": "stdout",
     "output_type": "stream",
     "text": [
      "left_curverad, right_curverad\n",
      "4101.95343103 109.018600232\n"
     ]
    },
    {
     "name": "stderr",
     "output_type": "stream",
     "text": [
      "\u001b[A\n",
      " 98%|█████████▊| 1173/1200 [05:27<00:07,  3.78it/s]\u001b[A\n",
      " 98%|█████████▊| 1174/1200 [05:27<00:06,  3.75it/s]"
     ]
    },
    {
     "name": "stdout",
     "output_type": "stream",
     "text": [
      "left_curverad, right_curverad\n",
      "228.830490796 68.5631557335\n"
     ]
    },
    {
     "name": "stderr",
     "output_type": "stream",
     "text": [
      "\u001b[A\n",
      " 98%|█████████▊| 1175/1200 [05:27<00:06,  3.74it/s]"
     ]
    },
    {
     "name": "stdout",
     "output_type": "stream",
     "text": [
      "left_curverad, right_curverad\n",
      "182.799857107 42.2183372724\n"
     ]
    },
    {
     "name": "stderr",
     "output_type": "stream",
     "text": [
      "\u001b[A\n",
      " 98%|█████████▊| 1176/1200 [05:27<00:06,  3.70it/s]"
     ]
    },
    {
     "name": "stdout",
     "output_type": "stream",
     "text": [
      "left_curverad, right_curverad\n",
      "304.376687926 50.3884121007\n"
     ]
    },
    {
     "name": "stderr",
     "output_type": "stream",
     "text": [
      "\u001b[A\n",
      " 98%|█████████▊| 1177/1200 [05:28<00:06,  3.67it/s]"
     ]
    },
    {
     "name": "stdout",
     "output_type": "stream",
     "text": [
      "left_curverad, right_curverad\n",
      "377.920115525 41.72429702\n"
     ]
    },
    {
     "name": "stderr",
     "output_type": "stream",
     "text": [
      "\u001b[A\n",
      " 98%|█████████▊| 1178/1200 [05:28<00:05,  3.67it/s]"
     ]
    },
    {
     "name": "stdout",
     "output_type": "stream",
     "text": [
      "left_curverad, right_curverad\n",
      "269.562183472 39.9593523711\n"
     ]
    },
    {
     "name": "stderr",
     "output_type": "stream",
     "text": [
      "\u001b[A\n",
      " 98%|█████████▊| 1179/1200 [05:28<00:05,  3.68it/s]"
     ]
    },
    {
     "name": "stdout",
     "output_type": "stream",
     "text": [
      "left_curverad, right_curverad\n",
      "230.222449461 61.8859758767\n"
     ]
    },
    {
     "name": "stderr",
     "output_type": "stream",
     "text": [
      "\u001b[A\n",
      " 98%|█████████▊| 1180/1200 [05:29<00:05,  3.65it/s]"
     ]
    },
    {
     "name": "stdout",
     "output_type": "stream",
     "text": [
      "left_curverad, right_curverad\n",
      "279.538679488 66.2569103922\n"
     ]
    },
    {
     "name": "stderr",
     "output_type": "stream",
     "text": [
      "\u001b[A\n",
      " 98%|█████████▊| 1181/1200 [05:29<00:05,  3.67it/s]"
     ]
    },
    {
     "name": "stdout",
     "output_type": "stream",
     "text": [
      "left_curverad, right_curverad\n",
      "297.297766095 66.5617234343\n"
     ]
    },
    {
     "name": "stderr",
     "output_type": "stream",
     "text": [
      "\u001b[A\n",
      " 98%|█████████▊| 1182/1200 [05:29<00:04,  3.68it/s]"
     ]
    },
    {
     "name": "stdout",
     "output_type": "stream",
     "text": [
      "left_curverad, right_curverad\n",
      "394.816246756 70.0714579639\n"
     ]
    },
    {
     "name": "stderr",
     "output_type": "stream",
     "text": [
      "\u001b[A\n",
      " 99%|█████████▊| 1183/1200 [05:29<00:04,  3.65it/s]"
     ]
    },
    {
     "name": "stdout",
     "output_type": "stream",
     "text": [
      "left_curverad, right_curverad\n",
      "272.251937553 62.1359498753\n"
     ]
    },
    {
     "name": "stderr",
     "output_type": "stream",
     "text": [
      "\u001b[A\n",
      " 99%|█████████▊| 1184/1200 [05:30<00:04,  3.66it/s]"
     ]
    },
    {
     "name": "stdout",
     "output_type": "stream",
     "text": [
      "left_curverad, right_curverad\n",
      "214.059454511 52.3958602702\n"
     ]
    },
    {
     "name": "stderr",
     "output_type": "stream",
     "text": [
      "\u001b[A\n",
      " 99%|█████████▉| 1185/1200 [05:30<00:04,  3.69it/s]"
     ]
    },
    {
     "name": "stdout",
     "output_type": "stream",
     "text": [
      "left_curverad, right_curverad\n",
      "207.404488197 35.1482177618\n"
     ]
    },
    {
     "name": "stderr",
     "output_type": "stream",
     "text": [
      "\u001b[A\n",
      " 99%|█████████▉| 1186/1200 [05:30<00:03,  3.71it/s]"
     ]
    },
    {
     "name": "stdout",
     "output_type": "stream",
     "text": [
      "left_curverad, right_curverad\n",
      "229.950303857 34.1865975969\n"
     ]
    },
    {
     "name": "stderr",
     "output_type": "stream",
     "text": [
      "\u001b[A\n",
      " 99%|█████████▉| 1187/1200 [05:30<00:03,  3.72it/s]"
     ]
    },
    {
     "name": "stdout",
     "output_type": "stream",
     "text": [
      "left_curverad, right_curverad\n",
      "354.945342849 33.8253948989\n"
     ]
    },
    {
     "name": "stderr",
     "output_type": "stream",
     "text": [
      "\u001b[A\n",
      " 99%|█████████▉| 1188/1200 [05:31<00:03,  3.70it/s]"
     ]
    },
    {
     "name": "stdout",
     "output_type": "stream",
     "text": [
      "left_curverad, right_curverad\n",
      "7741.09330845 33.5790153752\n"
     ]
    },
    {
     "name": "stderr",
     "output_type": "stream",
     "text": [
      "\u001b[A\n",
      " 99%|█████████▉| 1189/1200 [05:31<00:02,  3.71it/s]"
     ]
    },
    {
     "name": "stdout",
     "output_type": "stream",
     "text": [
      "left_curverad, right_curverad\n",
      "895.211451525 29.7969956336\n"
     ]
    },
    {
     "name": "stderr",
     "output_type": "stream",
     "text": [
      "\u001b[A\n",
      " 99%|█████████▉| 1190/1200 [05:31<00:02,  3.60it/s]"
     ]
    },
    {
     "name": "stdout",
     "output_type": "stream",
     "text": [
      "left_curverad, right_curverad\n",
      "611.471111462 27.2018794873\n"
     ]
    },
    {
     "name": "stderr",
     "output_type": "stream",
     "text": [
      "\u001b[A\n",
      " 99%|█████████▉| 1191/1200 [05:32<00:02,  3.61it/s]"
     ]
    },
    {
     "name": "stdout",
     "output_type": "stream",
     "text": [
      "left_curverad, right_curverad\n",
      "429.918602217 21.1482308262\n"
     ]
    },
    {
     "name": "stderr",
     "output_type": "stream",
     "text": [
      "\u001b[A\n",
      " 99%|█████████▉| 1192/1200 [05:32<00:02,  3.65it/s]"
     ]
    },
    {
     "name": "stdout",
     "output_type": "stream",
     "text": [
      "left_curverad, right_curverad\n",
      "408.20044419 17.1533419597\n"
     ]
    },
    {
     "name": "stderr",
     "output_type": "stream",
     "text": [
      "\u001b[A\n",
      " 99%|█████████▉| 1193/1200 [05:32<00:01,  3.67it/s]"
     ]
    },
    {
     "name": "stdout",
     "output_type": "stream",
     "text": [
      "left_curverad, right_curverad\n",
      "258.152065437 15.7418158925\n"
     ]
    },
    {
     "name": "stderr",
     "output_type": "stream",
     "text": [
      "\u001b[A\n",
      "100%|█████████▉| 1194/1200 [05:32<00:01,  3.71it/s]"
     ]
    },
    {
     "name": "stdout",
     "output_type": "stream",
     "text": [
      "left_curverad, right_curverad\n",
      "236.453118404 14.9311937357\n"
     ]
    },
    {
     "name": "stderr",
     "output_type": "stream",
     "text": [
      "\u001b[A\n",
      "100%|█████████▉| 1195/1200 [05:33<00:01,  3.75it/s]"
     ]
    },
    {
     "name": "stdout",
     "output_type": "stream",
     "text": [
      "left_curverad, right_curverad\n",
      "222.430798181 14.8907722757\n"
     ]
    },
    {
     "name": "stderr",
     "output_type": "stream",
     "text": [
      "\u001b[A\n",
      "100%|█████████▉| 1196/1200 [05:33<00:01,  3.77it/s]"
     ]
    },
    {
     "name": "stdout",
     "output_type": "stream",
     "text": [
      "left_curverad, right_curverad\n",
      "156.980527982 16.0654215596\n"
     ]
    },
    {
     "name": "stderr",
     "output_type": "stream",
     "text": [
      "\u001b[A\n",
      "100%|█████████▉| 1197/1200 [05:33<00:00,  3.80it/s]"
     ]
    },
    {
     "name": "stdout",
     "output_type": "stream",
     "text": [
      "left_curverad, right_curverad\n",
      "120.411268328 15.400004708\n"
     ]
    },
    {
     "name": "stderr",
     "output_type": "stream",
     "text": [
      "\u001b[A\n",
      "100%|█████████▉| 1198/1200 [05:33<00:00,  3.78it/s]"
     ]
    },
    {
     "name": "stdout",
     "output_type": "stream",
     "text": [
      "left_curverad, right_curverad\n",
      "126.757846357 14.8203037547\n"
     ]
    },
    {
     "name": "stderr",
     "output_type": "stream",
     "text": [
      "\u001b[A\n",
      "100%|█████████▉| 1199/1200 [05:34<00:00,  3.80it/s]"
     ]
    },
    {
     "name": "stdout",
     "output_type": "stream",
     "text": [
      "left_curverad, right_curverad\n",
      "116.98826434 11.3541124677\n"
     ]
    },
    {
     "name": "stderr",
     "output_type": "stream",
     "text": [
      "\u001b[A\n",
      "\u001b[A"
     ]
    },
    {
     "name": "stdout",
     "output_type": "stream",
     "text": [
      "[MoviePy] Done.\n",
      "[MoviePy] >>>> Video ready: ../output_images/harder_challenge_video.mp4 \n",
      "\n",
      "CPU times: user 8min 28s, sys: 17.1 s, total: 8min 45s\n",
      "Wall time: 5min 35s\n"
     ]
    }
   ],
   "source": [
    "# Import everything needed to edit/save/watch video clips\n",
    "from moviepy.editor import VideoFileClip\n",
    "from IPython.display import HTML\n",
    "def process_image(image):\n",
    "    result = pipeline(image)\n",
    "    return result\n",
    "\n",
    "output = '../output_images/harder_challenge_video.mp4'\n",
    "clip1 = VideoFileClip(\"../harder_challenge_video.mp4\")\n",
    "clip1.set_end(5.23)\n",
    "white_clip = clip1.fl_image(process_image) #NOTE: this function expects color images!!\n",
    "%time white_clip.write_videofile(output, audio=False)"
   ]
  },
  {
   "cell_type": "code",
   "execution_count": null,
   "metadata": {
    "collapsed": true
   },
   "outputs": [],
   "source": []
  }
 ],
 "metadata": {
  "anaconda-cloud": {},
  "kernelspec": {
   "display_name": "Python 3",
   "language": "python",
   "name": "python3"
  },
  "language_info": {
   "codemirror_mode": {
    "name": "ipython",
    "version": 3
   },
   "file_extension": ".py",
   "mimetype": "text/x-python",
   "name": "python",
   "nbconvert_exporter": "python",
   "pygments_lexer": "ipython3",
   "version": "3.5.2"
  },
  "widgets": {
   "state": {},
   "version": "1.1.2"
  }
 },
 "nbformat": 4,
 "nbformat_minor": 1
}
